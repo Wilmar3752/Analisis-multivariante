{
 "cells": [
  {
   "cell_type": "markdown",
   "metadata": {
    "id": "Nwxjbp_uZQoo"
   },
   "source": [
    "# <center> ACP para la base 'vehicles' de plsdepot </center>\n",
    "___\n",
    "**Autores:** Wilmar Sepulveda - Luis Esteban Garcia\n",
    "\n",
    "**Institución:** Escuela de etadística - Universidad del Valle\n",
    "___\n",
    "El trabajo que se desarrollará a continuación busca explicar el dataset 'vehicles' bajo una técnica de reducción de dimensionalidad para diferentes características de los vehiculos.\n",
    "\n",
    "En primera instancia se presentará la descomposición singular, seguido del respectivo análisis de la nube de individuos y el círculo de correlaciones. En una segunda instancia se mostrarán resultados e interpretaciones de una representación simultanea de este conjunto de datos; en una última instancia se desarrollará el algoritmo NIPALS contaminando el dataset original con un 5% de datos faltantes.\n",
    "\n",
    "A continuación se describen las diversas variables que fueron medidas para 30 automoviles."
   ]
  },
  {
   "cell_type": "markdown",
   "metadata": {
    "id": "u2Y-7JolqeJf"
   },
   "source": [
    "<center>\n",
    "<style type=\"text/css\">\n",
    ".tg  {border-collapse:collapse;border-spacing:0;}\n",
    ".tg td{border-color:black;border-style:solid;border-width:1px;font-family:Arial, sans-serif;font-size:14px;\n",
    "  overflow:hidden;padding:10px 5px;word-break:normal;}\n",
    ".tg th{border-color:black;border-style:solid;border-width:1px;font-family:Arial, sans-serif;font-size:14px;\n",
    "  font-weight:normal;overflow:hidden;padding:10px 5px;word-break:normal;}\n",
    ".tg .tg-k98z{background-color:#366092;color:#FFF;font-weight:bold;text-align:center;vertical-align:middle}\n",
    ".tg .tg-f4yw{background-color:#FFF;text-align:center;vertical-align:middle}\n",
    ".tg .tg-zr06{background-color:#FFF;text-align:left;vertical-align:middle}\n",
    ".tg .tg-nrix{text-align:center;vertical-align:middle}\n",
    "</style>\n",
    "<table class=\"tg\">\n",
    "<thead>\n",
    "  <tr>\n",
    "    <th class=\"tg-k98z\">Variable</th>\n",
    "    <th class=\"tg-k98z\">Descripcion</th>\n",
    "    <th class=\"tg-k98z\">Tipo</th>\n",
    "    <th class=\"tg-k98z\">||</th>\n",
    "    <th class=\"tg-k98z\">Variable</th>\n",
    "    <th class=\"tg-k98z\">Descripcion</th>\n",
    "    <th class=\"tg-k98z\">Tipo</th>\n",
    "  </tr>\n",
    "</thead>\n",
    "<tbody>\n",
    "  <tr>\n",
    "    <td class=\"tg-f4yw\">diesel</td>\n",
    "    <td class=\"tg-zr06\">0:&nbsp;&nbsp;&nbsp;Si el vehiculo trabaja a Gas<br>&nbsp;&nbsp;&nbsp;&nbsp;&nbsp;1: Si el vehiculo trabaja con Diesel</td>\n",
    "    <td class=\"tg-nrix\">Cualitativa</td>\n",
    "    <td class=\"tg-nrix\"> </td>\n",
    "    <td class=\"tg-f4yw\">curb.weight</td>\n",
    "    <td class=\"tg-zr06\">Peso&nbsp;&nbsp;&nbsp;en vacio del vehiculo</td>\n",
    "    <td class=\"tg-nrix\">Continua</td>\n",
    "  </tr>\n",
    "  <tr>\n",
    "    <td class=\"tg-f4yw\">turbo</td>\n",
    "    <td class=\"tg-zr06\">0:&nbsp;&nbsp;&nbsp;Si el tipo de aspiracion es estandar<br>&nbsp;&nbsp;&nbsp;&nbsp;&nbsp;1: Si el tipo de aspiracion es turbo</td>\n",
    "    <td class=\"tg-nrix\">Cualitativa</td>\n",
    "    <td class=\"tg-nrix\"> </td>\n",
    "    <td class=\"tg-f4yw\">eng.size</td>\n",
    "    <td class=\"tg-zr06\">Tamaño&nbsp;&nbsp;&nbsp;del motor (pulgadas cubicas)</td>\n",
    "    <td class=\"tg-nrix\">Continua</td>\n",
    "  </tr>\n",
    "  <tr>\n",
    "    <td class=\"tg-f4yw\">two.doors</td>\n",
    "    <td class=\"tg-zr06\">0:&nbsp;&nbsp;&nbsp;Si el vehiculo es de 4 puertas<br>&nbsp;&nbsp;&nbsp;&nbsp;&nbsp;1: Si el vehiculo es de 2 puertas</td>\n",
    "    <td class=\"tg-nrix\">Cualitativa</td>\n",
    "    <td class=\"tg-nrix\"> </td>\n",
    "    <td class=\"tg-f4yw\">horsepower</td>\n",
    "    <td class=\"tg-zr06\">caballos&nbsp;&nbsp;&nbsp;de fuerza</td>\n",
    "    <td class=\"tg-nrix\">Continua</td>\n",
    "  </tr>\n",
    "  <tr>\n",
    "    <td class=\"tg-f4yw\">hatchback</td>\n",
    "    <td class=\"tg-zr06\">1:&nbsp;&nbsp;&nbsp;Si el vehiculo es tipo hatchback<br>&nbsp;&nbsp;&nbsp;&nbsp;&nbsp;0: Si el vehiculo es otro tipo (sedan, hardtop,wagon, convertivle)</td>\n",
    "    <td class=\"tg-nrix\">cualitativa</td>\n",
    "    <td class=\"tg-nrix\"> </td>\n",
    "    <td class=\"tg-f4yw\">peak.rpm</td>\n",
    "    <td class=\"tg-zr06\">pico&nbsp;&nbsp;&nbsp;de revoluciones por minuto</td>\n",
    "    <td class=\"tg-nrix\">Continua</td>\n",
    "  </tr>\n",
    "  <tr>\n",
    "    <td class=\"tg-f4yw\">wheel.base</td>\n",
    "    <td class=\"tg-zr06\">distancia&nbsp;&nbsp;&nbsp;horizontal entre los centros de las ruedas delanteras y traseras</td>\n",
    "    <td class=\"tg-nrix\">Continua</td>\n",
    "    <td class=\"tg-nrix\"> </td>\n",
    "    <td class=\"tg-f4yw\">price</td>\n",
    "    <td class=\"tg-zr06\">precio&nbsp;&nbsp;&nbsp;en dolares</td>\n",
    "    <td class=\"tg-nrix\">Continua</td>\n",
    "  </tr>\n",
    "  <tr>\n",
    "    <td class=\"tg-f4yw\">length</td>\n",
    "    <td class=\"tg-zr06\">Longitud&nbsp;&nbsp;&nbsp;del vehiculo</td>\n",
    "    <td class=\"tg-nrix\">Continua</td>\n",
    "    <td class=\"tg-nrix\"> </td>\n",
    "    <td class=\"tg-f4yw\">symbol</td>\n",
    "    <td class=\"tg-zr06\">Calificación&nbsp;&nbsp;&nbsp;del riesgo por la aseguradora*</td>\n",
    "    <td class=\"tg-nrix\">Cualitativa</td>\n",
    "  </tr>\n",
    "  <tr>\n",
    "    <td class=\"tg-f4yw\">width</td>\n",
    "    <td class=\"tg-zr06\">Ancho&nbsp;&nbsp;&nbsp;del vehiculo</td>\n",
    "    <td class=\"tg-nrix\">Continua</td>\n",
    "    <td class=\"tg-nrix\"> </td>\n",
    "    <td class=\"tg-f4yw\">city.mpg</td>\n",
    "    <td class=\"tg-zr06\">Consumo&nbsp;&nbsp;&nbsp;de combustible en ciudad</td>\n",
    "    <td class=\"tg-nrix\">Continua</td>\n",
    "  </tr>\n",
    "  <tr>\n",
    "    <td class=\"tg-f4yw\">height</td>\n",
    "    <td class=\"tg-zr06\">Alto&nbsp;&nbsp;&nbsp;del vehiculo</td>\n",
    "    <td class=\"tg-nrix\">Continua</td>\n",
    "    <td class=\"tg-nrix\"> </td>\n",
    "    <td class=\"tg-f4yw\">highway.mpg</td>\n",
    "    <td class=\"tg-zr06\">Consumo&nbsp;&nbsp;&nbsp;de combustible en carretera</td>\n",
    "    <td class=\"tg-nrix\">Continua</td>\n",
    "  </tr>\n",
    "</tbody>\n",
    "</table>\n",
    "</center>"
   ]
  },
  {
   "cell_type": "code",
   "execution_count": 27,
   "metadata": {
    "colab": {
     "base_uri": "https://localhost:8080/",
     "height": 354
    },
    "id": "AzLW_8HQZlGZ",
    "outputId": "dbc216f3-b26a-4730-f5a2-8d744e9e4dd4"
   },
   "outputs": [
    {
     "name": "stdout",
     "output_type": "stream",
     "text": [
      "[1] \"Tabla 1: Dataset original 'vehicles'\"\n"
     ]
    },
    {
     "data": {
      "text/html": [
       "<table>\n",
       "<thead><tr><th></th><th scope=col>diesel</th><th scope=col>turbo</th><th scope=col>two.doors</th><th scope=col>hatchback</th><th scope=col>wheel.base</th><th scope=col>length</th><th scope=col>width</th><th scope=col>height</th><th scope=col>curb.weight</th><th scope=col>eng.size</th><th scope=col>horsepower</th><th scope=col>peak.rpm</th><th scope=col>price</th><th scope=col>symbol</th><th scope=col>city.mpg</th><th scope=col>highway.mpg</th></tr></thead>\n",
       "<tbody>\n",
       "\t<tr><th scope=row>alfaromeo</th><td>0    </td><td>0    </td><td>1    </td><td>1    </td><td> 94.5</td><td>171.2</td><td>65.5 </td><td>52.4 </td><td>2823 </td><td>152  </td><td>154  </td><td>5000 </td><td>16500</td><td>1    </td><td>19   </td><td>26   </td></tr>\n",
       "\t<tr><th scope=row>audi</th><td>0    </td><td>0    </td><td>0    </td><td>0    </td><td>105.8</td><td>192.7</td><td>71.4 </td><td>55.7 </td><td>2844 </td><td>136  </td><td>110  </td><td>5500 </td><td>17710</td><td>1    </td><td>19   </td><td>25   </td></tr>\n",
       "\t<tr><th scope=row>bmw</th><td>0    </td><td>0    </td><td>1    </td><td>0    </td><td>101.2</td><td>176.8</td><td>64.8 </td><td>54.3 </td><td>2395 </td><td>108  </td><td>101  </td><td>5800 </td><td>16430</td><td>2    </td><td>23   </td><td>29   </td></tr>\n",
       "\t<tr><th scope=row>chevrolet</th><td>0    </td><td>0    </td><td>0    </td><td>0    </td><td> 94.5</td><td>158.8</td><td>63.6 </td><td>52.0 </td><td>1909 </td><td> 90  </td><td> 70  </td><td>5400 </td><td> 6575</td><td>0    </td><td>38   </td><td>43   </td></tr>\n",
       "\t<tr><th scope=row>dodge1</th><td>0    </td><td>1    </td><td>1    </td><td>1    </td><td> 93.7</td><td>157.3</td><td>63.8 </td><td>50.8 </td><td>2128 </td><td> 98  </td><td>102  </td><td>5500 </td><td> 7957</td><td>1    </td><td>24   </td><td>30   </td></tr>\n",
       "\t<tr><th scope=row>dodge2</th><td>0    </td><td>0    </td><td>0    </td><td>1    </td><td> 93.7</td><td>157.3</td><td>63.8 </td><td>50.6 </td><td>1967 </td><td> 90  </td><td> 68  </td><td>5500 </td><td> 6229</td><td>1    </td><td>31   </td><td>38   </td></tr>\n",
       "</tbody>\n",
       "</table>\n"
      ],
      "text/latex": [
       "\\begin{tabular}{r|llllllllllllllll}\n",
       "  & diesel & turbo & two.doors & hatchback & wheel.base & length & width & height & curb.weight & eng.size & horsepower & peak.rpm & price & symbol & city.mpg & highway.mpg\\\\\n",
       "\\hline\n",
       "\talfaromeo & 0     & 0     & 1     & 1     &  94.5 & 171.2 & 65.5  & 52.4  & 2823  & 152   & 154   & 5000  & 16500 & 1     & 19    & 26   \\\\\n",
       "\taudi & 0     & 0     & 0     & 0     & 105.8 & 192.7 & 71.4  & 55.7  & 2844  & 136   & 110   & 5500  & 17710 & 1     & 19    & 25   \\\\\n",
       "\tbmw & 0     & 0     & 1     & 0     & 101.2 & 176.8 & 64.8  & 54.3  & 2395  & 108   & 101   & 5800  & 16430 & 2     & 23    & 29   \\\\\n",
       "\tchevrolet & 0     & 0     & 0     & 0     &  94.5 & 158.8 & 63.6  & 52.0  & 1909  &  90   &  70   & 5400  &  6575 & 0     & 38    & 43   \\\\\n",
       "\tdodge1 & 0     & 1     & 1     & 1     &  93.7 & 157.3 & 63.8  & 50.8  & 2128  &  98   & 102   & 5500  &  7957 & 1     & 24    & 30   \\\\\n",
       "\tdodge2 & 0     & 0     & 0     & 1     &  93.7 & 157.3 & 63.8  & 50.6  & 1967  &  90   &  68   & 5500  &  6229 & 1     & 31    & 38   \\\\\n",
       "\\end{tabular}\n"
      ],
      "text/markdown": [
       "\n",
       "| <!--/--> | diesel | turbo | two.doors | hatchback | wheel.base | length | width | height | curb.weight | eng.size | horsepower | peak.rpm | price | symbol | city.mpg | highway.mpg |\n",
       "|---|---|---|---|---|---|---|---|---|---|---|---|---|---|---|---|---|\n",
       "| alfaromeo | 0     | 0     | 1     | 1     |  94.5 | 171.2 | 65.5  | 52.4  | 2823  | 152   | 154   | 5000  | 16500 | 1     | 19    | 26    |\n",
       "| audi | 0     | 0     | 0     | 0     | 105.8 | 192.7 | 71.4  | 55.7  | 2844  | 136   | 110   | 5500  | 17710 | 1     | 19    | 25    |\n",
       "| bmw | 0     | 0     | 1     | 0     | 101.2 | 176.8 | 64.8  | 54.3  | 2395  | 108   | 101   | 5800  | 16430 | 2     | 23    | 29    |\n",
       "| chevrolet | 0     | 0     | 0     | 0     |  94.5 | 158.8 | 63.6  | 52.0  | 1909  |  90   |  70   | 5400  |  6575 | 0     | 38    | 43    |\n",
       "| dodge1 | 0     | 1     | 1     | 1     |  93.7 | 157.3 | 63.8  | 50.8  | 2128  |  98   | 102   | 5500  |  7957 | 1     | 24    | 30    |\n",
       "| dodge2 | 0     | 0     | 0     | 1     |  93.7 | 157.3 | 63.8  | 50.6  | 1967  |  90   |  68   | 5500  |  6229 | 1     | 31    | 38    |\n",
       "\n"
      ],
      "text/plain": [
       "          diesel turbo two.doors hatchback wheel.base length width height\n",
       "alfaromeo 0      0     1         1          94.5      171.2  65.5  52.4  \n",
       "audi      0      0     0         0         105.8      192.7  71.4  55.7  \n",
       "bmw       0      0     1         0         101.2      176.8  64.8  54.3  \n",
       "chevrolet 0      0     0         0          94.5      158.8  63.6  52.0  \n",
       "dodge1    0      1     1         1          93.7      157.3  63.8  50.8  \n",
       "dodge2    0      0     0         1          93.7      157.3  63.8  50.6  \n",
       "          curb.weight eng.size horsepower peak.rpm price symbol city.mpg\n",
       "alfaromeo 2823        152      154        5000     16500 1      19      \n",
       "audi      2844        136      110        5500     17710 1      19      \n",
       "bmw       2395        108      101        5800     16430 2      23      \n",
       "chevrolet 1909         90       70        5400      6575 0      38      \n",
       "dodge1    2128         98      102        5500      7957 1      24      \n",
       "dodge2    1967         90       68        5500      6229 1      31      \n",
       "          highway.mpg\n",
       "alfaromeo 26         \n",
       "audi      25         \n",
       "bmw       29         \n",
       "chevrolet 43         \n",
       "dodge1    30         \n",
       "dodge2    38         "
      ]
     },
     "metadata": {},
     "output_type": "display_data"
    }
   ],
   "source": [
    "#install.packages(\"plsdepot\")\n",
    "library(plsdepot)\n",
    "data(vehicles) \n",
    "print(\"Tabla 1: Dataset original 'vehicles'\")\n",
    "head(vehicles)\n"
   ]
  },
  {
   "cell_type": "markdown",
   "metadata": {
    "id": "8KCmLymalpP1"
   },
   "source": [
    "Bajo un análisis descriptivo convencional, extraer la síntesis de la información contenida en la base de datos puede llegar a ser muy difícil debido a la cantidad de variables continuas y variables categóricas en el estudio. Para problemas de este tipo, se piensa en implementar un Análisis de Componentes Principales (ACP), el cual tiene el objetivo de realizar una descripción simultanea de la asociación existente entre variables y similitud entre individuos. "
   ]
  },
  {
   "cell_type": "code",
   "execution_count": 28,
   "metadata": {
    "colab": {
     "base_uri": "https://localhost:8080/",
     "height": 857
    },
    "id": "OVbYdAEVbBbV",
    "outputId": "84374969-85ea-487b-a380-4c3ccdf34d45"
   },
   "outputs": [
    {
     "data": {
      "image/png": "[encoded data removed]",
      "text/plain": [
       "Plot with title \"Figura1: Boxplot de variables originales\""
      ]
     },
     "metadata": {},
     "output_type": "display_data"
    },
    {
     "data": {
      "image/png": "[encoded data removed]",
      "text/plain": [
       "Plot with title \"Figura2: Boxplot de variables estandarizadas\""
      ]
     },
     "metadata": {},
     "output_type": "display_data"
    }
   ],
   "source": [
    "## Cambio de labels para mejores interpretaciones\n",
    "vehicles$diesel = ifelse(vehicles$diesel==1,'Si','No')\n",
    "vehicles$turbo = ifelse(vehicles$turbo==1,'Si','No')\n",
    "vehicles$two.doors = ifelse(vehicles$two.doors==1,'Si','No')\n",
    "vehicles$hatchback = ifelse(vehicles$hatchback==1,'Si','No')\n",
    "\n",
    "## Se extraen variables continuas\n",
    "cont_vars=vehicles[,c(5:13,15:16)]\n",
    "n=nrow(cont_vars)\n",
    "## Se estandarizan las variables para que sean comparables\n",
    "z<-scale(cont_vars)*sqrt(n/(n-1))\n",
    "\n",
    "boxplot(cont_vars, main=\"Figura1: Boxplot de variables originales\") \n",
    "boxplot(z,main=\"Figura2: Boxplot de variables estandarizadas\")"
   ]
  },
  {
   "cell_type": "code",
   "execution_count": 29,
   "metadata": {
    "colab": {
     "base_uri": "https://localhost:8080/",
     "height": 427
    },
    "id": "trJHouhALTNp",
    "outputId": "c1004449-d66d-43b2-d977-89855cddd777"
   },
   "outputs": [
    {
     "name": "stdout",
     "output_type": "stream",
     "text": [
      "[1] \"Tabla 2: Matriz de correlaciones\"\n"
     ]
    },
    {
     "data": {
      "text/html": [
       "<table>\n",
       "<thead><tr><th></th><th scope=col>wheel.base</th><th scope=col>length</th><th scope=col>width</th><th scope=col>height</th><th scope=col>curb.weight</th><th scope=col>eng.size</th><th scope=col>horsepower</th><th scope=col>peak.rpm</th><th scope=col>price</th><th scope=col>city.mpg</th><th scope=col>highway.mpg</th></tr></thead>\n",
       "<tbody>\n",
       "\t<tr><th scope=row>wheel.base</th><td> 1.0000000 </td><td> 0.8969155 </td><td> 0.8822392 </td><td> 0.68420123</td><td> 0.8635770 </td><td> 0.6218614 </td><td> 0.35659300</td><td>-0.47198419</td><td> 0.55881675</td><td>-0.46417851</td><td>-0.61720395</td></tr>\n",
       "\t<tr><th scope=row>length</th><td> 0.8969155 </td><td> 1.0000000 </td><td> 0.8727987 </td><td> 0.72930109</td><td> 0.9010195 </td><td> 0.7224396 </td><td> 0.49446373</td><td>-0.41972519</td><td> 0.65138350</td><td>-0.64363729</td><td>-0.72369527</td></tr>\n",
       "\t<tr><th scope=row>width</th><td> 0.8822392 </td><td> 0.8727987 </td><td> 1.0000000 </td><td> 0.59601296</td><td> 0.8504568 </td><td> 0.6749314 </td><td> 0.52021771</td><td>-0.29336220</td><td> 0.67459000</td><td>-0.57977790</td><td>-0.66153494</td></tr>\n",
       "\t<tr><th scope=row>height</th><td> 0.6842012 </td><td> 0.7293011 </td><td> 0.5960130 </td><td> 1.00000000</td><td> 0.5133482 </td><td> 0.2159526 </td><td> 0.07054426</td><td>-0.39441378</td><td> 0.20733402</td><td>-0.24225715</td><td>-0.34177061</td></tr>\n",
       "\t<tr><th scope=row>curb.weight</th><td> 0.8635770 </td><td> 0.9010195 </td><td> 0.8504568 </td><td> 0.51334824</td><td> 1.0000000 </td><td> 0.9063540 </td><td> 0.69834686</td><td>-0.38243785</td><td> 0.83304276</td><td>-0.73166129</td><td>-0.82283277</td></tr>\n",
       "\t<tr><th scope=row>eng.size</th><td> 0.6218614 </td><td> 0.7224396 </td><td> 0.6749314 </td><td> 0.21595263</td><td> 0.9063540 </td><td> 1.0000000 </td><td> 0.81309960</td><td>-0.23206971</td><td> 0.90992808</td><td>-0.75786538</td><td>-0.79350006</td></tr>\n",
       "\t<tr><th scope=row>horsepower</th><td> 0.3565930 </td><td> 0.4944637 </td><td> 0.5202177 </td><td> 0.07054426</td><td> 0.6983469 </td><td> 0.8130996 </td><td> 1.00000000</td><td> 0.10670106</td><td> 0.82580610</td><td>-0.86391659</td><td>-0.80809933</td></tr>\n",
       "\t<tr><th scope=row>peak.rpm</th><td>-0.4719842 </td><td>-0.4197252 </td><td>-0.2933622 </td><td>-0.39441378</td><td>-0.3824379 </td><td>-0.2320697 </td><td> 0.10670106</td><td> 1.00000000</td><td>-0.06533716</td><td>-0.07061346</td><td> 0.08718376</td></tr>\n",
       "\t<tr><th scope=row>price</th><td> 0.5588167 </td><td> 0.6513835 </td><td> 0.6745900 </td><td> 0.20733402</td><td> 0.8330428 </td><td> 0.9099281 </td><td> 0.82580610</td><td>-0.06533716</td><td> 1.00000000</td><td>-0.72283344</td><td>-0.73334145</td></tr>\n",
       "\t<tr><th scope=row>city.mpg</th><td>-0.4641785 </td><td>-0.6436373 </td><td>-0.5797779 </td><td>-0.24225715</td><td>-0.7316613 </td><td>-0.7578654 </td><td>-0.86391659</td><td>-0.07061346</td><td>-0.72283344</td><td> 1.00000000</td><td> 0.95456139</td></tr>\n",
       "\t<tr><th scope=row>highway.mpg</th><td>-0.6172039 </td><td>-0.7236953 </td><td>-0.6615349 </td><td>-0.34177061</td><td>-0.8228328 </td><td>-0.7935001 </td><td>-0.80809933</td><td> 0.08718376</td><td>-0.73334145</td><td> 0.95456139</td><td> 1.00000000</td></tr>\n",
       "</tbody>\n",
       "</table>\n"
      ],
      "text/latex": [
       "\\begin{tabular}{r|lllllllllll}\n",
       "  & wheel.base & length & width & height & curb.weight & eng.size & horsepower & peak.rpm & price & city.mpg & highway.mpg\\\\\n",
       "\\hline\n",
       "\twheel.base &  1.0000000  &  0.8969155  &  0.8822392  &  0.68420123 &  0.8635770  &  0.6218614  &  0.35659300 & -0.47198419 &  0.55881675 & -0.46417851 & -0.61720395\\\\\n",
       "\tlength &  0.8969155  &  1.0000000  &  0.8727987  &  0.72930109 &  0.9010195  &  0.7224396  &  0.49446373 & -0.41972519 &  0.65138350 & -0.64363729 & -0.72369527\\\\\n",
       "\twidth &  0.8822392  &  0.8727987  &  1.0000000  &  0.59601296 &  0.8504568  &  0.6749314  &  0.52021771 & -0.29336220 &  0.67459000 & -0.57977790 & -0.66153494\\\\\n",
       "\theight &  0.6842012  &  0.7293011  &  0.5960130  &  1.00000000 &  0.5133482  &  0.2159526  &  0.07054426 & -0.39441378 &  0.20733402 & -0.24225715 & -0.34177061\\\\\n",
       "\tcurb.weight &  0.8635770  &  0.9010195  &  0.8504568  &  0.51334824 &  1.0000000  &  0.9063540  &  0.69834686 & -0.38243785 &  0.83304276 & -0.73166129 & -0.82283277\\\\\n",
       "\teng.size &  0.6218614  &  0.7224396  &  0.6749314  &  0.21595263 &  0.9063540  &  1.0000000  &  0.81309960 & -0.23206971 &  0.90992808 & -0.75786538 & -0.79350006\\\\\n",
       "\thorsepower &  0.3565930  &  0.4944637  &  0.5202177  &  0.07054426 &  0.6983469  &  0.8130996  &  1.00000000 &  0.10670106 &  0.82580610 & -0.86391659 & -0.80809933\\\\\n",
       "\tpeak.rpm & -0.4719842  & -0.4197252  & -0.2933622  & -0.39441378 & -0.3824379  & -0.2320697  &  0.10670106 &  1.00000000 & -0.06533716 & -0.07061346 &  0.08718376\\\\\n",
       "\tprice &  0.5588167  &  0.6513835  &  0.6745900  &  0.20733402 &  0.8330428  &  0.9099281  &  0.82580610 & -0.06533716 &  1.00000000 & -0.72283344 & -0.73334145\\\\\n",
       "\tcity.mpg & -0.4641785  & -0.6436373  & -0.5797779  & -0.24225715 & -0.7316613  & -0.7578654  & -0.86391659 & -0.07061346 & -0.72283344 &  1.00000000 &  0.95456139\\\\\n",
       "\thighway.mpg & -0.6172039  & -0.7236953  & -0.6615349  & -0.34177061 & -0.8228328  & -0.7935001  & -0.80809933 &  0.08718376 & -0.73334145 &  0.95456139 &  1.00000000\\\\\n",
       "\\end{tabular}\n"
      ],
      "text/markdown": [
       "\n",
       "| <!--/--> | wheel.base | length | width | height | curb.weight | eng.size | horsepower | peak.rpm | price | city.mpg | highway.mpg |\n",
       "|---|---|---|---|---|---|---|---|---|---|---|---|\n",
       "| wheel.base |  1.0000000  |  0.8969155  |  0.8822392  |  0.68420123 |  0.8635770  |  0.6218614  |  0.35659300 | -0.47198419 |  0.55881675 | -0.46417851 | -0.61720395 |\n",
       "| length |  0.8969155  |  1.0000000  |  0.8727987  |  0.72930109 |  0.9010195  |  0.7224396  |  0.49446373 | -0.41972519 |  0.65138350 | -0.64363729 | -0.72369527 |\n",
       "| width |  0.8822392  |  0.8727987  |  1.0000000  |  0.59601296 |  0.8504568  |  0.6749314  |  0.52021771 | -0.29336220 |  0.67459000 | -0.57977790 | -0.66153494 |\n",
       "| height |  0.6842012  |  0.7293011  |  0.5960130  |  1.00000000 |  0.5133482  |  0.2159526  |  0.07054426 | -0.39441378 |  0.20733402 | -0.24225715 | -0.34177061 |\n",
       "| curb.weight |  0.8635770  |  0.9010195  |  0.8504568  |  0.51334824 |  1.0000000  |  0.9063540  |  0.69834686 | -0.38243785 |  0.83304276 | -0.73166129 | -0.82283277 |\n",
       "| eng.size |  0.6218614  |  0.7224396  |  0.6749314  |  0.21595263 |  0.9063540  |  1.0000000  |  0.81309960 | -0.23206971 |  0.90992808 | -0.75786538 | -0.79350006 |\n",
       "| horsepower |  0.3565930  |  0.4944637  |  0.5202177  |  0.07054426 |  0.6983469  |  0.8130996  |  1.00000000 |  0.10670106 |  0.82580610 | -0.86391659 | -0.80809933 |\n",
       "| peak.rpm | -0.4719842  | -0.4197252  | -0.2933622  | -0.39441378 | -0.3824379  | -0.2320697  |  0.10670106 |  1.00000000 | -0.06533716 | -0.07061346 |  0.08718376 |\n",
       "| price |  0.5588167  |  0.6513835  |  0.6745900  |  0.20733402 |  0.8330428  |  0.9099281  |  0.82580610 | -0.06533716 |  1.00000000 | -0.72283344 | -0.73334145 |\n",
       "| city.mpg | -0.4641785  | -0.6436373  | -0.5797779  | -0.24225715 | -0.7316613  | -0.7578654  | -0.86391659 | -0.07061346 | -0.72283344 |  1.00000000 |  0.95456139 |\n",
       "| highway.mpg | -0.6172039  | -0.7236953  | -0.6615349  | -0.34177061 | -0.8228328  | -0.7935001  | -0.80809933 |  0.08718376 | -0.73334145 |  0.95456139 |  1.00000000 |\n",
       "\n"
      ],
      "text/plain": [
       "            wheel.base length     width      height      curb.weight eng.size  \n",
       "wheel.base   1.0000000  0.8969155  0.8822392  0.68420123  0.8635770   0.6218614\n",
       "length       0.8969155  1.0000000  0.8727987  0.72930109  0.9010195   0.7224396\n",
       "width        0.8822392  0.8727987  1.0000000  0.59601296  0.8504568   0.6749314\n",
       "height       0.6842012  0.7293011  0.5960130  1.00000000  0.5133482   0.2159526\n",
       "curb.weight  0.8635770  0.9010195  0.8504568  0.51334824  1.0000000   0.9063540\n",
       "eng.size     0.6218614  0.7224396  0.6749314  0.21595263  0.9063540   1.0000000\n",
       "horsepower   0.3565930  0.4944637  0.5202177  0.07054426  0.6983469   0.8130996\n",
       "peak.rpm    -0.4719842 -0.4197252 -0.2933622 -0.39441378 -0.3824379  -0.2320697\n",
       "price        0.5588167  0.6513835  0.6745900  0.20733402  0.8330428   0.9099281\n",
       "city.mpg    -0.4641785 -0.6436373 -0.5797779 -0.24225715 -0.7316613  -0.7578654\n",
       "highway.mpg -0.6172039 -0.7236953 -0.6615349 -0.34177061 -0.8228328  -0.7935001\n",
       "            horsepower  peak.rpm    price       city.mpg    highway.mpg\n",
       "wheel.base   0.35659300 -0.47198419  0.55881675 -0.46417851 -0.61720395\n",
       "length       0.49446373 -0.41972519  0.65138350 -0.64363729 -0.72369527\n",
       "width        0.52021771 -0.29336220  0.67459000 -0.57977790 -0.66153494\n",
       "height       0.07054426 -0.39441378  0.20733402 -0.24225715 -0.34177061\n",
       "curb.weight  0.69834686 -0.38243785  0.83304276 -0.73166129 -0.82283277\n",
       "eng.size     0.81309960 -0.23206971  0.90992808 -0.75786538 -0.79350006\n",
       "horsepower   1.00000000  0.10670106  0.82580610 -0.86391659 -0.80809933\n",
       "peak.rpm     0.10670106  1.00000000 -0.06533716 -0.07061346  0.08718376\n",
       "price        0.82580610 -0.06533716  1.00000000 -0.72283344 -0.73334145\n",
       "city.mpg    -0.86391659 -0.07061346 -0.72283344  1.00000000  0.95456139\n",
       "highway.mpg -0.80809933  0.08718376 -0.73334145  0.95456139  1.00000000"
      ]
     },
     "metadata": {},
     "output_type": "display_data"
    }
   ],
   "source": [
    "## Calculo de la matriz de correlaciones\n",
    "print(\"Tabla 2: Matriz de correlaciones\")\n",
    "cor(cont_vars)"
   ]
  },
  {
   "cell_type": "markdown",
   "metadata": {
    "id": "PCuGzLtqln-3"
   },
   "source": [
    "Las variables continuas tienen tipos de escalas muy diferentes, por lo cual, se aplica la estandarización en cada una de ellas. Por otro lado, en el caso de la no correlación entre las variables originales, el ACP no tiene mucho que hacer; en nuestro caso, si se logran identificar relaciones lineales."
   ]
  },
  {
   "cell_type": "code",
   "execution_count": 30,
   "metadata": {
    "colab": {
     "base_uri": "https://localhost:8080/",
     "height": 437
    },
    "id": "NXzANx7ccP83",
    "outputId": "b151f6ba-9b61-451e-f3b1-4f711146dfb7"
   },
   "outputs": [
    {
     "name": "stdout",
     "output_type": "stream",
     "text": [
      "[1] \"Figura 3: Descripcion de variables cualitativas\"\n"
     ]
    },
    {
     "data": {
      "image/png": "[encoded data removed]",
      "text/plain": [
       "Plot with title \"symbol\""
      ]
     },
     "metadata": {},
     "output_type": "display_data"
    }
   ],
   "source": [
    "## Se realiza una descripción de las variables cualitativas\n",
    "cuali_vars=vehicles[,c(1:4,14)]\n",
    "print(\"Figura 3: Descripcion de variables cualitativas\")\n",
    "par(mfrow=c(2,3))\n",
    "for (v in names(cuali_vars)) {\n",
    "      barplot(prop.table(table(cuali_vars[v][,1]))*100,xlab=v,ylab =\"Frecuencia\",main = v) \n",
    "      \n",
    "    }"
   ]
  },
  {
   "cell_type": "markdown",
   "metadata": {
    "id": "4bdCMLPE5m43"
   },
   "source": [
    "## Variables activas"
   ]
  },
  {
   "cell_type": "markdown",
   "metadata": {
    "id": "HqOGIkqYAQgy"
   },
   "source": [
    "Serán aquellas que constituirán los alementos a partir de los cuales se construirá el ACP. Cabe aclarar que dentro de las activas se incluye \"symbol\" que por su naturaleza ordinal se puede trata como cuantitava dentro del análisis. El resto de variables \"diesel\", \"turbo\", \"two.doors\", \"hatchback\" y \"eng.size\", aunque no entran en la construcción, enriquecerán el análisis como variables suplementarias.\n",
    "\n",
    "Nos referiremos a la matriz inicial de datos como $R_{n,p}$, con n filas-nube individuos y p columnas-nube."
   ]
  },
  {
   "cell_type": "code",
   "execution_count": 31,
   "metadata": {
    "colab": {
     "base_uri": "https://localhost:8080/",
     "height": 272
    },
    "id": "0SxzKgen5qXK",
    "outputId": "dccc2c62-c411-4263-d0c1-22d50e3e201d"
   },
   "outputs": [
    {
     "name": "stdout",
     "output_type": "stream",
     "text": [
      "[1] \"Tabla 3: Variables activas estandarizadas\"\n"
     ]
    },
    {
     "data": {
      "text/html": [
       "<table>\n",
       "<thead><tr><th></th><th scope=col>wheel.base</th><th scope=col>length</th><th scope=col>width</th><th scope=col>height</th><th scope=col>curb.weight</th><th scope=col>horsepower</th><th scope=col>peak.rpm</th><th scope=col>price</th><th scope=col>symbol</th><th scope=col>city.mpg</th><th scope=col>highway.mpg</th></tr></thead>\n",
       "<tbody>\n",
       "\t<tr><th scope=row>alfaromeo</th><td>-0.7098535 </td><td>-0.2245348 </td><td>-0.1514636 </td><td>-0.7228561 </td><td> 0.5307157 </td><td> 1.38129547</td><td>-0.2710098 </td><td> 0.4042367 </td><td> 0.3592106 </td><td>-1.1553373 </td><td>-0.8415192 </td></tr>\n",
       "\t<tr><th scope=row>audi</th><td> 0.9372398 </td><td> 1.3293809 </td><td> 2.3080823 </td><td> 0.9530867 </td><td> 0.5680108 </td><td> 0.25300957</td><td> 0.7713357 </td><td> 0.5463764 </td><td> 0.3592106 </td><td>-1.1553373 </td><td>-0.9945227 </td></tr>\n",
       "\t<tr><th scope=row>bmw</th><td> 0.2667416 </td><td> 0.1802060 </td><td>-0.4432741 </td><td> 0.2420806 </td><td>-0.2293947 </td><td> 0.02222381</td><td> 1.3967430 </td><td> 0.3960137 </td><td> 1.2572371 </td><td>-0.5251533 </td><td>-0.3825087 </td></tr>\n",
       "\t<tr><th scope=row>chevrolet</th><td>-0.7098535 </td><td>-1.1207467 </td><td>-0.9435207 </td><td>-0.9260007 </td><td>-1.0925106 </td><td>-0.77270489</td><td> 0.5628666 </td><td>-0.7616613 </td><td>-0.5388159 </td><td> 1.8380366 </td><td> 1.7595401 </td></tr>\n",
       "\t<tr><th scope=row>dodge1</th><td>-0.8264618 </td><td>-1.2291594 </td><td>-0.8601463 </td><td>-1.5354345 </td><td>-0.7035757 </td><td> 0.04786667</td><td> 0.7713357 </td><td>-0.5993166 </td><td> 0.3592106 </td><td>-0.3676073 </td><td>-0.2295052 </td></tr>\n",
       "\t<tr><th scope=row>dodge2</th><td>-0.8264618 </td><td>-1.2291594 </td><td>-0.8601463 </td><td>-1.6370068 </td><td>-0.9895050 </td><td>-0.82399062</td><td> 0.7713357 </td><td>-0.8023062 </td><td> 0.3592106 </td><td> 0.7352146 </td><td> 0.9945227 </td></tr>\n",
       "</tbody>\n",
       "</table>\n"
      ],
      "text/latex": [
       "\\begin{tabular}{r|lllllllllll}\n",
       "  & wheel.base & length & width & height & curb.weight & horsepower & peak.rpm & price & symbol & city.mpg & highway.mpg\\\\\n",
       "\\hline\n",
       "\talfaromeo & -0.7098535  & -0.2245348  & -0.1514636  & -0.7228561  &  0.5307157  &  1.38129547 & -0.2710098  &  0.4042367  &  0.3592106  & -1.1553373  & -0.8415192 \\\\\n",
       "\taudi &  0.9372398  &  1.3293809  &  2.3080823  &  0.9530867  &  0.5680108  &  0.25300957 &  0.7713357  &  0.5463764  &  0.3592106  & -1.1553373  & -0.9945227 \\\\\n",
       "\tbmw &  0.2667416  &  0.1802060  & -0.4432741  &  0.2420806  & -0.2293947  &  0.02222381 &  1.3967430  &  0.3960137  &  1.2572371  & -0.5251533  & -0.3825087 \\\\\n",
       "\tchevrolet & -0.7098535  & -1.1207467  & -0.9435207  & -0.9260007  & -1.0925106  & -0.77270489 &  0.5628666  & -0.7616613  & -0.5388159  &  1.8380366  &  1.7595401 \\\\\n",
       "\tdodge1 & -0.8264618  & -1.2291594  & -0.8601463  & -1.5354345  & -0.7035757  &  0.04786667 &  0.7713357  & -0.5993166  &  0.3592106  & -0.3676073  & -0.2295052 \\\\\n",
       "\tdodge2 & -0.8264618  & -1.2291594  & -0.8601463  & -1.6370068  & -0.9895050  & -0.82399062 &  0.7713357  & -0.8023062  &  0.3592106  &  0.7352146  &  0.9945227 \\\\\n",
       "\\end{tabular}\n"
      ],
      "text/markdown": [
       "\n",
       "| <!--/--> | wheel.base | length | width | height | curb.weight | horsepower | peak.rpm | price | symbol | city.mpg | highway.mpg |\n",
       "|---|---|---|---|---|---|---|---|---|---|---|---|\n",
       "| alfaromeo | -0.7098535  | -0.2245348  | -0.1514636  | -0.7228561  |  0.5307157  |  1.38129547 | -0.2710098  |  0.4042367  |  0.3592106  | -1.1553373  | -0.8415192  |\n",
       "| audi |  0.9372398  |  1.3293809  |  2.3080823  |  0.9530867  |  0.5680108  |  0.25300957 |  0.7713357  |  0.5463764  |  0.3592106  | -1.1553373  | -0.9945227  |\n",
       "| bmw |  0.2667416  |  0.1802060  | -0.4432741  |  0.2420806  | -0.2293947  |  0.02222381 |  1.3967430  |  0.3960137  |  1.2572371  | -0.5251533  | -0.3825087  |\n",
       "| chevrolet | -0.7098535  | -1.1207467  | -0.9435207  | -0.9260007  | -1.0925106  | -0.77270489 |  0.5628666  | -0.7616613  | -0.5388159  |  1.8380366  |  1.7595401  |\n",
       "| dodge1 | -0.8264618  | -1.2291594  | -0.8601463  | -1.5354345  | -0.7035757  |  0.04786667 |  0.7713357  | -0.5993166  |  0.3592106  | -0.3676073  | -0.2295052  |\n",
       "| dodge2 | -0.8264618  | -1.2291594  | -0.8601463  | -1.6370068  | -0.9895050  | -0.82399062 |  0.7713357  | -0.8023062  |  0.3592106  |  0.7352146  |  0.9945227  |\n",
       "\n"
      ],
      "text/plain": [
       "          wheel.base length     width      height     curb.weight horsepower \n",
       "alfaromeo -0.7098535 -0.2245348 -0.1514636 -0.7228561  0.5307157   1.38129547\n",
       "audi       0.9372398  1.3293809  2.3080823  0.9530867  0.5680108   0.25300957\n",
       "bmw        0.2667416  0.1802060 -0.4432741  0.2420806 -0.2293947   0.02222381\n",
       "chevrolet -0.7098535 -1.1207467 -0.9435207 -0.9260007 -1.0925106  -0.77270489\n",
       "dodge1    -0.8264618 -1.2291594 -0.8601463 -1.5354345 -0.7035757   0.04786667\n",
       "dodge2    -0.8264618 -1.2291594 -0.8601463 -1.6370068 -0.9895050  -0.82399062\n",
       "          peak.rpm   price      symbol     city.mpg   highway.mpg\n",
       "alfaromeo -0.2710098  0.4042367  0.3592106 -1.1553373 -0.8415192 \n",
       "audi       0.7713357  0.5463764  0.3592106 -1.1553373 -0.9945227 \n",
       "bmw        1.3967430  0.3960137  1.2572371 -0.5251533 -0.3825087 \n",
       "chevrolet  0.5628666 -0.7616613 -0.5388159  1.8380366  1.7595401 \n",
       "dodge1     0.7713357 -0.5993166  0.3592106 -0.3676073 -0.2295052 \n",
       "dodge2     0.7713357 -0.8023062  0.3592106  0.7352146  0.9945227 "
      ]
     },
     "metadata": {},
     "output_type": "display_data"
    }
   ],
   "source": [
    "active_vars=vehicles[,c(5:9,11:16)] # Matriz completa (R)\n",
    "print(\"Tabla 3: Variables activas estandarizadas\")\n",
    "Z=scale(active_vars)*sqrt(n/(n-1)); head(Z) # Datos estandarizados (Z)"
   ]
  },
  {
   "cell_type": "markdown",
   "metadata": {
    "id": "Ej3t8piPGIEQ"
   },
   "source": [
    "La primera operación que se realiza para el ACP es estandarizar los datos, se parte de la noción ya explicada de que las escalas son diferentes y por ello debemos estandarizarlas. Llamando $Z_{n,p}$ la matriz con datos estandarizados.\n",
    "\n",
    "Antes de avanzar con la descomposición singular se introducirán varios conceptos propios del ACP. Primero, como el objetivo es obtener nuevos vectores ortogonales $u_{\\alpha}$ que determinen la dirección de los ejes factoriales y brinden la garantía del máximo alargamiento de las nube de individuos, se tienen las siguientes consideraciones: \n",
    "\n",
    "1. Geométricamente, las proyecciones de los individuos sobre los vectores propios $u_{\\alpha}$ es: $\\psi_{\\alpha}=Zu_{\\alpha}$ con $u'_{\\alpha}u_{\\alpha}=1$. Donde $\\psi_{\\alpha}$ es la componente principal $\\alpha$\n",
    "\n",
    "2. La inercia en la nube de individuos está dada por: $I=u'_{\\alpha}Z'NZu_{\\alpha}=traza(Z'NZ)=p=11$ (que es similar que en la nube de variables).\n",
    "\n",
    "3. En la descomposición espectral se diagonaliza la matriz de correlaciones $Z'NZ=UDU'$. Tal que $U$ contiene los vectores propios $u_{\\alpha}$ y $D$ es la diagonal con los vectores propios. De igual manera para la nube de variables, se obtiene $N^{1/2}ZZ'N^{1/2} = V'DV$\n"
   ]
  },
  {
   "cell_type": "markdown",
   "metadata": {
    "id": "-q-WhjxbyD86"
   },
   "source": [
    "## Descomposición singular\n",
    "\n"
   ]
  },
  {
   "cell_type": "markdown",
   "metadata": {
    "id": "5w3dUIEhF90L"
   },
   "source": [
    "Consiste en descomponer de la matriz $ N^{1/2}Z$ en $VD^{1/2}U' $ con los valores singulares, $ \\sqrt{\\lambda}_{\\alpha} $, los cuales se encuentran contenidos en la matriz diagonal $ D^{1/2} $. Donde $V$ y $U$ contienen los vectores propios $v_{\\alpha}$ e $\\mu_{\\alpha}$ respectivamente. "
   ]
  },
  {
   "cell_type": "code",
   "execution_count": 32,
   "metadata": {
    "id": "YmsVqlfp5wsZ"
   },
   "outputs": [
    {
     "name": "stdout",
     "output_type": "stream",
     "text": [
      "[1] \"La suma de los valores propios es:  11\"\n"
     ]
    }
   ],
   "source": [
    "n=nrow(Z)\n",
    "p=ncol(Z)\n",
    "N=diag(1/n,n,n)\n",
    "Y=sqrt(N)%*%Z\n",
    "svd_Y=svd(Y) ## Donde V son los ejes para nube de ind y U ejes para nube de variables\n",
    "## realizamos el cambio para ser consecuentes con nuestra notación\n",
    "U= svd_Y$v\n",
    "V=svd_Y$u\n",
    "eig=svd_Y$d^2\n",
    "print(paste(\"La suma de los valores propios es: \",sum(eig)))"
   ]
  },
  {
   "cell_type": "markdown",
   "metadata": {
    "id": "m4aOMwthVRB3"
   },
   "source": [
    "A continuación se calculan las componentes principales con base en los resultados de la descomposicion singular para posteriormente complementarlos con las salidas de las librerías especializadas como FatoMineR y ade4.\n"
   ]
  },
  {
   "cell_type": "code",
   "execution_count": 33,
   "metadata": {
    "colab": {
     "base_uri": "https://localhost:8080/",
     "height": 443
    },
    "id": "Nql1Rd156Gby",
    "outputId": "8a1f1602-7170-4d39-f8db-d65c7b03cc5b"
   },
   "outputs": [
    {
     "name": "stdout",
     "output_type": "stream",
     "text": [
      "[1] \"Tabla 4: Coordenadas de individuos y variables\"\n",
      "[1] \"Coordenadas de individuos\"\n"
     ]
    },
    {
     "data": {
      "text/html": [
       "<table>\n",
       "<tbody>\n",
       "\t<tr><th scope=row>alfaromeo</th><td> 0.78745814 </td><td> 1.78615555 </td><td> 0.50502381 </td><td>-0.8437488  </td><td> 0.79253497 </td><td>-0.07983305 </td><td> 0.412309667</td><td>-0.06592256 </td><td> 0.07869358 </td><td>-0.305996034</td><td> 0.110415276</td></tr>\n",
       "\t<tr><th scope=row>audi</th><td> 2.82757691 </td><td> 0.34355529 </td><td>-0.55629136 </td><td> 1.5348897  </td><td>-0.46466494 </td><td> 1.02372648 </td><td> 0.307824959</td><td>-0.65063030 </td><td>-0.22877253 </td><td> 0.002346245</td><td>-0.037709834</td></tr>\n",
       "\t<tr><th scope=row>bmw</th><td> 0.01069734 </td><td> 1.35718895 </td><td>-0.28054719 </td><td> 1.3048548  </td><td> 0.03108488 </td><td> 0.09188060 </td><td>-0.800579798</td><td> 0.30350563 </td><td>-0.05696166 </td><td> 0.391368486</td><td> 0.001715645</td></tr>\n",
       "\t<tr><th scope=row>chevrolet</th><td>-3.21634127 </td><td>-0.72710353 </td><td>-0.45089013 </td><td>-0.5710747  </td><td>-1.07752749 </td><td>-0.45506002 </td><td> 0.182120733</td><td> 0.20554571 </td><td> 0.31435791 </td><td> 0.055587789</td><td>-0.107345021</td></tr>\n",
       "\t<tr><th scope=row>dodge1</th><td>-1.79443541 </td><td> 1.56174540 </td><td>-0.41965194 </td><td>-0.8069510  </td><td> 0.39565481 </td><td> 0.57732864 </td><td>-0.013330514</td><td> 0.15541514 </td><td>-0.21589695 </td><td> 0.004389906</td><td> 0.111504809</td></tr>\n",
       "\t<tr><th scope=row>dodge2</th><td>-2.99103092 </td><td> 0.52765063 </td><td>-0.21655855 </td><td>-0.5379367  </td><td>-0.53818176 </td><td> 0.51778251 </td><td>-0.155733599</td><td> 0.01418668 </td><td> 0.05921258 </td><td>-0.008214821</td><td> 0.148917830</td></tr>\n",
       "\t<tr><th scope=row>honda1</th><td>-2.71189146 </td><td> 1.00124698 </td><td>-1.15818139 </td><td> 0.2931435  </td><td>-0.33989687 </td><td> 0.06038213 </td><td>-0.029617917</td><td> 0.39233471 </td><td>-0.66429529 </td><td>-0.202062669</td><td> 0.056777687</td></tr>\n",
       "\t<tr><th scope=row>honda2</th><td>-0.78371979 </td><td> 0.11500004 </td><td>-1.43828747 </td><td> 0.4059701  </td><td>-0.13035226 </td><td>-0.13832029 </td><td>-0.178072141</td><td>-0.18917144 </td><td> 0.34400439 </td><td>-0.138415374</td><td>-0.097940776</td></tr>\n",
       "\t<tr><th scope=row>isuzu</th><td>-1.07084307 </td><td>-0.29331816 </td><td>-0.16503801 </td><td>-0.9528418  </td><td> 1.67139413 </td><td>-0.28341251 </td><td>-0.689508976</td><td>-0.06112532 </td><td> 0.08172341 </td><td>-0.021473121</td><td> 0.055329565</td></tr>\n",
       "\t<tr><th scope=row>jaguar</th><td> 5.57070034 </td><td> 1.24322693 </td><td> 0.83404656 </td><td>-1.2527319  </td><td>-0.79094311 </td><td> 0.25631974 </td><td>-0.609913200</td><td> 0.20866900 </td><td> 0.22358627 </td><td>-0.067613281</td><td> 0.087719372</td></tr>\n",
       "\t<tr><th scope=row>mazda</th><td>-2.13418884 </td><td>-0.64524455 </td><td> 0.31232372 </td><td> 0.3295499  </td><td> 0.28218846 </td><td>-0.32464697 </td><td> 0.125956556</td><td>-0.35935486 </td><td>-0.01262978 </td><td> 0.114516937</td><td> 0.055663923</td></tr>\n",
       "\t<tr><th scope=row>mercedes</th><td> 5.37399635 </td><td>-1.62274870 </td><td> 0.60560704 </td><td>-0.3533269  </td><td>-1.11093128 </td><td>-0.10126204 </td><td>-0.158462810</td><td>-0.27401246 </td><td>-0.24789476 </td><td> 0.041988997</td><td> 0.120975313</td></tr>\n",
       "\t<tr><th scope=row>mercury</th><td> 2.34420830 </td><td> 1.15511480 </td><td> 0.31919110 </td><td> 0.1427991  </td><td> 0.59572247 </td><td> 0.05779687 </td><td> 1.001373720</td><td> 0.46483333 </td><td>-0.05249948 </td><td> 0.042839983</td><td>-0.044152153</td></tr>\n",
       "\t<tr><th scope=row>mitsubishi</th><td>-3.54033474 </td><td> 0.37038424 </td><td> 0.49674798 </td><td> 0.1902063  </td><td>-1.11482225 </td><td> 0.56279895 </td><td> 0.081940627</td><td> 0.24767802 </td><td> 0.14452060 </td><td>-0.111122474</td><td>-0.265805868</td></tr>\n",
       "\t<tr><th scope=row>nissan1</th><td>-2.04980782 </td><td>-0.37686091 </td><td> 0.06580235 </td><td> 0.2866652  </td><td> 0.12525784 </td><td>-0.13909356 </td><td>-0.215983183</td><td>-0.18732030 </td><td> 0.24548156 </td><td> 0.131145818</td><td>-0.098140707</td></tr>\n",
       "\t<tr><th scope=row>nissan2</th><td>-2.11205574 </td><td>-0.51022180 </td><td>-0.03074808 </td><td> 0.5506946  </td><td> 0.28850702 </td><td>-0.40804926 </td><td>-0.024812978</td><td>-0.05482669 </td><td>-0.11516150 </td><td> 0.152366485</td><td> 0.027920138</td></tr>\n",
       "\t<tr><th scope=row>plymouth</th><td>-2.99103092 </td><td> 0.52765063 </td><td>-0.21655855 </td><td>-0.5379367  </td><td>-0.53818176 </td><td> 0.51778251 </td><td>-0.155733599</td><td> 0.01418668 </td><td> 0.05921258 </td><td>-0.008214821</td><td> 0.148917830</td></tr>\n",
       "\t<tr><th scope=row>peugot</th><td> 3.68702772 </td><td>-2.68836946 </td><td> 0.76713722 </td><td> 0.8200471  </td><td> 0.78259533 </td><td> 0.07497728 </td><td>-0.284080259</td><td> 0.61452204 </td><td>-0.08828263 </td><td>-0.109370527</td><td>-0.130801680</td></tr>\n",
       "\t<tr><th scope=row>porsche</th><td> 1.04667572 </td><td> 5.06688962 </td><td> 0.98885070 </td><td> 0.1356920  </td><td>-0.38497539 </td><td>-1.28573182 </td><td>-0.004865426</td><td>-0.27282676 </td><td>-0.14840910 </td><td> 0.033604247</td><td>-0.116586571</td></tr>\n",
       "\t<tr><th scope=row>saab</th><td> 1.02940169 </td><td> 0.52314754 </td><td> 0.31815461 </td><td> 1.6346821  </td><td> 0.86958508 </td><td> 0.15469153 </td><td>-0.116938270</td><td>-0.15167052 </td><td> 0.23589347 </td><td>-0.146767899</td><td>-0.023262712</td></tr>\n",
       "\t<tr><th scope=row>subaru</th><td>-0.81795664 </td><td>-1.02682163 </td><td> 0.61562804 </td><td>-1.1815126  </td><td> 0.53436081 </td><td> 0.38571625 </td><td> 0.315360921</td><td>-0.43169986 </td><td> 0.01214901 </td><td> 0.277973445</td><td>-0.049601159</td></tr>\n",
       "\t<tr><th scope=row>toyota1</th><td>-2.54714197 </td><td>-1.26880297 </td><td> 0.60469400 </td><td> 0.2268064  </td><td> 0.22738598 </td><td>-0.44680148 </td><td> 0.190227993</td><td> 0.32136336 </td><td>-0.36597103 </td><td> 0.051630607</td><td> 0.038710205</td></tr>\n",
       "\t<tr><th scope=row>toyota2</th><td>-1.72848992 </td><td>-1.57051500 </td><td> 0.62427796 </td><td>-0.9640787  </td><td> 0.10002577 </td><td>-0.10986093 </td><td>-0.079491532</td><td>-0.22976001 </td><td>-0.21332949 </td><td>-0.170414320</td><td>-0.176630969</td></tr>\n",
       "\t<tr><th scope=row>toyota3</th><td>-0.15946879 </td><td> 0.80255090 </td><td> 1.25399621 </td><td>-0.1634653  </td><td> 0.51098967 </td><td> 0.87130970 </td><td> 0.094629885</td><td> 0.09159897 </td><td> 0.36394847 </td><td> 0.045546157</td><td>-0.083126597</td></tr>\n",
       "\t<tr><th scope=row>toyota4</th><td> 0.24037005 </td><td>-2.12157687 </td><td>-0.09033832 </td><td>-0.7433058  </td><td> 0.07677106 </td><td>-0.18232999 </td><td> 0.205131596</td><td>-0.17356661 </td><td>-0.26558953 </td><td> 0.121542663</td><td>-0.001600258</td></tr>\n",
       "\t<tr><th scope=row>volkswagen1</th><td>-2.11222383 </td><td>-1.79278345 </td><td> 1.41154226 </td><td> 1.5656155  </td><td>-0.66139202 </td><td>-0.43812887 </td><td> 0.164163226</td><td>-0.03286959 </td><td> 0.29040914 </td><td>-0.170905633</td><td> 0.307865145</td></tr>\n",
       "\t<tr><th scope=row>volkswagen2</th><td> 1.41726573 </td><td> 0.51730097 </td><td>-1.22942423 </td><td> 0.3257232  </td><td> 0.65967828 </td><td> 0.17900172 </td><td>-0.066351091</td><td>-0.21606547 </td><td>-0.22624273 </td><td>-0.091735599</td><td> 0.011044317</td></tr>\n",
       "\t<tr><th scope=row>volvo1</th><td> 2.11248542 </td><td>-1.05287701 </td><td>-2.03410115 </td><td>-0.2532162  </td><td> 0.09331945 </td><td>-0.54843336 </td><td> 0.107832231</td><td>-0.04403396 </td><td> 0.43969642 </td><td>-0.154112273</td><td>-0.010441821</td></tr>\n",
       "\t<tr><th scope=row>volvo2</th><td> 3.37787703 </td><td> 0.09780928 </td><td>-1.19378868 </td><td>-0.1860834  </td><td>-0.16921425 </td><td>-0.16163840 </td><td> 0.563779674</td><td> 0.37231003 </td><td> 0.27323775 </td><td> 0.301221651</td><td> 0.102186485</td></tr>\n",
       "\t<tr><th scope=row>volvo3</th><td> 2.93522038 </td><td>-1.29937373 </td><td>-0.24261853 </td><td>-0.3991293  </td><td>-0.71597263 </td><td>-0.22889238 </td><td>-0.169176493</td><td>-0.01129260 </td><td>-0.26419068 </td><td>-0.061650570</td><td>-0.142517411</td></tr>\n",
       "</tbody>\n",
       "</table>\n"
      ],
      "text/latex": [
       "\\begin{tabular}{r|lllllllllll}\n",
       "\talfaromeo &  0.78745814  &  1.78615555  &  0.50502381  & -0.8437488   &  0.79253497  & -0.07983305  &  0.412309667 & -0.06592256  &  0.07869358  & -0.305996034 &  0.110415276\\\\\n",
       "\taudi &  2.82757691  &  0.34355529  & -0.55629136  &  1.5348897   & -0.46466494  &  1.02372648  &  0.307824959 & -0.65063030  & -0.22877253  &  0.002346245 & -0.037709834\\\\\n",
       "\tbmw &  0.01069734  &  1.35718895  & -0.28054719  &  1.3048548   &  0.03108488  &  0.09188060  & -0.800579798 &  0.30350563  & -0.05696166  &  0.391368486 &  0.001715645\\\\\n",
       "\tchevrolet & -3.21634127  & -0.72710353  & -0.45089013  & -0.5710747   & -1.07752749  & -0.45506002  &  0.182120733 &  0.20554571  &  0.31435791  &  0.055587789 & -0.107345021\\\\\n",
       "\tdodge1 & -1.79443541  &  1.56174540  & -0.41965194  & -0.8069510   &  0.39565481  &  0.57732864  & -0.013330514 &  0.15541514  & -0.21589695  &  0.004389906 &  0.111504809\\\\\n",
       "\tdodge2 & -2.99103092  &  0.52765063  & -0.21655855  & -0.5379367   & -0.53818176  &  0.51778251  & -0.155733599 &  0.01418668  &  0.05921258  & -0.008214821 &  0.148917830\\\\\n",
       "\thonda1 & -2.71189146  &  1.00124698  & -1.15818139  &  0.2931435   & -0.33989687  &  0.06038213  & -0.029617917 &  0.39233471  & -0.66429529  & -0.202062669 &  0.056777687\\\\\n",
       "\thonda2 & -0.78371979  &  0.11500004  & -1.43828747  &  0.4059701   & -0.13035226  & -0.13832029  & -0.178072141 & -0.18917144  &  0.34400439  & -0.138415374 & -0.097940776\\\\\n",
       "\tisuzu & -1.07084307  & -0.29331816  & -0.16503801  & -0.9528418   &  1.67139413  & -0.28341251  & -0.689508976 & -0.06112532  &  0.08172341  & -0.021473121 &  0.055329565\\\\\n",
       "\tjaguar &  5.57070034  &  1.24322693  &  0.83404656  & -1.2527319   & -0.79094311  &  0.25631974  & -0.609913200 &  0.20866900  &  0.22358627  & -0.067613281 &  0.087719372\\\\\n",
       "\tmazda & -2.13418884  & -0.64524455  &  0.31232372  &  0.3295499   &  0.28218846  & -0.32464697  &  0.125956556 & -0.35935486  & -0.01262978  &  0.114516937 &  0.055663923\\\\\n",
       "\tmercedes &  5.37399635  & -1.62274870  &  0.60560704  & -0.3533269   & -1.11093128  & -0.10126204  & -0.158462810 & -0.27401246  & -0.24789476  &  0.041988997 &  0.120975313\\\\\n",
       "\tmercury &  2.34420830  &  1.15511480  &  0.31919110  &  0.1427991   &  0.59572247  &  0.05779687  &  1.001373720 &  0.46483333  & -0.05249948  &  0.042839983 & -0.044152153\\\\\n",
       "\tmitsubishi & -3.54033474  &  0.37038424  &  0.49674798  &  0.1902063   & -1.11482225  &  0.56279895  &  0.081940627 &  0.24767802  &  0.14452060  & -0.111122474 & -0.265805868\\\\\n",
       "\tnissan1 & -2.04980782  & -0.37686091  &  0.06580235  &  0.2866652   &  0.12525784  & -0.13909356  & -0.215983183 & -0.18732030  &  0.24548156  &  0.131145818 & -0.098140707\\\\\n",
       "\tnissan2 & -2.11205574  & -0.51022180  & -0.03074808  &  0.5506946   &  0.28850702  & -0.40804926  & -0.024812978 & -0.05482669  & -0.11516150  &  0.152366485 &  0.027920138\\\\\n",
       "\tplymouth & -2.99103092  &  0.52765063  & -0.21655855  & -0.5379367   & -0.53818176  &  0.51778251  & -0.155733599 &  0.01418668  &  0.05921258  & -0.008214821 &  0.148917830\\\\\n",
       "\tpeugot &  3.68702772  & -2.68836946  &  0.76713722  &  0.8200471   &  0.78259533  &  0.07497728  & -0.284080259 &  0.61452204  & -0.08828263  & -0.109370527 & -0.130801680\\\\\n",
       "\tporsche &  1.04667572  &  5.06688962  &  0.98885070  &  0.1356920   & -0.38497539  & -1.28573182  & -0.004865426 & -0.27282676  & -0.14840910  &  0.033604247 & -0.116586571\\\\\n",
       "\tsaab &  1.02940169  &  0.52314754  &  0.31815461  &  1.6346821   &  0.86958508  &  0.15469153  & -0.116938270 & -0.15167052  &  0.23589347  & -0.146767899 & -0.023262712\\\\\n",
       "\tsubaru & -0.81795664  & -1.02682163  &  0.61562804  & -1.1815126   &  0.53436081  &  0.38571625  &  0.315360921 & -0.43169986  &  0.01214901  &  0.277973445 & -0.049601159\\\\\n",
       "\ttoyota1 & -2.54714197  & -1.26880297  &  0.60469400  &  0.2268064   &  0.22738598  & -0.44680148  &  0.190227993 &  0.32136336  & -0.36597103  &  0.051630607 &  0.038710205\\\\\n",
       "\ttoyota2 & -1.72848992  & -1.57051500  &  0.62427796  & -0.9640787   &  0.10002577  & -0.10986093  & -0.079491532 & -0.22976001  & -0.21332949  & -0.170414320 & -0.176630969\\\\\n",
       "\ttoyota3 & -0.15946879  &  0.80255090  &  1.25399621  & -0.1634653   &  0.51098967  &  0.87130970  &  0.094629885 &  0.09159897  &  0.36394847  &  0.045546157 & -0.083126597\\\\\n",
       "\ttoyota4 &  0.24037005  & -2.12157687  & -0.09033832  & -0.7433058   &  0.07677106  & -0.18232999  &  0.205131596 & -0.17356661  & -0.26558953  &  0.121542663 & -0.001600258\\\\\n",
       "\tvolkswagen1 & -2.11222383  & -1.79278345  &  1.41154226  &  1.5656155   & -0.66139202  & -0.43812887  &  0.164163226 & -0.03286959  &  0.29040914  & -0.170905633 &  0.307865145\\\\\n",
       "\tvolkswagen2 &  1.41726573  &  0.51730097  & -1.22942423  &  0.3257232   &  0.65967828  &  0.17900172  & -0.066351091 & -0.21606547  & -0.22624273  & -0.091735599 &  0.011044317\\\\\n",
       "\tvolvo1 &  2.11248542  & -1.05287701  & -2.03410115  & -0.2532162   &  0.09331945  & -0.54843336  &  0.107832231 & -0.04403396  &  0.43969642  & -0.154112273 & -0.010441821\\\\\n",
       "\tvolvo2 &  3.37787703  &  0.09780928  & -1.19378868  & -0.1860834   & -0.16921425  & -0.16163840  &  0.563779674 &  0.37231003  &  0.27323775  &  0.301221651 &  0.102186485\\\\\n",
       "\tvolvo3 &  2.93522038  & -1.29937373  & -0.24261853  & -0.3991293   & -0.71597263  & -0.22889238  & -0.169176493 & -0.01129260  & -0.26419068  & -0.061650570 & -0.142517411\\\\\n",
       "\\end{tabular}\n"
      ],
      "text/markdown": [
       "\n",
       "| alfaromeo |  0.78745814  |  1.78615555  |  0.50502381  | -0.8437488   |  0.79253497  | -0.07983305  |  0.412309667 | -0.06592256  |  0.07869358  | -0.305996034 |  0.110415276 |\n",
       "| audi |  2.82757691  |  0.34355529  | -0.55629136  |  1.5348897   | -0.46466494  |  1.02372648  |  0.307824959 | -0.65063030  | -0.22877253  |  0.002346245 | -0.037709834 |\n",
       "| bmw |  0.01069734  |  1.35718895  | -0.28054719  |  1.3048548   |  0.03108488  |  0.09188060  | -0.800579798 |  0.30350563  | -0.05696166  |  0.391368486 |  0.001715645 |\n",
       "| chevrolet | -3.21634127  | -0.72710353  | -0.45089013  | -0.5710747   | -1.07752749  | -0.45506002  |  0.182120733 |  0.20554571  |  0.31435791  |  0.055587789 | -0.107345021 |\n",
       "| dodge1 | -1.79443541  |  1.56174540  | -0.41965194  | -0.8069510   |  0.39565481  |  0.57732864  | -0.013330514 |  0.15541514  | -0.21589695  |  0.004389906 |  0.111504809 |\n",
       "| dodge2 | -2.99103092  |  0.52765063  | -0.21655855  | -0.5379367   | -0.53818176  |  0.51778251  | -0.155733599 |  0.01418668  |  0.05921258  | -0.008214821 |  0.148917830 |\n",
       "| honda1 | -2.71189146  |  1.00124698  | -1.15818139  |  0.2931435   | -0.33989687  |  0.06038213  | -0.029617917 |  0.39233471  | -0.66429529  | -0.202062669 |  0.056777687 |\n",
       "| honda2 | -0.78371979  |  0.11500004  | -1.43828747  |  0.4059701   | -0.13035226  | -0.13832029  | -0.178072141 | -0.18917144  |  0.34400439  | -0.138415374 | -0.097940776 |\n",
       "| isuzu | -1.07084307  | -0.29331816  | -0.16503801  | -0.9528418   |  1.67139413  | -0.28341251  | -0.689508976 | -0.06112532  |  0.08172341  | -0.021473121 |  0.055329565 |\n",
       "| jaguar |  5.57070034  |  1.24322693  |  0.83404656  | -1.2527319   | -0.79094311  |  0.25631974  | -0.609913200 |  0.20866900  |  0.22358627  | -0.067613281 |  0.087719372 |\n",
       "| mazda | -2.13418884  | -0.64524455  |  0.31232372  |  0.3295499   |  0.28218846  | -0.32464697  |  0.125956556 | -0.35935486  | -0.01262978  |  0.114516937 |  0.055663923 |\n",
       "| mercedes |  5.37399635  | -1.62274870  |  0.60560704  | -0.3533269   | -1.11093128  | -0.10126204  | -0.158462810 | -0.27401246  | -0.24789476  |  0.041988997 |  0.120975313 |\n",
       "| mercury |  2.34420830  |  1.15511480  |  0.31919110  |  0.1427991   |  0.59572247  |  0.05779687  |  1.001373720 |  0.46483333  | -0.05249948  |  0.042839983 | -0.044152153 |\n",
       "| mitsubishi | -3.54033474  |  0.37038424  |  0.49674798  |  0.1902063   | -1.11482225  |  0.56279895  |  0.081940627 |  0.24767802  |  0.14452060  | -0.111122474 | -0.265805868 |\n",
       "| nissan1 | -2.04980782  | -0.37686091  |  0.06580235  |  0.2866652   |  0.12525784  | -0.13909356  | -0.215983183 | -0.18732030  |  0.24548156  |  0.131145818 | -0.098140707 |\n",
       "| nissan2 | -2.11205574  | -0.51022180  | -0.03074808  |  0.5506946   |  0.28850702  | -0.40804926  | -0.024812978 | -0.05482669  | -0.11516150  |  0.152366485 |  0.027920138 |\n",
       "| plymouth | -2.99103092  |  0.52765063  | -0.21655855  | -0.5379367   | -0.53818176  |  0.51778251  | -0.155733599 |  0.01418668  |  0.05921258  | -0.008214821 |  0.148917830 |\n",
       "| peugot |  3.68702772  | -2.68836946  |  0.76713722  |  0.8200471   |  0.78259533  |  0.07497728  | -0.284080259 |  0.61452204  | -0.08828263  | -0.109370527 | -0.130801680 |\n",
       "| porsche |  1.04667572  |  5.06688962  |  0.98885070  |  0.1356920   | -0.38497539  | -1.28573182  | -0.004865426 | -0.27282676  | -0.14840910  |  0.033604247 | -0.116586571 |\n",
       "| saab |  1.02940169  |  0.52314754  |  0.31815461  |  1.6346821   |  0.86958508  |  0.15469153  | -0.116938270 | -0.15167052  |  0.23589347  | -0.146767899 | -0.023262712 |\n",
       "| subaru | -0.81795664  | -1.02682163  |  0.61562804  | -1.1815126   |  0.53436081  |  0.38571625  |  0.315360921 | -0.43169986  |  0.01214901  |  0.277973445 | -0.049601159 |\n",
       "| toyota1 | -2.54714197  | -1.26880297  |  0.60469400  |  0.2268064   |  0.22738598  | -0.44680148  |  0.190227993 |  0.32136336  | -0.36597103  |  0.051630607 |  0.038710205 |\n",
       "| toyota2 | -1.72848992  | -1.57051500  |  0.62427796  | -0.9640787   |  0.10002577  | -0.10986093  | -0.079491532 | -0.22976001  | -0.21332949  | -0.170414320 | -0.176630969 |\n",
       "| toyota3 | -0.15946879  |  0.80255090  |  1.25399621  | -0.1634653   |  0.51098967  |  0.87130970  |  0.094629885 |  0.09159897  |  0.36394847  |  0.045546157 | -0.083126597 |\n",
       "| toyota4 |  0.24037005  | -2.12157687  | -0.09033832  | -0.7433058   |  0.07677106  | -0.18232999  |  0.205131596 | -0.17356661  | -0.26558953  |  0.121542663 | -0.001600258 |\n",
       "| volkswagen1 | -2.11222383  | -1.79278345  |  1.41154226  |  1.5656155   | -0.66139202  | -0.43812887  |  0.164163226 | -0.03286959  |  0.29040914  | -0.170905633 |  0.307865145 |\n",
       "| volkswagen2 |  1.41726573  |  0.51730097  | -1.22942423  |  0.3257232   |  0.65967828  |  0.17900172  | -0.066351091 | -0.21606547  | -0.22624273  | -0.091735599 |  0.011044317 |\n",
       "| volvo1 |  2.11248542  | -1.05287701  | -2.03410115  | -0.2532162   |  0.09331945  | -0.54843336  |  0.107832231 | -0.04403396  |  0.43969642  | -0.154112273 | -0.010441821 |\n",
       "| volvo2 |  3.37787703  |  0.09780928  | -1.19378868  | -0.1860834   | -0.16921425  | -0.16163840  |  0.563779674 |  0.37231003  |  0.27323775  |  0.301221651 |  0.102186485 |\n",
       "| volvo3 |  2.93522038  | -1.29937373  | -0.24261853  | -0.3991293   | -0.71597263  | -0.22889238  | -0.169176493 | -0.01129260  | -0.26419068  | -0.061650570 | -0.142517411 |\n",
       "\n"
      ],
      "text/plain": [
       "            [,1]        [,2]        [,3]        [,4]       [,5]       \n",
       "alfaromeo    0.78745814  1.78615555  0.50502381 -0.8437488  0.79253497\n",
       "audi         2.82757691  0.34355529 -0.55629136  1.5348897 -0.46466494\n",
       "bmw          0.01069734  1.35718895 -0.28054719  1.3048548  0.03108488\n",
       "chevrolet   -3.21634127 -0.72710353 -0.45089013 -0.5710747 -1.07752749\n",
       "dodge1      -1.79443541  1.56174540 -0.41965194 -0.8069510  0.39565481\n",
       "dodge2      -2.99103092  0.52765063 -0.21655855 -0.5379367 -0.53818176\n",
       "honda1      -2.71189146  1.00124698 -1.15818139  0.2931435 -0.33989687\n",
       "honda2      -0.78371979  0.11500004 -1.43828747  0.4059701 -0.13035226\n",
       "isuzu       -1.07084307 -0.29331816 -0.16503801 -0.9528418  1.67139413\n",
       "jaguar       5.57070034  1.24322693  0.83404656 -1.2527319 -0.79094311\n",
       "mazda       -2.13418884 -0.64524455  0.31232372  0.3295499  0.28218846\n",
       "mercedes     5.37399635 -1.62274870  0.60560704 -0.3533269 -1.11093128\n",
       "mercury      2.34420830  1.15511480  0.31919110  0.1427991  0.59572247\n",
       "mitsubishi  -3.54033474  0.37038424  0.49674798  0.1902063 -1.11482225\n",
       "nissan1     -2.04980782 -0.37686091  0.06580235  0.2866652  0.12525784\n",
       "nissan2     -2.11205574 -0.51022180 -0.03074808  0.5506946  0.28850702\n",
       "plymouth    -2.99103092  0.52765063 -0.21655855 -0.5379367 -0.53818176\n",
       "peugot       3.68702772 -2.68836946  0.76713722  0.8200471  0.78259533\n",
       "porsche      1.04667572  5.06688962  0.98885070  0.1356920 -0.38497539\n",
       "saab         1.02940169  0.52314754  0.31815461  1.6346821  0.86958508\n",
       "subaru      -0.81795664 -1.02682163  0.61562804 -1.1815126  0.53436081\n",
       "toyota1     -2.54714197 -1.26880297  0.60469400  0.2268064  0.22738598\n",
       "toyota2     -1.72848992 -1.57051500  0.62427796 -0.9640787  0.10002577\n",
       "toyota3     -0.15946879  0.80255090  1.25399621 -0.1634653  0.51098967\n",
       "toyota4      0.24037005 -2.12157687 -0.09033832 -0.7433058  0.07677106\n",
       "volkswagen1 -2.11222383 -1.79278345  1.41154226  1.5656155 -0.66139202\n",
       "volkswagen2  1.41726573  0.51730097 -1.22942423  0.3257232  0.65967828\n",
       "volvo1       2.11248542 -1.05287701 -2.03410115 -0.2532162  0.09331945\n",
       "volvo2       3.37787703  0.09780928 -1.19378868 -0.1860834 -0.16921425\n",
       "volvo3       2.93522038 -1.29937373 -0.24261853 -0.3991293 -0.71597263\n",
       "            [,6]        [,7]         [,8]        [,9]        [,10]       \n",
       "alfaromeo   -0.07983305  0.412309667 -0.06592256  0.07869358 -0.305996034\n",
       "audi         1.02372648  0.307824959 -0.65063030 -0.22877253  0.002346245\n",
       "bmw          0.09188060 -0.800579798  0.30350563 -0.05696166  0.391368486\n",
       "chevrolet   -0.45506002  0.182120733  0.20554571  0.31435791  0.055587789\n",
       "dodge1       0.57732864 -0.013330514  0.15541514 -0.21589695  0.004389906\n",
       "dodge2       0.51778251 -0.155733599  0.01418668  0.05921258 -0.008214821\n",
       "honda1       0.06038213 -0.029617917  0.39233471 -0.66429529 -0.202062669\n",
       "honda2      -0.13832029 -0.178072141 -0.18917144  0.34400439 -0.138415374\n",
       "isuzu       -0.28341251 -0.689508976 -0.06112532  0.08172341 -0.021473121\n",
       "jaguar       0.25631974 -0.609913200  0.20866900  0.22358627 -0.067613281\n",
       "mazda       -0.32464697  0.125956556 -0.35935486 -0.01262978  0.114516937\n",
       "mercedes    -0.10126204 -0.158462810 -0.27401246 -0.24789476  0.041988997\n",
       "mercury      0.05779687  1.001373720  0.46483333 -0.05249948  0.042839983\n",
       "mitsubishi   0.56279895  0.081940627  0.24767802  0.14452060 -0.111122474\n",
       "nissan1     -0.13909356 -0.215983183 -0.18732030  0.24548156  0.131145818\n",
       "nissan2     -0.40804926 -0.024812978 -0.05482669 -0.11516150  0.152366485\n",
       "plymouth     0.51778251 -0.155733599  0.01418668  0.05921258 -0.008214821\n",
       "peugot       0.07497728 -0.284080259  0.61452204 -0.08828263 -0.109370527\n",
       "porsche     -1.28573182 -0.004865426 -0.27282676 -0.14840910  0.033604247\n",
       "saab         0.15469153 -0.116938270 -0.15167052  0.23589347 -0.146767899\n",
       "subaru       0.38571625  0.315360921 -0.43169986  0.01214901  0.277973445\n",
       "toyota1     -0.44680148  0.190227993  0.32136336 -0.36597103  0.051630607\n",
       "toyota2     -0.10986093 -0.079491532 -0.22976001 -0.21332949 -0.170414320\n",
       "toyota3      0.87130970  0.094629885  0.09159897  0.36394847  0.045546157\n",
       "toyota4     -0.18232999  0.205131596 -0.17356661 -0.26558953  0.121542663\n",
       "volkswagen1 -0.43812887  0.164163226 -0.03286959  0.29040914 -0.170905633\n",
       "volkswagen2  0.17900172 -0.066351091 -0.21606547 -0.22624273 -0.091735599\n",
       "volvo1      -0.54843336  0.107832231 -0.04403396  0.43969642 -0.154112273\n",
       "volvo2      -0.16163840  0.563779674  0.37231003  0.27323775  0.301221651\n",
       "volvo3      -0.22889238 -0.169176493 -0.01129260 -0.26419068 -0.061650570\n",
       "            [,11]       \n",
       "alfaromeo    0.110415276\n",
       "audi        -0.037709834\n",
       "bmw          0.001715645\n",
       "chevrolet   -0.107345021\n",
       "dodge1       0.111504809\n",
       "dodge2       0.148917830\n",
       "honda1       0.056777687\n",
       "honda2      -0.097940776\n",
       "isuzu        0.055329565\n",
       "jaguar       0.087719372\n",
       "mazda        0.055663923\n",
       "mercedes     0.120975313\n",
       "mercury     -0.044152153\n",
       "mitsubishi  -0.265805868\n",
       "nissan1     -0.098140707\n",
       "nissan2      0.027920138\n",
       "plymouth     0.148917830\n",
       "peugot      -0.130801680\n",
       "porsche     -0.116586571\n",
       "saab        -0.023262712\n",
       "subaru      -0.049601159\n",
       "toyota1      0.038710205\n",
       "toyota2     -0.176630969\n",
       "toyota3     -0.083126597\n",
       "toyota4     -0.001600258\n",
       "volkswagen1  0.307865145\n",
       "volkswagen2  0.011044317\n",
       "volvo1      -0.010441821\n",
       "volvo2       0.102186485\n",
       "volvo3      -0.142517411"
      ]
     },
     "metadata": {},
     "output_type": "display_data"
    },
    {
     "name": "stdout",
     "output_type": "stream",
     "text": [
      "[1] \"Coordenadas de variables\"\n"
     ]
    },
    {
     "data": {
      "text/html": [
       "<table>\n",
       "<tbody>\n",
       "\t<tr><th scope=row>wheel.base</th><td> 0.8752411   </td><td>-0.381076554 </td><td>-0.02809491  </td><td> 0.03663506  </td><td>-0.16108014  </td><td> 0.141411269 </td><td>-0.06592459  </td><td> 0.17609592  </td><td>-0.012297122 </td><td> 0.0692356226</td><td> 0.018913634 </td></tr>\n",
       "\t<tr><th scope=row>length</th><td> 0.9357018   </td><td>-0.220593236 </td><td> 0.02245291  </td><td> 0.15082610  </td><td> 0.02138814  </td><td> 0.036422140 </td><td>-0.09329765  </td><td>-0.10047489  </td><td> 0.172758564 </td><td> 0.0244470215</td><td>-0.039002737 </td></tr>\n",
       "\t<tr><th scope=row>width</th><td> 0.8939949   </td><td>-0.143785406 </td><td>-0.01370865  </td><td> 0.14629978  </td><td>-0.27011378  </td><td> 0.188681722 </td><td> 0.18959294  </td><td>-0.10018255  </td><td>-0.059066610 </td><td>-0.0216977969</td><td>-0.001857401 </td></tr>\n",
       "\t<tr><th scope=row>height</th><td> 0.5956776   </td><td>-0.538671097 </td><td>-0.10554618  </td><td> 0.49645391  </td><td> 0.20276213  </td><td>-0.226238668 </td><td> 0.04405912  </td><td> 0.02106990  </td><td>-0.051103649 </td><td>-0.0072463150</td><td> 0.007034938 </td></tr>\n",
       "\t<tr><th scope=row>curb.weight</th><td> 0.9721699   </td><td> 0.000330699 </td><td> 0.11848438  </td><td>-0.07884932  </td><td>-0.07575671  </td><td>-0.019354816 </td><td>-0.08143822  </td><td> 0.07214398  </td><td> 0.037242313 </td><td>-0.1218839342</td><td> 0.020892266 </td></tr>\n",
       "\t<tr><th scope=row>horsepower</th><td> 0.7119528   </td><td> 0.630888418 </td><td> 0.06172870  </td><td>-0.10309511  </td><td> 0.03136438  </td><td>-0.136098336 </td><td> 0.20946673  </td><td> 0.09895248  </td><td> 0.082304515 </td><td> 0.0203937500</td><td>-0.017309116 </td></tr>\n",
       "\t<tr><th scope=row>peak.rpm</th><td>-0.3284684   </td><td> 0.665144600 </td><td>-0.55424129  </td><td> 0.29895732  </td><td>-0.21984852  </td><td>-0.001131429 </td><td>-0.05644971  </td><td> 0.02791680  </td><td> 0.024017402 </td><td>-0.0150785058</td><td>-0.005244567 </td></tr>\n",
       "\t<tr><th scope=row>price</th><td> 0.8062323   </td><td> 0.390234056 </td><td> 0.18334890  </td><td>-0.07352957  </td><td>-0.28123214  </td><td>-0.232689739 </td><td>-0.10795017  </td><td>-0.07640697  </td><td>-0.080845478 </td><td> 0.0374598693</td><td> 0.004114916 </td></tr>\n",
       "\t<tr><th scope=row>symbol</th><td>-0.4193961   </td><td> 0.582820322 </td><td> 0.50266814  </td><td> 0.46420558  </td><td> 0.03086390  </td><td> 0.114037888 </td><td>-0.03287166  </td><td> 0.03362433  </td><td>-0.009108190 </td><td>-0.0006032869</td><td>-0.003688855 </td></tr>\n",
       "\t<tr><th scope=row>city.mpg</th><td>-0.7942688   </td><td>-0.503631641 </td><td> 0.11848318  </td><td> 0.01551309  </td><td>-0.28547202  </td><td>-0.089025598 </td><td> 0.01521434  </td><td> 0.06996400  </td><td>-0.007381112 </td><td>-0.0214150767</td><td>-0.078447325 </td></tr>\n",
       "\t<tr><th scope=row>highway.mpg</th><td>-0.8739544   </td><td>-0.329708444 </td><td> 0.12057303  </td><td> 0.09745265  </td><td>-0.26742442  </td><td>-0.101028732 </td><td> 0.06168641  </td><td>-0.01917486  </td><td> 0.113343594 </td><td> 0.0093858474</td><td> 0.068049622 </td></tr>\n",
       "</tbody>\n",
       "</table>\n"
      ],
      "text/latex": [
       "\\begin{tabular}{r|lllllllllll}\n",
       "\twheel.base &  0.8752411    & -0.381076554  & -0.02809491   &  0.03663506   & -0.16108014   &  0.141411269  & -0.06592459   &  0.17609592   & -0.012297122  &  0.0692356226 &  0.018913634 \\\\\n",
       "\tlength &  0.9357018    & -0.220593236  &  0.02245291   &  0.15082610   &  0.02138814   &  0.036422140  & -0.09329765   & -0.10047489   &  0.172758564  &  0.0244470215 & -0.039002737 \\\\\n",
       "\twidth &  0.8939949    & -0.143785406  & -0.01370865   &  0.14629978   & -0.27011378   &  0.188681722  &  0.18959294   & -0.10018255   & -0.059066610  & -0.0216977969 & -0.001857401 \\\\\n",
       "\theight &  0.5956776    & -0.538671097  & -0.10554618   &  0.49645391   &  0.20276213   & -0.226238668  &  0.04405912   &  0.02106990   & -0.051103649  & -0.0072463150 &  0.007034938 \\\\\n",
       "\tcurb.weight &  0.9721699    &  0.000330699  &  0.11848438   & -0.07884932   & -0.07575671   & -0.019354816  & -0.08143822   &  0.07214398   &  0.037242313  & -0.1218839342 &  0.020892266 \\\\\n",
       "\thorsepower &  0.7119528    &  0.630888418  &  0.06172870   & -0.10309511   &  0.03136438   & -0.136098336  &  0.20946673   &  0.09895248   &  0.082304515  &  0.0203937500 & -0.017309116 \\\\\n",
       "\tpeak.rpm & -0.3284684    &  0.665144600  & -0.55424129   &  0.29895732   & -0.21984852   & -0.001131429  & -0.05644971   &  0.02791680   &  0.024017402  & -0.0150785058 & -0.005244567 \\\\\n",
       "\tprice &  0.8062323    &  0.390234056  &  0.18334890   & -0.07352957   & -0.28123214   & -0.232689739  & -0.10795017   & -0.07640697   & -0.080845478  &  0.0374598693 &  0.004114916 \\\\\n",
       "\tsymbol & -0.4193961    &  0.582820322  &  0.50266814   &  0.46420558   &  0.03086390   &  0.114037888  & -0.03287166   &  0.03362433   & -0.009108190  & -0.0006032869 & -0.003688855 \\\\\n",
       "\tcity.mpg & -0.7942688    & -0.503631641  &  0.11848318   &  0.01551309   & -0.28547202   & -0.089025598  &  0.01521434   &  0.06996400   & -0.007381112  & -0.0214150767 & -0.078447325 \\\\\n",
       "\thighway.mpg & -0.8739544    & -0.329708444  &  0.12057303   &  0.09745265   & -0.26742442   & -0.101028732  &  0.06168641   & -0.01917486   &  0.113343594  &  0.0093858474 &  0.068049622 \\\\\n",
       "\\end{tabular}\n"
      ],
      "text/markdown": [
       "\n",
       "| wheel.base |  0.8752411    | -0.381076554  | -0.02809491   |  0.03663506   | -0.16108014   |  0.141411269  | -0.06592459   |  0.17609592   | -0.012297122  |  0.0692356226 |  0.018913634  |\n",
       "| length |  0.9357018    | -0.220593236  |  0.02245291   |  0.15082610   |  0.02138814   |  0.036422140  | -0.09329765   | -0.10047489   |  0.172758564  |  0.0244470215 | -0.039002737  |\n",
       "| width |  0.8939949    | -0.143785406  | -0.01370865   |  0.14629978   | -0.27011378   |  0.188681722  |  0.18959294   | -0.10018255   | -0.059066610  | -0.0216977969 | -0.001857401  |\n",
       "| height |  0.5956776    | -0.538671097  | -0.10554618   |  0.49645391   |  0.20276213   | -0.226238668  |  0.04405912   |  0.02106990   | -0.051103649  | -0.0072463150 |  0.007034938  |\n",
       "| curb.weight |  0.9721699    |  0.000330699  |  0.11848438   | -0.07884932   | -0.07575671   | -0.019354816  | -0.08143822   |  0.07214398   |  0.037242313  | -0.1218839342 |  0.020892266  |\n",
       "| horsepower |  0.7119528    |  0.630888418  |  0.06172870   | -0.10309511   |  0.03136438   | -0.136098336  |  0.20946673   |  0.09895248   |  0.082304515  |  0.0203937500 | -0.017309116  |\n",
       "| peak.rpm | -0.3284684    |  0.665144600  | -0.55424129   |  0.29895732   | -0.21984852   | -0.001131429  | -0.05644971   |  0.02791680   |  0.024017402  | -0.0150785058 | -0.005244567  |\n",
       "| price |  0.8062323    |  0.390234056  |  0.18334890   | -0.07352957   | -0.28123214   | -0.232689739  | -0.10795017   | -0.07640697   | -0.080845478  |  0.0374598693 |  0.004114916  |\n",
       "| symbol | -0.4193961    |  0.582820322  |  0.50266814   |  0.46420558   |  0.03086390   |  0.114037888  | -0.03287166   |  0.03362433   | -0.009108190  | -0.0006032869 | -0.003688855  |\n",
       "| city.mpg | -0.7942688    | -0.503631641  |  0.11848318   |  0.01551309   | -0.28547202   | -0.089025598  |  0.01521434   |  0.06996400   | -0.007381112  | -0.0214150767 | -0.078447325  |\n",
       "| highway.mpg | -0.8739544    | -0.329708444  |  0.12057303   |  0.09745265   | -0.26742442   | -0.101028732  |  0.06168641   | -0.01917486   |  0.113343594  |  0.0093858474 |  0.068049622  |\n",
       "\n"
      ],
      "text/plain": [
       "            [,1]       [,2]         [,3]        [,4]        [,5]       \n",
       "wheel.base   0.8752411 -0.381076554 -0.02809491  0.03663506 -0.16108014\n",
       "length       0.9357018 -0.220593236  0.02245291  0.15082610  0.02138814\n",
       "width        0.8939949 -0.143785406 -0.01370865  0.14629978 -0.27011378\n",
       "height       0.5956776 -0.538671097 -0.10554618  0.49645391  0.20276213\n",
       "curb.weight  0.9721699  0.000330699  0.11848438 -0.07884932 -0.07575671\n",
       "horsepower   0.7119528  0.630888418  0.06172870 -0.10309511  0.03136438\n",
       "peak.rpm    -0.3284684  0.665144600 -0.55424129  0.29895732 -0.21984852\n",
       "price        0.8062323  0.390234056  0.18334890 -0.07352957 -0.28123214\n",
       "symbol      -0.4193961  0.582820322  0.50266814  0.46420558  0.03086390\n",
       "city.mpg    -0.7942688 -0.503631641  0.11848318  0.01551309 -0.28547202\n",
       "highway.mpg -0.8739544 -0.329708444  0.12057303  0.09745265 -0.26742442\n",
       "            [,6]         [,7]        [,8]        [,9]         [,10]        \n",
       "wheel.base   0.141411269 -0.06592459  0.17609592 -0.012297122  0.0692356226\n",
       "length       0.036422140 -0.09329765 -0.10047489  0.172758564  0.0244470215\n",
       "width        0.188681722  0.18959294 -0.10018255 -0.059066610 -0.0216977969\n",
       "height      -0.226238668  0.04405912  0.02106990 -0.051103649 -0.0072463150\n",
       "curb.weight -0.019354816 -0.08143822  0.07214398  0.037242313 -0.1218839342\n",
       "horsepower  -0.136098336  0.20946673  0.09895248  0.082304515  0.0203937500\n",
       "peak.rpm    -0.001131429 -0.05644971  0.02791680  0.024017402 -0.0150785058\n",
       "price       -0.232689739 -0.10795017 -0.07640697 -0.080845478  0.0374598693\n",
       "symbol       0.114037888 -0.03287166  0.03362433 -0.009108190 -0.0006032869\n",
       "city.mpg    -0.089025598  0.01521434  0.06996400 -0.007381112 -0.0214150767\n",
       "highway.mpg -0.101028732  0.06168641 -0.01917486  0.113343594  0.0093858474\n",
       "            [,11]       \n",
       "wheel.base   0.018913634\n",
       "length      -0.039002737\n",
       "width       -0.001857401\n",
       "height       0.007034938\n",
       "curb.weight  0.020892266\n",
       "horsepower  -0.017309116\n",
       "peak.rpm    -0.005244567\n",
       "price        0.004114916\n",
       "symbol      -0.003688855\n",
       "city.mpg    -0.078447325\n",
       "highway.mpg  0.068049622"
      ]
     },
     "metadata": {},
     "output_type": "display_data"
    }
   ],
   "source": [
    "psi=Z%*%U\n",
    "fi=t(Z)%*%sqrt(N)%*%V\n",
    "print(\"Tabla 4: Coordenadas de individuos y variables\")\n",
    "print(\"Coordenadas de individuos\")\n",
    "(psi); \n",
    "print(\"Coordenadas de variables\")\n",
    "(fi) # Componentes principales por descomsición singular"
   ]
  },
  {
   "cell_type": "markdown",
   "metadata": {
    "id": "5qIdceRX6Vfe"
   },
   "source": [
    "Estos resultados son análogos a diagonalizar la matriz $Z'NZ$ (matriz de correlaciones), por lo cual, para los siguientes análisis se utiliza las herramientas proporcionadas por R como Fatominer, factoextra y ggplot."
   ]
  },
  {
   "cell_type": "code",
   "execution_count": 34,
   "metadata": {
    "colab": {
     "base_uri": "https://localhost:8080/"
    },
    "id": "AScKICi29JvR",
    "outputId": "5c0f6ef7-89e6-4258-837c-51570cf2ed61"
   },
   "outputs": [],
   "source": [
    "#install.packages(\"factoextra\")\n",
    "#install.packages(\"FactoMineR\")\n",
    "#install.packages(\"ggpubr\")\n",
    "library(factoextra)\n",
    "library(FactoMineR)\n",
    "library(ggpubr)"
   ]
  },
  {
   "cell_type": "markdown",
   "metadata": {
    "id": "aLONQrUKtKLY"
   },
   "source": [
    "## Interpretación de las inercias y las contribuciones"
   ]
  },
  {
   "cell_type": "code",
   "execution_count": 35,
   "metadata": {
    "colab": {
     "base_uri": "https://localhost:8080/",
     "height": 407
    },
    "id": "HJaYdTrZ6t6T",
    "outputId": "1c7a69c5-94b7-439e-fc9c-a1a8cc39775e"
   },
   "outputs": [
    {
     "name": "stdout",
     "output_type": "stream",
     "text": [
      "[1] \"Tabla 5: Valores propios y % de inercia explicado\"\n"
     ]
    },
    {
     "data": {
      "text/html": [
       "<table>\n",
       "<thead><tr><th></th><th scope=col>eigenvalue</th><th scope=col>percentage of variance</th><th scope=col>cumulative percentage of variance</th></tr></thead>\n",
       "<tbody>\n",
       "\t<tr><th scope=row>comp 1</th><td>6.57608900</td><td>59.7826273</td><td> 59.78263 </td></tr>\n",
       "\t<tr><th scope=row>comp 2</th><td>2.19947379</td><td>19.9952162</td><td> 79.77784 </td></tr>\n",
       "\t<tr><th scope=row>comp 3</th><td>0.65252196</td><td> 5.9320178</td><td> 85.70986 </td></tr>\n",
       "\t<tr><th scope=row>comp 4</th><td>0.62881315</td><td> 5.7164831</td><td> 91.42634 </td></tr>\n",
       "\t<tr><th scope=row>comp 5</th><td>0.42858856</td><td> 3.8962596</td><td> 95.32260 </td></tr>\n",
       "\t<tr><th scope=row>comp 6</th><td>0.21228861</td><td> 1.9298964</td><td> 97.25250 </td></tr>\n",
       "\t<tr><th scope=row>comp 7</th><td>0.12140273</td><td> 1.1036612</td><td> 98.35616 </td></tr>\n",
       "\t<tr><th scope=row>comp 8</th><td>0.07959241</td><td> 0.7235674</td><td> 99.07973 </td></tr>\n",
       "\t<tr><th scope=row>comp 9</th><td>0.06435525</td><td> 0.5850477</td><td> 99.66478 </td></tr>\n",
       "\t<tr><th scope=row>comp 10</th><td>0.02336380</td><td> 0.2123982</td><td> 99.87717 </td></tr>\n",
       "\t<tr><th scope=row>comp 11</th><td>0.01351075</td><td> 0.1228250</td><td>100.00000 </td></tr>\n",
       "</tbody>\n",
       "</table>\n"
      ],
      "text/latex": [
       "\\begin{tabular}{r|lll}\n",
       "  & eigenvalue & percentage of variance & cumulative percentage of variance\\\\\n",
       "\\hline\n",
       "\tcomp 1 & 6.57608900 & 59.7826273 &  59.78263 \\\\\n",
       "\tcomp 2 & 2.19947379 & 19.9952162 &  79.77784 \\\\\n",
       "\tcomp 3 & 0.65252196 &  5.9320178 &  85.70986 \\\\\n",
       "\tcomp 4 & 0.62881315 &  5.7164831 &  91.42634 \\\\\n",
       "\tcomp 5 & 0.42858856 &  3.8962596 &  95.32260 \\\\\n",
       "\tcomp 6 & 0.21228861 &  1.9298964 &  97.25250 \\\\\n",
       "\tcomp 7 & 0.12140273 &  1.1036612 &  98.35616 \\\\\n",
       "\tcomp 8 & 0.07959241 &  0.7235674 &  99.07973 \\\\\n",
       "\tcomp 9 & 0.06435525 &  0.5850477 &  99.66478 \\\\\n",
       "\tcomp 10 & 0.02336380 &  0.2123982 &  99.87717 \\\\\n",
       "\tcomp 11 & 0.01351075 &  0.1228250 & 100.00000 \\\\\n",
       "\\end{tabular}\n"
      ],
      "text/markdown": [
       "\n",
       "| <!--/--> | eigenvalue | percentage of variance | cumulative percentage of variance |\n",
       "|---|---|---|---|\n",
       "| comp 1 | 6.57608900 | 59.7826273 |  59.78263  |\n",
       "| comp 2 | 2.19947379 | 19.9952162 |  79.77784  |\n",
       "| comp 3 | 0.65252196 |  5.9320178 |  85.70986  |\n",
       "| comp 4 | 0.62881315 |  5.7164831 |  91.42634  |\n",
       "| comp 5 | 0.42858856 |  3.8962596 |  95.32260  |\n",
       "| comp 6 | 0.21228861 |  1.9298964 |  97.25250  |\n",
       "| comp 7 | 0.12140273 |  1.1036612 |  98.35616  |\n",
       "| comp 8 | 0.07959241 |  0.7235674 |  99.07973  |\n",
       "| comp 9 | 0.06435525 |  0.5850477 |  99.66478  |\n",
       "| comp 10 | 0.02336380 |  0.2123982 |  99.87717  |\n",
       "| comp 11 | 0.01351075 |  0.1228250 | 100.00000  |\n",
       "\n"
      ],
      "text/plain": [
       "        eigenvalue percentage of variance cumulative percentage of variance\n",
       "comp 1  6.57608900 59.7826273              59.78263                        \n",
       "comp 2  2.19947379 19.9952162              79.77784                        \n",
       "comp 3  0.65252196  5.9320178              85.70986                        \n",
       "comp 4  0.62881315  5.7164831              91.42634                        \n",
       "comp 5  0.42858856  3.8962596              95.32260                        \n",
       "comp 6  0.21228861  1.9298964              97.25250                        \n",
       "comp 7  0.12140273  1.1036612              98.35616                        \n",
       "comp 8  0.07959241  0.7235674              99.07973                        \n",
       "comp 9  0.06435525  0.5850477              99.66478                        \n",
       "comp 10 0.02336380  0.2123982              99.87717                        \n",
       "comp 11 0.01351075  0.1228250             100.00000                        "
      ]
     },
     "metadata": {},
     "output_type": "display_data"
    }
   ],
   "source": [
    "res_pca<- PCA(vehicles,quanti.sup=10,quali.sup=c(1:4),scale.unit=T) ## función de FactoMineR    \n",
    "print(\"Tabla 5: Valores propios y % de inercia explicado\")\n",
    "res_pca$eig"
   ]
  },
  {
   "cell_type": "markdown",
   "metadata": {
    "id": "HQKYXlaCAFq0"
   },
   "source": [
    "La primera fila de la tabla 4 corresponde a la varianza de la proyección de los $n$ individuos sobre el primer eje factorial. El primer eje acumula la mayor parte de la inercia de la nube original de variables (Ver figura 4). Note que hasta el segundo eje se acumula un $79.78\\%$ de inercia por lo cual es posible que se pueda realizar un buen análisis partiendo de los dos primeros ejes."
   ]
  },
  {
   "cell_type": "code",
   "execution_count": 36,
   "metadata": {
    "colab": {
     "base_uri": "https://localhost:8080/",
     "height": 437
    },
    "id": "8P6o3yda8v4Y",
    "outputId": "9f755d49-d3c3-480d-9388-63867ed9c78a"
   },
   "outputs": [
    {
     "data": {
      "image/png": "[encoded data removed]",
      "text/plain": [
       "plot without title"
      ]
     },
     "metadata": {},
     "output_type": "display_data"
    }
   ],
   "source": [
    "\n",
    "fviz_eig(res_pca,addlabels = T,title=\"Figura 4: Inercias proyectadas por eje\")"
   ]
  },
  {
   "cell_type": "code",
   "execution_count": 37,
   "metadata": {
    "colab": {
     "base_uri": "https://localhost:8080/",
     "height": 437
    },
    "id": "HyVx4SXX9o7a",
    "outputId": "75a4b177-071e-461a-fb98-78e149195b22"
   },
   "outputs": [
    {
     "name": "stdout",
     "output_type": "stream",
     "text": [
      "[1] \"figura 5: Contribuciones de individuos y variables al eje 1\"\n"
     ]
    },
    {
     "data": {
      "image/png": "[encoded data removed]",
      "text/plain": [
       "plot without title"
      ]
     },
     "metadata": {},
     "output_type": "display_data"
    }
   ],
   "source": [
    "a=fviz_contrib(res_pca, choice = \"var\", axes = 1, top = 10,\n",
    "                   title='Contribuciones de las variables al eje 1')\n",
    "# Contributions of variables to PC2\n",
    "b=fviz_contrib(res_pca, choice = \"ind\", axes = 1, top = 10,\n",
    "               title='Contribuciones de individuos al eje 1')\n",
    "print(\"figura 5: Contribuciones de individuos y variables al eje 1\")\n",
    "ggarrange(a,b)"
   ]
  },
  {
   "cell_type": "markdown",
   "metadata": {
    "id": "AWdBcjSmvIuJ"
   },
   "source": [
    "Ahora interesa conocer cuales vehiculos participaron en la formación del primer eje, es decir, los vehículos que más contribución dieron para la determinación del eje, la figura 5 nos muestra las contribuciones de individuos y variables en la construccion de sus primeros ejes respectivos. En los primero lugares están *Jaguar* y *Mercedes*. Por otro lado, las variables que más contribuyeron a la formación del eje fueron *curb.wei* y *length* que son peso en vacío del vehículo y longitud del vehículo, respectivamente."
   ]
  },
  {
   "cell_type": "code",
   "execution_count": 38,
   "metadata": {
    "colab": {
     "base_uri": "https://localhost:8080/",
     "height": 437
    },
    "id": "zrHZ_l6L9sYC",
    "outputId": "c6382125-f912-4c6f-dbb6-8c6afa082173"
   },
   "outputs": [
    {
     "name": "stdout",
     "output_type": "stream",
     "text": [
      "[1] \"figura 6: Contribuciones de individuos y variables al eje 2\"\n"
     ]
    },
    {
     "data": {
      "image/png": "[encoded data removed]",
      "text/plain": [
       "plot without title"
      ]
     },
     "metadata": {},
     "output_type": "display_data"
    }
   ],
   "source": [
    "print(\"figura 6: Contribuciones de individuos y variables al eje 2\")\n",
    "a=fviz_contrib(res_pca, choice = \"var\", axes = 2, top = 10,\n",
    "                   title='Contribuciones de las variables al eje 2')\n",
    "    # Contributions of variables to PC2\n",
    "b=fviz_contrib(res_pca, choice = \"ind\", axes = 2, top = 10,\n",
    "                   title='Contribuciones de  individuos al eje 2')\n",
    "    ggarrange(a,b)"
   ]
  },
  {
   "cell_type": "markdown",
   "metadata": {
    "id": "FzDZCYXqy081"
   },
   "source": [
    "En cuanto al segundo eje (Figura 6), el cual explica el 20% de la inercia, en los primeros lugares están *Porche* y *Peugot* por el lado de los individuos y *peak.rpm* y *horsepower* por el lado de las variables. Estos son los que mas contribuyen en la construcción del eje 2. "
   ]
  },
  {
   "cell_type": "markdown",
   "metadata": {
    "id": "GMrzRQyC3GRy"
   },
   "source": [
    "## Nube de individuos"
   ]
  },
  {
   "cell_type": "code",
   "execution_count": 39,
   "metadata": {
    "colab": {
     "base_uri": "https://localhost:8080/"
    },
    "id": "Enc9duYm-oE7",
    "outputId": "ef8fb2e6-747d-457f-a75d-665dfb6b6286"
   },
   "outputs": [
    {
     "name": "stdout",
     "output_type": "stream",
     "text": [
      "[1] \"Figura 7: Nube de individuos\"\n"
     ]
    },
    {
     "data": {
      "image/png": "[encoded data removed]",
      "text/plain": [
       "plot without title"
      ]
     },
     "metadata": {},
     "output_type": "display_data"
    }
   ],
   "source": [
    "print(\"Figura 7: Nube de individuos\")\n",
    "fviz(res_pca,'ind') "
   ]
  },
  {
   "cell_type": "markdown",
   "metadata": {
    "id": "N410W8Ve1tna"
   },
   "source": [
    "De la figura 7, aparte de el análisis anterior, logramos ciertas apreciaciones como que, la mayoría de carros que hace parte digamos a las marcas más populares se situan hacia un mismo lado(mazda,nissan,chevrolet, toyota), dejando de lado contrario los vehículos que pertenecen a marcas que en el mercado se consideran de gama alta (Volvo, Mercedes, Jaguar y audi).\n",
    "\n",
    "Por otra parte, es común y razonable que en la industria automotriz, las diferentes marcas de vehículos quiera economizar en sus diseños usando las misma líneas para múltiples segmentos o plataformas, lo que hace que en el mercado se vean los mismos rasgos estéticos en autos de diferentes marcas. Por ejemplo a una marca se le conoce como 'ingeniería insignia' cuando crean la ilusión de lanzar un modelo totalmente nuevo, aunque solo cambien las insignias. Gracias a esta táctica, los fabricantes a menudo matan dos pájaros de un tiro, pues amplían su alcance en el mercado y de paso, evitan costes de ingeniería en el diseño de un nuevo modelo. Es por esta razón que en la nube de individuos se ven ciertas partes donde se acumulan diferentes marcas como por ejemplo en la zona izquierda, se encuentran chevrolet, mitsubishi, plymouth, dodge2, honda1, que son vehículos de marcas diferentes pero que probablemente presentan características muy similares."
   ]
  },
  {
   "cell_type": "markdown",
   "metadata": {
    "id": "M8_SETLe3mew"
   },
   "source": [
    "## Nube de variables"
   ]
  },
  {
   "cell_type": "code",
   "execution_count": 40,
   "metadata": {
    "colab": {
     "base_uri": "https://localhost:8080/",
     "height": 437
    },
    "id": "uufkKwAg3inj",
    "outputId": "0e04c422-0831-4d4e-f240-0d163f0f5045"
   },
   "outputs": [
    {
     "name": "stdout",
     "output_type": "stream",
     "text": [
      "[1] \"Figura 8: Circulo de correlaciones\"\n"
     ]
    },
    {
     "data": {
      "image/png": "[encoded data removed]",
      "text/plain": [
       "plot without title"
      ]
     },
     "metadata": {},
     "output_type": "display_data"
    }
   ],
   "source": [
    "print(\"Figura 8: Circulo de correlaciones\")\n",
    "fviz(res_pca,'var')"
   ]
  },
  {
   "cell_type": "markdown",
   "metadata": {
    "id": "TgBc78ae8Hxe"
   },
   "source": [
    "De la figura 8  podemos observar que 8 de las 12 direcciones de la variables(incluyendo la variable suplementaria) señalan al lado derecho de la gráfica, las otras 4 al lado izquierdo, algunos aspecto que podemos resaltar son los siguientes:\n",
    "\n",
    "- Las variables que representan la distancia en millas por galón  en carretera y ciudad , están relacionadas negativamente con el precio en dólares, los caballos de fuerza y el tamaño del motor(variable suplementaria), ya que entre mas grande el motor y más caballos de fuerza tenga, va a recorrer una menor distancia por galón de combustible, es decir, van a consumir más combustible por distancia recorrida.\n",
    "- Podemos notar que la variable *Symbol* está correlaciona negativamente con la variable *heigh* (altura). Lo anterior se debe gracias a que un carro alto es más seguro que uno pequeño por su estructura confortable.\n",
    "\n",
    "- La variable suplementaria eng.size, se puede visualizar correctamente en el circulo de correlaciones, sin embargo, si se quiere hacer una representación simultanea, no debe ser tenida en cuenta."
   ]
  },
  {
   "cell_type": "code",
   "execution_count": 41,
   "metadata": {
    "colab": {
     "base_uri": "https://localhost:8080/",
     "height": 407
    },
    "id": "oajono6N_Qif",
    "outputId": "64840da6-2a97-4b13-922f-da9403760a84"
   },
   "outputs": [
    {
     "name": "stdout",
     "output_type": "stream",
     "text": [
      "[1] \"Tabla 6: Cosenos cuadrados\"\n"
     ]
    },
    {
     "data": {
      "text/html": [
       "<table>\n",
       "<thead><tr><th></th><th scope=col>Dim.1</th><th scope=col>Dim.2</th><th scope=col>Dim.3</th><th scope=col>Dim.4</th><th scope=col>Dim.5</th></tr></thead>\n",
       "<tbody>\n",
       "\t<tr><th scope=row>wheel.base</th><td>0.7660469   </td><td>1.452193e-01</td><td>0.0007893239</td><td>0.0013421277</td><td>0.0259468128</td></tr>\n",
       "\t<tr><th scope=row>length</th><td>0.8755379   </td><td>4.866138e-02</td><td>0.0005041329</td><td>0.0227485110</td><td>0.0004574524</td></tr>\n",
       "\t<tr><th scope=row>width</th><td>0.7992268   </td><td>2.067424e-02</td><td>0.0001879270</td><td>0.0214036247</td><td>0.0729614522</td></tr>\n",
       "\t<tr><th scope=row>height</th><td>0.3548318   </td><td>2.901666e-01</td><td>0.0111399961</td><td>0.2464664885</td><td>0.0411124809</td></tr>\n",
       "\t<tr><th scope=row>curb.weight</th><td>0.9451143   </td><td>1.093619e-07</td><td>0.0140385493</td><td>0.0062172150</td><td>0.0057390793</td></tr>\n",
       "\t<tr><th scope=row>horsepower</th><td>0.5068768   </td><td>3.980202e-01</td><td>0.0038104321</td><td>0.0106286011</td><td>0.0009837245</td></tr>\n",
       "\t<tr><th scope=row>peak.rpm</th><td>0.1078915   </td><td>4.424173e-01</td><td>0.3071834059</td><td>0.0893754801</td><td>0.0483333736</td></tr>\n",
       "\t<tr><th scope=row>price</th><td>0.6500105   </td><td>1.522826e-01</td><td>0.0336168178</td><td>0.0054065975</td><td>0.0790915143</td></tr>\n",
       "\t<tr><th scope=row>symbol</th><td>0.1758931   </td><td>3.396795e-01</td><td>0.2526752542</td><td>0.2154868250</td><td>0.0009525800</td></tr>\n",
       "\t<tr><th scope=row>city.mpg</th><td>0.6308629   </td><td>2.536448e-01</td><td>0.0140382634</td><td>0.0002406559</td><td>0.0814942730</td></tr>\n",
       "\t<tr><th scope=row>highway.mpg</th><td>0.7637963   </td><td>1.087077e-01</td><td>0.0145378551</td><td>0.0094970192</td><td>0.0715158183</td></tr>\n",
       "</tbody>\n",
       "</table>\n"
      ],
      "text/latex": [
       "\\begin{tabular}{r|lllll}\n",
       "  & Dim.1 & Dim.2 & Dim.3 & Dim.4 & Dim.5\\\\\n",
       "\\hline\n",
       "\twheel.base & 0.7660469    & 1.452193e-01 & 0.0007893239 & 0.0013421277 & 0.0259468128\\\\\n",
       "\tlength & 0.8755379    & 4.866138e-02 & 0.0005041329 & 0.0227485110 & 0.0004574524\\\\\n",
       "\twidth & 0.7992268    & 2.067424e-02 & 0.0001879270 & 0.0214036247 & 0.0729614522\\\\\n",
       "\theight & 0.3548318    & 2.901666e-01 & 0.0111399961 & 0.2464664885 & 0.0411124809\\\\\n",
       "\tcurb.weight & 0.9451143    & 1.093619e-07 & 0.0140385493 & 0.0062172150 & 0.0057390793\\\\\n",
       "\thorsepower & 0.5068768    & 3.980202e-01 & 0.0038104321 & 0.0106286011 & 0.0009837245\\\\\n",
       "\tpeak.rpm & 0.1078915    & 4.424173e-01 & 0.3071834059 & 0.0893754801 & 0.0483333736\\\\\n",
       "\tprice & 0.6500105    & 1.522826e-01 & 0.0336168178 & 0.0054065975 & 0.0790915143\\\\\n",
       "\tsymbol & 0.1758931    & 3.396795e-01 & 0.2526752542 & 0.2154868250 & 0.0009525800\\\\\n",
       "\tcity.mpg & 0.6308629    & 2.536448e-01 & 0.0140382634 & 0.0002406559 & 0.0814942730\\\\\n",
       "\thighway.mpg & 0.7637963    & 1.087077e-01 & 0.0145378551 & 0.0094970192 & 0.0715158183\\\\\n",
       "\\end{tabular}\n"
      ],
      "text/markdown": [
       "\n",
       "| <!--/--> | Dim.1 | Dim.2 | Dim.3 | Dim.4 | Dim.5 |\n",
       "|---|---|---|---|---|---|\n",
       "| wheel.base | 0.7660469    | 1.452193e-01 | 0.0007893239 | 0.0013421277 | 0.0259468128 |\n",
       "| length | 0.8755379    | 4.866138e-02 | 0.0005041329 | 0.0227485110 | 0.0004574524 |\n",
       "| width | 0.7992268    | 2.067424e-02 | 0.0001879270 | 0.0214036247 | 0.0729614522 |\n",
       "| height | 0.3548318    | 2.901666e-01 | 0.0111399961 | 0.2464664885 | 0.0411124809 |\n",
       "| curb.weight | 0.9451143    | 1.093619e-07 | 0.0140385493 | 0.0062172150 | 0.0057390793 |\n",
       "| horsepower | 0.5068768    | 3.980202e-01 | 0.0038104321 | 0.0106286011 | 0.0009837245 |\n",
       "| peak.rpm | 0.1078915    | 4.424173e-01 | 0.3071834059 | 0.0893754801 | 0.0483333736 |\n",
       "| price | 0.6500105    | 1.522826e-01 | 0.0336168178 | 0.0054065975 | 0.0790915143 |\n",
       "| symbol | 0.1758931    | 3.396795e-01 | 0.2526752542 | 0.2154868250 | 0.0009525800 |\n",
       "| city.mpg | 0.6308629    | 2.536448e-01 | 0.0140382634 | 0.0002406559 | 0.0814942730 |\n",
       "| highway.mpg | 0.7637963    | 1.087077e-01 | 0.0145378551 | 0.0094970192 | 0.0715158183 |\n",
       "\n"
      ],
      "text/plain": [
       "            Dim.1     Dim.2        Dim.3        Dim.4        Dim.5       \n",
       "wheel.base  0.7660469 1.452193e-01 0.0007893239 0.0013421277 0.0259468128\n",
       "length      0.8755379 4.866138e-02 0.0005041329 0.0227485110 0.0004574524\n",
       "width       0.7992268 2.067424e-02 0.0001879270 0.0214036247 0.0729614522\n",
       "height      0.3548318 2.901666e-01 0.0111399961 0.2464664885 0.0411124809\n",
       "curb.weight 0.9451143 1.093619e-07 0.0140385493 0.0062172150 0.0057390793\n",
       "horsepower  0.5068768 3.980202e-01 0.0038104321 0.0106286011 0.0009837245\n",
       "peak.rpm    0.1078915 4.424173e-01 0.3071834059 0.0893754801 0.0483333736\n",
       "price       0.6500105 1.522826e-01 0.0336168178 0.0054065975 0.0790915143\n",
       "symbol      0.1758931 3.396795e-01 0.2526752542 0.2154868250 0.0009525800\n",
       "city.mpg    0.6308629 2.536448e-01 0.0140382634 0.0002406559 0.0814942730\n",
       "highway.mpg 0.7637963 1.087077e-01 0.0145378551 0.0094970192 0.0715158183"
      ]
     },
     "metadata": {},
     "output_type": "display_data"
    }
   ],
   "source": [
    "print(\"Tabla 6: Cosenos cuadrados\")\n",
    "res_pca$var$cos2"
   ]
  },
  {
   "cell_type": "markdown",
   "metadata": {
    "id": "mHQu7vrPANtk"
   },
   "source": [
    "La variable *curb.weight* (peso en vacío), está más correlacionada positivamente con el eje 1; lo que indica que el ángulo que forma el vector de coordenadas asociado a esta variable con el eje 1 es muy pequeño, de hecho, el coseno cuadrado de tal ángulo es de 0.9451, la variable *peak.rpm*, está más correlacionada positivamente con el eje 2, y su coseno cuadrado es de 0.4424.\n",
    "\n",
    "*¿Es posible la inclusión de variables suplementarias?* En la práctica suele ocurrir que una vez realizado un ACP con una matriz de datos iniciales, se conozcan posteriormente los datos de las p-variables que corresponden a un nuevo individuo (Nuevo individuos que se va a incluir en el estudio).  Incluso en ocasiones interesa más las características del individuo que él mismo. Para este caso se consideran los individuos suplementarios (nuevos) y se incluyen y se presentan gráficamente como un individuo más. Por otro lado, esto puede ocurrir también para el caso de incluir nuevas variables en las que sus valores son conocidos para los individuos que se analizan, pero que en una primera instancia no se tuvieron en cuenta.  Algo posible, es que en muchos casos sea así, porque no constituyen un conjunto homogéneo de características junto a las características que se seleccionaron para desarrollar el ACP en una primera instancia. Por estas razones se considera que es posible la inclusión de individuos y variables suplementarias."
   ]
  },
  {
   "cell_type": "markdown",
   "metadata": {
    "id": "6mXm5olmYyqD"
   },
   "source": [
    "## Representación simultánea"
   ]
  },
  {
   "cell_type": "code",
   "execution_count": 42,
   "metadata": {
    "colab": {
     "base_uri": "https://localhost:8080/"
    },
    "id": "UXy6clqH_MpW",
    "outputId": "baab10e7-6412-4441-9052-dfa2db0e044c"
   },
   "outputs": [
    {
     "name": "stdout",
     "output_type": "stream",
     "text": [
      "[1] \"Figura 9: Representación simultanea\"\n"
     ]
    },
    {
     "data": {
      "image/png": "[encoded data removed]",
      "text/plain": [
       "plot without title"
      ]
     },
     "metadata": {},
     "output_type": "display_data"
    }
   ],
   "source": [
    "print(\"Figura 9: Representación simultanea\")\n",
    "gs <- fviz_pca(res_pca,repel=TRUE,labelsize=3,pointsize=0.5,\n",
    "                   title=\"Rendimiento de Vehiculos\",col.ind=\"black\",\n",
    "                   invisible=\"quanti.sup\",col.var='red')\n",
    "fviz_add(gs,res_pca$quali.sup$coord,labelsize = 3,repel = TRUE,col='blue') "
   ]
  },
  {
   "cell_type": "markdown",
   "metadata": {
    "id": "hOCyKxj0Mljs"
   },
   "source": [
    "Con respecto a la representación simultánea, la dirección que toma cada variable da cierta definición de zonas para los vehículos, por ejemplo, note como se da en el caso de la variable *city.pmg*: en la dirección hacia la que apunta, se encuentran los vehículos *volkswagen1* y *toyota2*, es decir, esta variable definió una zona para los vehículos que consumen más combustible en la ciudad, y el lado opuesto es la zona para los vehículos con menor consumo de combustible en la ciudad, cómo lo son: *saab* y el *volkswagen2*.\n",
    "\n",
    "Se ha dado una zona en la representación en la que hay un buen número de vehículos podría decirse que cercano, es el caso del *nissan1*, *nissan2*, *Chevrolet*, *Mitsubishi*, *Plymouth*, *dodge2*, *honda1*, *Mazda*, *Isuzu* y *dodge1*, note que esta zona se vio definida por las respectivas direcciones que tomaron las variables *symbol* y *highway.mpg*, lo cual corrobora la información analizada pues estos individuos toman fuertes valores en este par de variables.\n",
    "\n",
    "Además, una relación importante se da en la ubicación que presentan los vehículos pertenecientes a las marcas *volvo*, *nissan*, *Dodge* y *honda*, pues dentro de la figura cada grupo de individuos de cada marca se encuentran en posiciones cercanas, dejando pensar o que pudo haber sido el mismo modelo por marca, o que los fabricantes han trabajado para que sus productos muestren características similares aun siendo diferentes modelos. Por ejemplo, para el caso de los *Volvo* las características de los 3 vehículos incluso tienen exactamente los mismos valores en ciertas variables.\n",
    "\n",
    "El término caballo de fuerza se utiliza como una forma de definir la cantidad de fuerza disponible en un objeto, en el ámbito automotriz el límite de caballos de fuerza que puede producir el carro representa la potencia de éste y es por esta razón que definiríamos como los carros más potentes a aquellos que presenten los valores más elevados en la variable *horsepower* tal como es el caso del *Porsche*, el *mercury*, el *jaguar* y el *Volvo2*. Además, estos mismo se carcterizan por tener altos precios en dolares.\n",
    "\n",
    "Los autos *volvo3*, *peugeot* y *mercedes* son autos que presentan grandes dimensiones estructurales , eso quiere decir que tiene altos valores de Altura, Base de la rueda, longitud con respeto a los demás vehículos.\n",
    "\n",
    "Los autos *chevrolet*, *mitsubishi*, *volkswagen1*, *toyota1*, *toyota2* y entre otros cercanos a ellos, son aquellos automóviles que recorren más millas por galón de combustible; notemos que estas son las marcas de carros mas comerciales de precios bajos , pocos caballos de fuerza y pequeños estructuralmente.\n",
    "\n",
    "Notemos que la marca *toyota* tiene 4 modelos y se puede ver de los autos(en orden de nombre creciente) que a medida que reducían sus millas por galón  de combustible (para ciudad y carretera) aumentaba sus dimensiones superficiales, el peso, el tamaño del motor , sus caballos de fuerza y su precio. \n"
   ]
  },
  {
   "cell_type": "markdown",
   "metadata": {
    "id": "idJRypz2RyDC"
   },
   "source": [
    "## ¿Es posible construir un índice de \"performance\" de los vehículos?"
   ]
  },
  {
   "cell_type": "markdown",
   "metadata": {
    "id": "Q_3SVagKSE2S"
   },
   "source": [
    "Cuando se habla del círculo de correlaciones y surge el caso en el cual exista una alta correlación positiva entre todas las variables, el primer componente principal tiene todas sus coordenadas con igual signo, es decir, dichas variables se sitúan del mismo lado del primer eje factorial, entonces esta componente podrá interpretarse como un promedio ponderado de todas las variables.\n",
    "\n",
    "Este caso del cual se habla no se da para la base de datos estudiada, resultan 4 de 12 variables del lado contrario del plano factorial. Se ha pensado en la posibilidad de cambiar de sentido la dirección hacia la que estas cuatro variables apuntan multiplicandolas por un menos uno (−1), luego de realizar dicho procedimiento ha resultado efectivamente que todas las variables se posicionan de un mismo lado del primer eje factorial, aún\n",
    "asi se ha analizado la interpretación de estas variables y resulta por ejemplo el caso de la variable peak.rpm, ésta presenta una correlación negativa relativamente alta con respecto a la variable *height*, es decir, en tanto una de las dos aumenta la otra dismunuye, por tanto tener esta variable peak.rpm del lado contrario hará carecer el sentido en su interpretación. Asi, finalmente ha sucedido que la realización del índice no se ha podido llevar a cabo aun con las transformaciones realizadas, pues esta dimensión 1 no logra explicar el índice **performance**."
   ]
  },
  {
   "cell_type": "markdown",
   "metadata": {
    "id": "qd6odLxkt4Nd"
   },
   "source": [
    "## ACP datos faltantes"
   ]
  },
  {
   "cell_type": "markdown",
   "metadata": {
    "id": "9DuYY12ft7hR"
   },
   "source": [
    "En adelante, se plantea eliminar en la base **Vehicles** el 5% de sus datos (como ejemplo práctico) y así aplicar el algoritmo Nipals para resolver el problema de los datos faltantes y poder reconstruir la matriz. Luego comparar el ACP de la matriz contaminada y el ACP explicado anteriormente donde estaban los datos completos.   "
   ]
  },
  {
   "cell_type": "code",
   "execution_count": 43,
   "metadata": {
    "colab": {
     "base_uri": "https://localhost:8080/",
     "height": 283
    },
    "id": "tFkh3vVw_R0g",
    "outputId": "7a299c1a-2ce8-45ab-e611-af8ade286dcc"
   },
   "outputs": [
    {
     "name": "stdout",
     "output_type": "stream",
     "text": [
      "[1] \"Tabla 7: dataset vehicles contaminado\"\n"
     ]
    },
    {
     "data": {
      "text/html": [
       "<table>\n",
       "<thead><tr><th></th><th scope=col>wheel.base</th><th scope=col>length</th><th scope=col>width</th><th scope=col>height</th><th scope=col>curb.weight</th><th scope=col>horsepower</th><th scope=col>peak.rpm</th><th scope=col>price</th><th scope=col>symbol</th><th scope=col>city.mpg</th><th scope=col>highway.mpg</th></tr></thead>\n",
       "<tbody>\n",
       "\t<tr><th scope=row>alfaromeo</th><td> 94.5</td><td>171.2</td><td>65.5 </td><td>52.4 </td><td>2823 </td><td>154  </td><td>5000 </td><td>16500</td><td> 1   </td><td>19   </td><td>26   </td></tr>\n",
       "\t<tr><th scope=row>audi</th><td>105.8</td><td>192.7</td><td>  NA </td><td>55.7 </td><td>2844 </td><td>110  </td><td>5500 </td><td>   NA</td><td> 1   </td><td>19   </td><td>25   </td></tr>\n",
       "\t<tr><th scope=row>bmw</th><td>101.2</td><td>176.8</td><td>64.8 </td><td>54.3 </td><td>2395 </td><td>101  </td><td>5800 </td><td>16430</td><td> 2   </td><td>23   </td><td>29   </td></tr>\n",
       "\t<tr><th scope=row>chevrolet</th><td>   NA</td><td>158.8</td><td>63.6 </td><td>52.0 </td><td>1909 </td><td> 70  </td><td>  NA </td><td>   NA</td><td> 0   </td><td>38   </td><td>43   </td></tr>\n",
       "\t<tr><th scope=row>dodge1</th><td> 93.7</td><td>157.3</td><td>63.8 </td><td>50.8 </td><td>2128 </td><td>102  </td><td>5500 </td><td> 7957</td><td> 1   </td><td>24   </td><td>30   </td></tr>\n",
       "\t<tr><th scope=row>dodge2</th><td> 93.7</td><td>157.3</td><td>63.8 </td><td>50.6 </td><td>1967 </td><td> 68  </td><td>5500 </td><td> 6229</td><td> 1   </td><td>31   </td><td>38   </td></tr>\n",
       "\t<tr><th scope=row>honda1</th><td> 93.7</td><td>150.0</td><td>64.0 </td><td>52.6 </td><td>1956 </td><td> 76  </td><td>6000 </td><td> 7129</td><td> 1   </td><td>30   </td><td>34   </td></tr>\n",
       "\t<tr><th scope=row>honda2</th><td> 96.5</td><td>175.4</td><td>65.2 </td><td>  NA </td><td>2304 </td><td> 86  </td><td>5800 </td><td> 8845</td><td> 0   </td><td>27   </td><td>33   </td></tr>\n",
       "\t<tr><th scope=row>isuzu</th><td> 94.3</td><td>170.7</td><td>61.8 </td><td>53.5 </td><td>2337 </td><td> 78  </td><td>4800 </td><td> 6785</td><td> 0   </td><td>24   </td><td>29   </td></tr>\n",
       "\t<tr><th scope=row>jaguar</th><td>113.0</td><td>   NA</td><td>69.6 </td><td>52.8 </td><td>4066 </td><td>176  </td><td>4750 </td><td>35550</td><td> 0   </td><td>15   </td><td>19   </td></tr>\n",
       "\t<tr><th scope=row>mazda</th><td> 93.1</td><td>166.8</td><td>64.2 </td><td>  NA </td><td>1950 </td><td> 68  </td><td>5000 </td><td> 7395</td><td> 1   </td><td>31   </td><td>38   </td></tr>\n",
       "\t<tr><th scope=row>mercedes</th><td>115.6</td><td>202.6</td><td>71.7 </td><td>56.3 </td><td>3770 </td><td>123  </td><td>4350 </td><td>31600</td><td>-1   </td><td>22   </td><td>25   </td></tr>\n",
       "\t<tr><th scope=row>mercury</th><td>102.7</td><td>178.4</td><td>68.0 </td><td>  NA </td><td>  NA </td><td>175  </td><td>5000 </td><td>16503</td><td> 1   </td><td>19   </td><td>24   </td></tr>\n",
       "\t<tr><th scope=row>mitsubishi</th><td> 93.7</td><td>157.3</td><td>64.4 </td><td>50.8 </td><td>1918 </td><td> 68  </td><td>5500 </td><td> 5389</td><td> 2   </td><td>NA   </td><td>41   </td></tr>\n",
       "\t<tr><th scope=row>nissan1</th><td> 94.5</td><td>170.2</td><td>63.8 </td><td>53.5 </td><td>2024 </td><td> 69  </td><td>5200 </td><td> 7349</td><td> 1   </td><td>31   </td><td>37   </td></tr>\n",
       "\t<tr><th scope=row>nissan2</th><td> 94.5</td><td>165.3</td><td>63.8 </td><td>54.5 </td><td>1951 </td><td> 69  </td><td>5200 </td><td> 7299</td><td> 1   </td><td>31   </td><td>37   </td></tr>\n",
       "\t<tr><th scope=row>plymouth</th><td> 93.7</td><td>157.3</td><td>63.8 </td><td>50.6 </td><td>1967 </td><td> 68  </td><td>5500 </td><td> 6229</td><td> 1   </td><td>31   </td><td>38   </td></tr>\n",
       "\t<tr><th scope=row>peugot</th><td>114.2</td><td>198.9</td><td>68.4 </td><td>58.7 </td><td>3430 </td><td> 95  </td><td>4150 </td><td>13860</td><td> 0   </td><td>25   </td><td>25   </td></tr>\n",
       "\t<tr><th scope=row>porsche</th><td> 89.5</td><td>168.9</td><td>  NA </td><td>51.6 </td><td>2800 </td><td>207  </td><td>5900 </td><td>37028</td><td> 3   </td><td>17   </td><td>25   </td></tr>\n",
       "\t<tr><th scope=row>saab</th><td> 99.1</td><td>186.6</td><td>66.5 </td><td>56.1 </td><td>2695 </td><td>110  </td><td>5250 </td><td>12170</td><td> 2   </td><td>21   </td><td>28   </td></tr>\n",
       "\t<tr><th scope=row>subaru</th><td> 97.2</td><td>172.0</td><td>65.4 </td><td>  NA </td><td>2190 </td><td> 82  </td><td>4400 </td><td> 7775</td><td> 0   </td><td>28   </td><td>33   </td></tr>\n",
       "\t<tr><th scope=row>toyota1</th><td> 95.7</td><td>158.7</td><td>63.6 </td><td>54.5 </td><td>1985 </td><td> 62  </td><td>4800 </td><td> 5348</td><td> 1   </td><td>35   </td><td>39   </td></tr>\n",
       "\t<tr><th scope=row>toyota2</th><td> 95.7</td><td>166.3</td><td>64.4 </td><td>53.0 </td><td>2275 </td><td> 56  </td><td>4500 </td><td> 7898</td><td> 0   </td><td>34   </td><td>36   </td></tr>\n",
       "\t<tr><th scope=row>toyota3</th><td> 98.4</td><td>176.2</td><td>65.6 </td><td>52.0 </td><td>2551 </td><td>116  </td><td>4800 </td><td> 9989</td><td> 2   </td><td>24   </td><td>30   </td></tr>\n",
       "\t<tr><th scope=row>toyota4</th><td>102.4</td><td>175.6</td><td>66.5 </td><td>54.9 </td><td>2480 </td><td> 73  </td><td>4500 </td><td>10698</td><td>-1   </td><td>30   </td><td>33   </td></tr>\n",
       "\t<tr><th scope=row>volkswagen1</th><td> 97.3</td><td>171.7</td><td>65.5 </td><td>55.7 </td><td>2261 </td><td> 52  </td><td>4800 </td><td> 7775</td><td> 2   </td><td>37   </td><td>46   </td></tr>\n",
       "\t<tr><th scope=row>volkswagen2</th><td>100.4</td><td>180.2</td><td>66.9 </td><td>55.1 </td><td>2661 </td><td>110  </td><td>5500 </td><td>13295</td><td> 0   </td><td>19   </td><td>24   </td></tr>\n",
       "\t<tr><th scope=row>volvo1</th><td>104.3</td><td>188.8</td><td>67.2 </td><td>56.2 </td><td>2912 </td><td>114  </td><td>5400 </td><td>12940</td><td>-2   </td><td>23   </td><td>28   </td></tr>\n",
       "\t<tr><th scope=row>volvo2</th><td>109.1</td><td>188.8</td><td>68.8 </td><td>55.5 </td><td>  NA </td><td>160  </td><td>5300 </td><td>19045</td><td>-1   </td><td>19   </td><td>25   </td></tr>\n",
       "\t<tr><th scope=row>volvo3</th><td>109.1</td><td>188.8</td><td>  NA </td><td>55.5 </td><td>3217 </td><td>106  </td><td>4800 </td><td>22470</td><td>NA   </td><td>26   </td><td>27   </td></tr>\n",
       "</tbody>\n",
       "</table>\n"
      ],
      "text/latex": [
       "\\begin{tabular}{r|lllllllllll}\n",
       "  & wheel.base & length & width & height & curb.weight & horsepower & peak.rpm & price & symbol & city.mpg & highway.mpg\\\\\n",
       "\\hline\n",
       "\talfaromeo &  94.5 & 171.2 & 65.5  & 52.4  & 2823  & 154   & 5000  & 16500 &  1    & 19    & 26   \\\\\n",
       "\taudi & 105.8 & 192.7 &   NA  & 55.7  & 2844  & 110   & 5500  &    NA &  1    & 19    & 25   \\\\\n",
       "\tbmw & 101.2 & 176.8 & 64.8  & 54.3  & 2395  & 101   & 5800  & 16430 &  2    & 23    & 29   \\\\\n",
       "\tchevrolet &    NA & 158.8 & 63.6  & 52.0  & 1909  &  70   &   NA  &    NA &  0    & 38    & 43   \\\\\n",
       "\tdodge1 &  93.7 & 157.3 & 63.8  & 50.8  & 2128  & 102   & 5500  &  7957 &  1    & 24    & 30   \\\\\n",
       "\tdodge2 &  93.7 & 157.3 & 63.8  & 50.6  & 1967  &  68   & 5500  &  6229 &  1    & 31    & 38   \\\\\n",
       "\thonda1 &  93.7 & 150.0 & 64.0  & 52.6  & 1956  &  76   & 6000  &  7129 &  1    & 30    & 34   \\\\\n",
       "\thonda2 &  96.5 & 175.4 & 65.2  &   NA  & 2304  &  86   & 5800  &  8845 &  0    & 27    & 33   \\\\\n",
       "\tisuzu &  94.3 & 170.7 & 61.8  & 53.5  & 2337  &  78   & 4800  &  6785 &  0    & 24    & 29   \\\\\n",
       "\tjaguar & 113.0 &    NA & 69.6  & 52.8  & 4066  & 176   & 4750  & 35550 &  0    & 15    & 19   \\\\\n",
       "\tmazda &  93.1 & 166.8 & 64.2  &   NA  & 1950  &  68   & 5000  &  7395 &  1    & 31    & 38   \\\\\n",
       "\tmercedes & 115.6 & 202.6 & 71.7  & 56.3  & 3770  & 123   & 4350  & 31600 & -1    & 22    & 25   \\\\\n",
       "\tmercury & 102.7 & 178.4 & 68.0  &   NA  &   NA  & 175   & 5000  & 16503 &  1    & 19    & 24   \\\\\n",
       "\tmitsubishi &  93.7 & 157.3 & 64.4  & 50.8  & 1918  &  68   & 5500  &  5389 &  2    & NA    & 41   \\\\\n",
       "\tnissan1 &  94.5 & 170.2 & 63.8  & 53.5  & 2024  &  69   & 5200  &  7349 &  1    & 31    & 37   \\\\\n",
       "\tnissan2 &  94.5 & 165.3 & 63.8  & 54.5  & 1951  &  69   & 5200  &  7299 &  1    & 31    & 37   \\\\\n",
       "\tplymouth &  93.7 & 157.3 & 63.8  & 50.6  & 1967  &  68   & 5500  &  6229 &  1    & 31    & 38   \\\\\n",
       "\tpeugot & 114.2 & 198.9 & 68.4  & 58.7  & 3430  &  95   & 4150  & 13860 &  0    & 25    & 25   \\\\\n",
       "\tporsche &  89.5 & 168.9 &   NA  & 51.6  & 2800  & 207   & 5900  & 37028 &  3    & 17    & 25   \\\\\n",
       "\tsaab &  99.1 & 186.6 & 66.5  & 56.1  & 2695  & 110   & 5250  & 12170 &  2    & 21    & 28   \\\\\n",
       "\tsubaru &  97.2 & 172.0 & 65.4  &   NA  & 2190  &  82   & 4400  &  7775 &  0    & 28    & 33   \\\\\n",
       "\ttoyota1 &  95.7 & 158.7 & 63.6  & 54.5  & 1985  &  62   & 4800  &  5348 &  1    & 35    & 39   \\\\\n",
       "\ttoyota2 &  95.7 & 166.3 & 64.4  & 53.0  & 2275  &  56   & 4500  &  7898 &  0    & 34    & 36   \\\\\n",
       "\ttoyota3 &  98.4 & 176.2 & 65.6  & 52.0  & 2551  & 116   & 4800  &  9989 &  2    & 24    & 30   \\\\\n",
       "\ttoyota4 & 102.4 & 175.6 & 66.5  & 54.9  & 2480  &  73   & 4500  & 10698 & -1    & 30    & 33   \\\\\n",
       "\tvolkswagen1 &  97.3 & 171.7 & 65.5  & 55.7  & 2261  &  52   & 4800  &  7775 &  2    & 37    & 46   \\\\\n",
       "\tvolkswagen2 & 100.4 & 180.2 & 66.9  & 55.1  & 2661  & 110   & 5500  & 13295 &  0    & 19    & 24   \\\\\n",
       "\tvolvo1 & 104.3 & 188.8 & 67.2  & 56.2  & 2912  & 114   & 5400  & 12940 & -2    & 23    & 28   \\\\\n",
       "\tvolvo2 & 109.1 & 188.8 & 68.8  & 55.5  &   NA  & 160   & 5300  & 19045 & -1    & 19    & 25   \\\\\n",
       "\tvolvo3 & 109.1 & 188.8 &   NA  & 55.5  & 3217  & 106   & 4800  & 22470 & NA    & 26    & 27   \\\\\n",
       "\\end{tabular}\n"
      ],
      "text/markdown": [
       "\n",
       "| <!--/--> | wheel.base | length | width | height | curb.weight | horsepower | peak.rpm | price | symbol | city.mpg | highway.mpg |\n",
       "|---|---|---|---|---|---|---|---|---|---|---|---|\n",
       "| alfaromeo |  94.5 | 171.2 | 65.5  | 52.4  | 2823  | 154   | 5000  | 16500 |  1    | 19    | 26    |\n",
       "| audi | 105.8 | 192.7 |   NA  | 55.7  | 2844  | 110   | 5500  |    NA |  1    | 19    | 25    |\n",
       "| bmw | 101.2 | 176.8 | 64.8  | 54.3  | 2395  | 101   | 5800  | 16430 |  2    | 23    | 29    |\n",
       "| chevrolet |    NA | 158.8 | 63.6  | 52.0  | 1909  |  70   |   NA  |    NA |  0    | 38    | 43    |\n",
       "| dodge1 |  93.7 | 157.3 | 63.8  | 50.8  | 2128  | 102   | 5500  |  7957 |  1    | 24    | 30    |\n",
       "| dodge2 |  93.7 | 157.3 | 63.8  | 50.6  | 1967  |  68   | 5500  |  6229 |  1    | 31    | 38    |\n",
       "| honda1 |  93.7 | 150.0 | 64.0  | 52.6  | 1956  |  76   | 6000  |  7129 |  1    | 30    | 34    |\n",
       "| honda2 |  96.5 | 175.4 | 65.2  |   NA  | 2304  |  86   | 5800  |  8845 |  0    | 27    | 33    |\n",
       "| isuzu |  94.3 | 170.7 | 61.8  | 53.5  | 2337  |  78   | 4800  |  6785 |  0    | 24    | 29    |\n",
       "| jaguar | 113.0 |    NA | 69.6  | 52.8  | 4066  | 176   | 4750  | 35550 |  0    | 15    | 19    |\n",
       "| mazda |  93.1 | 166.8 | 64.2  |   NA  | 1950  |  68   | 5000  |  7395 |  1    | 31    | 38    |\n",
       "| mercedes | 115.6 | 202.6 | 71.7  | 56.3  | 3770  | 123   | 4350  | 31600 | -1    | 22    | 25    |\n",
       "| mercury | 102.7 | 178.4 | 68.0  |   NA  |   NA  | 175   | 5000  | 16503 |  1    | 19    | 24    |\n",
       "| mitsubishi |  93.7 | 157.3 | 64.4  | 50.8  | 1918  |  68   | 5500  |  5389 |  2    | NA    | 41    |\n",
       "| nissan1 |  94.5 | 170.2 | 63.8  | 53.5  | 2024  |  69   | 5200  |  7349 |  1    | 31    | 37    |\n",
       "| nissan2 |  94.5 | 165.3 | 63.8  | 54.5  | 1951  |  69   | 5200  |  7299 |  1    | 31    | 37    |\n",
       "| plymouth |  93.7 | 157.3 | 63.8  | 50.6  | 1967  |  68   | 5500  |  6229 |  1    | 31    | 38    |\n",
       "| peugot | 114.2 | 198.9 | 68.4  | 58.7  | 3430  |  95   | 4150  | 13860 |  0    | 25    | 25    |\n",
       "| porsche |  89.5 | 168.9 |   NA  | 51.6  | 2800  | 207   | 5900  | 37028 |  3    | 17    | 25    |\n",
       "| saab |  99.1 | 186.6 | 66.5  | 56.1  | 2695  | 110   | 5250  | 12170 |  2    | 21    | 28    |\n",
       "| subaru |  97.2 | 172.0 | 65.4  |   NA  | 2190  |  82   | 4400  |  7775 |  0    | 28    | 33    |\n",
       "| toyota1 |  95.7 | 158.7 | 63.6  | 54.5  | 1985  |  62   | 4800  |  5348 |  1    | 35    | 39    |\n",
       "| toyota2 |  95.7 | 166.3 | 64.4  | 53.0  | 2275  |  56   | 4500  |  7898 |  0    | 34    | 36    |\n",
       "| toyota3 |  98.4 | 176.2 | 65.6  | 52.0  | 2551  | 116   | 4800  |  9989 |  2    | 24    | 30    |\n",
       "| toyota4 | 102.4 | 175.6 | 66.5  | 54.9  | 2480  |  73   | 4500  | 10698 | -1    | 30    | 33    |\n",
       "| volkswagen1 |  97.3 | 171.7 | 65.5  | 55.7  | 2261  |  52   | 4800  |  7775 |  2    | 37    | 46    |\n",
       "| volkswagen2 | 100.4 | 180.2 | 66.9  | 55.1  | 2661  | 110   | 5500  | 13295 |  0    | 19    | 24    |\n",
       "| volvo1 | 104.3 | 188.8 | 67.2  | 56.2  | 2912  | 114   | 5400  | 12940 | -2    | 23    | 28    |\n",
       "| volvo2 | 109.1 | 188.8 | 68.8  | 55.5  |   NA  | 160   | 5300  | 19045 | -1    | 19    | 25    |\n",
       "| volvo3 | 109.1 | 188.8 |   NA  | 55.5  | 3217  | 106   | 4800  | 22470 | NA    | 26    | 27    |\n",
       "\n"
      ],
      "text/plain": [
       "            wheel.base length width height curb.weight horsepower peak.rpm\n",
       "alfaromeo    94.5      171.2  65.5  52.4   2823        154        5000    \n",
       "audi        105.8      192.7    NA  55.7   2844        110        5500    \n",
       "bmw         101.2      176.8  64.8  54.3   2395        101        5800    \n",
       "chevrolet      NA      158.8  63.6  52.0   1909         70          NA    \n",
       "dodge1       93.7      157.3  63.8  50.8   2128        102        5500    \n",
       "dodge2       93.7      157.3  63.8  50.6   1967         68        5500    \n",
       "honda1       93.7      150.0  64.0  52.6   1956         76        6000    \n",
       "honda2       96.5      175.4  65.2    NA   2304         86        5800    \n",
       "isuzu        94.3      170.7  61.8  53.5   2337         78        4800    \n",
       "jaguar      113.0         NA  69.6  52.8   4066        176        4750    \n",
       "mazda        93.1      166.8  64.2    NA   1950         68        5000    \n",
       "mercedes    115.6      202.6  71.7  56.3   3770        123        4350    \n",
       "mercury     102.7      178.4  68.0    NA     NA        175        5000    \n",
       "mitsubishi   93.7      157.3  64.4  50.8   1918         68        5500    \n",
       "nissan1      94.5      170.2  63.8  53.5   2024         69        5200    \n",
       "nissan2      94.5      165.3  63.8  54.5   1951         69        5200    \n",
       "plymouth     93.7      157.3  63.8  50.6   1967         68        5500    \n",
       "peugot      114.2      198.9  68.4  58.7   3430         95        4150    \n",
       "porsche      89.5      168.9    NA  51.6   2800        207        5900    \n",
       "saab         99.1      186.6  66.5  56.1   2695        110        5250    \n",
       "subaru       97.2      172.0  65.4    NA   2190         82        4400    \n",
       "toyota1      95.7      158.7  63.6  54.5   1985         62        4800    \n",
       "toyota2      95.7      166.3  64.4  53.0   2275         56        4500    \n",
       "toyota3      98.4      176.2  65.6  52.0   2551        116        4800    \n",
       "toyota4     102.4      175.6  66.5  54.9   2480         73        4500    \n",
       "volkswagen1  97.3      171.7  65.5  55.7   2261         52        4800    \n",
       "volkswagen2 100.4      180.2  66.9  55.1   2661        110        5500    \n",
       "volvo1      104.3      188.8  67.2  56.2   2912        114        5400    \n",
       "volvo2      109.1      188.8  68.8  55.5     NA        160        5300    \n",
       "volvo3      109.1      188.8    NA  55.5   3217        106        4800    \n",
       "            price symbol city.mpg highway.mpg\n",
       "alfaromeo   16500  1     19       26         \n",
       "audi           NA  1     19       25         \n",
       "bmw         16430  2     23       29         \n",
       "chevrolet      NA  0     38       43         \n",
       "dodge1       7957  1     24       30         \n",
       "dodge2       6229  1     31       38         \n",
       "honda1       7129  1     30       34         \n",
       "honda2       8845  0     27       33         \n",
       "isuzu        6785  0     24       29         \n",
       "jaguar      35550  0     15       19         \n",
       "mazda        7395  1     31       38         \n",
       "mercedes    31600 -1     22       25         \n",
       "mercury     16503  1     19       24         \n",
       "mitsubishi   5389  2     NA       41         \n",
       "nissan1      7349  1     31       37         \n",
       "nissan2      7299  1     31       37         \n",
       "plymouth     6229  1     31       38         \n",
       "peugot      13860  0     25       25         \n",
       "porsche     37028  3     17       25         \n",
       "saab        12170  2     21       28         \n",
       "subaru       7775  0     28       33         \n",
       "toyota1      5348  1     35       39         \n",
       "toyota2      7898  0     34       36         \n",
       "toyota3      9989  2     24       30         \n",
       "toyota4     10698 -1     30       33         \n",
       "volkswagen1  7775  2     37       46         \n",
       "volkswagen2 13295  0     19       24         \n",
       "volvo1      12940 -2     23       28         \n",
       "volvo2      19045 -1     19       25         \n",
       "volvo3      22470 NA     26       27         "
      ]
     },
     "metadata": {},
     "output_type": "display_data"
    }
   ],
   "source": [
    "set.seed(1234)  \n",
    "contaminate_data<-function(df,prop){\n",
    "        ## Funcion que contamina un dataframe con un % de NA aleatoriamente\n",
    "      df_temp <- as.matrix(unlist(df))\n",
    "      kx=length(df_temp)*prop\n",
    "      df_temp[sample(1:length(df_temp), kx)] <- NA\n",
    "      df_temp=data.frame(matrix(df_temp, ncol=11))\n",
    "      names(df_temp)=names(df)\n",
    "      rownames(df_temp)=row.names(df)\n",
    "      \n",
    "      return(df_temp)\n",
    "    }\n",
    "    \n",
    "active_with_na <- contaminate_data(active_vars,0.05)\n",
    "print(\"Tabla 7: dataset vehicles contaminado\")\n",
    "active_with_na"
   ]
  },
  {
   "cell_type": "markdown",
   "metadata": {
    "id": "IIy0ld-pvk1H"
   },
   "source": [
    "A continuación, se implementa el algoritmo Nipals para realizar ACP con y sin datos faltantes. Para ellos contruimos la función **fnipNA** "
   ]
  },
  {
   "cell_type": "code",
   "execution_count": 44,
   "metadata": {
    "id": "k8pmIV2SvjOn"
   },
   "outputs": [],
   "source": [
    "#install.packages(\"far\")\n",
    "# Funcion para realizar nipals\n",
    "fnipNA <- function(Xi)\n",
    "    {\n",
    "      library(far)\n",
    "      p <- ncol(Xi); n <- nrow(Xi)\n",
    "      \n",
    "      if(any(is.na(Xi)))a <- min(n,p) else a <- qr(Xi)$rank \t\n",
    "      \n",
    "      njm <- colMeans(Xi,na.rm=TRUE); njs <- colSums(Xi,na.rm=TRUE)\n",
    "      nj <- njs/njm   # vector conteniendo los n sin NA en c|colj \n",
    "      \n",
    "      Xo <- scale(Xi)*sqrt(nj/(nj-1))\n",
    "      \n",
    "      P <- matrix(0,p,a); T <- matrix(0,n,a)\n",
    "      P1i <- matrix(0,p,1)\n",
    "      \n",
    "      for(h in 1:a)\n",
    "      {\n",
    "        t1 <- Xo[,1]; e <- 1 \n",
    "        \n",
    "        while(e <= 100)\t# mas eficiente que ||P1h-P1||\n",
    "        {\n",
    "          for(j in 1:p)\n",
    "          {\n",
    "            j1 <- na.omit(cbind(Xo[,j],t1))\n",
    "            P1i[j] <- sum(j1[,1]*j1[,2])/sum(j1[,2]^2)\n",
    "          }\n",
    "          P[,h] <- P1i\n",
    "          \n",
    "          Portn <- orthonormalization(P[,1:h],norm=TRUE)\n",
    "          P1 <- Portn[,h]\n",
    "          \n",
    "          for(i in 1:n)\n",
    "          {\n",
    "            i1 <- na.omit(cbind(Xo[i,],P1))\n",
    "            t1[i] <- sum(i1[,1]*i1[,2])/sum(i1[,2]^2)\n",
    "          }\n",
    "          T[,h]<- t1 - mean(t1)\n",
    "          \n",
    "          Tortg <- orthonormalization(T[,1:h],norm=FALSE)\n",
    "          t1 <- Tortg[,h]\n",
    "          \n",
    "          es <- e+1; e <- es\n",
    "          \n",
    "        } # end while \n",
    "        \n",
    "        P[,h] <- P1\n",
    "        T[,h] <- t1\n",
    "        \n",
    "        X1 <- Xo - t1%*%t(P1); Xo <- X1\n",
    "        \n",
    "      } # end h\n",
    "      \n",
    "      L <- diag(t(T)%*%T)/n\n",
    "      faj. <- a/sum(L)\t# factor de ajuste x NA\n",
    "      row.names(T)<-row.names(Xi)\n",
    "      r.nipNA <- list(\"ind_coord\"=T*sqrt(faj.),\"U\"=P,\"eig\"=L*faj.); return(r.nipNA)\n",
    "      \n",
    "    }"
   ]
  },
  {
   "cell_type": "code",
   "execution_count": 45,
   "metadata": {
    "colab": {
     "base_uri": "https://localhost:8080/",
     "height": 438
    },
    "id": "yhaid-glvq6E",
    "outputId": "c5c4c018-90ab-409c-ab4c-8cbbbba3b896"
   },
   "outputs": [
    {
     "name": "stdout",
     "output_type": "stream",
     "text": [
      "[1] \"Tabla 8: Algoritmo nipals con y sin NA\"\n"
     ]
    },
    {
     "data": {
      "text/html": [
       "<table>\n",
       "<thead><tr><th scope=col>Vlp base completa</th><th scope=col>%</th><th scope=col>Vlp base con NA's</th><th scope=col>%</th></tr></thead>\n",
       "<tbody>\n",
       "\t<tr><td>6.57608955</td><td>59.78 %   </td><td>6.67279033</td><td>60.66 %   </td></tr>\n",
       "\t<tr><td>2.19947397</td><td>20 %      </td><td>2.22412834</td><td>20.22 %   </td></tr>\n",
       "\t<tr><td>0.65249652</td><td>5.93 %    </td><td>0.65329471</td><td>5.94 %    </td></tr>\n",
       "\t<tr><td>0.62883776</td><td>5.72 %    </td><td>0.60207050</td><td>5.47 %    </td></tr>\n",
       "\t<tr><td>0.42858860</td><td>3.9 %     </td><td>0.38260505</td><td>3.48 %    </td></tr>\n",
       "\t<tr><td>0.21228863</td><td>1.93 %    </td><td>0.18363605</td><td>1.67 %    </td></tr>\n",
       "\t<tr><td>0.12140274</td><td>1.1 %     </td><td>0.12601444</td><td>1.15 %    </td></tr>\n",
       "\t<tr><td>0.07959242</td><td>0.72 %    </td><td>0.07466999</td><td>0.68 %    </td></tr>\n",
       "\t<tr><td>0.06435525</td><td>0.59 %    </td><td>0.04989287</td><td>0.45 %    </td></tr>\n",
       "\t<tr><td>0.02336380</td><td>0.21 %    </td><td>0.01924772</td><td>0.17 %    </td></tr>\n",
       "\t<tr><td>0.01351075</td><td>0.12 %    </td><td>0.01165000</td><td>0.11 %    </td></tr>\n",
       "</tbody>\n",
       "</table>\n"
      ],
      "text/latex": [
       "\\begin{tabular}{r|llll}\n",
       " Vlp base completa & \\% & Vlp base con NA's & \\%\\\\\n",
       "\\hline\n",
       "\t 6.57608955 & 59.78 \\%  & 6.67279033 & 60.66 \\% \\\\\n",
       "\t 2.19947397 & 20 \\%     & 2.22412834 & 20.22 \\% \\\\\n",
       "\t 0.65249652 & 5.93 \\%   & 0.65329471 & 5.94 \\%  \\\\\n",
       "\t 0.62883776 & 5.72 \\%   & 0.60207050 & 5.47 \\%  \\\\\n",
       "\t 0.42858860 & 3.9 \\%    & 0.38260505 & 3.48 \\%  \\\\\n",
       "\t 0.21228863 & 1.93 \\%   & 0.18363605 & 1.67 \\%  \\\\\n",
       "\t 0.12140274 & 1.1 \\%    & 0.12601444 & 1.15 \\%  \\\\\n",
       "\t 0.07959242 & 0.72 \\%   & 0.07466999 & 0.68 \\%  \\\\\n",
       "\t 0.06435525 & 0.59 \\%   & 0.04989287 & 0.45 \\%  \\\\\n",
       "\t 0.02336380 & 0.21 \\%   & 0.01924772 & 0.17 \\%  \\\\\n",
       "\t 0.01351075 & 0.12 \\%   & 0.01165000 & 0.11 \\%  \\\\\n",
       "\\end{tabular}\n"
      ],
      "text/markdown": [
       "\n",
       "| Vlp base completa | % | Vlp base con NA's | % |\n",
       "|---|---|---|---|\n",
       "| 6.57608955 | 59.78 %    | 6.67279033 | 60.66 %    |\n",
       "| 2.19947397 | 20 %       | 2.22412834 | 20.22 %    |\n",
       "| 0.65249652 | 5.93 %     | 0.65329471 | 5.94 %     |\n",
       "| 0.62883776 | 5.72 %     | 0.60207050 | 5.47 %     |\n",
       "| 0.42858860 | 3.9 %      | 0.38260505 | 3.48 %     |\n",
       "| 0.21228863 | 1.93 %     | 0.18363605 | 1.67 %     |\n",
       "| 0.12140274 | 1.1 %      | 0.12601444 | 1.15 %     |\n",
       "| 0.07959242 | 0.72 %     | 0.07466999 | 0.68 %     |\n",
       "| 0.06435525 | 0.59 %     | 0.04989287 | 0.45 %     |\n",
       "| 0.02336380 | 0.21 %     | 0.01924772 | 0.17 %     |\n",
       "| 0.01351075 | 0.12 %     | 0.01165000 | 0.11 %     |\n",
       "\n"
      ],
      "text/plain": [
       "   Vlp base completa %       Vlp base con NA's %      \n",
       "1  6.57608955        59.78 % 6.67279033        60.66 %\n",
       "2  2.19947397        20 %    2.22412834        20.22 %\n",
       "3  0.65249652        5.93 %  0.65329471        5.94 % \n",
       "4  0.62883776        5.72 %  0.60207050        5.47 % \n",
       "5  0.42858860        3.9 %   0.38260505        3.48 % \n",
       "6  0.21228863        1.93 %  0.18363605        1.67 % \n",
       "7  0.12140274        1.1 %   0.12601444        1.15 % \n",
       "8  0.07959242        0.72 %  0.07466999        0.68 % \n",
       "9  0.06435525        0.59 %  0.04989287        0.45 % \n",
       "10 0.02336380        0.21 %  0.01924772        0.17 % \n",
       "11 0.01351075        0.12 %  0.01165000        0.11 % "
      ]
     },
     "metadata": {},
     "output_type": "display_data"
    }
   ],
   "source": [
    "nipals<-fnipNA(active_vars)\n",
    "nipals_na<-fnipNA(active_with_na) ### Garantiza ortogonalidad, centramiento y no imputa con la media\n",
    "ope<-paste(round((nipals$eig/11)*100,2),\"%\")\n",
    "ope_na<-paste(round((nipals_na$eig/11)*100,2),\"%\")\n",
    "com<-data.frame(nipals$eig,ope,nipals_na$eig,ope_na)\n",
    "\n",
    "print(\"Tabla 8: Algoritmo nipals con y sin NA\")\n",
    "names(com)<-c(\"Vlp base completa\",\"%\",\"Vlp base con NA's\",\"%\"); com"
   ]
  },
  {
   "cell_type": "markdown",
   "metadata": {
    "id": "WEXh2Zin7pkM"
   },
   "source": [
    "### Valores propios\n",
    "\n",
    "Si se comparan las incercias respectivas de los ejes para un 5% de contaminación en la base y la completa, se determina que el cambio es relativamente poco, incluso, en este caso, el primer plano factorial representa un porcentaje de inercia más alto en los resultados de nipals a la matriz con datos faltantes."
   ]
  },
  {
   "cell_type": "markdown",
   "metadata": {
    "id": "Vt_wnkaZxw8e"
   },
   "source": [
    "### Reconstitucion de los datos\n",
    "Una estrategia interesante para combinar las bondades de la funcion *fnipNA* y la fortaleza gráfica e interpretativa de *FactoMineR* y *factoextra*, es realizar la reconstitución $Z=\\sum_{\\alpha=1}^p \\psi_\\alpha u_\\alpha'$ y aplicar un acp a la matriz reconstruida con FactoMineR, este proceso se detalla en la siguiente figura.\n",
    "\n",
    "Figura 10\n",
    "<img src=\"esquema.jpeg\">"
   ]
  },
  {
   "cell_type": "code",
   "execution_count": 46,
   "metadata": {
    "colab": {
     "base_uri": "https://localhost:8080/",
     "height": 303
    },
    "id": "eUF5B80qyfZK",
    "outputId": "10b51143-554a-4258-9118-c3fccc8f910a"
   },
   "outputs": [
    {
     "name": "stdout",
     "output_type": "stream",
     "text": [
      "[1] \"Tabla 8: Matriz de datos con NA reconstituida\"\n"
     ]
    },
    {
     "data": {
      "text/html": [
       "<table>\n",
       "<thead><tr><th></th><th scope=col>wheel.base</th><th scope=col>length</th><th scope=col>width</th><th scope=col>height</th><th scope=col>curb.weight</th><th scope=col>horsepower</th><th scope=col>peak.rpm</th><th scope=col>price</th><th scope=col>symbol</th><th scope=col>city.mpg</th><th scope=col>highway.mpg</th><th scope=col>eng.size</th><th scope=col>turbo</th><th scope=col>diesel</th><th scope=col>hatchback</th><th scope=col>two.doors</th></tr></thead>\n",
       "<tbody>\n",
       "\t<tr><th scope=row>alfaromeo</th><td>-0.7001964   </td><td>-0.20743803  </td><td>-0.13479242  </td><td>-0.65103586  </td><td> 0.4701303627</td><td> 1.37245884  </td><td>-0.2655114   </td><td> 0.39611033  </td><td> 0.3426317   </td><td>-1.19457177  </td><td>-0.8476141   </td><td> 0.74368880  </td><td>No           </td><td>No           </td><td>Si           </td><td>Si           </td></tr>\n",
       "\t<tr><th scope=row>audi</th><td> 0.9850800   </td><td> 1.42389266  </td><td> 0.63597805  </td><td> 0.90865771  </td><td> 0.5828155203</td><td> 0.23176885  </td><td> 0.7771106   </td><td> 0.79012027  </td><td> 0.3994825   </td><td>-1.19063852  </td><td>-1.0193739   </td><td> 0.31463757  </td><td>No           </td><td>No           </td><td>No           </td><td>No           </td></tr>\n",
       "\t<tr><th scope=row>bmw</th><td> 0.2199892   </td><td> 0.18166708  </td><td>-0.42620325  </td><td> 0.28550114  </td><td>-0.2442202966</td><td> 0.03019705  </td><td> 1.4004535   </td><td> 0.41488523  </td><td> 1.2406672   </td><td>-0.51201891  </td><td>-0.3792504   </td><td>-0.43620209  </td><td>No           </td><td>No           </td><td>No           </td><td>Si           </td></tr>\n",
       "\t<tr><th scope=row>chevrolet</th><td>-1.0554264   </td><td>-1.24026127  </td><td>-1.00093627  </td><td>-0.96450927  </td><td>-1.1172426627</td><td>-0.81024068  </td><td>-0.1606760   </td><td>-1.11548910  </td><td>-0.8305878   </td><td> 1.99764458  </td><td> 1.7967465   </td><td>-0.91888472  </td><td>No           </td><td>No           </td><td>No           </td><td>No           </td></tr>\n",
       "\t<tr><th scope=row>dodge1</th><td>-0.7911966   </td><td>-1.27686114  </td><td>-0.87979270  </td><td>-1.46464111  </td><td>-0.7142813938</td><td> 0.04971265  </td><td> 0.7846252   </td><td>-0.59752598  </td><td> 0.3517179   </td><td>-0.36234691  </td><td>-0.2426294   </td><td>-0.70435911  </td><td>Si           </td><td>No           </td><td>Si           </td><td>Si           </td></tr>\n",
       "\t<tr><th scope=row>dodge2</th><td>-0.7793211   </td><td>-1.30709517  </td><td>-0.85864065  </td><td>-1.55755521  </td><td>-0.9815575837</td><td>-0.82118363  </td><td> 0.8061976   </td><td>-0.80828166  </td><td> 0.3627883   </td><td> 0.77970459  </td><td> 0.9659252   </td><td>-0.91888472  </td><td>No           </td><td>No           </td><td>Si           </td><td>No           </td></tr>\n",
       "\t<tr><th scope=row>honda1</th><td>-0.7941473   </td><td>-1.84079308  </td><td>-0.75792119  </td><td>-0.61882781  </td><td>-1.0211544360</td><td>-0.61845592  </td><td> 1.8236591   </td><td>-0.67652274  </td><td> 0.3478005   </td><td> 0.62042186  </td><td> 0.3713629   </td><td>-0.86525332  </td><td>No           </td><td>No           </td><td>Si           </td><td>Si           </td></tr>\n",
       "\t<tr><th scope=row>honda2</th><td>-0.4868533   </td><td> 0.05771707  </td><td>-0.25595767  </td><td> 0.06463749  </td><td>-0.4394579570</td><td>-0.32127644  </td><td> 1.5417891   </td><td>-0.47381501  </td><td>-0.5677584   </td><td> 0.10986795  </td><td> 0.2217942   </td><td>-0.38257068  </td><td>No           </td><td>No           </td><td>No           </td><td>No           </td></tr>\n",
       "\t<tr><th scope=row>isuzu</th><td>-0.7196251   </td><td>-0.26574456  </td><td>-1.81124492  </td><td>-0.15821587  </td><td>-0.3004912379</td><td>-0.57692868  </td><td>-0.6360406   </td><td>-0.71931116  </td><td>-0.5678821   </td><td>-0.36083343  </td><td>-0.3677605   </td><td>-0.35575498  </td><td>No           </td><td>No           </td><td>No           </td><td>No           </td></tr>\n",
       "\t<tr><th scope=row>jaguar</th><td> 1.9792320   </td><td> 1.91551370  </td><td> 1.80127860  </td><td>-0.39975658  </td><td> 2.7182435477</td><td> 1.97895740  </td><td>-0.8502782   </td><td> 2.57165547  </td><td>-0.5945869   </td><td>-1.85334725  </td><td>-1.9253253   </td><td> 3.58615322  </td><td>No           </td><td>No           </td><td>No           </td><td>No           </td></tr>\n",
       "\t<tr><th scope=row>mazda</th><td>-0.9327984   </td><td>-0.59343352  </td><td>-0.70528168  </td><td>-0.32439098  </td><td>-1.0363583561</td><td>-0.80163459  </td><td>-0.2393930   </td><td>-0.64046174  </td><td> 0.3365865   </td><td> 0.79510703  </td><td> 1.0084331   </td><td>-0.89206902  </td><td>No           </td><td>No           </td><td>No           </td><td>No           </td></tr>\n",
       "\t<tr><th scope=row>mercedes</th><td> 2.3445868   </td><td> 2.10302241  </td><td> 2.71980747  </td><td> 1.29236449  </td><td> 2.1348822703</td><td> 0.57364949  </td><td>-1.5983869   </td><td> 2.09856013  </td><td>-1.4712823   </td><td>-0.67783810  </td><td>-1.0140472   </td><td> 1.57497557  </td><td>Si           </td><td>Si           </td><td>No           </td><td>No           </td></tr>\n",
       "\t<tr><th scope=row>mercury</th><td> 0.5506277   </td><td> 0.38415279  </td><td> 1.10700915  </td><td>-0.15720736  </td><td> 1.0402471825</td><td> 1.87834149  </td><td>-0.3904269   </td><td> 0.37917874  </td><td> 0.3143064   </td><td>-1.18194812  </td><td>-1.1890997   </td><td> 0.42190038  </td><td>Si           </td><td>No           </td><td>Si           </td><td>Si           </td></tr>\n",
       "\t<tr><th scope=row>mitsubishi</th><td>-0.8024393   </td><td>-1.33406749  </td><td>-0.57179615  </td><td>-1.47043333  </td><td>-1.0785154183</td><td>-0.77962165  </td><td> 0.8917157   </td><td>-0.84736561  </td><td> 1.2705967   </td><td> 0.93583667  </td><td> 1.4445137   </td><td>-0.86525332  </td><td>No           </td><td>No           </td><td>Si           </td><td>Si           </td></tr>\n",
       "\t<tr><th scope=row>nissan1</th><td>-0.7010564   </td><td>-0.31726990  </td><td>-0.87176547  </td><td>-0.13799986  </td><td>-0.8853826961</td><td>-0.79766214  </td><td> 0.1955110   </td><td>-0.65040728  </td><td> 0.3476594   </td><td> 0.78018529  </td><td> 0.8351381   </td><td>-0.73117481  </td><td>No           </td><td>No           </td><td>No           </td><td>No           </td></tr>\n",
       "\t<tr><th scope=row>nissan2</th><td>-0.7033592   </td><td>-0.67767211  </td><td>-0.87007174  </td><td> 0.33659921  </td><td>-1.0274957093</td><td>-0.79883364  </td><td> 0.1957768   </td><td>-0.64397471  </td><td> 0.3440914   </td><td> 0.77738611  </td><td> 0.8413025   </td><td>-0.73117481  </td><td>No           </td><td>No           </td><td>No           </td><td>Si           </td></tr>\n",
       "\t<tr><th scope=row>plymouth</th><td>-0.7793211   </td><td>-1.30709517  </td><td>-0.85864065  </td><td>-1.55755521  </td><td>-0.9815575837</td><td>-0.82118363  </td><td> 0.8061976   </td><td>-0.80828166  </td><td> 0.3627883   </td><td> 0.77970459  </td><td> 0.9659252   </td><td>-0.91888472  </td><td>No           </td><td>No           </td><td>Si           </td><td>No           </td></tr>\n",
       "\t<tr><th scope=row>peugot</th><td> 2.1018251   </td><td> 1.87004792  </td><td> 1.20540209  </td><td> 2.44069964  </td><td> 1.5383689744</td><td>-0.12465196  </td><td>-1.9804593   </td><td> 0.10814825  </td><td>-0.5806696   </td><td>-0.18577797  </td><td>-0.9699100   </td><td> 0.74368880  </td><td>Si           </td><td>Si           </td><td>No           </td><td>No           </td></tr>\n",
       "\t<tr><th scope=row>porsche</th><td>-1.3639661   </td><td>-0.35773025  </td><td> 0.04600714  </td><td>-0.98559152  </td><td> 0.5006158518</td><td> 2.76401203  </td><td> 1.5935617   </td><td> 2.88843608  </td><td> 2.1252791   </td><td>-1.52809492  </td><td>-1.0120217   </td><td> 1.86994829  </td><td>No           </td><td>No           </td><td>No           </td><td>Si           </td></tr>\n",
       "\t<tr><th scope=row>saab</th><td>-0.1012594   </td><td> 0.95933946  </td><td> 0.33065543  </td><td> 1.16825861  </td><td> 0.2430803008</td><td> 0.26680951  </td><td> 0.2691943   </td><td>-0.05644622  </td><td> 1.2314697   </td><td>-0.84357863  </td><td>-0.5155167   </td><td>-0.08759796  </td><td>No           </td><td>No           </td><td>No           </td><td>No           </td></tr>\n",
       "\t<tr><th scope=row>subaru</th><td>-0.2620598   </td><td>-0.16988339  </td><td>-0.13535328  </td><td>-0.11258379  </td><td>-0.5916366077</td><td>-0.49594685  </td><td>-1.6459478   </td><td>-0.62769131  </td><td>-0.6120017   </td><td> 0.37028303  </td><td> 0.2781277   </td><td>-0.43620209  </td><td>No           </td><td>No           </td><td>No           </td><td>No           </td></tr>\n",
       "\t<tr><th scope=row>toyota1</th><td>-0.5154783   </td><td>-1.18144007  </td><td>-0.96121204  </td><td> 0.34389618  </td><td>-0.9756344880</td><td>-0.97832614  </td><td>-0.6189786   </td><td>-0.87735849  </td><td> 0.3519678   </td><td> 1.41715134  </td><td> 1.1420167   </td><td>-0.86525332  </td><td>No           </td><td>No           </td><td>Si           </td><td>Si           </td></tr>\n",
       "\t<tr><th scope=row>toyota2</th><td>-0.4876162   </td><td>-0.62552454  </td><td>-0.60003691  </td><td>-0.38132506  </td><td>-0.4390039516</td><td>-1.13923376  </td><td>-1.2387695   </td><td>-0.61712493  </td><td>-0.5473118   </td><td> 1.25911521  </td><td> 0.6726623   </td><td>-0.38257068  </td><td>No           </td><td>Si           </td><td>No           </td><td>No           </td></tr>\n",
       "\t<tr><th scope=row>toyota3</th><td>-0.1527848   </td><td> 0.15407855  </td><td>-0.08564883  </td><td>-0.80608656  </td><td> 0.0009228953</td><td> 0.41979565  </td><td>-0.6531711   </td><td>-0.35623335  </td><td> 1.2572278   </td><td>-0.37014794  </td><td>-0.2407827   </td><td> 0.58279459  </td><td>No           </td><td>No           </td><td>Si           </td><td>Si           </td></tr>\n",
       "\t<tr><th scope=row>toyota4</th><td> 0.4762256   </td><td> 0.09034718  </td><td> 0.36633762  </td><td> 0.52394235  </td><td>-0.0978250982</td><td>-0.70498805  </td><td>-1.2496040   </td><td>-0.29154639  </td><td>-1.4661739   </td><td> 0.62112824  </td><td> 0.2230251   </td><td>-0.38257068  </td><td>Si           </td><td>Si           </td><td>No           </td><td>No           </td></tr>\n",
       "\t<tr><th scope=row>volkswagen1</th><td>-0.3212828   </td><td>-0.21171465  </td><td>-0.09176525  </td><td> 0.97764630  </td><td>-0.5116934242</td><td>-1.22497015  </td><td>-0.6100302   </td><td>-0.58709033  </td><td> 1.2598677   </td><td> 1.74571139  </td><td> 2.2034694   </td><td>-0.73117481  </td><td>No           </td><td>Si           </td><td>No           </td><td>Si           </td></tr>\n",
       "\t<tr><th scope=row>volkswagen2</th><td> 0.1396010   </td><td> 0.47057422  </td><td> 0.53556868  </td><td> 0.61658350  </td><td> 0.2060916293</td><td> 0.25297145  </td><td> 0.7730086   </td><td> 0.04336231  </td><td>-0.5823025   </td><td>-1.15442352  </td><td>-1.1322939   </td><td> 0.31463757  </td><td>No           </td><td>No           </td><td>No           </td><td>No           </td></tr>\n",
       "\t<tr><th scope=row>volvo1</th><td> 0.7337766   </td><td> 1.10908108  </td><td> 0.70054831  </td><td> 1.10694918  </td><td> 0.6629035208</td><td> 0.33542092  </td><td> 0.5742634   </td><td>-0.01595345  </td><td>-2.4010928   </td><td>-0.49898270  </td><td>-0.5190562   </td><td> 0.44871608  </td><td>No           </td><td>No           </td><td>No           </td><td>No           </td></tr>\n",
       "\t<tr><th scope=row>volvo2</th><td> 1.4576065   </td><td> 1.14903034  </td><td> 1.39802007  </td><td> 0.82471822  </td><td> 1.1604843208</td><td> 1.56890527  </td><td> 0.3458786   </td><td> 0.69080373  </td><td>-1.4908499   </td><td>-1.15228779  </td><td>-0.9998708   </td><td> 0.44871608  </td><td>Si           </td><td>No           </td><td>No           </td><td>No           </td></tr>\n",
       "\t<tr><th scope=row>volvo3</th><td> 1.4616377   </td><td> 1.04555989  </td><td> 1.03044847  </td><td> 0.85726133  </td><td> 1.1847225243</td><td> 0.09213730  </td><td>-0.6412692   </td><td> 1.02962056  </td><td>-0.5344293   </td><td> 0.07758862  </td><td>-0.5958900   </td><td> 0.55597889  </td><td>Si           </td><td>Si           </td><td>No           </td><td>No           </td></tr>\n",
       "</tbody>\n",
       "</table>\n"
      ],
      "text/latex": [
       "\\begin{tabular}{r|llllllllllllllll}\n",
       "  & wheel.base & length & width & height & curb.weight & horsepower & peak.rpm & price & symbol & city.mpg & highway.mpg & eng.size & turbo & diesel & hatchback & two.doors\\\\\n",
       "\\hline\n",
       "\talfaromeo & -0.7001964    & -0.20743803   & -0.13479242   & -0.65103586   &  0.4701303627 &  1.37245884   & -0.2655114    &  0.39611033   &  0.3426317    & -1.19457177   & -0.8476141    &  0.74368880   & No            & No            & Si            & Si           \\\\\n",
       "\taudi &  0.9850800    &  1.42389266   &  0.63597805   &  0.90865771   &  0.5828155203 &  0.23176885   &  0.7771106    &  0.79012027   &  0.3994825    & -1.19063852   & -1.0193739    &  0.31463757   & No            & No            & No            & No           \\\\\n",
       "\tbmw &  0.2199892    &  0.18166708   & -0.42620325   &  0.28550114   & -0.2442202966 &  0.03019705   &  1.4004535    &  0.41488523   &  1.2406672    & -0.51201891   & -0.3792504    & -0.43620209   & No            & No            & No            & Si           \\\\\n",
       "\tchevrolet & -1.0554264    & -1.24026127   & -1.00093627   & -0.96450927   & -1.1172426627 & -0.81024068   & -0.1606760    & -1.11548910   & -0.8305878    &  1.99764458   &  1.7967465    & -0.91888472   & No            & No            & No            & No           \\\\\n",
       "\tdodge1 & -0.7911966    & -1.27686114   & -0.87979270   & -1.46464111   & -0.7142813938 &  0.04971265   &  0.7846252    & -0.59752598   &  0.3517179    & -0.36234691   & -0.2426294    & -0.70435911   & Si            & No            & Si            & Si           \\\\\n",
       "\tdodge2 & -0.7793211    & -1.30709517   & -0.85864065   & -1.55755521   & -0.9815575837 & -0.82118363   &  0.8061976    & -0.80828166   &  0.3627883    &  0.77970459   &  0.9659252    & -0.91888472   & No            & No            & Si            & No           \\\\\n",
       "\thonda1 & -0.7941473    & -1.84079308   & -0.75792119   & -0.61882781   & -1.0211544360 & -0.61845592   &  1.8236591    & -0.67652274   &  0.3478005    &  0.62042186   &  0.3713629    & -0.86525332   & No            & No            & Si            & Si           \\\\\n",
       "\thonda2 & -0.4868533    &  0.05771707   & -0.25595767   &  0.06463749   & -0.4394579570 & -0.32127644   &  1.5417891    & -0.47381501   & -0.5677584    &  0.10986795   &  0.2217942    & -0.38257068   & No            & No            & No            & No           \\\\\n",
       "\tisuzu & -0.7196251    & -0.26574456   & -1.81124492   & -0.15821587   & -0.3004912379 & -0.57692868   & -0.6360406    & -0.71931116   & -0.5678821    & -0.36083343   & -0.3677605    & -0.35575498   & No            & No            & No            & No           \\\\\n",
       "\tjaguar &  1.9792320    &  1.91551370   &  1.80127860   & -0.39975658   &  2.7182435477 &  1.97895740   & -0.8502782    &  2.57165547   & -0.5945869    & -1.85334725   & -1.9253253    &  3.58615322   & No            & No            & No            & No           \\\\\n",
       "\tmazda & -0.9327984    & -0.59343352   & -0.70528168   & -0.32439098   & -1.0363583561 & -0.80163459   & -0.2393930    & -0.64046174   &  0.3365865    &  0.79510703   &  1.0084331    & -0.89206902   & No            & No            & No            & No           \\\\\n",
       "\tmercedes &  2.3445868    &  2.10302241   &  2.71980747   &  1.29236449   &  2.1348822703 &  0.57364949   & -1.5983869    &  2.09856013   & -1.4712823    & -0.67783810   & -1.0140472    &  1.57497557   & Si            & Si            & No            & No           \\\\\n",
       "\tmercury &  0.5506277    &  0.38415279   &  1.10700915   & -0.15720736   &  1.0402471825 &  1.87834149   & -0.3904269    &  0.37917874   &  0.3143064    & -1.18194812   & -1.1890997    &  0.42190038   & Si            & No            & Si            & Si           \\\\\n",
       "\tmitsubishi & -0.8024393    & -1.33406749   & -0.57179615   & -1.47043333   & -1.0785154183 & -0.77962165   &  0.8917157    & -0.84736561   &  1.2705967    &  0.93583667   &  1.4445137    & -0.86525332   & No            & No            & Si            & Si           \\\\\n",
       "\tnissan1 & -0.7010564    & -0.31726990   & -0.87176547   & -0.13799986   & -0.8853826961 & -0.79766214   &  0.1955110    & -0.65040728   &  0.3476594    &  0.78018529   &  0.8351381    & -0.73117481   & No            & No            & No            & No           \\\\\n",
       "\tnissan2 & -0.7033592    & -0.67767211   & -0.87007174   &  0.33659921   & -1.0274957093 & -0.79883364   &  0.1957768    & -0.64397471   &  0.3440914    &  0.77738611   &  0.8413025    & -0.73117481   & No            & No            & No            & Si           \\\\\n",
       "\tplymouth & -0.7793211    & -1.30709517   & -0.85864065   & -1.55755521   & -0.9815575837 & -0.82118363   &  0.8061976    & -0.80828166   &  0.3627883    &  0.77970459   &  0.9659252    & -0.91888472   & No            & No            & Si            & No           \\\\\n",
       "\tpeugot &  2.1018251    &  1.87004792   &  1.20540209   &  2.44069964   &  1.5383689744 & -0.12465196   & -1.9804593    &  0.10814825   & -0.5806696    & -0.18577797   & -0.9699100    &  0.74368880   & Si            & Si            & No            & No           \\\\\n",
       "\tporsche & -1.3639661    & -0.35773025   &  0.04600714   & -0.98559152   &  0.5006158518 &  2.76401203   &  1.5935617    &  2.88843608   &  2.1252791    & -1.52809492   & -1.0120217    &  1.86994829   & No            & No            & No            & Si           \\\\\n",
       "\tsaab & -0.1012594    &  0.95933946   &  0.33065543   &  1.16825861   &  0.2430803008 &  0.26680951   &  0.2691943    & -0.05644622   &  1.2314697    & -0.84357863   & -0.5155167    & -0.08759796   & No            & No            & No            & No           \\\\\n",
       "\tsubaru & -0.2620598    & -0.16988339   & -0.13535328   & -0.11258379   & -0.5916366077 & -0.49594685   & -1.6459478    & -0.62769131   & -0.6120017    &  0.37028303   &  0.2781277    & -0.43620209   & No            & No            & No            & No           \\\\\n",
       "\ttoyota1 & -0.5154783    & -1.18144007   & -0.96121204   &  0.34389618   & -0.9756344880 & -0.97832614   & -0.6189786    & -0.87735849   &  0.3519678    &  1.41715134   &  1.1420167    & -0.86525332   & No            & No            & Si            & Si           \\\\\n",
       "\ttoyota2 & -0.4876162    & -0.62552454   & -0.60003691   & -0.38132506   & -0.4390039516 & -1.13923376   & -1.2387695    & -0.61712493   & -0.5473118    &  1.25911521   &  0.6726623    & -0.38257068   & No            & Si            & No            & No           \\\\\n",
       "\ttoyota3 & -0.1527848    &  0.15407855   & -0.08564883   & -0.80608656   &  0.0009228953 &  0.41979565   & -0.6531711    & -0.35623335   &  1.2572278    & -0.37014794   & -0.2407827    &  0.58279459   & No            & No            & Si            & Si           \\\\\n",
       "\ttoyota4 &  0.4762256    &  0.09034718   &  0.36633762   &  0.52394235   & -0.0978250982 & -0.70498805   & -1.2496040    & -0.29154639   & -1.4661739    &  0.62112824   &  0.2230251    & -0.38257068   & Si            & Si            & No            & No           \\\\\n",
       "\tvolkswagen1 & -0.3212828    & -0.21171465   & -0.09176525   &  0.97764630   & -0.5116934242 & -1.22497015   & -0.6100302    & -0.58709033   &  1.2598677    &  1.74571139   &  2.2034694    & -0.73117481   & No            & Si            & No            & Si           \\\\\n",
       "\tvolkswagen2 &  0.1396010    &  0.47057422   &  0.53556868   &  0.61658350   &  0.2060916293 &  0.25297145   &  0.7730086    &  0.04336231   & -0.5823025    & -1.15442352   & -1.1322939    &  0.31463757   & No            & No            & No            & No           \\\\\n",
       "\tvolvo1 &  0.7337766    &  1.10908108   &  0.70054831   &  1.10694918   &  0.6629035208 &  0.33542092   &  0.5742634    & -0.01595345   & -2.4010928    & -0.49898270   & -0.5190562    &  0.44871608   & No            & No            & No            & No           \\\\\n",
       "\tvolvo2 &  1.4576065    &  1.14903034   &  1.39802007   &  0.82471822   &  1.1604843208 &  1.56890527   &  0.3458786    &  0.69080373   & -1.4908499    & -1.15228779   & -0.9998708    &  0.44871608   & Si            & No            & No            & No           \\\\\n",
       "\tvolvo3 &  1.4616377    &  1.04555989   &  1.03044847   &  0.85726133   &  1.1847225243 &  0.09213730   & -0.6412692    &  1.02962056   & -0.5344293    &  0.07758862   & -0.5958900    &  0.55597889   & Si            & Si            & No            & No           \\\\\n",
       "\\end{tabular}\n"
      ],
      "text/markdown": [
       "\n",
       "| <!--/--> | wheel.base | length | width | height | curb.weight | horsepower | peak.rpm | price | symbol | city.mpg | highway.mpg | eng.size | turbo | diesel | hatchback | two.doors |\n",
       "|---|---|---|---|---|---|---|---|---|---|---|---|---|---|---|---|---|\n",
       "| alfaromeo | -0.7001964    | -0.20743803   | -0.13479242   | -0.65103586   |  0.4701303627 |  1.37245884   | -0.2655114    |  0.39611033   |  0.3426317    | -1.19457177   | -0.8476141    |  0.74368880   | No            | No            | Si            | Si            |\n",
       "| audi |  0.9850800    |  1.42389266   |  0.63597805   |  0.90865771   |  0.5828155203 |  0.23176885   |  0.7771106    |  0.79012027   |  0.3994825    | -1.19063852   | -1.0193739    |  0.31463757   | No            | No            | No            | No            |\n",
       "| bmw |  0.2199892    |  0.18166708   | -0.42620325   |  0.28550114   | -0.2442202966 |  0.03019705   |  1.4004535    |  0.41488523   |  1.2406672    | -0.51201891   | -0.3792504    | -0.43620209   | No            | No            | No            | Si            |\n",
       "| chevrolet | -1.0554264    | -1.24026127   | -1.00093627   | -0.96450927   | -1.1172426627 | -0.81024068   | -0.1606760    | -1.11548910   | -0.8305878    |  1.99764458   |  1.7967465    | -0.91888472   | No            | No            | No            | No            |\n",
       "| dodge1 | -0.7911966    | -1.27686114   | -0.87979270   | -1.46464111   | -0.7142813938 |  0.04971265   |  0.7846252    | -0.59752598   |  0.3517179    | -0.36234691   | -0.2426294    | -0.70435911   | Si            | No            | Si            | Si            |\n",
       "| dodge2 | -0.7793211    | -1.30709517   | -0.85864065   | -1.55755521   | -0.9815575837 | -0.82118363   |  0.8061976    | -0.80828166   |  0.3627883    |  0.77970459   |  0.9659252    | -0.91888472   | No            | No            | Si            | No            |\n",
       "| honda1 | -0.7941473    | -1.84079308   | -0.75792119   | -0.61882781   | -1.0211544360 | -0.61845592   |  1.8236591    | -0.67652274   |  0.3478005    |  0.62042186   |  0.3713629    | -0.86525332   | No            | No            | Si            | Si            |\n",
       "| honda2 | -0.4868533    |  0.05771707   | -0.25595767   |  0.06463749   | -0.4394579570 | -0.32127644   |  1.5417891    | -0.47381501   | -0.5677584    |  0.10986795   |  0.2217942    | -0.38257068   | No            | No            | No            | No            |\n",
       "| isuzu | -0.7196251    | -0.26574456   | -1.81124492   | -0.15821587   | -0.3004912379 | -0.57692868   | -0.6360406    | -0.71931116   | -0.5678821    | -0.36083343   | -0.3677605    | -0.35575498   | No            | No            | No            | No            |\n",
       "| jaguar |  1.9792320    |  1.91551370   |  1.80127860   | -0.39975658   |  2.7182435477 |  1.97895740   | -0.8502782    |  2.57165547   | -0.5945869    | -1.85334725   | -1.9253253    |  3.58615322   | No            | No            | No            | No            |\n",
       "| mazda | -0.9327984    | -0.59343352   | -0.70528168   | -0.32439098   | -1.0363583561 | -0.80163459   | -0.2393930    | -0.64046174   |  0.3365865    |  0.79510703   |  1.0084331    | -0.89206902   | No            | No            | No            | No            |\n",
       "| mercedes |  2.3445868    |  2.10302241   |  2.71980747   |  1.29236449   |  2.1348822703 |  0.57364949   | -1.5983869    |  2.09856013   | -1.4712823    | -0.67783810   | -1.0140472    |  1.57497557   | Si            | Si            | No            | No            |\n",
       "| mercury |  0.5506277    |  0.38415279   |  1.10700915   | -0.15720736   |  1.0402471825 |  1.87834149   | -0.3904269    |  0.37917874   |  0.3143064    | -1.18194812   | -1.1890997    |  0.42190038   | Si            | No            | Si            | Si            |\n",
       "| mitsubishi | -0.8024393    | -1.33406749   | -0.57179615   | -1.47043333   | -1.0785154183 | -0.77962165   |  0.8917157    | -0.84736561   |  1.2705967    |  0.93583667   |  1.4445137    | -0.86525332   | No            | No            | Si            | Si            |\n",
       "| nissan1 | -0.7010564    | -0.31726990   | -0.87176547   | -0.13799986   | -0.8853826961 | -0.79766214   |  0.1955110    | -0.65040728   |  0.3476594    |  0.78018529   |  0.8351381    | -0.73117481   | No            | No            | No            | No            |\n",
       "| nissan2 | -0.7033592    | -0.67767211   | -0.87007174   |  0.33659921   | -1.0274957093 | -0.79883364   |  0.1957768    | -0.64397471   |  0.3440914    |  0.77738611   |  0.8413025    | -0.73117481   | No            | No            | No            | Si            |\n",
       "| plymouth | -0.7793211    | -1.30709517   | -0.85864065   | -1.55755521   | -0.9815575837 | -0.82118363   |  0.8061976    | -0.80828166   |  0.3627883    |  0.77970459   |  0.9659252    | -0.91888472   | No            | No            | Si            | No            |\n",
       "| peugot |  2.1018251    |  1.87004792   |  1.20540209   |  2.44069964   |  1.5383689744 | -0.12465196   | -1.9804593    |  0.10814825   | -0.5806696    | -0.18577797   | -0.9699100    |  0.74368880   | Si            | Si            | No            | No            |\n",
       "| porsche | -1.3639661    | -0.35773025   |  0.04600714   | -0.98559152   |  0.5006158518 |  2.76401203   |  1.5935617    |  2.88843608   |  2.1252791    | -1.52809492   | -1.0120217    |  1.86994829   | No            | No            | No            | Si            |\n",
       "| saab | -0.1012594    |  0.95933946   |  0.33065543   |  1.16825861   |  0.2430803008 |  0.26680951   |  0.2691943    | -0.05644622   |  1.2314697    | -0.84357863   | -0.5155167    | -0.08759796   | No            | No            | No            | No            |\n",
       "| subaru | -0.2620598    | -0.16988339   | -0.13535328   | -0.11258379   | -0.5916366077 | -0.49594685   | -1.6459478    | -0.62769131   | -0.6120017    |  0.37028303   |  0.2781277    | -0.43620209   | No            | No            | No            | No            |\n",
       "| toyota1 | -0.5154783    | -1.18144007   | -0.96121204   |  0.34389618   | -0.9756344880 | -0.97832614   | -0.6189786    | -0.87735849   |  0.3519678    |  1.41715134   |  1.1420167    | -0.86525332   | No            | No            | Si            | Si            |\n",
       "| toyota2 | -0.4876162    | -0.62552454   | -0.60003691   | -0.38132506   | -0.4390039516 | -1.13923376   | -1.2387695    | -0.61712493   | -0.5473118    |  1.25911521   |  0.6726623    | -0.38257068   | No            | Si            | No            | No            |\n",
       "| toyota3 | -0.1527848    |  0.15407855   | -0.08564883   | -0.80608656   |  0.0009228953 |  0.41979565   | -0.6531711    | -0.35623335   |  1.2572278    | -0.37014794   | -0.2407827    |  0.58279459   | No            | No            | Si            | Si            |\n",
       "| toyota4 |  0.4762256    |  0.09034718   |  0.36633762   |  0.52394235   | -0.0978250982 | -0.70498805   | -1.2496040    | -0.29154639   | -1.4661739    |  0.62112824   |  0.2230251    | -0.38257068   | Si            | Si            | No            | No            |\n",
       "| volkswagen1 | -0.3212828    | -0.21171465   | -0.09176525   |  0.97764630   | -0.5116934242 | -1.22497015   | -0.6100302    | -0.58709033   |  1.2598677    |  1.74571139   |  2.2034694    | -0.73117481   | No            | Si            | No            | Si            |\n",
       "| volkswagen2 |  0.1396010    |  0.47057422   |  0.53556868   |  0.61658350   |  0.2060916293 |  0.25297145   |  0.7730086    |  0.04336231   | -0.5823025    | -1.15442352   | -1.1322939    |  0.31463757   | No            | No            | No            | No            |\n",
       "| volvo1 |  0.7337766    |  1.10908108   |  0.70054831   |  1.10694918   |  0.6629035208 |  0.33542092   |  0.5742634    | -0.01595345   | -2.4010928    | -0.49898270   | -0.5190562    |  0.44871608   | No            | No            | No            | No            |\n",
       "| volvo2 |  1.4576065    |  1.14903034   |  1.39802007   |  0.82471822   |  1.1604843208 |  1.56890527   |  0.3458786    |  0.69080373   | -1.4908499    | -1.15228779   | -0.9998708    |  0.44871608   | Si            | No            | No            | No            |\n",
       "| volvo3 |  1.4616377    |  1.04555989   |  1.03044847   |  0.85726133   |  1.1847225243 |  0.09213730   | -0.6412692    |  1.02962056   | -0.5344293    |  0.07758862   | -0.5958900    |  0.55597889   | Si            | Si            | No            | No            |\n",
       "\n"
      ],
      "text/plain": [
       "            wheel.base length      width       height      curb.weight  \n",
       "alfaromeo   -0.7001964 -0.20743803 -0.13479242 -0.65103586  0.4701303627\n",
       "audi         0.9850800  1.42389266  0.63597805  0.90865771  0.5828155203\n",
       "bmw          0.2199892  0.18166708 -0.42620325  0.28550114 -0.2442202966\n",
       "chevrolet   -1.0554264 -1.24026127 -1.00093627 -0.96450927 -1.1172426627\n",
       "dodge1      -0.7911966 -1.27686114 -0.87979270 -1.46464111 -0.7142813938\n",
       "dodge2      -0.7793211 -1.30709517 -0.85864065 -1.55755521 -0.9815575837\n",
       "honda1      -0.7941473 -1.84079308 -0.75792119 -0.61882781 -1.0211544360\n",
       "honda2      -0.4868533  0.05771707 -0.25595767  0.06463749 -0.4394579570\n",
       "isuzu       -0.7196251 -0.26574456 -1.81124492 -0.15821587 -0.3004912379\n",
       "jaguar       1.9792320  1.91551370  1.80127860 -0.39975658  2.7182435477\n",
       "mazda       -0.9327984 -0.59343352 -0.70528168 -0.32439098 -1.0363583561\n",
       "mercedes     2.3445868  2.10302241  2.71980747  1.29236449  2.1348822703\n",
       "mercury      0.5506277  0.38415279  1.10700915 -0.15720736  1.0402471825\n",
       "mitsubishi  -0.8024393 -1.33406749 -0.57179615 -1.47043333 -1.0785154183\n",
       "nissan1     -0.7010564 -0.31726990 -0.87176547 -0.13799986 -0.8853826961\n",
       "nissan2     -0.7033592 -0.67767211 -0.87007174  0.33659921 -1.0274957093\n",
       "plymouth    -0.7793211 -1.30709517 -0.85864065 -1.55755521 -0.9815575837\n",
       "peugot       2.1018251  1.87004792  1.20540209  2.44069964  1.5383689744\n",
       "porsche     -1.3639661 -0.35773025  0.04600714 -0.98559152  0.5006158518\n",
       "saab        -0.1012594  0.95933946  0.33065543  1.16825861  0.2430803008\n",
       "subaru      -0.2620598 -0.16988339 -0.13535328 -0.11258379 -0.5916366077\n",
       "toyota1     -0.5154783 -1.18144007 -0.96121204  0.34389618 -0.9756344880\n",
       "toyota2     -0.4876162 -0.62552454 -0.60003691 -0.38132506 -0.4390039516\n",
       "toyota3     -0.1527848  0.15407855 -0.08564883 -0.80608656  0.0009228953\n",
       "toyota4      0.4762256  0.09034718  0.36633762  0.52394235 -0.0978250982\n",
       "volkswagen1 -0.3212828 -0.21171465 -0.09176525  0.97764630 -0.5116934242\n",
       "volkswagen2  0.1396010  0.47057422  0.53556868  0.61658350  0.2060916293\n",
       "volvo1       0.7337766  1.10908108  0.70054831  1.10694918  0.6629035208\n",
       "volvo2       1.4576065  1.14903034  1.39802007  0.82471822  1.1604843208\n",
       "volvo3       1.4616377  1.04555989  1.03044847  0.85726133  1.1847225243\n",
       "            horsepower  peak.rpm   price       symbol     city.mpg   \n",
       "alfaromeo    1.37245884 -0.2655114  0.39611033  0.3426317 -1.19457177\n",
       "audi         0.23176885  0.7771106  0.79012027  0.3994825 -1.19063852\n",
       "bmw          0.03019705  1.4004535  0.41488523  1.2406672 -0.51201891\n",
       "chevrolet   -0.81024068 -0.1606760 -1.11548910 -0.8305878  1.99764458\n",
       "dodge1       0.04971265  0.7846252 -0.59752598  0.3517179 -0.36234691\n",
       "dodge2      -0.82118363  0.8061976 -0.80828166  0.3627883  0.77970459\n",
       "honda1      -0.61845592  1.8236591 -0.67652274  0.3478005  0.62042186\n",
       "honda2      -0.32127644  1.5417891 -0.47381501 -0.5677584  0.10986795\n",
       "isuzu       -0.57692868 -0.6360406 -0.71931116 -0.5678821 -0.36083343\n",
       "jaguar       1.97895740 -0.8502782  2.57165547 -0.5945869 -1.85334725\n",
       "mazda       -0.80163459 -0.2393930 -0.64046174  0.3365865  0.79510703\n",
       "mercedes     0.57364949 -1.5983869  2.09856013 -1.4712823 -0.67783810\n",
       "mercury      1.87834149 -0.3904269  0.37917874  0.3143064 -1.18194812\n",
       "mitsubishi  -0.77962165  0.8917157 -0.84736561  1.2705967  0.93583667\n",
       "nissan1     -0.79766214  0.1955110 -0.65040728  0.3476594  0.78018529\n",
       "nissan2     -0.79883364  0.1957768 -0.64397471  0.3440914  0.77738611\n",
       "plymouth    -0.82118363  0.8061976 -0.80828166  0.3627883  0.77970459\n",
       "peugot      -0.12465196 -1.9804593  0.10814825 -0.5806696 -0.18577797\n",
       "porsche      2.76401203  1.5935617  2.88843608  2.1252791 -1.52809492\n",
       "saab         0.26680951  0.2691943 -0.05644622  1.2314697 -0.84357863\n",
       "subaru      -0.49594685 -1.6459478 -0.62769131 -0.6120017  0.37028303\n",
       "toyota1     -0.97832614 -0.6189786 -0.87735849  0.3519678  1.41715134\n",
       "toyota2     -1.13923376 -1.2387695 -0.61712493 -0.5473118  1.25911521\n",
       "toyota3      0.41979565 -0.6531711 -0.35623335  1.2572278 -0.37014794\n",
       "toyota4     -0.70498805 -1.2496040 -0.29154639 -1.4661739  0.62112824\n",
       "volkswagen1 -1.22497015 -0.6100302 -0.58709033  1.2598677  1.74571139\n",
       "volkswagen2  0.25297145  0.7730086  0.04336231 -0.5823025 -1.15442352\n",
       "volvo1       0.33542092  0.5742634 -0.01595345 -2.4010928 -0.49898270\n",
       "volvo2       1.56890527  0.3458786  0.69080373 -1.4908499 -1.15228779\n",
       "volvo3       0.09213730 -0.6412692  1.02962056 -0.5344293  0.07758862\n",
       "            highway.mpg eng.size    turbo diesel hatchback two.doors\n",
       "alfaromeo   -0.8476141   0.74368880 No    No     Si        Si       \n",
       "audi        -1.0193739   0.31463757 No    No     No        No       \n",
       "bmw         -0.3792504  -0.43620209 No    No     No        Si       \n",
       "chevrolet    1.7967465  -0.91888472 No    No     No        No       \n",
       "dodge1      -0.2426294  -0.70435911 Si    No     Si        Si       \n",
       "dodge2       0.9659252  -0.91888472 No    No     Si        No       \n",
       "honda1       0.3713629  -0.86525332 No    No     Si        Si       \n",
       "honda2       0.2217942  -0.38257068 No    No     No        No       \n",
       "isuzu       -0.3677605  -0.35575498 No    No     No        No       \n",
       "jaguar      -1.9253253   3.58615322 No    No     No        No       \n",
       "mazda        1.0084331  -0.89206902 No    No     No        No       \n",
       "mercedes    -1.0140472   1.57497557 Si    Si     No        No       \n",
       "mercury     -1.1890997   0.42190038 Si    No     Si        Si       \n",
       "mitsubishi   1.4445137  -0.86525332 No    No     Si        Si       \n",
       "nissan1      0.8351381  -0.73117481 No    No     No        No       \n",
       "nissan2      0.8413025  -0.73117481 No    No     No        Si       \n",
       "plymouth     0.9659252  -0.91888472 No    No     Si        No       \n",
       "peugot      -0.9699100   0.74368880 Si    Si     No        No       \n",
       "porsche     -1.0120217   1.86994829 No    No     No        Si       \n",
       "saab        -0.5155167  -0.08759796 No    No     No        No       \n",
       "subaru       0.2781277  -0.43620209 No    No     No        No       \n",
       "toyota1      1.1420167  -0.86525332 No    No     Si        Si       \n",
       "toyota2      0.6726623  -0.38257068 No    Si     No        No       \n",
       "toyota3     -0.2407827   0.58279459 No    No     Si        Si       \n",
       "toyota4      0.2230251  -0.38257068 Si    Si     No        No       \n",
       "volkswagen1  2.2034694  -0.73117481 No    Si     No        Si       \n",
       "volkswagen2 -1.1322939   0.31463757 No    No     No        No       \n",
       "volvo1      -0.5190562   0.44871608 No    No     No        No       \n",
       "volvo2      -0.9998708   0.44871608 Si    No     No        No       \n",
       "volvo3      -0.5958900   0.55597889 Si    Si     No        No       "
      ]
     },
     "metadata": {},
     "output_type": "display_data"
    }
   ],
   "source": [
    "recons=nipals_na$ind_coord %*% t(nipals_na$U) ## matriz reconstituida\n",
    "\n",
    "colnames(recons)=names(active_with_na) ## ponemos nombres\n",
    "recons=data.frame(recons)\n",
    "## Agregamos variables suplementarias al data frame reconstituido \n",
    "recons$eng.size=scale(vehicles$eng.size)*sqrt(n/(n-1))\n",
    "recons$turbo=vehicles$turbo\n",
    "recons$diesel =vehicles$diesel\n",
    "recons$hatchback=vehicles$hatchback\n",
    "recons$two.doors=vehicles$two.doors\n",
    "\n",
    "print(\"Tabla 8: Matriz de datos con NA reconstituida\")\n",
    "recons"
   ]
  },
  {
   "cell_type": "markdown",
   "metadata": {},
   "source": [
    "De la tabla 8 es importante destacar que aunque la matriz reconstituida ya no posee datos faltantes, todos los datos cambiaron ligeramente (comparar con tabla 3) , sin embargo la información que estos contienen sobre el problema es similar"
   ]
  },
  {
   "cell_type": "code",
   "execution_count": 47,
   "metadata": {
    "id": "A7RAVG7c3Iqx"
   },
   "outputs": [],
   "source": [
    "## realizo ACP a la tabla reconstituida\n",
    "res_pca_na<- PCA(recons,quanti.sup=12,quali.sup=c(13:16),scale.unit=F) ## importante scale unit F"
   ]
  },
  {
   "cell_type": "markdown",
   "metadata": {},
   "source": [
    "Para mostrar que nuestro método funciona observamos que los valores propios generados por la función fnipna y por la funcion PCA de FactoMiner sobre la matriz reconstituida son exactamente iguales, por tanto, es legal el método propuesto"
   ]
  },
  {
   "cell_type": "code",
   "execution_count": 48,
   "metadata": {},
   "outputs": [
    {
     "name": "stdout",
     "output_type": "stream",
     "text": [
      "[1] \"Valores propios de la funcion fnipna\"\n"
     ]
    },
    {
     "data": {
      "text/html": [
       "<ol class=list-inline>\n",
       "\t<li>6.67279032928092</li>\n",
       "\t<li>2.22412833769903</li>\n",
       "\t<li>0.653294709381194</li>\n",
       "\t<li>0.602070498960491</li>\n",
       "\t<li>0.38260504529533</li>\n",
       "\t<li>0.183636051979443</li>\n",
       "\t<li>0.126014444989475</li>\n",
       "\t<li>0.0746699905445289</li>\n",
       "\t<li>0.0498928741419008</li>\n",
       "\t<li>0.0192477187263641</li>\n",
       "\t<li>0.0116499990013187</li>\n",
       "</ol>\n"
      ],
      "text/latex": [
       "\\begin{enumerate*}\n",
       "\\item 6.67279032928092\n",
       "\\item 2.22412833769903\n",
       "\\item 0.653294709381194\n",
       "\\item 0.602070498960491\n",
       "\\item 0.38260504529533\n",
       "\\item 0.183636051979443\n",
       "\\item 0.126014444989475\n",
       "\\item 0.0746699905445289\n",
       "\\item 0.0498928741419008\n",
       "\\item 0.0192477187263641\n",
       "\\item 0.0116499990013187\n",
       "\\end{enumerate*}\n"
      ],
      "text/markdown": [
       "1. 6.67279032928092\n",
       "2. 2.22412833769903\n",
       "3. 0.653294709381194\n",
       "4. 0.602070498960491\n",
       "5. 0.38260504529533\n",
       "6. 0.183636051979443\n",
       "7. 0.126014444989475\n",
       "8. 0.0746699905445289\n",
       "9. 0.0498928741419008\n",
       "10. 0.0192477187263641\n",
       "11. 0.0116499990013187\n",
       "\n",
       "\n"
      ],
      "text/plain": [
       " [1] 6.67279033 2.22412834 0.65329471 0.60207050 0.38260505 0.18363605\n",
       " [7] 0.12601444 0.07466999 0.04989287 0.01924772 0.01165000"
      ]
     },
     "metadata": {},
     "output_type": "display_data"
    },
    {
     "name": "stdout",
     "output_type": "stream",
     "text": [
      "[1] \"Valores propios de PCA sobre la matriz reconstituida\"\n"
     ]
    },
    {
     "data": {
      "text/html": [
       "<ol class=list-inline>\n",
       "\t<li>6.67279032928093</li>\n",
       "\t<li>2.22412833769904</li>\n",
       "\t<li>0.653294709381194</li>\n",
       "\t<li>0.602070498960492</li>\n",
       "\t<li>0.38260504529533</li>\n",
       "\t<li>0.183636051979443</li>\n",
       "\t<li>0.126014444989476</li>\n",
       "\t<li>0.074669990544529</li>\n",
       "\t<li>0.0498928741419008</li>\n",
       "\t<li>0.0192477187263641</li>\n",
       "\t<li>0.0116499990013187</li>\n",
       "</ol>\n"
      ],
      "text/latex": [
       "\\begin{enumerate*}\n",
       "\\item 6.67279032928093\n",
       "\\item 2.22412833769904\n",
       "\\item 0.653294709381194\n",
       "\\item 0.602070498960492\n",
       "\\item 0.38260504529533\n",
       "\\item 0.183636051979443\n",
       "\\item 0.126014444989476\n",
       "\\item 0.074669990544529\n",
       "\\item 0.0498928741419008\n",
       "\\item 0.0192477187263641\n",
       "\\item 0.0116499990013187\n",
       "\\end{enumerate*}\n"
      ],
      "text/markdown": [
       "1. 6.67279032928093\n",
       "2. 2.22412833769904\n",
       "3. 0.653294709381194\n",
       "4. 0.602070498960492\n",
       "5. 0.38260504529533\n",
       "6. 0.183636051979443\n",
       "7. 0.126014444989476\n",
       "8. 0.074669990544529\n",
       "9. 0.0498928741419008\n",
       "10. 0.0192477187263641\n",
       "11. 0.0116499990013187\n",
       "\n",
       "\n"
      ],
      "text/plain": [
       " [1] 6.67279033 2.22412834 0.65329471 0.60207050 0.38260505 0.18363605\n",
       " [7] 0.12601444 0.07466999 0.04989287 0.01924772 0.01165000"
      ]
     },
     "metadata": {},
     "output_type": "display_data"
    },
    {
     "name": "stdout",
     "output_type": "stream",
     "text": [
      "[1] \"Observe que los resultados son iguales\"\n"
     ]
    }
   ],
   "source": [
    "print(\"Valores propios de la funcion fnipna\")\n",
    "nipals_na$eig\n",
    "print(\"Valores propios de PCA sobre la matriz reconstituida\")\n",
    "as.vector(res_pca_na$eig[,1])\n",
    "print(\"Observe que los resultados son iguales\")\n"
   ]
  },
  {
   "cell_type": "markdown",
   "metadata": {
    "id": "bD5PchKT_bf_"
   },
   "source": [
    "### Contribuciones\n",
    "\n",
    "Si comparamos dichos resultados con los obtenidos cuando la base de datos no presentaba datos faltantes podemos decir que el vehículo *Jaguar* sigue siendo el que mayor aporta a la construcción del primer eje, solo que, en una base de datos con NA este aporte cambia por muy poco. Asimismo el porsche sigue siendo el de mayor contribución para el segundo eje, con un aporte que también cambia por muy poco. Igualmente otra diferencia destacable es que en la base de datos original, la variable *horse.power* era el segundo con mayor aporte al eje 2, en la base que presentaba NA esta variable pasa a ser 3ra y *symbol* pasa a ser el segunda en aportar al eje 2."
   ]
  },
  {
   "cell_type": "code",
   "execution_count": 49,
   "metadata": {
    "colab": {
     "base_uri": "https://localhost:8080/",
     "height": 857
    },
    "id": "15KPfUZA3rom",
    "outputId": "70dbe957-e59e-4d15-8110-542b22e4d761"
   },
   "outputs": [
    {
     "name": "stdout",
     "output_type": "stream",
     "text": [
      "[1] \"Figura 11: Contribuciones de individuos y variables vía Nipals\"\n"
     ]
    },
    {
     "data": {
      "image/png": "[encoded data removed]",
      "text/plain": [
       "plot without title"
      ]
     },
     "metadata": {},
     "output_type": "display_data"
    },
    {
     "data": {
      "image/png": "[encoded data removed]",
      "text/plain": [
       "plot without title"
      ]
     },
     "metadata": {},
     "output_type": "display_data"
    }
   ],
   "source": [
    "a=fviz_eig(res_pca,addlabels = T,title=\"Inercias proyectadas por eje\")\n",
    "b=fviz_contrib(res_pca_na, choice = \"var\", axes = 1, top = 10,\n",
    "                   title='Contribuciones de las variables al eje 1')\n",
    "    # Contributions of variables to PC2\n",
    "c=fviz_contrib(res_pca_na, choice = \"ind\", axes = 1, top = 10,\n",
    "                   title='Contribuciones de  individuos al eje 1')\n",
    "print(\"Figura 11: Contribuciones de individuos y variables vía Nipals\")\n",
    "ggarrange(b,c)\n",
    "    \n",
    "d=fviz_contrib(res_pca_na, choice = \"var\", axes = 2, top = 10,\n",
    "                   title='Contribuciones de las variables al eje 2')\n",
    "    # Contributions of variables to PC2\n",
    "e=fviz_contrib(res_pca_na, choice = \"ind\", axes = 2, top = 10,\n",
    "                   title='Contribuciones de  individuos al eje 2')\n",
    "ggarrange(d,e)"
   ]
  },
  {
   "cell_type": "markdown",
   "metadata": {
    "id": "gj00LZjkCE-B"
   },
   "source": [
    "### Nube de individuos, circulo de correlaciones y representación simultanea"
   ]
  },
  {
   "cell_type": "code",
   "execution_count": 50,
   "metadata": {
    "colab": {
     "base_uri": "https://localhost:8080/",
     "height": 857
    },
    "id": "XoLadYfaB-qn",
    "outputId": "1707d0a0-269e-49db-b331-4730f9cc5c58"
   },
   "outputs": [
    {
     "name": "stdout",
     "output_type": "stream",
     "text": [
      "[1] \"Figura 12: Gráficas del análisis vía Nipals\"\n"
     ]
    },
    {
     "data": {
      "image/png": "[encoded data removed]",
      "text/plain": [
       "plot without title"
      ]
     },
     "metadata": {},
     "output_type": "display_data"
    },
    {
     "data": {
      "image/png": "[encoded data removed]",
      "text/plain": [
       "plot without title"
      ]
     },
     "metadata": {},
     "output_type": "display_data"
    }
   ],
   "source": [
    "f<-fviz(res_pca_na,'var')\n",
    "g<-fviz(res_pca_na,'ind')\n",
    "\n",
    "print(\"Figura 12: Gráficas del análisis vía Nipals\")\n",
    "ggarrange(f,g)\n",
    "gs <- fviz_pca(res_pca_na,repel=TRUE,labelsize=3,pointsize=0.5,\n",
    "                   title=\"Rendimiento de Vehiculos\",col.ind=\"black\",\n",
    "                   invisible=\"quanti.sup\",col.var='red')\t\n",
    "fviz_add(gs,res_pca_na$quali.sup$coord,labelsize = 3,repel = TRUE,col='blue')  # Biplot+sup"
   ]
  },
  {
   "cell_type": "markdown",
   "metadata": {
    "id": "_S5VHyAB3oc4"
   },
   "source": [
    "De acuerdo con los anteriores gráficos y comparándolos con los realizados para individuos sin datos faltantes se puede concluir que visualmente los individuos y variables permanecieron casi constantes para un 5% de contaminación, es decir, no se notan cambios drásticos en los individuos, por ejemplo, que se desplacen de una zona del plano a otra, y mucho menos en las variables que siguen conservando las mismas direcciones con leves cambios en las inclinaciones.\n",
    "\n",
    "Una de las ventajas de la reconstitución presentada anteriormente, es que podemos fácilmente incluir variables suplementarias en el trabajo, y que en cierta medida nos está permitiendo interpretar, enriquecer y caracterizar de mejor manera la construcción de los ejes de los planos factoriales, así no participen en la construcción de los ejes.\n",
    "\n",
    "Como se explicó anteriormente, con datos faltantes (5%) las direcciones de las variables siguen siendo las mismas, por lo cual el índice “performance” de los vehículos por medio de las transformaciones no se puede construir, dado que a lo largo de la dimensión 1 no se explica el “performance”, es decir, no podemos identificar el mejor carro con este eje (no hay efecto talla).\n"
   ]
  },
  {
   "cell_type": "markdown",
   "metadata": {
    "id": "YsfxzzhsF79o"
   },
   "source": [
    "### Reconstitucion de variables\n",
    "\n",
    "En este apartado se aclara que una variable suplementaria como *Turbo*, la cual fue catalogada como suplementaria desde el inicio del trabajo, no puede ser reconstituida por el simple hecho de que ella no hizo parte de la construcción del ACP. Por otro lado sí podemos hacer dicha reconstitución para variable activas, por ejemplo *length*: \n",
    "\n",
    "Para la reconstitución de una variable(j) se tiene entonces que $ Z_{j}=\\Psi u_{i}' $, en este caso la variable *length* sería la correspondiente a j=2, dejando entonces la reconstitución como $ Z_{2}=\\Psi u_{2}' $, donde $ u_{i} $ (i-ésima fila de la matriz U) viene dada por\n",
    "\n",
    "$ u_{2}=[u_{2,1},u_{2,2},...,u_{2,13}] $ y $ \\Psi=[\\Psi_{1},\\Psi_{2},...,\\Psi_{13}] $\n",
    "\n",
    "A continuación se realizará para la base completa (sin NA)."
   ]
  },
  {
   "cell_type": "markdown",
   "metadata": {},
   "source": [
    "### Reconstitución con datos completos"
   ]
  },
  {
   "cell_type": "code",
   "execution_count": 51,
   "metadata": {
    "colab": {
     "base_uri": "https://localhost:8080/",
     "height": 220
    },
    "id": "lUlob2fUPboW",
    "outputId": "a655f924-045b-429d-fa71-94e6b852e91c"
   },
   "outputs": [
    {
     "name": "stdout",
     "output_type": "stream",
     "text": [
      "[1] \"Tabla 10: Reconstitución de la variable length con datos completos\"\n"
     ]
    },
    {
     "data": {
      "text/html": [
       "<table>\n",
       "<thead><tr><th></th><th scope=col>Reconstitucion_completa</th><th scope=col>Original_completa</th></tr></thead>\n",
       "<tbody>\n",
       "\t<tr><th scope=row>alfaromeo</th><td>-0.22453480</td><td>-0.22453480</td></tr>\n",
       "\t<tr><th scope=row>audi</th><td> 1.32938092</td><td> 1.32938092</td></tr>\n",
       "\t<tr><th scope=row>bmw</th><td> 0.18020604</td><td> 0.18020604</td></tr>\n",
       "\t<tr><th scope=row>chevrolet</th><td>-1.12074666</td><td>-1.12074666</td></tr>\n",
       "\t<tr><th scope=row>dodge1</th><td>-1.22915938</td><td>-1.22915938</td></tr>\n",
       "\t<tr><th scope=row>dodge2</th><td>-1.22915938</td><td>-1.22915938</td></tr>\n",
       "\t<tr><th scope=row>honda1</th><td>-1.75676798</td><td>-1.75676798</td></tr>\n",
       "\t<tr><th scope=row>honda2</th><td> 0.07902083</td><td> 0.07902083</td></tr>\n",
       "\t<tr><th scope=row>isuzu</th><td>-0.26067237</td><td>-0.26067237</td></tr>\n",
       "\t<tr><th scope=row>jaguar</th><td> 1.82807946</td><td> 1.82807946</td></tr>\n",
       "\t<tr><th scope=row>mazda</th><td>-0.54254546</td><td>-0.54254546</td></tr>\n",
       "\t<tr><th scope=row>mercedes</th><td> 2.04490491</td><td> 2.04490491</td></tr>\n",
       "\t<tr><th scope=row>mercury</th><td> 0.29584628</td><td> 0.29584628</td></tr>\n",
       "\t<tr><th scope=row>mitsubishi</th><td>-1.22915938</td><td>-1.22915938</td></tr>\n",
       "\t<tr><th scope=row>nissan1</th><td>-0.29680995</td><td>-0.29680995</td></tr>\n",
       "\t<tr><th scope=row>nissan2</th><td>-0.65095818</td><td>-0.65095818</td></tr>\n",
       "\t<tr><th scope=row>plymouth</th><td>-1.22915938</td><td>-1.22915938</td></tr>\n",
       "\t<tr><th scope=row>peugot</th><td> 1.77748685</td><td> 1.77748685</td></tr>\n",
       "\t<tr><th scope=row>porsche</th><td>-0.39076764</td><td>-0.39076764</td></tr>\n",
       "\t<tr><th scope=row>saab</th><td> 0.88850251</td><td> 0.88850251</td></tr>\n",
       "\t<tr><th scope=row>subaru</th><td>-0.16671468</td><td>-0.16671468</td></tr>\n",
       "\t<tr><th scope=row>toyota1</th><td>-1.12797417</td><td>-1.12797417</td></tr>\n",
       "\t<tr><th scope=row>toyota2</th><td>-0.57868303</td><td>-0.57868303</td></tr>\n",
       "\t<tr><th scope=row>toyota3</th><td> 0.13684095</td><td> 0.13684095</td></tr>\n",
       "\t<tr><th scope=row>toyota4</th><td> 0.09347586</td><td> 0.09347586</td></tr>\n",
       "\t<tr><th scope=row>volkswagen1</th><td>-0.18839722</td><td>-0.18839722</td></tr>\n",
       "\t<tr><th scope=row>volkswagen2</th><td> 0.42594155</td><td> 0.42594155</td></tr>\n",
       "\t<tr><th scope=row>volvo1</th><td> 1.04750784</td><td> 1.04750784</td></tr>\n",
       "\t<tr><th scope=row>volvo2</th><td> 1.04750784</td><td> 1.04750784</td></tr>\n",
       "\t<tr><th scope=row>volvo3</th><td> 1.04750784</td><td> 1.04750784</td></tr>\n",
       "</tbody>\n",
       "</table>\n"
      ],
      "text/latex": [
       "\\begin{tabular}{r|ll}\n",
       "  & Reconstitucion\\_completa & Original\\_completa\\\\\n",
       "\\hline\n",
       "\talfaromeo & -0.22453480 & -0.22453480\\\\\n",
       "\taudi &  1.32938092 &  1.32938092\\\\\n",
       "\tbmw &  0.18020604 &  0.18020604\\\\\n",
       "\tchevrolet & -1.12074666 & -1.12074666\\\\\n",
       "\tdodge1 & -1.22915938 & -1.22915938\\\\\n",
       "\tdodge2 & -1.22915938 & -1.22915938\\\\\n",
       "\thonda1 & -1.75676798 & -1.75676798\\\\\n",
       "\thonda2 &  0.07902083 &  0.07902083\\\\\n",
       "\tisuzu & -0.26067237 & -0.26067237\\\\\n",
       "\tjaguar &  1.82807946 &  1.82807946\\\\\n",
       "\tmazda & -0.54254546 & -0.54254546\\\\\n",
       "\tmercedes &  2.04490491 &  2.04490491\\\\\n",
       "\tmercury &  0.29584628 &  0.29584628\\\\\n",
       "\tmitsubishi & -1.22915938 & -1.22915938\\\\\n",
       "\tnissan1 & -0.29680995 & -0.29680995\\\\\n",
       "\tnissan2 & -0.65095818 & -0.65095818\\\\\n",
       "\tplymouth & -1.22915938 & -1.22915938\\\\\n",
       "\tpeugot &  1.77748685 &  1.77748685\\\\\n",
       "\tporsche & -0.39076764 & -0.39076764\\\\\n",
       "\tsaab &  0.88850251 &  0.88850251\\\\\n",
       "\tsubaru & -0.16671468 & -0.16671468\\\\\n",
       "\ttoyota1 & -1.12797417 & -1.12797417\\\\\n",
       "\ttoyota2 & -0.57868303 & -0.57868303\\\\\n",
       "\ttoyota3 &  0.13684095 &  0.13684095\\\\\n",
       "\ttoyota4 &  0.09347586 &  0.09347586\\\\\n",
       "\tvolkswagen1 & -0.18839722 & -0.18839722\\\\\n",
       "\tvolkswagen2 &  0.42594155 &  0.42594155\\\\\n",
       "\tvolvo1 &  1.04750784 &  1.04750784\\\\\n",
       "\tvolvo2 &  1.04750784 &  1.04750784\\\\\n",
       "\tvolvo3 &  1.04750784 &  1.04750784\\\\\n",
       "\\end{tabular}\n"
      ],
      "text/markdown": [
       "\n",
       "| <!--/--> | Reconstitucion_completa | Original_completa |\n",
       "|---|---|---|\n",
       "| alfaromeo | -0.22453480 | -0.22453480 |\n",
       "| audi |  1.32938092 |  1.32938092 |\n",
       "| bmw |  0.18020604 |  0.18020604 |\n",
       "| chevrolet | -1.12074666 | -1.12074666 |\n",
       "| dodge1 | -1.22915938 | -1.22915938 |\n",
       "| dodge2 | -1.22915938 | -1.22915938 |\n",
       "| honda1 | -1.75676798 | -1.75676798 |\n",
       "| honda2 |  0.07902083 |  0.07902083 |\n",
       "| isuzu | -0.26067237 | -0.26067237 |\n",
       "| jaguar |  1.82807946 |  1.82807946 |\n",
       "| mazda | -0.54254546 | -0.54254546 |\n",
       "| mercedes |  2.04490491 |  2.04490491 |\n",
       "| mercury |  0.29584628 |  0.29584628 |\n",
       "| mitsubishi | -1.22915938 | -1.22915938 |\n",
       "| nissan1 | -0.29680995 | -0.29680995 |\n",
       "| nissan2 | -0.65095818 | -0.65095818 |\n",
       "| plymouth | -1.22915938 | -1.22915938 |\n",
       "| peugot |  1.77748685 |  1.77748685 |\n",
       "| porsche | -0.39076764 | -0.39076764 |\n",
       "| saab |  0.88850251 |  0.88850251 |\n",
       "| subaru | -0.16671468 | -0.16671468 |\n",
       "| toyota1 | -1.12797417 | -1.12797417 |\n",
       "| toyota2 | -0.57868303 | -0.57868303 |\n",
       "| toyota3 |  0.13684095 |  0.13684095 |\n",
       "| toyota4 |  0.09347586 |  0.09347586 |\n",
       "| volkswagen1 | -0.18839722 | -0.18839722 |\n",
       "| volkswagen2 |  0.42594155 |  0.42594155 |\n",
       "| volvo1 |  1.04750784 |  1.04750784 |\n",
       "| volvo2 |  1.04750784 |  1.04750784 |\n",
       "| volvo3 |  1.04750784 |  1.04750784 |\n",
       "\n"
      ],
      "text/plain": [
       "            Reconstitucion_completa Original_completa\n",
       "alfaromeo   -0.22453480             -0.22453480      \n",
       "audi         1.32938092              1.32938092      \n",
       "bmw          0.18020604              0.18020604      \n",
       "chevrolet   -1.12074666             -1.12074666      \n",
       "dodge1      -1.22915938             -1.22915938      \n",
       "dodge2      -1.22915938             -1.22915938      \n",
       "honda1      -1.75676798             -1.75676798      \n",
       "honda2       0.07902083              0.07902083      \n",
       "isuzu       -0.26067237             -0.26067237      \n",
       "jaguar       1.82807946              1.82807946      \n",
       "mazda       -0.54254546             -0.54254546      \n",
       "mercedes     2.04490491              2.04490491      \n",
       "mercury      0.29584628              0.29584628      \n",
       "mitsubishi  -1.22915938             -1.22915938      \n",
       "nissan1     -0.29680995             -0.29680995      \n",
       "nissan2     -0.65095818             -0.65095818      \n",
       "plymouth    -1.22915938             -1.22915938      \n",
       "peugot       1.77748685              1.77748685      \n",
       "porsche     -0.39076764             -0.39076764      \n",
       "saab         0.88850251              0.88850251      \n",
       "subaru      -0.16671468             -0.16671468      \n",
       "toyota1     -1.12797417             -1.12797417      \n",
       "toyota2     -0.57868303             -0.57868303      \n",
       "toyota3      0.13684095              0.13684095      \n",
       "toyota4      0.09347586              0.09347586      \n",
       "volkswagen1 -0.18839722             -0.18839722      \n",
       "volkswagen2  0.42594155              0.42594155      \n",
       "volvo1       1.04750784              1.04750784      \n",
       "volvo2       1.04750784              1.04750784      \n",
       "volvo3       1.04750784              1.04750784      "
      ]
     },
     "metadata": {},
     "output_type": "display_data"
    }
   ],
   "source": [
    "recons_length=psi %*% t(U)[,2] ## reconstitucion datos completos\n",
    "\n",
    "compara_1<-data.frame(cbind(recons_length,Z[,2])) # Es la reconstitución de la matriz estandarizada. \n",
    "names(compara_1)<-c(\"Reconstitucion_completa\", \"Original_completa\")\n",
    "print(\"Tabla 10: Reconstitución de la variable length con datos completos\")\n",
    "compara_1\n"
   ]
  },
  {
   "cell_type": "markdown",
   "metadata": {},
   "source": [
    "### reconstitución con datos faltantes"
   ]
  },
  {
   "cell_type": "code",
   "execution_count": 52,
   "metadata": {},
   "outputs": [
    {
     "name": "stdout",
     "output_type": "stream",
     "text": [
      "[1] \"Tabla 11: Reconstitución de la variable length con NA\"\n"
     ]
    },
    {
     "data": {
      "text/html": [
       "<table>\n",
       "<thead><tr><th></th><th scope=col>Reconstitucion_NA</th><th scope=col>Original_NA</th></tr></thead>\n",
       "<tbody>\n",
       "\t<tr><th scope=row>alfaromeo</th><td>-0.20743803</td><td>-0.1687068 </td></tr>\n",
       "\t<tr><th scope=row>audi</th><td> 1.42389266</td><td> 1.4545754 </td></tr>\n",
       "\t<tr><th scope=row>bmw</th><td> 0.18166708</td><td> 0.2541016 </td></tr>\n",
       "\t<tr><th scope=row>chevrolet</th><td>-1.24026127</td><td>-1.1049253 </td></tr>\n",
       "\t<tr><th scope=row>dodge1</th><td>-1.27686114</td><td>-1.2181776 </td></tr>\n",
       "\t<tr><th scope=row>dodge2</th><td>-1.30709517</td><td>-1.2181776 </td></tr>\n",
       "\t<tr><th scope=row>honda1</th><td>-1.84079308</td><td>-1.7693385 </td></tr>\n",
       "\t<tr><th scope=row>honda2</th><td> 0.05771707</td><td> 0.1483995 </td></tr>\n",
       "\t<tr><th scope=row>isuzu</th><td>-0.26574456</td><td>-0.2064575 </td></tr>\n",
       "\t<tr><th scope=row>jaguar</th><td> 1.91551370</td><td>        NA </td></tr>\n",
       "\t<tr><th scope=row>mazda</th><td>-0.59343352</td><td>-0.5009134 </td></tr>\n",
       "\t<tr><th scope=row>mercedes</th><td> 2.10302241</td><td> 2.2020402 </td></tr>\n",
       "\t<tr><th scope=row>mercury</th><td> 0.38415279</td><td> 0.3749040 </td></tr>\n",
       "\t<tr><th scope=row>mitsubishi</th><td>-1.33406749</td><td>-1.2181776 </td></tr>\n",
       "\t<tr><th scope=row>nissan1</th><td>-0.31726990</td><td>-0.2442083 </td></tr>\n",
       "\t<tr><th scope=row>nissan2</th><td>-0.67767211</td><td>-0.6141656 </td></tr>\n",
       "\t<tr><th scope=row>plymouth</th><td>-1.30709517</td><td>-1.2181776 </td></tr>\n",
       "\t<tr><th scope=row>peugot</th><td> 1.87004792</td><td> 1.9226846 </td></tr>\n",
       "\t<tr><th scope=row>porsche</th><td>-0.35773025</td><td>-0.3423602 </td></tr>\n",
       "\t<tr><th scope=row>saab</th><td> 0.95933946</td><td> 0.9940162 </td></tr>\n",
       "\t<tr><th scope=row>subaru</th><td>-0.16988339</td><td>-0.1083056 </td></tr>\n",
       "\t<tr><th scope=row>toyota1</th><td>-1.18144007</td><td>-1.1124755 </td></tr>\n",
       "\t<tr><th scope=row>toyota2</th><td>-0.62552454</td><td>-0.5386641 </td></tr>\n",
       "\t<tr><th scope=row>toyota3</th><td> 0.15407855</td><td> 0.2088007 </td></tr>\n",
       "\t<tr><th scope=row>toyota4</th><td> 0.09034718</td><td> 0.1634998 </td></tr>\n",
       "\t<tr><th scope=row>volkswagen1</th><td>-0.21171465</td><td>-0.1309560 </td></tr>\n",
       "\t<tr><th scope=row>volkswagen2</th><td> 0.47057422</td><td> 0.5108067 </td></tr>\n",
       "\t<tr><th scope=row>volvo1</th><td> 1.10908108</td><td> 1.1601195 </td></tr>\n",
       "\t<tr><th scope=row>volvo2</th><td> 1.14903034</td><td> 1.1601195 </td></tr>\n",
       "\t<tr><th scope=row>volvo3</th><td> 1.04555989</td><td> 1.1601195 </td></tr>\n",
       "</tbody>\n",
       "</table>\n"
      ],
      "text/latex": [
       "\\begin{tabular}{r|ll}\n",
       "  & Reconstitucion\\_NA & Original\\_NA\\\\\n",
       "\\hline\n",
       "\talfaromeo & -0.20743803 & -0.1687068 \\\\\n",
       "\taudi &  1.42389266 &  1.4545754 \\\\\n",
       "\tbmw &  0.18166708 &  0.2541016 \\\\\n",
       "\tchevrolet & -1.24026127 & -1.1049253 \\\\\n",
       "\tdodge1 & -1.27686114 & -1.2181776 \\\\\n",
       "\tdodge2 & -1.30709517 & -1.2181776 \\\\\n",
       "\thonda1 & -1.84079308 & -1.7693385 \\\\\n",
       "\thonda2 &  0.05771707 &  0.1483995 \\\\\n",
       "\tisuzu & -0.26574456 & -0.2064575 \\\\\n",
       "\tjaguar &  1.91551370 &         NA \\\\\n",
       "\tmazda & -0.59343352 & -0.5009134 \\\\\n",
       "\tmercedes &  2.10302241 &  2.2020402 \\\\\n",
       "\tmercury &  0.38415279 &  0.3749040 \\\\\n",
       "\tmitsubishi & -1.33406749 & -1.2181776 \\\\\n",
       "\tnissan1 & -0.31726990 & -0.2442083 \\\\\n",
       "\tnissan2 & -0.67767211 & -0.6141656 \\\\\n",
       "\tplymouth & -1.30709517 & -1.2181776 \\\\\n",
       "\tpeugot &  1.87004792 &  1.9226846 \\\\\n",
       "\tporsche & -0.35773025 & -0.3423602 \\\\\n",
       "\tsaab &  0.95933946 &  0.9940162 \\\\\n",
       "\tsubaru & -0.16988339 & -0.1083056 \\\\\n",
       "\ttoyota1 & -1.18144007 & -1.1124755 \\\\\n",
       "\ttoyota2 & -0.62552454 & -0.5386641 \\\\\n",
       "\ttoyota3 &  0.15407855 &  0.2088007 \\\\\n",
       "\ttoyota4 &  0.09034718 &  0.1634998 \\\\\n",
       "\tvolkswagen1 & -0.21171465 & -0.1309560 \\\\\n",
       "\tvolkswagen2 &  0.47057422 &  0.5108067 \\\\\n",
       "\tvolvo1 &  1.10908108 &  1.1601195 \\\\\n",
       "\tvolvo2 &  1.14903034 &  1.1601195 \\\\\n",
       "\tvolvo3 &  1.04555989 &  1.1601195 \\\\\n",
       "\\end{tabular}\n"
      ],
      "text/markdown": [
       "\n",
       "| <!--/--> | Reconstitucion_NA | Original_NA |\n",
       "|---|---|---|\n",
       "| alfaromeo | -0.20743803 | -0.1687068  |\n",
       "| audi |  1.42389266 |  1.4545754  |\n",
       "| bmw |  0.18166708 |  0.2541016  |\n",
       "| chevrolet | -1.24026127 | -1.1049253  |\n",
       "| dodge1 | -1.27686114 | -1.2181776  |\n",
       "| dodge2 | -1.30709517 | -1.2181776  |\n",
       "| honda1 | -1.84079308 | -1.7693385  |\n",
       "| honda2 |  0.05771707 |  0.1483995  |\n",
       "| isuzu | -0.26574456 | -0.2064575  |\n",
       "| jaguar |  1.91551370 |         NA  |\n",
       "| mazda | -0.59343352 | -0.5009134  |\n",
       "| mercedes |  2.10302241 |  2.2020402  |\n",
       "| mercury |  0.38415279 |  0.3749040  |\n",
       "| mitsubishi | -1.33406749 | -1.2181776  |\n",
       "| nissan1 | -0.31726990 | -0.2442083  |\n",
       "| nissan2 | -0.67767211 | -0.6141656  |\n",
       "| plymouth | -1.30709517 | -1.2181776  |\n",
       "| peugot |  1.87004792 |  1.9226846  |\n",
       "| porsche | -0.35773025 | -0.3423602  |\n",
       "| saab |  0.95933946 |  0.9940162  |\n",
       "| subaru | -0.16988339 | -0.1083056  |\n",
       "| toyota1 | -1.18144007 | -1.1124755  |\n",
       "| toyota2 | -0.62552454 | -0.5386641  |\n",
       "| toyota3 |  0.15407855 |  0.2088007  |\n",
       "| toyota4 |  0.09034718 |  0.1634998  |\n",
       "| volkswagen1 | -0.21171465 | -0.1309560  |\n",
       "| volkswagen2 |  0.47057422 |  0.5108067  |\n",
       "| volvo1 |  1.10908108 |  1.1601195  |\n",
       "| volvo2 |  1.14903034 |  1.1601195  |\n",
       "| volvo3 |  1.04555989 |  1.1601195  |\n",
       "\n"
      ],
      "text/plain": [
       "            Reconstitucion_NA Original_NA\n",
       "alfaromeo   -0.20743803       -0.1687068 \n",
       "audi         1.42389266        1.4545754 \n",
       "bmw          0.18166708        0.2541016 \n",
       "chevrolet   -1.24026127       -1.1049253 \n",
       "dodge1      -1.27686114       -1.2181776 \n",
       "dodge2      -1.30709517       -1.2181776 \n",
       "honda1      -1.84079308       -1.7693385 \n",
       "honda2       0.05771707        0.1483995 \n",
       "isuzu       -0.26574456       -0.2064575 \n",
       "jaguar       1.91551370               NA \n",
       "mazda       -0.59343352       -0.5009134 \n",
       "mercedes     2.10302241        2.2020402 \n",
       "mercury      0.38415279        0.3749040 \n",
       "mitsubishi  -1.33406749       -1.2181776 \n",
       "nissan1     -0.31726990       -0.2442083 \n",
       "nissan2     -0.67767211       -0.6141656 \n",
       "plymouth    -1.30709517       -1.2181776 \n",
       "peugot       1.87004792        1.9226846 \n",
       "porsche     -0.35773025       -0.3423602 \n",
       "saab         0.95933946        0.9940162 \n",
       "subaru      -0.16988339       -0.1083056 \n",
       "toyota1     -1.18144007       -1.1124755 \n",
       "toyota2     -0.62552454       -0.5386641 \n",
       "toyota3      0.15407855        0.2088007 \n",
       "toyota4      0.09034718        0.1634998 \n",
       "volkswagen1 -0.21171465       -0.1309560 \n",
       "volkswagen2  0.47057422        0.5108067 \n",
       "volvo1       1.10908108        1.1601195 \n",
       "volvo2       1.14903034        1.1601195 \n",
       "volvo3       1.04555989        1.1601195 "
      ]
     },
     "metadata": {},
     "output_type": "display_data"
    }
   ],
   "source": [
    "recons_length_na=nipals_na$ind_coord %*% t(nipals_na$U)[,2] \n",
    "compara_2=data.frame(cbind(recons_length_na,scale(active_with_na$length)*sqrt(n/(n-1)))) \n",
    "print(\"Tabla 11: Reconstitución de la variable length con NA\")\n",
    "names(compara_2)<-c(\"Reconstitucion_NA\", \"Original_NA\")\n",
    "compara_2"
   ]
  },
  {
   "cell_type": "markdown",
   "metadata": {},
   "source": [
    "De las tablas 10 y 11, se puede observar cómo la reconstitucion de una variable con datos completos es exactamente igual a la original, mientras que cuando hay NA, la reconstitución cambia todos los valores de la variable (ligeramente), pero se mantiene la \"misma\" información. Este análisis se puede realizar para difetentes niveles de contaminación en el dataset y saber hasta que punto se deforman las relaciones."
   ]
  },
  {
   "cell_type": "markdown",
   "metadata": {},
   "source": []
  }
 ],
 "metadata": {
  "colab": {
   "collapsed_sections": [],
   "name": "tarea.ipynb",
   "provenance": []
  },
  "kernelspec": {
   "display_name": "R",
   "language": "R",
   "name": "ir"
  },
  "language_info": {
   "codemirror_mode": "r",
   "file_extension": ".r",
   "mimetype": "text/x-r-source",
   "name": "R",
   "pygments_lexer": "r",
   "version": "3.6.1"
  }
 },
 "nbformat": 4,
 "nbformat_minor": 1
}
