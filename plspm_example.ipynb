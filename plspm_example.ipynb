{
 "cells": [
  {
   "cell_type": "markdown",
   "id": "progressive-canada",
   "metadata": {},
   "source": [
    "# Ejemplo aplicación de PLSPM\n",
    "___\n",
    "**Autores:** Wilmar Sepulveda - Luis Esteban Garcia\n",
    "\n",
    "**Institución:** Escuela de estadística - Universidad del Valle\n",
    "___\n",
    "\n",
    "\n"
   ]
  },
  {
   "cell_type": "markdown",
   "id": "pleasant-industry",
   "metadata": {},
   "source": [
    "## Software, librerías y datos\n",
    "Se utiliza el software R y la librería *plspm* "
   ]
  },
  {
   "cell_type": "code",
   "execution_count": 91,
   "id": "wound-variance",
   "metadata": {},
   "outputs": [],
   "source": [
    "#install.packages('devtools')\n",
    "library(devtools)\n",
    "#install_github(\"gastonstat/plspm\") ## Instalamos plspm del github de Gaston Sanchez\n",
    "library(plspm)"
   ]
  },
  {
   "cell_type": "markdown",
   "id": "adjacent-bunny",
   "metadata": {},
   "source": [
    "Para mostrar un ejemplo de análisis de con *plspm()*, utilizaremos el conjunto de datos **russett**\n",
    "que es uno de los ejemplos tradicionales para presentar PLS-PM. \n",
    "\n",
    "Los datos contienen 11 variables sobre la desigualdad agrícola, el desarrollo industrial y la\n",
    "inestabilidad política medidos en 47 países"
   ]
  },
  {
   "cell_type": "markdown",
   "id": "funny-berkeley",
   "metadata": {},
   "source": [
    "                               Tabla 1: Descripción de variables en el dataset\n",
    "\n",
    "| Variable  | Descripción                                                 | Bloque | Tipo       |\n",
    "|-----------|-------------------------------------------------------------|--------|------------|\n",
    "| gini      | Desigualdad en la distribución de la tierra                 | AGRIN  | Continua   |\n",
    "| farm      | Porcentaje de agricultores que poseen la mitad de la tierra | AGRIN  | Continua   |\n",
    "| rent      | Porcentaje de agricultores que alquilan toda su tierra      | AGRIN  | Continua   |\n",
    "| gnpr      | Producto nacional bruto per cápita                          | INDEV  | Continua   |\n",
    "| labo      | Porcentaje de la mano de obra empleada en la agricultura    | INDEV  | Continua   |\n",
    "| inst      | Inestabilidad del ejecutivo                                 | POLINS | Continua   |\n",
    "| ecks      | Número de incidentes violentos de guerra interna            | POLINS | Continua   |\n",
    "| death     | Número muertos como resultado de la violencia               | POLINS | Continua   |\n",
    "| demostab  | Régimen político: democracia estable                        | POLINS | Dicotómica |\n",
    "| demoinst  | Régimen político: democracia inestable                      | POLINS | Dicotómica |\n",
    "| dictator  | Régimen político: dictadura                                 | POLINS | Dicotómica |\n"
   ]
  },
  {
   "cell_type": "markdown",
   "id": "remarkable-johnson",
   "metadata": {},
   "source": [
    "El conjunto de datos russet luce de la siguiente manera"
   ]
  },
  {
   "cell_type": "code",
   "execution_count": 92,
   "id": "conceptual-phase",
   "metadata": {},
   "outputs": [
    {
     "name": "stdout",
     "output_type": "stream",
     "text": [
      "[1] 47 11\n"
     ]
    },
    {
     "data": {
      "text/html": [
       "<table>\n",
       "<thead><tr><th></th><th scope=col>gini</th><th scope=col>farm</th><th scope=col>rent</th><th scope=col>gnpr</th><th scope=col>labo</th><th scope=col>inst</th><th scope=col>ecks</th><th scope=col>death</th><th scope=col>demostab</th><th scope=col>demoinst</th><th scope=col>dictator</th></tr></thead>\n",
       "<tbody>\n",
       "\t<tr><th scope=row>Argentina</th><td>86.3</td><td>98.2</td><td>3.52</td><td>5.92</td><td>3.22</td><td>0.07</td><td>4.06</td><td>5.38</td><td>0   </td><td>1   </td><td>0   </td></tr>\n",
       "\t<tr><th scope=row>Australia</th><td>92.9</td><td>99.6</td><td>3.40</td><td>7.10</td><td>2.64</td><td>0.01</td><td>0.00</td><td>0.00</td><td>1   </td><td>0   </td><td>0   </td></tr>\n",
       "\t<tr><th scope=row>Austria</th><td>74.0</td><td>97.4</td><td>2.46</td><td>6.28</td><td>3.47</td><td>0.03</td><td>1.61</td><td>0.00</td><td>0   </td><td>1   </td><td>0   </td></tr>\n",
       "\t<tr><th scope=row>Belgium</th><td>58.7</td><td>85.8</td><td>4.15</td><td>6.92</td><td>2.30</td><td>0.45</td><td>2.20</td><td>0.69</td><td>1   </td><td>0   </td><td>0   </td></tr>\n",
       "\t<tr><th scope=row>Bolivia</th><td>93.8</td><td>97.7</td><td>3.04</td><td>4.19</td><td>4.28</td><td>0.37</td><td>3.99</td><td>6.50</td><td>0   </td><td>0   </td><td>1   </td></tr>\n",
       "\t<tr><th scope=row>Brasil</th><td>83.7</td><td>98.5</td><td>2.31</td><td>5.57</td><td>4.11</td><td>0.45</td><td>3.91</td><td>0.69</td><td>0   </td><td>1   </td><td>0   </td></tr>\n",
       "</tbody>\n",
       "</table>\n"
      ],
      "text/latex": [
       "\\begin{tabular}{r|lllllllllll}\n",
       "  & gini & farm & rent & gnpr & labo & inst & ecks & death & demostab & demoinst & dictator\\\\\n",
       "\\hline\n",
       "\tArgentina & 86.3 & 98.2 & 3.52 & 5.92 & 3.22 & 0.07 & 4.06 & 5.38 & 0    & 1    & 0   \\\\\n",
       "\tAustralia & 92.9 & 99.6 & 3.40 & 7.10 & 2.64 & 0.01 & 0.00 & 0.00 & 1    & 0    & 0   \\\\\n",
       "\tAustria & 74.0 & 97.4 & 2.46 & 6.28 & 3.47 & 0.03 & 1.61 & 0.00 & 0    & 1    & 0   \\\\\n",
       "\tBelgium & 58.7 & 85.8 & 4.15 & 6.92 & 2.30 & 0.45 & 2.20 & 0.69 & 1    & 0    & 0   \\\\\n",
       "\tBolivia & 93.8 & 97.7 & 3.04 & 4.19 & 4.28 & 0.37 & 3.99 & 6.50 & 0    & 0    & 1   \\\\\n",
       "\tBrasil & 83.7 & 98.5 & 2.31 & 5.57 & 4.11 & 0.45 & 3.91 & 0.69 & 0    & 1    & 0   \\\\\n",
       "\\end{tabular}\n"
      ],
      "text/markdown": [
       "\n",
       "| <!--/--> | gini | farm | rent | gnpr | labo | inst | ecks | death | demostab | demoinst | dictator |\n",
       "|---|---|---|---|---|---|---|---|---|---|---|---|\n",
       "| Argentina | 86.3 | 98.2 | 3.52 | 5.92 | 3.22 | 0.07 | 4.06 | 5.38 | 0    | 1    | 0    |\n",
       "| Australia | 92.9 | 99.6 | 3.40 | 7.10 | 2.64 | 0.01 | 0.00 | 0.00 | 1    | 0    | 0    |\n",
       "| Austria | 74.0 | 97.4 | 2.46 | 6.28 | 3.47 | 0.03 | 1.61 | 0.00 | 0    | 1    | 0    |\n",
       "| Belgium | 58.7 | 85.8 | 4.15 | 6.92 | 2.30 | 0.45 | 2.20 | 0.69 | 1    | 0    | 0    |\n",
       "| Bolivia | 93.8 | 97.7 | 3.04 | 4.19 | 4.28 | 0.37 | 3.99 | 6.50 | 0    | 0    | 1    |\n",
       "| Brasil | 83.7 | 98.5 | 2.31 | 5.57 | 4.11 | 0.45 | 3.91 | 0.69 | 0    | 1    | 0    |\n",
       "\n"
      ],
      "text/plain": [
       "          gini farm rent gnpr labo inst ecks death demostab demoinst dictator\n",
       "Argentina 86.3 98.2 3.52 5.92 3.22 0.07 4.06 5.38  0        1        0       \n",
       "Australia 92.9 99.6 3.40 7.10 2.64 0.01 0.00 0.00  1        0        0       \n",
       "Austria   74.0 97.4 2.46 6.28 3.47 0.03 1.61 0.00  0        1        0       \n",
       "Belgium   58.7 85.8 4.15 6.92 2.30 0.45 2.20 0.69  1        0        0       \n",
       "Bolivia   93.8 97.7 3.04 4.19 4.28 0.37 3.99 6.50  0        0        1       \n",
       "Brasil    83.7 98.5 2.31 5.57 4.11 0.45 3.91 0.69  0        1        0       "
      ]
     },
     "metadata": {},
     "output_type": "display_data"
    }
   ],
   "source": [
    "data(russett)\n",
    "print( dim(russett))\n",
    "head(russett)"
   ]
  },
  {
   "cell_type": "markdown",
   "id": "foreign-stylus",
   "metadata": {},
   "source": [
    "El modelo estructural propuesto consta de tres variables latentes: La desigualdad agrícola (AGRIN), el desarrollo industrial (INDEV) y la inestabilidad política (POLINS). \n",
    "\n",
    "La hopótesis para explicar la relación entre las variables latentes es la siguiente: ***La Inestabilidad Política de un país depende tanto de su Desigualdad Agrícola y de su Desarrollo Industrial***, de forma matemática se puede expresar el modelo como.\n",
    "\n",
    "$$POLINS = \\beta_1AGRIN + \\beta_2 INDEV$$\n",
    "\n",
    "Además de los datos, los otros ingredientes principales que necesitamos para realizar un análisis PLS-PM son: un modelo interno (es decir, un modelo estructural) y un modelo externo (es decir, un modelo de medición), la siguiente figura resume el modelo propuesto.\n",
    "<img src=\"multi.jpg\">"
   ]
  },
  {
   "cell_type": "markdown",
   "id": "technical-difference",
   "metadata": {},
   "source": [
    "### Definición del modelo interno (estructural)\n",
    "\n",
    "Lo primero que hay que hacer es definir el modelo interno en formato de matriz. Más específicamente, esto implica que se necesita necesita proporcionar las relaciones estructurales en lo que llamamos una matriz de trayectorias"
   ]
  },
  {
   "cell_type": "code",
   "execution_count": 93,
   "id": "fuzzy-housing",
   "metadata": {},
   "outputs": [
    {
     "data": {
      "text/html": [
       "<table>\n",
       "<thead><tr><th></th><th scope=col>AGRIN</th><th scope=col>INDEV</th><th scope=col>POLINS</th></tr></thead>\n",
       "<tbody>\n",
       "\t<tr><th scope=row>AGRIN</th><td>0</td><td>0</td><td>0</td></tr>\n",
       "\t<tr><th scope=row>INDEV</th><td>0</td><td>0</td><td>0</td></tr>\n",
       "\t<tr><th scope=row>POLINS</th><td>1</td><td>1</td><td>0</td></tr>\n",
       "</tbody>\n",
       "</table>\n"
      ],
      "text/latex": [
       "\\begin{tabular}{r|lll}\n",
       "  & AGRIN & INDEV & POLINS\\\\\n",
       "\\hline\n",
       "\tAGRIN & 0 & 0 & 0\\\\\n",
       "\tINDEV & 0 & 0 & 0\\\\\n",
       "\tPOLINS & 1 & 1 & 0\\\\\n",
       "\\end{tabular}\n"
      ],
      "text/markdown": [
       "\n",
       "| <!--/--> | AGRIN | INDEV | POLINS |\n",
       "|---|---|---|---|\n",
       "| AGRIN | 0 | 0 | 0 |\n",
       "| INDEV | 0 | 0 | 0 |\n",
       "| POLINS | 1 | 1 | 0 |\n",
       "\n"
      ],
      "text/plain": [
       "       AGRIN INDEV POLINS\n",
       "AGRIN  0     0     0     \n",
       "INDEV  0     0     0     \n",
       "POLINS 1     1     0     "
      ]
     },
     "metadata": {},
     "output_type": "display_data"
    }
   ],
   "source": [
    "# matriz de trayectorias (relaciones en el modelo interno)\n",
    "AGRIN = c(0, 0, 0)\n",
    "INDEV = c(0, 0, 0)\n",
    "POLINS = c(1, 1, 0)\n",
    "rus_path = rbind(AGRIN, INDEV, POLINS)\n",
    "colnames(rus_path) = rownames(rus_path)\n",
    "rus_path"
   ]
  },
  {
   "cell_type": "markdown",
   "id": "southwest-protection",
   "metadata": {},
   "source": [
    "La matriz de ruta debe ser triangular superior, debe leerse como \"columnas que afectan a las filas\". un número 1 en la celda $i,j$ indica que la columna $j$ afecta a la fila $i$, por ejemplo, el uno en la celda (3,1) indica que AGRIN afecta a POLINS, los ceros en la diagonal, indican que una variable latente no se afecta a sí misma y los ceros por encima de la diagonal implican que PLS-PM sólo funciona con modelos no recursivos (sin bucles en el modelo interno)."
   ]
  },
  {
   "cell_type": "code",
   "execution_count": 94,
   "id": "activated-wildlife",
   "metadata": {},
   "outputs": [
    {
     "data": {
      "image/png": "[encoded data removed]",
      "text/plain": [
       "Plot with title \"\""
      ]
     },
     "metadata": {},
     "output_type": "display_data"
    }
   ],
   "source": [
    "options(repr.plot.width=4, repr.plot.height=4) ## personaliza el tamaño de los gráficos\n",
    "innerplot(rus_path)  ## visualiza la matriz de trayectorias"
   ]
  },
  {
   "cell_type": "markdown",
   "id": "noticed-lindsay",
   "metadata": {},
   "source": [
    "### Definición del modelo externo (de medida)"
   ]
  },
  {
   "cell_type": "markdown",
   "id": "excessive-terrace",
   "metadata": {},
   "source": [
    "Para denotar el modelo externo, se crea un objeto tipo lista, cuyo objetivo es, básicamente indicar a la función *plspm()* qué variables del conjunto de datos están asociadas a cada una de las variables latentes."
   ]
  },
  {
   "cell_type": "code",
   "execution_count": 95,
   "id": "increasing-correspondence",
   "metadata": {},
   "outputs": [
    {
     "data": {
      "text/html": [
       "<ol>\n",
       "\t<li><ol class=list-inline>\n",
       "\t<li>'gini'</li>\n",
       "\t<li>'farm'</li>\n",
       "\t<li>'rent'</li>\n",
       "</ol>\n",
       "</li>\n",
       "\t<li><ol class=list-inline>\n",
       "\t<li>'gnpr'</li>\n",
       "\t<li>'labo'</li>\n",
       "</ol>\n",
       "</li>\n",
       "\t<li><ol class=list-inline>\n",
       "\t<li>'inst'</li>\n",
       "\t<li>'ecks'</li>\n",
       "\t<li>'death'</li>\n",
       "\t<li>'demostab'</li>\n",
       "\t<li>'demoinst'</li>\n",
       "\t<li>'dictator'</li>\n",
       "</ol>\n",
       "</li>\n",
       "</ol>\n"
      ],
      "text/latex": [
       "\\begin{enumerate}\n",
       "\\item \\begin{enumerate*}\n",
       "\\item 'gini'\n",
       "\\item 'farm'\n",
       "\\item 'rent'\n",
       "\\end{enumerate*}\n",
       "\n",
       "\\item \\begin{enumerate*}\n",
       "\\item 'gnpr'\n",
       "\\item 'labo'\n",
       "\\end{enumerate*}\n",
       "\n",
       "\\item \\begin{enumerate*}\n",
       "\\item 'inst'\n",
       "\\item 'ecks'\n",
       "\\item 'death'\n",
       "\\item 'demostab'\n",
       "\\item 'demoinst'\n",
       "\\item 'dictator'\n",
       "\\end{enumerate*}\n",
       "\n",
       "\\end{enumerate}\n"
      ],
      "text/markdown": [
       "1. 1. 'gini'\n",
       "2. 'farm'\n",
       "3. 'rent'\n",
       "\n",
       "\n",
       "\n",
       "2. 1. 'gnpr'\n",
       "2. 'labo'\n",
       "\n",
       "\n",
       "\n",
       "3. 1. 'inst'\n",
       "2. 'ecks'\n",
       "3. 'death'\n",
       "4. 'demostab'\n",
       "5. 'demoinst'\n",
       "6. 'dictator'\n",
       "\n",
       "\n",
       "\n",
       "\n",
       "\n"
      ],
      "text/plain": [
       "[[1]]\n",
       "[1] \"gini\" \"farm\" \"rent\"\n",
       "\n",
       "[[2]]\n",
       "[1] \"gnpr\" \"labo\"\n",
       "\n",
       "[[3]]\n",
       "[1] \"inst\"     \"ecks\"     \"death\"    \"demostab\" \"demoinst\" \"dictator\"\n"
      ]
     },
     "metadata": {},
     "output_type": "display_data"
    }
   ],
   "source": [
    "# Lista que indica qué variables estan asociadas con cada variable latente\n",
    "rus_blocks = list(\n",
    "  c(\"gini\", \"farm\", \"rent\"),\n",
    "  c(\"gnpr\", \"labo\"),\n",
    "  c(\"inst\", \"ecks\", \"death\", \"demostab\", \"demoinst\", \"dictator\")\n",
    ")\n",
    "\n",
    "rus_blocks"
   ]
  },
  {
   "cell_type": "markdown",
   "id": "overhead-courtesy",
   "metadata": {},
   "source": [
    "Por defecto, plspm() establecerá la medición de las variables latentes en modo refectivo, conocido como modo $A$ en el mundo del PLSPM. Sin embargo, es una buena idea si proporciona explícitamente el vector de modos de medición utilizando un vector de caractéres con tantas letras $A$ como variables latentes."
   ]
  },
  {
   "cell_type": "code",
   "execution_count": 96,
   "id": "cordless-touch",
   "metadata": {},
   "outputs": [
    {
     "data": {
      "text/html": [
       "<ol class=list-inline>\n",
       "\t<li>'A'</li>\n",
       "\t<li>'A'</li>\n",
       "\t<li>'A'</li>\n",
       "</ol>\n"
      ],
      "text/latex": [
       "\\begin{enumerate*}\n",
       "\\item 'A'\n",
       "\\item 'A'\n",
       "\\item 'A'\n",
       "\\end{enumerate*}\n"
      ],
      "text/markdown": [
       "1. 'A'\n",
       "2. 'A'\n",
       "3. 'A'\n",
       "\n",
       "\n"
      ],
      "text/plain": [
       "[1] \"A\" \"A\" \"A\""
      ]
     },
     "metadata": {},
     "output_type": "display_data"
    }
   ],
   "source": [
    "# Todas las variables latentes se miden en modo reflectivo\n",
    "rus_modes = rep(\"A\", 3)\n",
    "rus_modes"
   ]
  },
  {
   "cell_type": "markdown",
   "id": "inside-portugal",
   "metadata": {},
   "source": [
    "## Iterando el PLS-PM\n",
    "Habiendo definido el modelo interno, el modelo externo y los modos de medición, se puede correr la función *plspm()* que tendrá en cuenta dichas definiciones, la interpretación de los resultados se realiza en dos etapas: la evaluación del modelo de medida (o externo) y la evaluación del modelo estructural (o interno), en ese orden:"
   ]
  },
  {
   "cell_type": "code",
   "execution_count": 97,
   "id": "affecting-andrews",
   "metadata": {},
   "outputs": [
    {
     "data": {
      "text/plain": [
       "Partial Least Squares Path Modeling (PLS-PM) \n",
       "---------------------------------------------\n",
       "   NAME             DESCRIPTION\n",
       "1  $outer_model     outer model\n",
       "2  $inner_model     inner model\n",
       "3  $path_coefs      path coefficients matrix\n",
       "4  $scores          latent variable scores\n",
       "5  $crossloadings   cross-loadings\n",
       "6  $inner_summary   summary inner model\n",
       "7  $effects         total effects\n",
       "8  $unidim          unidimensionality\n",
       "9  $gof             goodness-of-fit\n",
       "10 $boot            bootstrap results\n",
       "11 $data            data matrix\n",
       "---------------------------------------------\n",
       "You can also use the function 'summary' \n"
      ]
     },
     "metadata": {},
     "output_type": "display_data"
    }
   ],
   "source": [
    "# run plspm analysis\n",
    "rus_pls = plspm(russett, rus_path, rus_blocks, modes = rus_modes)\n",
    "\n",
    "rus_pls"
   ]
  },
  {
   "cell_type": "markdown",
   "id": "grateful-oregon",
   "metadata": {},
   "source": [
    "El objeto *rus_pls* contiene todos los resultados derivados del PLSPM, por ejempli si se quiere examinar la matriz de coeficientes de trayectoria"
   ]
  },
  {
   "cell_type": "markdown",
   "id": "afraid-copper",
   "metadata": {},
   "source": [
    "### valoración del modelo de medida"
   ]
  },
  {
   "cell_type": "markdown",
   "id": "organizational-conservation",
   "metadata": {},
   "source": [
    "1) unidimensionalidad de las variables manifiestas:\n",
    "En PLS-PM tenemos 3 indices que nos permiten evaluar la unidimensionalidad: *El alpha de Cronbach*, el *rho de Dillon-Goldstein* y el primer valor propio de la matriz de  correlaciones de las variables manifiestas"
   ]
  },
  {
   "cell_type": "code",
   "execution_count": 98,
   "id": "dominant-fighter",
   "metadata": {},
   "outputs": [
    {
     "data": {
      "text/html": [
       "<table>\n",
       "<thead><tr><th></th><th scope=col>Mode</th><th scope=col>MVs</th><th scope=col>C.alpha</th><th scope=col>DG.rho</th><th scope=col>eig.1st</th><th scope=col>eig.2nd</th></tr></thead>\n",
       "<tbody>\n",
       "\t<tr><th scope=row>AGRIN</th><td>A           </td><td>3           </td><td>0.8232005   </td><td>8.982412e-01</td><td>2.251986    </td><td>0.6887036   </td></tr>\n",
       "\t<tr><th scope=row>INDEV</th><td>A           </td><td>2           </td><td>0.0000000   </td><td>2.666533e-31</td><td>1.815101    </td><td>0.1848986   </td></tr>\n",
       "\t<tr><th scope=row>POLINS</th><td>A           </td><td>6           </td><td>0.0000000   </td><td>5.473573e-01</td><td>2.722370    </td><td>1.6890693   </td></tr>\n",
       "</tbody>\n",
       "</table>\n"
      ],
      "text/latex": [
       "\\begin{tabular}{r|llllll}\n",
       "  & Mode & MVs & C.alpha & DG.rho & eig.1st & eig.2nd\\\\\n",
       "\\hline\n",
       "\tAGRIN & A            & 3            & 0.8232005    & 8.982412e-01 & 2.251986     & 0.6887036   \\\\\n",
       "\tINDEV & A            & 2            & 0.0000000    & 2.666533e-31 & 1.815101     & 0.1848986   \\\\\n",
       "\tPOLINS & A            & 6            & 0.0000000    & 5.473573e-01 & 2.722370     & 1.6890693   \\\\\n",
       "\\end{tabular}\n"
      ],
      "text/markdown": [
       "\n",
       "| <!--/--> | Mode | MVs | C.alpha | DG.rho | eig.1st | eig.2nd |\n",
       "|---|---|---|---|---|---|---|\n",
       "| AGRIN | A            | 3            | 0.8232005    | 8.982412e-01 | 2.251986     | 0.6887036    |\n",
       "| INDEV | A            | 2            | 0.0000000    | 2.666533e-31 | 1.815101     | 0.1848986    |\n",
       "| POLINS | A            | 6            | 0.0000000    | 5.473573e-01 | 2.722370     | 1.6890693    |\n",
       "\n"
      ],
      "text/plain": [
       "       Mode MVs C.alpha   DG.rho       eig.1st  eig.2nd  \n",
       "AGRIN  A    3   0.8232005 8.982412e-01 2.251986 0.6887036\n",
       "INDEV  A    2   0.0000000 2.666533e-31 1.815101 0.1848986\n",
       "POLINS A    6   0.0000000 5.473573e-01 2.722370 1.6890693"
      ]
     },
     "metadata": {},
     "output_type": "display_data"
    }
   ],
   "source": [
    "# imprimimos los indices de unidimensionalidad\n",
    "rus_pls$unidim\n"
   ]
  },
  {
   "cell_type": "markdown",
   "id": "czech-optimum",
   "metadata": {},
   "source": [
    "Recordemos que para que un bloque se considere unidimensional u homogeneo, debe tener un alpha de Cronbach mayor que 0.7, un rho de Dillon-Goldstein mayor que 0.7 o un primer valor propio mayor que 1. En este caso, podemos decir que INDEV y POLINS no son unidimensionales"
   ]
  },
  {
   "cell_type": "code",
   "execution_count": 99,
   "id": "genuine-modern",
   "metadata": {},
   "outputs": [
    {
     "data": {
      "text/html": [
       "<table>\n",
       "<thead><tr><th></th><th scope=col>name</th><th scope=col>block</th><th scope=col>weight</th><th scope=col>loading</th><th scope=col>communality</th><th scope=col>redundancy</th></tr></thead>\n",
       "<tbody>\n",
       "\t<tr><th scope=row>4</th><td>gnpr       </td><td>INDEV      </td><td>-0.51122014</td><td> 0.95010526</td><td>0.902700010</td><td>0.00000000 </td></tr>\n",
       "\t<tr><th scope=row>5</th><td>labo       </td><td>INDEV      </td><td> 0.53844233</td><td>-0.95513860</td><td>0.912289754</td><td>0.00000000 </td></tr>\n",
       "\t<tr><th scope=row>6</th><td>inst       </td><td>POLINS     </td><td> 0.10398720</td><td> 0.35159296</td><td>0.123617607</td><td>0.07693877 </td></tr>\n",
       "\t<tr><th scope=row>7</th><td>ecks       </td><td>POLINS     </td><td> 0.27000262</td><td> 0.81570461</td><td>0.665374005</td><td>0.41412435 </td></tr>\n",
       "\t<tr><th scope=row>8</th><td>death      </td><td>POLINS     </td><td> 0.30231060</td><td> 0.79388313</td><td>0.630250430</td><td>0.39226367 </td></tr>\n",
       "\t<tr><th scope=row>9</th><td>demostab   </td><td>POLINS     </td><td>-0.33629927</td><td>-0.86570450</td><td>0.749444276</td><td>0.46644912 </td></tr>\n",
       "\t<tr><th scope=row>10</th><td>demoinst   </td><td>POLINS     </td><td> 0.03686531</td><td> 0.09430616</td><td>0.008893652</td><td>0.00553535 </td></tr>\n",
       "\t<tr><th scope=row>11</th><td>dictator   </td><td>POLINS     </td><td> 0.28455385</td><td> 0.73302381</td><td>0.537323908</td><td>0.33442682 </td></tr>\n",
       "</tbody>\n",
       "</table>\n"
      ],
      "text/latex": [
       "\\begin{tabular}{r|llllll}\n",
       "  & name & block & weight & loading & communality & redundancy\\\\\n",
       "\\hline\n",
       "\t4 & gnpr        & INDEV       & -0.51122014 &  0.95010526 & 0.902700010 & 0.00000000 \\\\\n",
       "\t5 & labo        & INDEV       &  0.53844233 & -0.95513860 & 0.912289754 & 0.00000000 \\\\\n",
       "\t6 & inst        & POLINS      &  0.10398720 &  0.35159296 & 0.123617607 & 0.07693877 \\\\\n",
       "\t7 & ecks        & POLINS      &  0.27000262 &  0.81570461 & 0.665374005 & 0.41412435 \\\\\n",
       "\t8 & death       & POLINS      &  0.30231060 &  0.79388313 & 0.630250430 & 0.39226367 \\\\\n",
       "\t9 & demostab    & POLINS      & -0.33629927 & -0.86570450 & 0.749444276 & 0.46644912 \\\\\n",
       "\t10 & demoinst    & POLINS      &  0.03686531 &  0.09430616 & 0.008893652 & 0.00553535 \\\\\n",
       "\t11 & dictator    & POLINS      &  0.28455385 &  0.73302381 & 0.537323908 & 0.33442682 \\\\\n",
       "\\end{tabular}\n"
      ],
      "text/markdown": [
       "\n",
       "| <!--/--> | name | block | weight | loading | communality | redundancy |\n",
       "|---|---|---|---|---|---|---|\n",
       "| 4 | gnpr        | INDEV       | -0.51122014 |  0.95010526 | 0.902700010 | 0.00000000  |\n",
       "| 5 | labo        | INDEV       |  0.53844233 | -0.95513860 | 0.912289754 | 0.00000000  |\n",
       "| 6 | inst        | POLINS      |  0.10398720 |  0.35159296 | 0.123617607 | 0.07693877  |\n",
       "| 7 | ecks        | POLINS      |  0.27000262 |  0.81570461 | 0.665374005 | 0.41412435  |\n",
       "| 8 | death       | POLINS      |  0.30231060 |  0.79388313 | 0.630250430 | 0.39226367  |\n",
       "| 9 | demostab    | POLINS      | -0.33629927 | -0.86570450 | 0.749444276 | 0.46644912  |\n",
       "| 10 | demoinst    | POLINS      |  0.03686531 |  0.09430616 | 0.008893652 | 0.00553535  |\n",
       "| 11 | dictator    | POLINS      |  0.28455385 |  0.73302381 | 0.537323908 | 0.33442682  |\n",
       "\n"
      ],
      "text/plain": [
       "   name     block  weight      loading     communality redundancy\n",
       "4  gnpr     INDEV  -0.51122014  0.95010526 0.902700010 0.00000000\n",
       "5  labo     INDEV   0.53844233 -0.95513860 0.912289754 0.00000000\n",
       "6  inst     POLINS  0.10398720  0.35159296 0.123617607 0.07693877\n",
       "7  ecks     POLINS  0.27000262  0.81570461 0.665374005 0.41412435\n",
       "8  death    POLINS  0.30231060  0.79388313 0.630250430 0.39226367\n",
       "9  demostab POLINS -0.33629927 -0.86570450 0.749444276 0.46644912\n",
       "10 demoinst POLINS  0.03686531  0.09430616 0.008893652 0.00553535\n",
       "11 dictator POLINS  0.28455385  0.73302381 0.537323908 0.33442682"
      ]
     },
     "metadata": {},
     "output_type": "display_data"
    }
   ],
   "source": [
    "subset(rus_pls$outer_model,block %in% c(\"INDEV\",\"POLINS\"))"
   ]
  },
  {
   "cell_type": "markdown",
   "id": "aware-delivery",
   "metadata": {},
   "source": [
    "Observe que las cargas y los pesos del bloque INDEV tienen signos contrarios, y la variable demostab también tiene signo negativo, por tanto, cambiamos el signo de ellas y volvemos a correr el modelo"
   ]
  },
  {
   "cell_type": "code",
   "execution_count": 100,
   "id": "literary-specific",
   "metadata": {},
   "outputs": [
    {
     "data": {
      "text/html": [
       "<table>\n",
       "<thead><tr><th></th><th scope=col>Mode</th><th scope=col>MVs</th><th scope=col>C.alpha</th><th scope=col>DG.rho</th><th scope=col>eig.1st</th><th scope=col>eig.2nd</th></tr></thead>\n",
       "<tbody>\n",
       "\t<tr><th scope=row>AGRIN</th><td>A        </td><td>3        </td><td>0.8232005</td><td>0.8982412</td><td>2.251986 </td><td>0.6887036</td></tr>\n",
       "\t<tr><th scope=row>INDEV</th><td>A        </td><td>2        </td><td>0.8981332</td><td>0.9515351</td><td>1.815101 </td><td>0.1848986</td></tr>\n",
       "\t<tr><th scope=row>POLINS</th><td>A        </td><td>6        </td><td>0.7117010</td><td>0.8087673</td><td>2.722370 </td><td>1.6890693</td></tr>\n",
       "</tbody>\n",
       "</table>\n"
      ],
      "text/latex": [
       "\\begin{tabular}{r|llllll}\n",
       "  & Mode & MVs & C.alpha & DG.rho & eig.1st & eig.2nd\\\\\n",
       "\\hline\n",
       "\tAGRIN & A         & 3         & 0.8232005 & 0.8982412 & 2.251986  & 0.6887036\\\\\n",
       "\tINDEV & A         & 2         & 0.8981332 & 0.9515351 & 1.815101  & 0.1848986\\\\\n",
       "\tPOLINS & A         & 6         & 0.7117010 & 0.8087673 & 2.722370  & 1.6890693\\\\\n",
       "\\end{tabular}\n"
      ],
      "text/markdown": [
       "\n",
       "| <!--/--> | Mode | MVs | C.alpha | DG.rho | eig.1st | eig.2nd |\n",
       "|---|---|---|---|---|---|---|\n",
       "| AGRIN | A         | 3         | 0.8232005 | 0.8982412 | 2.251986  | 0.6887036 |\n",
       "| INDEV | A         | 2         | 0.8981332 | 0.9515351 | 1.815101  | 0.1848986 |\n",
       "| POLINS | A         | 6         | 0.7117010 | 0.8087673 | 2.722370  | 1.6890693 |\n",
       "\n"
      ],
      "text/plain": [
       "       Mode MVs C.alpha   DG.rho    eig.1st  eig.2nd  \n",
       "AGRIN  A    3   0.8232005 0.8982412 2.251986 0.6887036\n",
       "INDEV  A    2   0.8981332 0.9515351 1.815101 0.1848986\n",
       "POLINS A    6   0.7117010 0.8087673 2.722370 1.6890693"
      ]
     },
     "metadata": {},
     "output_type": "display_data"
    }
   ],
   "source": [
    "## Cambiendo signos de variables\n",
    "russett$labo=-1*russett$labo \n",
    "russett$demostab=-1*russett$demostab\n",
    "rus_pls_new = plspm(russett, rus_path, rus_blocks, modes = rus_modes)\n",
    "rus_pls_new$unidim"
   ]
  },
  {
   "cell_type": "markdown",
   "id": "lucky-smart",
   "metadata": {},
   "source": [
    "Ahora todas las cargas y pesos tienen signo positivo"
   ]
  },
  {
   "cell_type": "markdown",
   "id": "magnetic-price",
   "metadata": {},
   "source": [
    "**2) Comprobar que las variables manifiestas están bien explicadas por su variable latente**"
   ]
  },
  {
   "cell_type": "code",
   "execution_count": 119,
   "id": "banned-august",
   "metadata": {},
   "outputs": [
    {
     "data": {
      "text/html": [
       "<table>\n",
       "<thead><tr><th scope=col>name</th><th scope=col>block</th><th scope=col>weight</th><th scope=col>loading</th><th scope=col>communality</th><th scope=col>redundancy</th></tr></thead>\n",
       "<tbody>\n",
       "\t<tr><td>gini       </td><td>AGRIN      </td><td>0.45956889 </td><td>0.97700902 </td><td>0.95454662 </td><td>0.000000000</td></tr>\n",
       "\t<tr><td>farm       </td><td>AGRIN      </td><td>0.51627850 </td><td>0.98596926 </td><td>0.97213538 </td><td>0.000000000</td></tr>\n",
       "\t<tr><td>rent       </td><td>AGRIN      </td><td>0.08133392 </td><td>0.51592641 </td><td>0.26618006 </td><td>0.000000000</td></tr>\n",
       "\t<tr><td>gnpr       </td><td>INDEV      </td><td>0.51122100 </td><td>0.95010543 </td><td>0.90270032 </td><td>0.000000000</td></tr>\n",
       "\t<tr><td>labo       </td><td>INDEV      </td><td>0.53844147 </td><td>0.95513845 </td><td>0.91228946 </td><td>0.000000000</td></tr>\n",
       "\t<tr><td>inst       </td><td>POLINS     </td><td>0.10397873 </td><td>0.35161192 </td><td>0.12363094 </td><td>0.076947345</td></tr>\n",
       "\t<tr><td>ecks       </td><td>POLINS     </td><td>0.26999565 </td><td>0.81570557 </td><td>0.66537559 </td><td>0.414126796</td></tr>\n",
       "\t<tr><td>death      </td><td>POLINS     </td><td>0.30227163 </td><td>0.79385407 </td><td>0.63020429 </td><td>0.392236338</td></tr>\n",
       "\t<tr><td>demostab   </td><td>POLINS     </td><td>0.33634320 </td><td>0.86574040 </td><td>0.74950644 </td><td>0.466489466</td></tr>\n",
       "\t<tr><td>demoinst   </td><td>POLINS     </td><td>0.03691744 </td><td>0.09437696 </td><td>0.00890701 </td><td>0.005543684</td></tr>\n",
       "\t<tr><td>dictator   </td><td>POLINS     </td><td>0.28454929 </td><td>0.73299522 </td><td>0.53728200 </td><td>0.334401919</td></tr>\n",
       "</tbody>\n",
       "</table>\n"
      ],
      "text/latex": [
       "\\begin{tabular}{r|llllll}\n",
       " name & block & weight & loading & communality & redundancy\\\\\n",
       "\\hline\n",
       "\t gini        & AGRIN       & 0.45956889  & 0.97700902  & 0.95454662  & 0.000000000\\\\\n",
       "\t farm        & AGRIN       & 0.51627850  & 0.98596926  & 0.97213538  & 0.000000000\\\\\n",
       "\t rent        & AGRIN       & 0.08133392  & 0.51592641  & 0.26618006  & 0.000000000\\\\\n",
       "\t gnpr        & INDEV       & 0.51122100  & 0.95010543  & 0.90270032  & 0.000000000\\\\\n",
       "\t labo        & INDEV       & 0.53844147  & 0.95513845  & 0.91228946  & 0.000000000\\\\\n",
       "\t inst        & POLINS      & 0.10397873  & 0.35161192  & 0.12363094  & 0.076947345\\\\\n",
       "\t ecks        & POLINS      & 0.26999565  & 0.81570557  & 0.66537559  & 0.414126796\\\\\n",
       "\t death       & POLINS      & 0.30227163  & 0.79385407  & 0.63020429  & 0.392236338\\\\\n",
       "\t demostab    & POLINS      & 0.33634320  & 0.86574040  & 0.74950644  & 0.466489466\\\\\n",
       "\t demoinst    & POLINS      & 0.03691744  & 0.09437696  & 0.00890701  & 0.005543684\\\\\n",
       "\t dictator    & POLINS      & 0.28454929  & 0.73299522  & 0.53728200  & 0.334401919\\\\\n",
       "\\end{tabular}\n"
      ],
      "text/markdown": [
       "\n",
       "| name | block | weight | loading | communality | redundancy |\n",
       "|---|---|---|---|---|---|\n",
       "| gini        | AGRIN       | 0.45956889  | 0.97700902  | 0.95454662  | 0.000000000 |\n",
       "| farm        | AGRIN       | 0.51627850  | 0.98596926  | 0.97213538  | 0.000000000 |\n",
       "| rent        | AGRIN       | 0.08133392  | 0.51592641  | 0.26618006  | 0.000000000 |\n",
       "| gnpr        | INDEV       | 0.51122100  | 0.95010543  | 0.90270032  | 0.000000000 |\n",
       "| labo        | INDEV       | 0.53844147  | 0.95513845  | 0.91228946  | 0.000000000 |\n",
       "| inst        | POLINS      | 0.10397873  | 0.35161192  | 0.12363094  | 0.076947345 |\n",
       "| ecks        | POLINS      | 0.26999565  | 0.81570557  | 0.66537559  | 0.414126796 |\n",
       "| death       | POLINS      | 0.30227163  | 0.79385407  | 0.63020429  | 0.392236338 |\n",
       "| demostab    | POLINS      | 0.33634320  | 0.86574040  | 0.74950644  | 0.466489466 |\n",
       "| demoinst    | POLINS      | 0.03691744  | 0.09437696  | 0.00890701  | 0.005543684 |\n",
       "| dictator    | POLINS      | 0.28454929  | 0.73299522  | 0.53728200  | 0.334401919 |\n",
       "\n"
      ],
      "text/plain": [
       "   name     block  weight     loading    communality redundancy \n",
       "1  gini     AGRIN  0.45956889 0.97700902 0.95454662  0.000000000\n",
       "2  farm     AGRIN  0.51627850 0.98596926 0.97213538  0.000000000\n",
       "3  rent     AGRIN  0.08133392 0.51592641 0.26618006  0.000000000\n",
       "4  gnpr     INDEV  0.51122100 0.95010543 0.90270032  0.000000000\n",
       "5  labo     INDEV  0.53844147 0.95513845 0.91228946  0.000000000\n",
       "6  inst     POLINS 0.10397873 0.35161192 0.12363094  0.076947345\n",
       "7  ecks     POLINS 0.26999565 0.81570557 0.66537559  0.414126796\n",
       "8  death    POLINS 0.30227163 0.79385407 0.63020429  0.392236338\n",
       "9  demostab POLINS 0.33634320 0.86574040 0.74950644  0.466489466\n",
       "10 demoinst POLINS 0.03691744 0.09437696 0.00890701  0.005543684\n",
       "11 dictator POLINS 0.28454929 0.73299522 0.53728200  0.334401919"
      ]
     },
     "metadata": {},
     "output_type": "display_data"
    }
   ],
   "source": [
    "rus_pls_new$outer_model"
   ]
  },
  {
   "cell_type": "markdown",
   "id": "parliamentary-daniel",
   "metadata": {},
   "source": [
    "Recordemos que una carga que es la correlacion entre la variable latente y sus variables manifiestas, y la comunalidad es el cuadrado de esta correlación, valores de cargas de 0.7 son aceptables y si una variable tiene comunalidad baja suele ser eliminada, en este caso, las variables 'rent' y'inst' y 'demoinst' tienen comunalidades bajas, sin embargo, para este ejercicio no las eliminaremos del análisis."
   ]
  },
  {
   "cell_type": "markdown",
   "id": "active-ultimate",
   "metadata": {},
   "source": [
    "**3) evaluar el grado en que una variable latente es diferente a otras**\n",
    "\n",
    "Para ello, tenemos que evaluar las cargas cruzadas"
   ]
  },
  {
   "cell_type": "code",
   "execution_count": 120,
   "id": "worth-prediction",
   "metadata": {},
   "outputs": [
    {
     "data": {
      "text/html": [
       "<table>\n",
       "<thead><tr><th scope=col>name</th><th scope=col>block</th><th scope=col>AGRIN</th><th scope=col>INDEV</th><th scope=col>POLINS</th></tr></thead>\n",
       "<tbody>\n",
       "\t<tr><td>gini        </td><td>AGRIN       </td><td> 0.9770090  </td><td>-0.291531488</td><td> 0.40955412 </td></tr>\n",
       "\t<tr><td>farm        </td><td>AGRIN       </td><td> 0.9859693  </td><td>-0.353496066</td><td> 0.46009776 </td></tr>\n",
       "\t<tr><td>rent        </td><td>AGRIN       </td><td> 0.5159264  </td><td> 0.059843016</td><td> 0.07242290 </td></tr>\n",
       "\t<tr><td>gnpr        </td><td>INDEV       </td><td>-0.3372762  </td><td> 0.950105425</td><td>-0.70663066 </td></tr>\n",
       "\t<tr><td>labo        </td><td>INDEV       </td><td>-0.2585078  </td><td> 0.955138450</td><td>-0.74426537 </td></tr>\n",
       "\t<tr><td>inst        </td><td>POLINS      </td><td> 0.1298116  </td><td>-0.205152126</td><td> 0.35161192 </td></tr>\n",
       "\t<tr><td>ecks        </td><td>POLINS      </td><td> 0.3236969  </td><td>-0.546069330</td><td> 0.81570557 </td></tr>\n",
       "\t<tr><td>death       </td><td>POLINS      </td><td> 0.4324022  </td><td>-0.541369067</td><td> 0.79385407 </td></tr>\n",
       "\t<tr><td>demostab    </td><td>POLINS      </td><td> 0.3750163  </td><td>-0.708430177</td><td> 0.86574040 </td></tr>\n",
       "\t<tr><td>demoinst    </td><td>POLINS      </td><td> 0.1247100  </td><td> 0.005836657</td><td> 0.09437696 </td></tr>\n",
       "\t<tr><td>dictator    </td><td>POLINS      </td><td> 0.2435848  </td><td>-0.673061824</td><td> 0.73299522 </td></tr>\n",
       "</tbody>\n",
       "</table>\n"
      ],
      "text/latex": [
       "\\begin{tabular}{r|lllll}\n",
       " name & block & AGRIN & INDEV & POLINS\\\\\n",
       "\\hline\n",
       "\t gini         & AGRIN        &  0.9770090   & -0.291531488 &  0.40955412 \\\\\n",
       "\t farm         & AGRIN        &  0.9859693   & -0.353496066 &  0.46009776 \\\\\n",
       "\t rent         & AGRIN        &  0.5159264   &  0.059843016 &  0.07242290 \\\\\n",
       "\t gnpr         & INDEV        & -0.3372762   &  0.950105425 & -0.70663066 \\\\\n",
       "\t labo         & INDEV        & -0.2585078   &  0.955138450 & -0.74426537 \\\\\n",
       "\t inst         & POLINS       &  0.1298116   & -0.205152126 &  0.35161192 \\\\\n",
       "\t ecks         & POLINS       &  0.3236969   & -0.546069330 &  0.81570557 \\\\\n",
       "\t death        & POLINS       &  0.4324022   & -0.541369067 &  0.79385407 \\\\\n",
       "\t demostab     & POLINS       &  0.3750163   & -0.708430177 &  0.86574040 \\\\\n",
       "\t demoinst     & POLINS       &  0.1247100   &  0.005836657 &  0.09437696 \\\\\n",
       "\t dictator     & POLINS       &  0.2435848   & -0.673061824 &  0.73299522 \\\\\n",
       "\\end{tabular}\n"
      ],
      "text/markdown": [
       "\n",
       "| name | block | AGRIN | INDEV | POLINS |\n",
       "|---|---|---|---|---|\n",
       "| gini         | AGRIN        |  0.9770090   | -0.291531488 |  0.40955412  |\n",
       "| farm         | AGRIN        |  0.9859693   | -0.353496066 |  0.46009776  |\n",
       "| rent         | AGRIN        |  0.5159264   |  0.059843016 |  0.07242290  |\n",
       "| gnpr         | INDEV        | -0.3372762   |  0.950105425 | -0.70663066  |\n",
       "| labo         | INDEV        | -0.2585078   |  0.955138450 | -0.74426537  |\n",
       "| inst         | POLINS       |  0.1298116   | -0.205152126 |  0.35161192  |\n",
       "| ecks         | POLINS       |  0.3236969   | -0.546069330 |  0.81570557  |\n",
       "| death        | POLINS       |  0.4324022   | -0.541369067 |  0.79385407  |\n",
       "| demostab     | POLINS       |  0.3750163   | -0.708430177 |  0.86574040  |\n",
       "| demoinst     | POLINS       |  0.1247100   |  0.005836657 |  0.09437696  |\n",
       "| dictator     | POLINS       |  0.2435848   | -0.673061824 |  0.73299522  |\n",
       "\n"
      ],
      "text/plain": [
       "   name     block  AGRIN      INDEV        POLINS     \n",
       "1  gini     AGRIN   0.9770090 -0.291531488  0.40955412\n",
       "2  farm     AGRIN   0.9859693 -0.353496066  0.46009776\n",
       "3  rent     AGRIN   0.5159264  0.059843016  0.07242290\n",
       "4  gnpr     INDEV  -0.3372762  0.950105425 -0.70663066\n",
       "5  labo     INDEV  -0.2585078  0.955138450 -0.74426537\n",
       "6  inst     POLINS  0.1298116 -0.205152126  0.35161192\n",
       "7  ecks     POLINS  0.3236969 -0.546069330  0.81570557\n",
       "8  death    POLINS  0.4324022 -0.541369067  0.79385407\n",
       "9  demostab POLINS  0.3750163 -0.708430177  0.86574040\n",
       "10 demoinst POLINS  0.1247100  0.005836657  0.09437696\n",
       "11 dictator POLINS  0.2435848 -0.673061824  0.73299522"
      ]
     },
     "metadata": {},
     "output_type": "display_data"
    }
   ],
   "source": [
    "rus_pls_new$crossloadings"
   ]
  },
  {
   "cell_type": "markdown",
   "id": "hourly-recommendation",
   "metadata": {},
   "source": [
    "la variable demoinst parece presentar problemas."
   ]
  },
  {
   "cell_type": "markdown",
   "id": "dedicated-channel",
   "metadata": {},
   "source": [
    "## Valoración del modelo estructural \n",
    "\n",
    "Una vez evaluada la calidad del modelo de medida, pasamos a evaluar la calidad del\n",
    "modelo estructural estudiando los resultados obtenidos en cada regresión de las ecuaciones\n",
    "estructurales. Esto lo hacemos mirando"
   ]
  },
  {
   "cell_type": "code",
   "execution_count": 121,
   "id": "least-empire",
   "metadata": {},
   "outputs": [
    {
     "data": {
      "text/html": [
       "<strong>$POLINS</strong> = <table>\n",
       "<thead><tr><th></th><th scope=col>Estimate</th><th scope=col>Std. Error</th><th scope=col>t value</th><th scope=col>Pr(&gt;|t|)</th></tr></thead>\n",
       "<tbody>\n",
       "\t<tr><th scope=row>Intercept</th><td>-3.380942e-16</td><td>0.09263865   </td><td>-3.649602e-15</td><td>1.000000e+00 </td></tr>\n",
       "\t<tr><th scope=row>AGRIN</th><td> 2.150870e-01</td><td>0.09749294   </td><td> 2.206180e+00</td><td>3.263803e-02 </td></tr>\n",
       "\t<tr><th scope=row>INDEV</th><td>-6.949637e-01</td><td>0.09749294   </td><td>-7.128349e+00</td><td>7.416252e-09 </td></tr>\n",
       "</tbody>\n",
       "</table>\n"
      ],
      "text/latex": [
       "\\textbf{\\$POLINS} = \\begin{tabular}{r|llll}\n",
       "  & Estimate & Std. Error & t value & Pr(>\\textbar{}t\\textbar{})\\\\\n",
       "\\hline\n",
       "\tIntercept & -3.380942e-16 & 0.09263865    & -3.649602e-15 & 1.000000e+00 \\\\\n",
       "\tAGRIN &  2.150870e-01 & 0.09749294    &  2.206180e+00 & 3.263803e-02 \\\\\n",
       "\tINDEV & -6.949637e-01 & 0.09749294    & -7.128349e+00 & 7.416252e-09 \\\\\n",
       "\\end{tabular}\n"
      ],
      "text/markdown": [
       "**$POLINS** = \n",
       "| <!--/--> | Estimate | Std. Error | t value | Pr(>|t|) |\n",
       "|---|---|---|---|---|\n",
       "| Intercept | -3.380942e-16 | 0.09263865    | -3.649602e-15 | 1.000000e+00  |\n",
       "| AGRIN |  2.150870e-01 | 0.09749294    |  2.206180e+00 | 3.263803e-02  |\n",
       "| INDEV | -6.949637e-01 | 0.09749294    | -7.128349e+00 | 7.416252e-09  |\n",
       "\n"
      ],
      "text/plain": [
       "$POLINS\n",
       "               Estimate Std. Error       t value     Pr(>|t|)\n",
       "Intercept -3.380942e-16 0.09263865 -3.649602e-15 1.000000e+00\n",
       "AGRIN      2.150870e-01 0.09749294  2.206180e+00 3.263803e-02\n",
       "INDEV     -6.949637e-01 0.09749294 -7.128349e+00 7.416252e-09\n"
      ]
     },
     "metadata": {},
     "output_type": "display_data"
    }
   ],
   "source": [
    "## visualizamos los coeficientes estimados del modelo\n",
    "rus_pls_new$inner_model"
   ]
  },
  {
   "cell_type": "markdown",
   "id": "alone-thomson",
   "metadata": {},
   "source": [
    "Se puede observar que tanto AGRIN cómo INDEV son estadísticamente significativas para explicar la variable latente POLINS."
   ]
  },
  {
   "cell_type": "code",
   "execution_count": 122,
   "id": "little-count",
   "metadata": {},
   "outputs": [
    {
     "data": {
      "text/html": [
       "<table>\n",
       "<thead><tr><th></th><th scope=col>Type</th><th scope=col>R2</th><th scope=col>Block_Communality</th><th scope=col>Mean_Redundancy</th><th scope=col>AVE</th></tr></thead>\n",
       "<tbody>\n",
       "\t<tr><th scope=row>AGRIN</th><td>Exogenous </td><td>0.0000000 </td><td>0.7309540 </td><td>0.0000000 </td><td>0.7309540 </td></tr>\n",
       "\t<tr><th scope=row>INDEV</th><td>Exogenous </td><td>0.0000000 </td><td>0.9074949 </td><td>0.0000000 </td><td>0.9074949 </td></tr>\n",
       "\t<tr><th scope=row>POLINS</th><td>Endogenous</td><td>0.6223955 </td><td>0.4524844 </td><td>0.2816243 </td><td>0.4524844 </td></tr>\n",
       "</tbody>\n",
       "</table>\n"
      ],
      "text/latex": [
       "\\begin{tabular}{r|lllll}\n",
       "  & Type & R2 & Block\\_Communality & Mean\\_Redundancy & AVE\\\\\n",
       "\\hline\n",
       "\tAGRIN & Exogenous  & 0.0000000  & 0.7309540  & 0.0000000  & 0.7309540 \\\\\n",
       "\tINDEV & Exogenous  & 0.0000000  & 0.9074949  & 0.0000000  & 0.9074949 \\\\\n",
       "\tPOLINS & Endogenous & 0.6223955  & 0.4524844  & 0.2816243  & 0.4524844 \\\\\n",
       "\\end{tabular}\n"
      ],
      "text/markdown": [
       "\n",
       "| <!--/--> | Type | R2 | Block_Communality | Mean_Redundancy | AVE |\n",
       "|---|---|---|---|---|---|\n",
       "| AGRIN | Exogenous  | 0.0000000  | 0.7309540  | 0.0000000  | 0.7309540  |\n",
       "| INDEV | Exogenous  | 0.0000000  | 0.9074949  | 0.0000000  | 0.9074949  |\n",
       "| POLINS | Endogenous | 0.6223955  | 0.4524844  | 0.2816243  | 0.4524844  |\n",
       "\n"
      ],
      "text/plain": [
       "       Type       R2        Block_Communality Mean_Redundancy AVE      \n",
       "AGRIN  Exogenous  0.0000000 0.7309540         0.0000000       0.7309540\n",
       "INDEV  Exogenous  0.0000000 0.9074949         0.0000000       0.9074949\n",
       "POLINS Endogenous 0.6223955 0.4524844         0.2816243       0.4524844"
      ]
     },
     "metadata": {},
     "output_type": "display_data"
    }
   ],
   "source": [
    "rus_pls_new$inner_summary"
   ]
  },
  {
   "cell_type": "markdown",
   "id": "minimal-brown",
   "metadata": {},
   "source": [
    "Recordemos que un $R^2$ por encima de 0.6 se considera aceptable, la tabla muestra la comunalidad media y la redundancia media"
   ]
  },
  {
   "cell_type": "markdown",
   "id": "separated-serum",
   "metadata": {},
   "source": [
    "## Valoración del modelo completo\n",
    "\n",
    "Para ello calculamos el indice GOF, el cuál es una media geometrica entre el indice medio de comunalidad y el $R^2$, recordemos que valores por encima de 0.6 se consideran aceptables"
   ]
  },
  {
   "cell_type": "code",
   "execution_count": 123,
   "id": "democratic-resort",
   "metadata": {},
   "outputs": [
    {
     "data": {
      "text/html": [
       "0.616752097688965"
      ],
      "text/latex": [
       "0.616752097688965"
      ],
      "text/markdown": [
       "0.616752097688965"
      ],
      "text/plain": [
       "[1] 0.6167521"
      ]
     },
     "metadata": {},
     "output_type": "display_data"
    }
   ],
   "source": [
    "rus_pls_new$gof"
   ]
  },
  {
   "cell_type": "markdown",
   "id": "comprehensive-celebration",
   "metadata": {},
   "source": [
    "Para un análisis completo de todos los resultados del modelo se puede aplicar la función **summary()**"
   ]
  },
  {
   "cell_type": "code",
   "execution_count": 124,
   "id": "small-lawyer",
   "metadata": {},
   "outputs": [
    {
     "data": {
      "text/plain": [
       "PARTIAL LEAST SQUARES PATH MODELING (PLS-PM) \n",
       "\n",
       "---------------------------------------------------------- \n",
       "MODEL SPECIFICATION \n",
       "1   Number of Cases      47 \n",
       "2   Latent Variables     3 \n",
       "3   Manifest Variables   11 \n",
       "4   Scale of Data        Standardized Data \n",
       "5   Non-Metric PLS       FALSE \n",
       "6   Weighting Scheme     centroid \n",
       "7   Tolerance Crit       1e-06 \n",
       "8   Max Num Iters        100 \n",
       "9   Convergence Iters    6 \n",
       "10  Bootstrapping        FALSE \n",
       "11  Bootstrap samples    NULL \n",
       "\n",
       "---------------------------------------------------------- \n",
       "BLOCKS DEFINITION \n",
       "     Block         Type   Size   Mode\n",
       "1    AGRIN    Exogenous      3      A\n",
       "2    INDEV    Exogenous      2      A\n",
       "3   POLINS   Endogenous      6      A\n",
       "\n",
       "---------------------------------------------------------- \n",
       "BLOCKS UNIDIMENSIONALITY \n",
       "        Mode  MVs  C.alpha  DG.rho  eig.1st  eig.2nd\n",
       "AGRIN      A    3    0.823   0.898     2.25    0.689\n",
       "INDEV      A    2    0.898   0.952     1.82    0.185\n",
       "POLINS     A    6    0.712   0.809     2.72    1.689\n",
       "\n",
       "---------------------------------------------------------- \n",
       "OUTER MODEL \n",
       "              weight  loading  communality  redundancy\n",
       "AGRIN                                                 \n",
       "  1 gini      0.4596   0.9770      0.95455     0.00000\n",
       "  1 farm      0.5163   0.9860      0.97214     0.00000\n",
       "  1 rent      0.0813   0.5159      0.26618     0.00000\n",
       "INDEV                                                 \n",
       "  2 gnpr      0.5112   0.9501      0.90270     0.00000\n",
       "  2 labo      0.5384   0.9551      0.91229     0.00000\n",
       "POLINS                                                \n",
       "  3 inst      0.1040   0.3516      0.12363     0.07695\n",
       "  3 ecks      0.2700   0.8157      0.66538     0.41413\n",
       "  3 death     0.3023   0.7939      0.63020     0.39224\n",
       "  3 demostab  0.3363   0.8657      0.74951     0.46649\n",
       "  3 demoinst  0.0369   0.0944      0.00891     0.00554\n",
       "  3 dictator  0.2845   0.7330      0.53728     0.33440\n",
       "\n",
       "---------------------------------------------------------- \n",
       "CROSSLOADINGS \n",
       "               AGRIN     INDEV   POLINS\n",
       "AGRIN                                  \n",
       "  1 gini       0.977  -0.29153   0.4096\n",
       "  1 farm       0.986  -0.35350   0.4601\n",
       "  1 rent       0.516   0.05984   0.0724\n",
       "INDEV                                  \n",
       "  2 gnpr      -0.337   0.95011  -0.7066\n",
       "  2 labo      -0.259   0.95514  -0.7443\n",
       "POLINS                                 \n",
       "  3 inst       0.130  -0.20515   0.3516\n",
       "  3 ecks       0.324  -0.54607   0.8157\n",
       "  3 death      0.432  -0.54137   0.7939\n",
       "  3 demostab   0.375  -0.70843   0.8657\n",
       "  3 demoinst   0.125   0.00584   0.0944\n",
       "  3 dictator   0.244  -0.67306   0.7330\n",
       "\n",
       "---------------------------------------------------------- \n",
       "INNER MODEL \n",
       "$POLINS\n",
       "             Estimate   Std. Error     t value   Pr(>|t|)\n",
       "Intercept   -3.38e-16       0.0926   -3.65e-15   1.00e+00\n",
       "AGRIN        2.15e-01       0.0975    2.21e+00   3.26e-02\n",
       "INDEV       -6.95e-01       0.0975   -7.13e+00   7.42e-09\n",
       "\n",
       "---------------------------------------------------------- \n",
       "CORRELATIONS BETWEEN LVs \n",
       "         AGRIN   INDEV  POLINS\n",
       "AGRIN    1.000  -0.312   0.432\n",
       "INDEV   -0.312   1.000  -0.762\n",
       "POLINS   0.432  -0.762   1.000\n",
       "\n",
       "---------------------------------------------------------- \n",
       "SUMMARY INNER MODEL \n",
       "              Type     R2  Block_Communality  Mean_Redundancy    AVE\n",
       "AGRIN    Exogenous  0.000              0.731            0.000  0.731\n",
       "INDEV    Exogenous  0.000              0.907            0.000  0.907\n",
       "POLINS  Endogenous  0.622              0.452            0.282  0.452\n",
       "\n",
       "---------------------------------------------------------- \n",
       "GOODNESS-OF-FIT \n",
       "[1]  0.6168\n",
       "\n",
       "---------------------------------------------------------- \n",
       "TOTAL EFFECTS \n",
       "     relationships  direct  indirect   total\n",
       "1   AGRIN -> INDEV   0.000         0   0.000\n",
       "2  AGRIN -> POLINS   0.215         0   0.215\n",
       "3  INDEV -> POLINS  -0.695         0  -0.695"
      ]
     },
     "metadata": {},
     "output_type": "display_data"
    }
   ],
   "source": [
    "summary(rus_pls_new)"
   ]
  },
  {
   "cell_type": "markdown",
   "id": "moved-fleet",
   "metadata": {},
   "source": [
    "## Análisis gráfico de los resultados\n",
    "Vamos a visualizar los resultados del plspm y las diferentes relaciones"
   ]
  },
  {
   "cell_type": "code",
   "execution_count": 125,
   "id": "facial-thunder",
   "metadata": {},
   "outputs": [
    {
     "data": {
      "image/png": "[encoded data removed]",
      "text/plain": [
       "Plot with title \"\""
      ]
     },
     "metadata": {},
     "output_type": "display_data"
    }
   ],
   "source": [
    "# plot resultados (modelo interno)\n",
    "plot(rus_pls_new,txt.col = \"black\",lcol = \"gray\")"
   ]
  },
  {
   "cell_type": "code",
   "execution_count": 127,
   "id": "standard-faith",
   "metadata": {},
   "outputs": [
    {
     "data": {
      "image/png": "[encoded data removed]"
     },
     "metadata": {},
     "output_type": "display_data"
    }
   ],
   "source": [
    "# trazar las cargas del modelo externo\n",
    "options(repr.plot.width=7, repr.plot.height=4)\n",
    "plot(rus_pls_new, what = \"loadings\", arr.width = 0.1,lcol = \"gray\")"
   ]
  },
  {
   "cell_type": "code",
   "execution_count": 128,
   "id": "english-marking",
   "metadata": {},
   "outputs": [
    {
     "data": {
      "image/png": "[encoded data removed]"
     },
     "metadata": {},
     "output_type": "display_data"
    }
   ],
   "source": [
    "# trazar los pesos del modelo externo\n",
    "options(repr.plot.width=7, repr.plot.height=4)\n",
    "plot(rus_pls_new, what = \"weights\", arr.width = 0.1,,lcol = \"gray\")"
   ]
  },
  {
   "cell_type": "markdown",
   "id": "thorough-physics",
   "metadata": {},
   "source": [
    "Ahora vamos a visualizar las cargas cruzadas, combinando las funciones de reshape y ggplot2 para realizar una bonita y útil visualización"
   ]
  },
  {
   "cell_type": "code",
   "execution_count": 129,
   "id": "intensive-separation",
   "metadata": {},
   "outputs": [],
   "source": [
    "## cargamos paquetes necesarios\n",
    "library(ggplot2)\n",
    "#install.packages('reshape')\n",
    "library(reshape)"
   ]
  },
  {
   "cell_type": "code",
   "execution_count": 138,
   "id": "rotary-delhi",
   "metadata": {},
   "outputs": [
    {
     "data": {
      "text/html": [
       "<table>\n",
       "<thead><tr><th scope=col>name</th><th scope=col>block</th><th scope=col>LV</th><th scope=col>value</th></tr></thead>\n",
       "<tbody>\n",
       "\t<tr><td>gini      </td><td>AGRIN     </td><td>AGRIN     </td><td> 0.9770090</td></tr>\n",
       "\t<tr><td>farm      </td><td>AGRIN     </td><td>AGRIN     </td><td> 0.9859693</td></tr>\n",
       "\t<tr><td>rent      </td><td>AGRIN     </td><td>AGRIN     </td><td> 0.5159264</td></tr>\n",
       "\t<tr><td>gnpr      </td><td>INDEV     </td><td>AGRIN     </td><td>-0.3372762</td></tr>\n",
       "\t<tr><td>labo      </td><td>INDEV     </td><td>AGRIN     </td><td>-0.2585078</td></tr>\n",
       "\t<tr><td>inst      </td><td>POLINS    </td><td>AGRIN     </td><td> 0.1298116</td></tr>\n",
       "</tbody>\n",
       "</table>\n"
      ],
      "text/latex": [
       "\\begin{tabular}{r|llll}\n",
       " name & block & LV & value\\\\\n",
       "\\hline\n",
       "\t gini       & AGRIN      & AGRIN      &  0.9770090\\\\\n",
       "\t farm       & AGRIN      & AGRIN      &  0.9859693\\\\\n",
       "\t rent       & AGRIN      & AGRIN      &  0.5159264\\\\\n",
       "\t gnpr       & INDEV      & AGRIN      & -0.3372762\\\\\n",
       "\t labo       & INDEV      & AGRIN      & -0.2585078\\\\\n",
       "\t inst       & POLINS     & AGRIN      &  0.1298116\\\\\n",
       "\\end{tabular}\n"
      ],
      "text/markdown": [
       "\n",
       "| name | block | LV | value |\n",
       "|---|---|---|---|\n",
       "| gini       | AGRIN      | AGRIN      |  0.9770090 |\n",
       "| farm       | AGRIN      | AGRIN      |  0.9859693 |\n",
       "| rent       | AGRIN      | AGRIN      |  0.5159264 |\n",
       "| gnpr       | INDEV      | AGRIN      | -0.3372762 |\n",
       "| labo       | INDEV      | AGRIN      | -0.2585078 |\n",
       "| inst       | POLINS     | AGRIN      |  0.1298116 |\n",
       "\n"
      ],
      "text/plain": [
       "  name block  LV    value     \n",
       "1 gini AGRIN  AGRIN  0.9770090\n",
       "2 farm AGRIN  AGRIN  0.9859693\n",
       "3 rent AGRIN  AGRIN  0.5159264\n",
       "4 gnpr INDEV  AGRIN -0.3372762\n",
       "5 labo INDEV  AGRIN -0.2585078\n",
       "6 inst POLINS AGRIN  0.1298116"
      ]
     },
     "metadata": {},
     "output_type": "display_data"
    }
   ],
   "source": [
    "## Reconfiguramos las cargas cruzadas para el gráfico\n",
    "xloads = melt(rus_pls_new$crossloadings, id.vars = c(\"name\", \"block\"),\n",
    "              variable_name = \"LV\")\n",
    "head(xloads)"
   ]
  },
  {
   "cell_type": "code",
   "execution_count": 139,
   "id": "subtle-syntax",
   "metadata": {},
   "outputs": [
    {
     "data": {
      "image/png": "[encoded data removed]",
      "text/plain": [
       "plot without title"
      ]
     },
     "metadata": {},
     "output_type": "display_data"
    }
   ],
   "source": [
    "# bar-charts of crossloadings by block\n",
    "options(repr.plot.width=7, repr.plot.height=6)\n",
    "ggplot(data = xloads,\n",
    "      aes(x = name, y = value, fill = block)) +\n",
    "  geom_hline(yintercept = 0, color = \"gray75\") +\n",
    "  geom_hline(yintercept = c(-0.5, 0.5), color = \"gray70\", linetype = 2) +\n",
    "  geom_bar(stat = 'identity', position = 'dodge') +\n",
    "  facet_wrap(block ~ LV) +\n",
    "  ggtitle(\"Cargas cruzadas\")+\n",
    "  theme_light()+\n",
    "  theme(axis.text.x = element_text(angle = 90),\n",
    "    line = element_blank())"
   ]
  },
  {
   "cell_type": "code",
   "execution_count": null,
   "id": "unusual-louis",
   "metadata": {},
   "outputs": [],
   "source": []
  }
 ],
 "metadata": {
  "kernelspec": {
   "display_name": "R",
   "language": "R",
   "name": "ir"
  },
  "language_info": {
   "codemirror_mode": "r",
   "file_extension": ".r",
   "mimetype": "text/x-r-source",
   "name": "R",
   "pygments_lexer": "r",
   "version": "3.6.1"
  }
 },
 "nbformat": 4,
 "nbformat_minor": 5
}
