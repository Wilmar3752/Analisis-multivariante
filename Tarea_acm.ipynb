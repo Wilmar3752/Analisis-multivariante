{
 "cells": [
  {
   "cell_type": "markdown",
   "metadata": {
    "id": "Nwxjbp_uZQoo"
   },
   "source": [
    "# Equivalencia de las tablas Burt y Disyuntiva\n",
    "___\n",
    "**Autores:** Wilmar Sepulveda - Luis Esteban Garcia\n",
    "\n",
    "**Institución:** Escuela de estadística - Universidad del Valle\n",
    "___\n",
    "\n",
    "\n"
   ]
  },
  {
   "cell_type": "code",
   "execution_count": 4,
   "metadata": {
    "colab": {
     "base_uri": "https://localhost:8080/",
     "height": 283
    },
    "id": "-cbbX7iVGbDK",
    "outputId": "f6c47ef2-250b-4483-a415-13fec48cf374"
   },
   "outputs": [
    {
     "name": "stderr",
     "output_type": "stream",
     "text": [
      "Warning message:\n",
      "\"package 'ade4' was built under R version 3.6.3\""
     ]
    },
    {
     "data": {
      "text/html": [
       "<table>\n",
       "<thead><tr><th></th><th scope=col>TAM</th><th scope=col>PESO</th><th scope=col>VEL</th><th scope=col>INT</th><th scope=col>AFC</th><th scope=col>AGR</th><th scope=col>FUN</th></tr></thead>\n",
       "<tbody>\n",
       "\t<tr><th scope=row>bass</th><td>p   </td><td>p   </td><td>p   </td><td>p   </td><td>p   </td><td>m   </td><td>Caza</td></tr>\n",
       "\t<tr><th scope=row>beau</th><td>g   </td><td>m   </td><td>g   </td><td>m   </td><td>m   </td><td>m   </td><td>Util</td></tr>\n",
       "\t<tr><th scope=row>boxe</th><td>m   </td><td>m   </td><td>m   </td><td>m   </td><td>m   </td><td>m   </td><td>Comp</td></tr>\n",
       "\t<tr><th scope=row>buld</th><td>p   </td><td>p   </td><td>p   </td><td>m   </td><td>m   </td><td>p   </td><td>Comp</td></tr>\n",
       "\t<tr><th scope=row>bulm</th><td>g   </td><td>g   </td><td>p   </td><td>g   </td><td>p   </td><td>m   </td><td>Util</td></tr>\n",
       "\t<tr><th scope=row>cani</th><td>p   </td><td>p   </td><td>m   </td><td>g   </td><td>m   </td><td>p   </td><td>Comp</td></tr>\n",
       "\t<tr><th scope=row>chih</th><td>p   </td><td>p   </td><td>p   </td><td>p   </td><td>m   </td><td>p   </td><td>Comp</td></tr>\n",
       "\t<tr><th scope=row>cock</th><td>m   </td><td>p   </td><td>p   </td><td>m   </td><td>m   </td><td>m   </td><td>Comp</td></tr>\n",
       "\t<tr><th scope=row>coll</th><td>g   </td><td>m   </td><td>g   </td><td>m   </td><td>m   </td><td>p   </td><td>Comp</td></tr>\n",
       "\t<tr><th scope=row>dalm</th><td>m   </td><td>m   </td><td>m   </td><td>m   </td><td>m   </td><td>p   </td><td>Comp</td></tr>\n",
       "\t<tr><th scope=row>dobe</th><td>g   </td><td>m   </td><td>g   </td><td>g   </td><td>p   </td><td>m   </td><td>Util</td></tr>\n",
       "\t<tr><th scope=row>dogo</th><td>g   </td><td>g   </td><td>g   </td><td>p   </td><td>p   </td><td>m   </td><td>Util</td></tr>\n",
       "\t<tr><th scope=row>foxh</th><td>g   </td><td>m   </td><td>g   </td><td>p   </td><td>p   </td><td>m   </td><td>Caza</td></tr>\n",
       "\t<tr><th scope=row>foxt</th><td>p   </td><td>p   </td><td>m   </td><td>m   </td><td>m   </td><td>m   </td><td>Comp</td></tr>\n",
       "\t<tr><th scope=row>galg</th><td>g   </td><td>m   </td><td>g   </td><td>p   </td><td>p   </td><td>p   </td><td>Caza</td></tr>\n",
       "\t<tr><th scope=row>gasc</th><td>g   </td><td>m   </td><td>m   </td><td>p   </td><td>p   </td><td>m   </td><td>Caza</td></tr>\n",
       "\t<tr><th scope=row>labr</th><td>m   </td><td>m   </td><td>m   </td><td>m   </td><td>m   </td><td>p   </td><td>Caza</td></tr>\n",
       "\t<tr><th scope=row>masa</th><td>g   </td><td>m   </td><td>g   </td><td>g   </td><td>m   </td><td>m   </td><td>Util</td></tr>\n",
       "\t<tr><th scope=row>mast</th><td>g   </td><td>g   </td><td>p   </td><td>p   </td><td>p   </td><td>m   </td><td>Util</td></tr>\n",
       "\t<tr><th scope=row>peki</th><td>p   </td><td>p   </td><td>p   </td><td>p   </td><td>m   </td><td>p   </td><td>Comp</td></tr>\n",
       "\t<tr><th scope=row>podb</th><td>m   </td><td>m   </td><td>m   </td><td>g   </td><td>m   </td><td>p   </td><td>Caza</td></tr>\n",
       "\t<tr><th scope=row>podf</th><td>g   </td><td>m   </td><td>m   </td><td>m   </td><td>p   </td><td>p   </td><td>Caza</td></tr>\n",
       "\t<tr><th scope=row>poin</th><td>g   </td><td>m   </td><td>g   </td><td>g   </td><td>p   </td><td>p   </td><td>Caza</td></tr>\n",
       "\t<tr><th scope=row>sett</th><td>g   </td><td>m   </td><td>g   </td><td>m   </td><td>p   </td><td>p   </td><td>Caza</td></tr>\n",
       "\t<tr><th scope=row>stbe</th><td>g   </td><td>g   </td><td>p   </td><td>m   </td><td>p   </td><td>m   </td><td>Util</td></tr>\n",
       "\t<tr><th scope=row>teck</th><td>p   </td><td>p   </td><td>p   </td><td>m   </td><td>m   </td><td>p   </td><td>Comp</td></tr>\n",
       "\t<tr><th scope=row>tern</th><td>g   </td><td>g   </td><td>p   </td><td>m   </td><td>p   </td><td>p   </td><td>Util</td></tr>\n",
       "</tbody>\n",
       "</table>\n"
      ],
      "text/latex": [
       "\\begin{tabular}{r|lllllll}\n",
       "  & TAM & PESO & VEL & INT & AFC & AGR & FUN\\\\\n",
       "\\hline\n",
       "\tbass & p    & p    & p    & p    & p    & m    & Caza\\\\\n",
       "\tbeau & g    & m    & g    & m    & m    & m    & Util\\\\\n",
       "\tboxe & m    & m    & m    & m    & m    & m    & Comp\\\\\n",
       "\tbuld & p    & p    & p    & m    & m    & p    & Comp\\\\\n",
       "\tbulm & g    & g    & p    & g    & p    & m    & Util\\\\\n",
       "\tcani & p    & p    & m    & g    & m    & p    & Comp\\\\\n",
       "\tchih & p    & p    & p    & p    & m    & p    & Comp\\\\\n",
       "\tcock & m    & p    & p    & m    & m    & m    & Comp\\\\\n",
       "\tcoll & g    & m    & g    & m    & m    & p    & Comp\\\\\n",
       "\tdalm & m    & m    & m    & m    & m    & p    & Comp\\\\\n",
       "\tdobe & g    & m    & g    & g    & p    & m    & Util\\\\\n",
       "\tdogo & g    & g    & g    & p    & p    & m    & Util\\\\\n",
       "\tfoxh & g    & m    & g    & p    & p    & m    & Caza\\\\\n",
       "\tfoxt & p    & p    & m    & m    & m    & m    & Comp\\\\\n",
       "\tgalg & g    & m    & g    & p    & p    & p    & Caza\\\\\n",
       "\tgasc & g    & m    & m    & p    & p    & m    & Caza\\\\\n",
       "\tlabr & m    & m    & m    & m    & m    & p    & Caza\\\\\n",
       "\tmasa & g    & m    & g    & g    & m    & m    & Util\\\\\n",
       "\tmast & g    & g    & p    & p    & p    & m    & Util\\\\\n",
       "\tpeki & p    & p    & p    & p    & m    & p    & Comp\\\\\n",
       "\tpodb & m    & m    & m    & g    & m    & p    & Caza\\\\\n",
       "\tpodf & g    & m    & m    & m    & p    & p    & Caza\\\\\n",
       "\tpoin & g    & m    & g    & g    & p    & p    & Caza\\\\\n",
       "\tsett & g    & m    & g    & m    & p    & p    & Caza\\\\\n",
       "\tstbe & g    & g    & p    & m    & p    & m    & Util\\\\\n",
       "\tteck & p    & p    & p    & m    & m    & p    & Comp\\\\\n",
       "\ttern & g    & g    & p    & m    & p    & p    & Util\\\\\n",
       "\\end{tabular}\n"
      ],
      "text/markdown": [
       "\n",
       "| <!--/--> | TAM | PESO | VEL | INT | AFC | AGR | FUN |\n",
       "|---|---|---|---|---|---|---|---|\n",
       "| bass | p    | p    | p    | p    | p    | m    | Caza |\n",
       "| beau | g    | m    | g    | m    | m    | m    | Util |\n",
       "| boxe | m    | m    | m    | m    | m    | m    | Comp |\n",
       "| buld | p    | p    | p    | m    | m    | p    | Comp |\n",
       "| bulm | g    | g    | p    | g    | p    | m    | Util |\n",
       "| cani | p    | p    | m    | g    | m    | p    | Comp |\n",
       "| chih | p    | p    | p    | p    | m    | p    | Comp |\n",
       "| cock | m    | p    | p    | m    | m    | m    | Comp |\n",
       "| coll | g    | m    | g    | m    | m    | p    | Comp |\n",
       "| dalm | m    | m    | m    | m    | m    | p    | Comp |\n",
       "| dobe | g    | m    | g    | g    | p    | m    | Util |\n",
       "| dogo | g    | g    | g    | p    | p    | m    | Util |\n",
       "| foxh | g    | m    | g    | p    | p    | m    | Caza |\n",
       "| foxt | p    | p    | m    | m    | m    | m    | Comp |\n",
       "| galg | g    | m    | g    | p    | p    | p    | Caza |\n",
       "| gasc | g    | m    | m    | p    | p    | m    | Caza |\n",
       "| labr | m    | m    | m    | m    | m    | p    | Caza |\n",
       "| masa | g    | m    | g    | g    | m    | m    | Util |\n",
       "| mast | g    | g    | p    | p    | p    | m    | Util |\n",
       "| peki | p    | p    | p    | p    | m    | p    | Comp |\n",
       "| podb | m    | m    | m    | g    | m    | p    | Caza |\n",
       "| podf | g    | m    | m    | m    | p    | p    | Caza |\n",
       "| poin | g    | m    | g    | g    | p    | p    | Caza |\n",
       "| sett | g    | m    | g    | m    | p    | p    | Caza |\n",
       "| stbe | g    | g    | p    | m    | p    | m    | Util |\n",
       "| teck | p    | p    | p    | m    | m    | p    | Comp |\n",
       "| tern | g    | g    | p    | m    | p    | p    | Util |\n",
       "\n"
      ],
      "text/plain": [
       "     TAM PESO VEL INT AFC AGR FUN \n",
       "bass p   p    p   p   p   m   Caza\n",
       "beau g   m    g   m   m   m   Util\n",
       "boxe m   m    m   m   m   m   Comp\n",
       "buld p   p    p   m   m   p   Comp\n",
       "bulm g   g    p   g   p   m   Util\n",
       "cani p   p    m   g   m   p   Comp\n",
       "chih p   p    p   p   m   p   Comp\n",
       "cock m   p    p   m   m   m   Comp\n",
       "coll g   m    g   m   m   p   Comp\n",
       "dalm m   m    m   m   m   p   Comp\n",
       "dobe g   m    g   g   p   m   Util\n",
       "dogo g   g    g   p   p   m   Util\n",
       "foxh g   m    g   p   p   m   Caza\n",
       "foxt p   p    m   m   m   m   Comp\n",
       "galg g   m    g   p   p   p   Caza\n",
       "gasc g   m    m   p   p   m   Caza\n",
       "labr m   m    m   m   m   p   Caza\n",
       "masa g   m    g   g   m   m   Util\n",
       "mast g   g    p   p   p   m   Util\n",
       "peki p   p    p   p   m   p   Comp\n",
       "podb m   m    m   g   m   p   Caza\n",
       "podf g   m    m   m   p   p   Caza\n",
       "poin g   m    g   g   p   p   Caza\n",
       "sett g   m    g   m   p   p   Caza\n",
       "stbe g   g    p   m   p   m   Util\n",
       "teck p   p    p   m   m   p   Comp\n",
       "tern g   g    p   m   p   p   Util"
      ]
     },
     "metadata": {},
     "output_type": "display_data"
    },
    {
     "data": {
      "text/html": [
       "<ol class=list-inline>\n",
       "\t<li>27</li>\n",
       "\t<li>7</li>\n",
       "</ol>\n"
      ],
      "text/latex": [
       "\\begin{enumerate*}\n",
       "\\item 27\n",
       "\\item 7\n",
       "\\end{enumerate*}\n"
      ],
      "text/markdown": [
       "1. 27\n",
       "2. 7\n",
       "\n",
       "\n"
      ],
      "text/plain": [
       "[1] 27  7"
      ]
     },
     "metadata": {},
     "output_type": "display_data"
    }
   ],
   "source": [
    "#install.packages(\"ade4\")\n",
    "library(ade4)\n",
    "perros_0<-read.csv('perros.txt',sep=\"\\t\",row.names = 1,stringsAsFactors = T)\n",
    "perros_0 # Tabla de datos R\n",
    "dim(perros_0)"
   ]
  },
  {
   "cell_type": "markdown",
   "metadata": {
    "id": "dRz_XAHIIlnp"
   },
   "source": [
    "El análisis de correspondencias múltiples es un análisis de correspondencias simples aplicado no a una tabla de contingencia sino a una tabla *disyuntiva completa* o una tabla de Burt."
   ]
  },
  {
   "cell_type": "markdown",
   "metadata": {
    "id": "P89zM45tRZ05"
   },
   "source": [
    "## Tabla disyuntiva completa\n",
    "\n",
    "Se construye, a partir de la tabla **R**, la tabla **Z** con *n* filas y p columnas describiendo las s respuestas de los *n* individuos mediante un código binario. En termino general se escribe: \n",
    "$$z_{ij} = 1$ o $z_{ij}=0$$\n",
    "\n",
    "según si el sujeto *i* seleccionó la modalidad *j* de la pregunta *q* o no.\n"
   ]
  },
  {
   "cell_type": "code",
   "execution_count": 5,
   "metadata": {
    "colab": {
     "base_uri": "https://localhost:8080/",
     "height": 283
    },
    "id": "i5rruQMNJh55",
    "outputId": "14f0c9ac-d2c3-4112-b4f8-764630838c1d"
   },
   "outputs": [
    {
     "data": {
      "text/html": [
       "<table>\n",
       "<thead><tr><th></th><th scope=col>TAM.g</th><th scope=col>TAM.m</th><th scope=col>TAM.p</th><th scope=col>PESO.g</th><th scope=col>PESO.m</th><th scope=col>PESO.p</th><th scope=col>VEL.g</th><th scope=col>VEL.m</th><th scope=col>VEL.p</th><th scope=col>INT.g</th><th scope=col>INT.m</th><th scope=col>INT.p</th><th scope=col>AFC.m</th><th scope=col>AFC.p</th><th scope=col>AGR.m</th><th scope=col>AGR.p</th></tr></thead>\n",
       "<tbody>\n",
       "\t<tr><th scope=row>bass</th><td>0</td><td>0</td><td>1</td><td>0</td><td>0</td><td>1</td><td>0</td><td>0</td><td>1</td><td>0</td><td>0</td><td>1</td><td>0</td><td>1</td><td>1</td><td>0</td></tr>\n",
       "\t<tr><th scope=row>beau</th><td>1</td><td>0</td><td>0</td><td>0</td><td>1</td><td>0</td><td>1</td><td>0</td><td>0</td><td>0</td><td>1</td><td>0</td><td>1</td><td>0</td><td>1</td><td>0</td></tr>\n",
       "\t<tr><th scope=row>boxe</th><td>0</td><td>1</td><td>0</td><td>0</td><td>1</td><td>0</td><td>0</td><td>1</td><td>0</td><td>0</td><td>1</td><td>0</td><td>1</td><td>0</td><td>1</td><td>0</td></tr>\n",
       "\t<tr><th scope=row>buld</th><td>0</td><td>0</td><td>1</td><td>0</td><td>0</td><td>1</td><td>0</td><td>0</td><td>1</td><td>0</td><td>1</td><td>0</td><td>1</td><td>0</td><td>0</td><td>1</td></tr>\n",
       "\t<tr><th scope=row>bulm</th><td>1</td><td>0</td><td>0</td><td>1</td><td>0</td><td>0</td><td>0</td><td>0</td><td>1</td><td>1</td><td>0</td><td>0</td><td>0</td><td>1</td><td>1</td><td>0</td></tr>\n",
       "\t<tr><th scope=row>cani</th><td>0</td><td>0</td><td>1</td><td>0</td><td>0</td><td>1</td><td>0</td><td>1</td><td>0</td><td>1</td><td>0</td><td>0</td><td>1</td><td>0</td><td>0</td><td>1</td></tr>\n",
       "\t<tr><th scope=row>chih</th><td>0</td><td>0</td><td>1</td><td>0</td><td>0</td><td>1</td><td>0</td><td>0</td><td>1</td><td>0</td><td>0</td><td>1</td><td>1</td><td>0</td><td>0</td><td>1</td></tr>\n",
       "\t<tr><th scope=row>cock</th><td>0</td><td>1</td><td>0</td><td>0</td><td>0</td><td>1</td><td>0</td><td>0</td><td>1</td><td>0</td><td>1</td><td>0</td><td>1</td><td>0</td><td>1</td><td>0</td></tr>\n",
       "\t<tr><th scope=row>coll</th><td>1</td><td>0</td><td>0</td><td>0</td><td>1</td><td>0</td><td>1</td><td>0</td><td>0</td><td>0</td><td>1</td><td>0</td><td>1</td><td>0</td><td>0</td><td>1</td></tr>\n",
       "\t<tr><th scope=row>dalm</th><td>0</td><td>1</td><td>0</td><td>0</td><td>1</td><td>0</td><td>0</td><td>1</td><td>0</td><td>0</td><td>1</td><td>0</td><td>1</td><td>0</td><td>0</td><td>1</td></tr>\n",
       "\t<tr><th scope=row>dobe</th><td>1</td><td>0</td><td>0</td><td>0</td><td>1</td><td>0</td><td>1</td><td>0</td><td>0</td><td>1</td><td>0</td><td>0</td><td>0</td><td>1</td><td>1</td><td>0</td></tr>\n",
       "\t<tr><th scope=row>dogo</th><td>1</td><td>0</td><td>0</td><td>1</td><td>0</td><td>0</td><td>1</td><td>0</td><td>0</td><td>0</td><td>0</td><td>1</td><td>0</td><td>1</td><td>1</td><td>0</td></tr>\n",
       "\t<tr><th scope=row>foxh</th><td>1</td><td>0</td><td>0</td><td>0</td><td>1</td><td>0</td><td>1</td><td>0</td><td>0</td><td>0</td><td>0</td><td>1</td><td>0</td><td>1</td><td>1</td><td>0</td></tr>\n",
       "\t<tr><th scope=row>foxt</th><td>0</td><td>0</td><td>1</td><td>0</td><td>0</td><td>1</td><td>0</td><td>1</td><td>0</td><td>0</td><td>1</td><td>0</td><td>1</td><td>0</td><td>1</td><td>0</td></tr>\n",
       "\t<tr><th scope=row>galg</th><td>1</td><td>0</td><td>0</td><td>0</td><td>1</td><td>0</td><td>1</td><td>0</td><td>0</td><td>0</td><td>0</td><td>1</td><td>0</td><td>1</td><td>0</td><td>1</td></tr>\n",
       "\t<tr><th scope=row>gasc</th><td>1</td><td>0</td><td>0</td><td>0</td><td>1</td><td>0</td><td>0</td><td>1</td><td>0</td><td>0</td><td>0</td><td>1</td><td>0</td><td>1</td><td>1</td><td>0</td></tr>\n",
       "\t<tr><th scope=row>labr</th><td>0</td><td>1</td><td>0</td><td>0</td><td>1</td><td>0</td><td>0</td><td>1</td><td>0</td><td>0</td><td>1</td><td>0</td><td>1</td><td>0</td><td>0</td><td>1</td></tr>\n",
       "\t<tr><th scope=row>masa</th><td>1</td><td>0</td><td>0</td><td>0</td><td>1</td><td>0</td><td>1</td><td>0</td><td>0</td><td>1</td><td>0</td><td>0</td><td>1</td><td>0</td><td>1</td><td>0</td></tr>\n",
       "\t<tr><th scope=row>mast</th><td>1</td><td>0</td><td>0</td><td>1</td><td>0</td><td>0</td><td>0</td><td>0</td><td>1</td><td>0</td><td>0</td><td>1</td><td>0</td><td>1</td><td>1</td><td>0</td></tr>\n",
       "\t<tr><th scope=row>peki</th><td>0</td><td>0</td><td>1</td><td>0</td><td>0</td><td>1</td><td>0</td><td>0</td><td>1</td><td>0</td><td>0</td><td>1</td><td>1</td><td>0</td><td>0</td><td>1</td></tr>\n",
       "\t<tr><th scope=row>podb</th><td>0</td><td>1</td><td>0</td><td>0</td><td>1</td><td>0</td><td>0</td><td>1</td><td>0</td><td>1</td><td>0</td><td>0</td><td>1</td><td>0</td><td>0</td><td>1</td></tr>\n",
       "\t<tr><th scope=row>podf</th><td>1</td><td>0</td><td>0</td><td>0</td><td>1</td><td>0</td><td>0</td><td>1</td><td>0</td><td>0</td><td>1</td><td>0</td><td>0</td><td>1</td><td>0</td><td>1</td></tr>\n",
       "\t<tr><th scope=row>poin</th><td>1</td><td>0</td><td>0</td><td>0</td><td>1</td><td>0</td><td>1</td><td>0</td><td>0</td><td>1</td><td>0</td><td>0</td><td>0</td><td>1</td><td>0</td><td>1</td></tr>\n",
       "\t<tr><th scope=row>sett</th><td>1</td><td>0</td><td>0</td><td>0</td><td>1</td><td>0</td><td>1</td><td>0</td><td>0</td><td>0</td><td>1</td><td>0</td><td>0</td><td>1</td><td>0</td><td>1</td></tr>\n",
       "\t<tr><th scope=row>stbe</th><td>1</td><td>0</td><td>0</td><td>1</td><td>0</td><td>0</td><td>0</td><td>0</td><td>1</td><td>0</td><td>1</td><td>0</td><td>0</td><td>1</td><td>1</td><td>0</td></tr>\n",
       "\t<tr><th scope=row>teck</th><td>0</td><td>0</td><td>1</td><td>0</td><td>0</td><td>1</td><td>0</td><td>0</td><td>1</td><td>0</td><td>1</td><td>0</td><td>1</td><td>0</td><td>0</td><td>1</td></tr>\n",
       "\t<tr><th scope=row>tern</th><td>1</td><td>0</td><td>0</td><td>1</td><td>0</td><td>0</td><td>0</td><td>0</td><td>1</td><td>0</td><td>1</td><td>0</td><td>0</td><td>1</td><td>0</td><td>1</td></tr>\n",
       "</tbody>\n",
       "</table>\n"
      ],
      "text/latex": [
       "\\begin{tabular}{r|llllllllllllllll}\n",
       "  & TAM.g & TAM.m & TAM.p & PESO.g & PESO.m & PESO.p & VEL.g & VEL.m & VEL.p & INT.g & INT.m & INT.p & AFC.m & AFC.p & AGR.m & AGR.p\\\\\n",
       "\\hline\n",
       "\tbass & 0 & 0 & 1 & 0 & 0 & 1 & 0 & 0 & 1 & 0 & 0 & 1 & 0 & 1 & 1 & 0\\\\\n",
       "\tbeau & 1 & 0 & 0 & 0 & 1 & 0 & 1 & 0 & 0 & 0 & 1 & 0 & 1 & 0 & 1 & 0\\\\\n",
       "\tboxe & 0 & 1 & 0 & 0 & 1 & 0 & 0 & 1 & 0 & 0 & 1 & 0 & 1 & 0 & 1 & 0\\\\\n",
       "\tbuld & 0 & 0 & 1 & 0 & 0 & 1 & 0 & 0 & 1 & 0 & 1 & 0 & 1 & 0 & 0 & 1\\\\\n",
       "\tbulm & 1 & 0 & 0 & 1 & 0 & 0 & 0 & 0 & 1 & 1 & 0 & 0 & 0 & 1 & 1 & 0\\\\\n",
       "\tcani & 0 & 0 & 1 & 0 & 0 & 1 & 0 & 1 & 0 & 1 & 0 & 0 & 1 & 0 & 0 & 1\\\\\n",
       "\tchih & 0 & 0 & 1 & 0 & 0 & 1 & 0 & 0 & 1 & 0 & 0 & 1 & 1 & 0 & 0 & 1\\\\\n",
       "\tcock & 0 & 1 & 0 & 0 & 0 & 1 & 0 & 0 & 1 & 0 & 1 & 0 & 1 & 0 & 1 & 0\\\\\n",
       "\tcoll & 1 & 0 & 0 & 0 & 1 & 0 & 1 & 0 & 0 & 0 & 1 & 0 & 1 & 0 & 0 & 1\\\\\n",
       "\tdalm & 0 & 1 & 0 & 0 & 1 & 0 & 0 & 1 & 0 & 0 & 1 & 0 & 1 & 0 & 0 & 1\\\\\n",
       "\tdobe & 1 & 0 & 0 & 0 & 1 & 0 & 1 & 0 & 0 & 1 & 0 & 0 & 0 & 1 & 1 & 0\\\\\n",
       "\tdogo & 1 & 0 & 0 & 1 & 0 & 0 & 1 & 0 & 0 & 0 & 0 & 1 & 0 & 1 & 1 & 0\\\\\n",
       "\tfoxh & 1 & 0 & 0 & 0 & 1 & 0 & 1 & 0 & 0 & 0 & 0 & 1 & 0 & 1 & 1 & 0\\\\\n",
       "\tfoxt & 0 & 0 & 1 & 0 & 0 & 1 & 0 & 1 & 0 & 0 & 1 & 0 & 1 & 0 & 1 & 0\\\\\n",
       "\tgalg & 1 & 0 & 0 & 0 & 1 & 0 & 1 & 0 & 0 & 0 & 0 & 1 & 0 & 1 & 0 & 1\\\\\n",
       "\tgasc & 1 & 0 & 0 & 0 & 1 & 0 & 0 & 1 & 0 & 0 & 0 & 1 & 0 & 1 & 1 & 0\\\\\n",
       "\tlabr & 0 & 1 & 0 & 0 & 1 & 0 & 0 & 1 & 0 & 0 & 1 & 0 & 1 & 0 & 0 & 1\\\\\n",
       "\tmasa & 1 & 0 & 0 & 0 & 1 & 0 & 1 & 0 & 0 & 1 & 0 & 0 & 1 & 0 & 1 & 0\\\\\n",
       "\tmast & 1 & 0 & 0 & 1 & 0 & 0 & 0 & 0 & 1 & 0 & 0 & 1 & 0 & 1 & 1 & 0\\\\\n",
       "\tpeki & 0 & 0 & 1 & 0 & 0 & 1 & 0 & 0 & 1 & 0 & 0 & 1 & 1 & 0 & 0 & 1\\\\\n",
       "\tpodb & 0 & 1 & 0 & 0 & 1 & 0 & 0 & 1 & 0 & 1 & 0 & 0 & 1 & 0 & 0 & 1\\\\\n",
       "\tpodf & 1 & 0 & 0 & 0 & 1 & 0 & 0 & 1 & 0 & 0 & 1 & 0 & 0 & 1 & 0 & 1\\\\\n",
       "\tpoin & 1 & 0 & 0 & 0 & 1 & 0 & 1 & 0 & 0 & 1 & 0 & 0 & 0 & 1 & 0 & 1\\\\\n",
       "\tsett & 1 & 0 & 0 & 0 & 1 & 0 & 1 & 0 & 0 & 0 & 1 & 0 & 0 & 1 & 0 & 1\\\\\n",
       "\tstbe & 1 & 0 & 0 & 1 & 0 & 0 & 0 & 0 & 1 & 0 & 1 & 0 & 0 & 1 & 1 & 0\\\\\n",
       "\tteck & 0 & 0 & 1 & 0 & 0 & 1 & 0 & 0 & 1 & 0 & 1 & 0 & 1 & 0 & 0 & 1\\\\\n",
       "\ttern & 1 & 0 & 0 & 1 & 0 & 0 & 0 & 0 & 1 & 0 & 1 & 0 & 0 & 1 & 0 & 1\\\\\n",
       "\\end{tabular}\n"
      ],
      "text/markdown": [
       "\n",
       "| <!--/--> | TAM.g | TAM.m | TAM.p | PESO.g | PESO.m | PESO.p | VEL.g | VEL.m | VEL.p | INT.g | INT.m | INT.p | AFC.m | AFC.p | AGR.m | AGR.p |\n",
       "|---|---|---|---|---|---|---|---|---|---|---|---|---|---|---|---|---|\n",
       "| bass | 0 | 0 | 1 | 0 | 0 | 1 | 0 | 0 | 1 | 0 | 0 | 1 | 0 | 1 | 1 | 0 |\n",
       "| beau | 1 | 0 | 0 | 0 | 1 | 0 | 1 | 0 | 0 | 0 | 1 | 0 | 1 | 0 | 1 | 0 |\n",
       "| boxe | 0 | 1 | 0 | 0 | 1 | 0 | 0 | 1 | 0 | 0 | 1 | 0 | 1 | 0 | 1 | 0 |\n",
       "| buld | 0 | 0 | 1 | 0 | 0 | 1 | 0 | 0 | 1 | 0 | 1 | 0 | 1 | 0 | 0 | 1 |\n",
       "| bulm | 1 | 0 | 0 | 1 | 0 | 0 | 0 | 0 | 1 | 1 | 0 | 0 | 0 | 1 | 1 | 0 |\n",
       "| cani | 0 | 0 | 1 | 0 | 0 | 1 | 0 | 1 | 0 | 1 | 0 | 0 | 1 | 0 | 0 | 1 |\n",
       "| chih | 0 | 0 | 1 | 0 | 0 | 1 | 0 | 0 | 1 | 0 | 0 | 1 | 1 | 0 | 0 | 1 |\n",
       "| cock | 0 | 1 | 0 | 0 | 0 | 1 | 0 | 0 | 1 | 0 | 1 | 0 | 1 | 0 | 1 | 0 |\n",
       "| coll | 1 | 0 | 0 | 0 | 1 | 0 | 1 | 0 | 0 | 0 | 1 | 0 | 1 | 0 | 0 | 1 |\n",
       "| dalm | 0 | 1 | 0 | 0 | 1 | 0 | 0 | 1 | 0 | 0 | 1 | 0 | 1 | 0 | 0 | 1 |\n",
       "| dobe | 1 | 0 | 0 | 0 | 1 | 0 | 1 | 0 | 0 | 1 | 0 | 0 | 0 | 1 | 1 | 0 |\n",
       "| dogo | 1 | 0 | 0 | 1 | 0 | 0 | 1 | 0 | 0 | 0 | 0 | 1 | 0 | 1 | 1 | 0 |\n",
       "| foxh | 1 | 0 | 0 | 0 | 1 | 0 | 1 | 0 | 0 | 0 | 0 | 1 | 0 | 1 | 1 | 0 |\n",
       "| foxt | 0 | 0 | 1 | 0 | 0 | 1 | 0 | 1 | 0 | 0 | 1 | 0 | 1 | 0 | 1 | 0 |\n",
       "| galg | 1 | 0 | 0 | 0 | 1 | 0 | 1 | 0 | 0 | 0 | 0 | 1 | 0 | 1 | 0 | 1 |\n",
       "| gasc | 1 | 0 | 0 | 0 | 1 | 0 | 0 | 1 | 0 | 0 | 0 | 1 | 0 | 1 | 1 | 0 |\n",
       "| labr | 0 | 1 | 0 | 0 | 1 | 0 | 0 | 1 | 0 | 0 | 1 | 0 | 1 | 0 | 0 | 1 |\n",
       "| masa | 1 | 0 | 0 | 0 | 1 | 0 | 1 | 0 | 0 | 1 | 0 | 0 | 1 | 0 | 1 | 0 |\n",
       "| mast | 1 | 0 | 0 | 1 | 0 | 0 | 0 | 0 | 1 | 0 | 0 | 1 | 0 | 1 | 1 | 0 |\n",
       "| peki | 0 | 0 | 1 | 0 | 0 | 1 | 0 | 0 | 1 | 0 | 0 | 1 | 1 | 0 | 0 | 1 |\n",
       "| podb | 0 | 1 | 0 | 0 | 1 | 0 | 0 | 1 | 0 | 1 | 0 | 0 | 1 | 0 | 0 | 1 |\n",
       "| podf | 1 | 0 | 0 | 0 | 1 | 0 | 0 | 1 | 0 | 0 | 1 | 0 | 0 | 1 | 0 | 1 |\n",
       "| poin | 1 | 0 | 0 | 0 | 1 | 0 | 1 | 0 | 0 | 1 | 0 | 0 | 0 | 1 | 0 | 1 |\n",
       "| sett | 1 | 0 | 0 | 0 | 1 | 0 | 1 | 0 | 0 | 0 | 1 | 0 | 0 | 1 | 0 | 1 |\n",
       "| stbe | 1 | 0 | 0 | 1 | 0 | 0 | 0 | 0 | 1 | 0 | 1 | 0 | 0 | 1 | 1 | 0 |\n",
       "| teck | 0 | 0 | 1 | 0 | 0 | 1 | 0 | 0 | 1 | 0 | 1 | 0 | 1 | 0 | 0 | 1 |\n",
       "| tern | 1 | 0 | 0 | 1 | 0 | 0 | 0 | 0 | 1 | 0 | 1 | 0 | 0 | 1 | 0 | 1 |\n",
       "\n"
      ],
      "text/plain": [
       "     TAM.g TAM.m TAM.p PESO.g PESO.m PESO.p VEL.g VEL.m VEL.p INT.g INT.m INT.p\n",
       "bass 0     0     1     0      0      1      0     0     1     0     0     1    \n",
       "beau 1     0     0     0      1      0      1     0     0     0     1     0    \n",
       "boxe 0     1     0     0      1      0      0     1     0     0     1     0    \n",
       "buld 0     0     1     0      0      1      0     0     1     0     1     0    \n",
       "bulm 1     0     0     1      0      0      0     0     1     1     0     0    \n",
       "cani 0     0     1     0      0      1      0     1     0     1     0     0    \n",
       "chih 0     0     1     0      0      1      0     0     1     0     0     1    \n",
       "cock 0     1     0     0      0      1      0     0     1     0     1     0    \n",
       "coll 1     0     0     0      1      0      1     0     0     0     1     0    \n",
       "dalm 0     1     0     0      1      0      0     1     0     0     1     0    \n",
       "dobe 1     0     0     0      1      0      1     0     0     1     0     0    \n",
       "dogo 1     0     0     1      0      0      1     0     0     0     0     1    \n",
       "foxh 1     0     0     0      1      0      1     0     0     0     0     1    \n",
       "foxt 0     0     1     0      0      1      0     1     0     0     1     0    \n",
       "galg 1     0     0     0      1      0      1     0     0     0     0     1    \n",
       "gasc 1     0     0     0      1      0      0     1     0     0     0     1    \n",
       "labr 0     1     0     0      1      0      0     1     0     0     1     0    \n",
       "masa 1     0     0     0      1      0      1     0     0     1     0     0    \n",
       "mast 1     0     0     1      0      0      0     0     1     0     0     1    \n",
       "peki 0     0     1     0      0      1      0     0     1     0     0     1    \n",
       "podb 0     1     0     0      1      0      0     1     0     1     0     0    \n",
       "podf 1     0     0     0      1      0      0     1     0     0     1     0    \n",
       "poin 1     0     0     0      1      0      1     0     0     1     0     0    \n",
       "sett 1     0     0     0      1      0      1     0     0     0     1     0    \n",
       "stbe 1     0     0     1      0      0      0     0     1     0     1     0    \n",
       "teck 0     0     1     0      0      1      0     0     1     0     1     0    \n",
       "tern 1     0     0     1      0      0      0     0     1     0     1     0    \n",
       "     AFC.m AFC.p AGR.m AGR.p\n",
       "bass 0     1     1     0    \n",
       "beau 1     0     1     0    \n",
       "boxe 1     0     1     0    \n",
       "buld 1     0     0     1    \n",
       "bulm 0     1     1     0    \n",
       "cani 1     0     0     1    \n",
       "chih 1     0     0     1    \n",
       "cock 1     0     1     0    \n",
       "coll 1     0     0     1    \n",
       "dalm 1     0     0     1    \n",
       "dobe 0     1     1     0    \n",
       "dogo 0     1     1     0    \n",
       "foxh 0     1     1     0    \n",
       "foxt 1     0     1     0    \n",
       "galg 0     1     0     1    \n",
       "gasc 0     1     1     0    \n",
       "labr 1     0     0     1    \n",
       "masa 1     0     1     0    \n",
       "mast 0     1     1     0    \n",
       "peki 1     0     0     1    \n",
       "podb 1     0     0     1    \n",
       "podf 0     1     0     1    \n",
       "poin 0     1     0     1    \n",
       "sett 0     1     0     1    \n",
       "stbe 0     1     1     0    \n",
       "teck 1     0     0     1    \n",
       "tern 0     1     0     1    "
      ]
     },
     "metadata": {},
     "output_type": "display_data"
    }
   ],
   "source": [
    "n <- nrow(perros_0) \n",
    "perros <- list(tab=perros_0[,1:6],funcion=perros_0[,7])\n",
    "s <- ncol(perros$tab)\n",
    "\n",
    "Z <- acm.disjonctif(perros$tab); Z\t# Z"
   ]
  },
  {
   "cell_type": "markdown",
   "metadata": {
    "id": "qKwbXF1nT84Y"
   },
   "source": [
    "## Tabla de contingencia de Burt\n",
    "\n",
    "Se construye, a partir de la tabla disyuntiva completa **Z**, la tabla simétrica **B** de orden *(p,p)* que ensambla los cruzamientos dos a dos de todas las variables:\n",
    "\n",
    "<center> $B=Z'Z$ </center>\n",
    "\n",
    "**B** se llama tabla de contingencia de Burt asociada a la tabla disyuntiva completa **Z**.\n",
    "\n",
    "El termino general de **B** se escribe:\n",
    "\n",
    " $$b_{ij}=\\sum_{i=1}^{n}z_{ij}z_{ij'}$$ \n"
   ]
  },
  {
   "cell_type": "code",
   "execution_count": 6,
   "metadata": {
    "colab": {
     "base_uri": "https://localhost:8080/",
     "height": 593
    },
    "id": "tH2c8DKCSAWp",
    "outputId": "a3f2282d-4ee9-4321-943f-ce4c5876032b"
   },
   "outputs": [
    {
     "data": {
      "text/html": [
       "<table>\n",
       "<thead><tr><th></th><th scope=col>TAM.g</th><th scope=col>TAM.m</th><th scope=col>TAM.p</th><th scope=col>PESO.g</th><th scope=col>PESO.m</th><th scope=col>PESO.p</th><th scope=col>VEL.g</th><th scope=col>VEL.m</th><th scope=col>VEL.p</th><th scope=col>INT.g</th><th scope=col>INT.m</th><th scope=col>INT.p</th><th scope=col>AFC.m</th><th scope=col>AFC.p</th><th scope=col>AGR.m</th><th scope=col>AGR.p</th></tr></thead>\n",
       "<tbody>\n",
       "\t<tr><th scope=row>TAM.g</th><td>15</td><td>0 </td><td>0 </td><td>5 </td><td>10</td><td>0 </td><td>9 </td><td>2 </td><td> 4</td><td>4 </td><td> 6</td><td>5 </td><td> 3</td><td>12</td><td> 9</td><td> 6</td></tr>\n",
       "\t<tr><th scope=row>TAM.m</th><td> 0</td><td>5 </td><td>0 </td><td>0 </td><td> 4</td><td>1 </td><td>0 </td><td>4 </td><td> 1</td><td>1 </td><td> 4</td><td>0 </td><td> 5</td><td> 0</td><td> 2</td><td> 3</td></tr>\n",
       "\t<tr><th scope=row>TAM.p</th><td> 0</td><td>0 </td><td>7 </td><td>0 </td><td> 0</td><td>7 </td><td>0 </td><td>2 </td><td> 5</td><td>1 </td><td> 3</td><td>3 </td><td> 6</td><td> 1</td><td> 2</td><td> 5</td></tr>\n",
       "\t<tr><th scope=row>PESO.g</th><td> 5</td><td>0 </td><td>0 </td><td>5 </td><td> 0</td><td>0 </td><td>1 </td><td>0 </td><td> 4</td><td>1 </td><td> 2</td><td>2 </td><td> 0</td><td> 5</td><td> 4</td><td> 1</td></tr>\n",
       "\t<tr><th scope=row>PESO.m</th><td>10</td><td>4 </td><td>0 </td><td>0 </td><td>14</td><td>0 </td><td>8 </td><td>6 </td><td> 0</td><td>4 </td><td> 7</td><td>3 </td><td> 7</td><td> 7</td><td> 6</td><td> 8</td></tr>\n",
       "\t<tr><th scope=row>PESO.p</th><td> 0</td><td>1 </td><td>7 </td><td>0 </td><td> 0</td><td>8 </td><td>0 </td><td>2 </td><td> 6</td><td>1 </td><td> 4</td><td>3 </td><td> 7</td><td> 1</td><td> 3</td><td> 5</td></tr>\n",
       "\t<tr><th scope=row>VEL.g</th><td> 9</td><td>0 </td><td>0 </td><td>1 </td><td> 8</td><td>0 </td><td>9 </td><td>0 </td><td> 0</td><td>3 </td><td> 3</td><td>3 </td><td> 3</td><td> 6</td><td> 5</td><td> 4</td></tr>\n",
       "\t<tr><th scope=row>VEL.m</th><td> 2</td><td>4 </td><td>2 </td><td>0 </td><td> 6</td><td>2 </td><td>0 </td><td>8 </td><td> 0</td><td>2 </td><td> 5</td><td>1 </td><td> 6</td><td> 2</td><td> 3</td><td> 5</td></tr>\n",
       "\t<tr><th scope=row>VEL.p</th><td> 4</td><td>1 </td><td>5 </td><td>4 </td><td> 0</td><td>6 </td><td>0 </td><td>0 </td><td>10</td><td>1 </td><td> 5</td><td>4 </td><td> 5</td><td> 5</td><td> 5</td><td> 5</td></tr>\n",
       "\t<tr><th scope=row>INT.g</th><td> 4</td><td>1 </td><td>1 </td><td>1 </td><td> 4</td><td>1 </td><td>3 </td><td>2 </td><td> 1</td><td>6 </td><td> 0</td><td>0 </td><td> 3</td><td> 3</td><td> 3</td><td> 3</td></tr>\n",
       "\t<tr><th scope=row>INT.m</th><td> 6</td><td>4 </td><td>3 </td><td>2 </td><td> 7</td><td>4 </td><td>3 </td><td>5 </td><td> 5</td><td>0 </td><td>13</td><td>0 </td><td> 9</td><td> 4</td><td> 5</td><td> 8</td></tr>\n",
       "\t<tr><th scope=row>INT.p</th><td> 5</td><td>0 </td><td>3 </td><td>2 </td><td> 3</td><td>3 </td><td>3 </td><td>1 </td><td> 4</td><td>0 </td><td> 0</td><td>8 </td><td> 2</td><td> 6</td><td> 5</td><td> 3</td></tr>\n",
       "\t<tr><th scope=row>AFC.m</th><td> 3</td><td>5 </td><td>6 </td><td>0 </td><td> 7</td><td>7 </td><td>3 </td><td>6 </td><td> 5</td><td>3 </td><td> 9</td><td>2 </td><td>14</td><td> 0</td><td> 5</td><td> 9</td></tr>\n",
       "\t<tr><th scope=row>AFC.p</th><td>12</td><td>0 </td><td>1 </td><td>5 </td><td> 7</td><td>1 </td><td>6 </td><td>2 </td><td> 5</td><td>3 </td><td> 4</td><td>6 </td><td> 0</td><td>13</td><td> 8</td><td> 5</td></tr>\n",
       "\t<tr><th scope=row>AGR.m</th><td> 9</td><td>2 </td><td>2 </td><td>4 </td><td> 6</td><td>3 </td><td>5 </td><td>3 </td><td> 5</td><td>3 </td><td> 5</td><td>5 </td><td> 5</td><td> 8</td><td>13</td><td> 0</td></tr>\n",
       "\t<tr><th scope=row>AGR.p</th><td> 6</td><td>3 </td><td>5 </td><td>1 </td><td> 8</td><td>5 </td><td>4 </td><td>5 </td><td> 5</td><td>3 </td><td> 8</td><td>3 </td><td> 9</td><td> 5</td><td> 0</td><td>14</td></tr>\n",
       "</tbody>\n",
       "</table>\n"
      ],
      "text/latex": [
       "\\begin{tabular}{r|llllllllllllllll}\n",
       "  & TAM.g & TAM.m & TAM.p & PESO.g & PESO.m & PESO.p & VEL.g & VEL.m & VEL.p & INT.g & INT.m & INT.p & AFC.m & AFC.p & AGR.m & AGR.p\\\\\n",
       "\\hline\n",
       "\tTAM.g & 15 & 0  & 0  & 5  & 10 & 0  & 9  & 2  &  4 & 4  &  6 & 5  &  3 & 12 &  9 &  6\\\\\n",
       "\tTAM.m &  0 & 5  & 0  & 0  &  4 & 1  & 0  & 4  &  1 & 1  &  4 & 0  &  5 &  0 &  2 &  3\\\\\n",
       "\tTAM.p &  0 & 0  & 7  & 0  &  0 & 7  & 0  & 2  &  5 & 1  &  3 & 3  &  6 &  1 &  2 &  5\\\\\n",
       "\tPESO.g &  5 & 0  & 0  & 5  &  0 & 0  & 1  & 0  &  4 & 1  &  2 & 2  &  0 &  5 &  4 &  1\\\\\n",
       "\tPESO.m & 10 & 4  & 0  & 0  & 14 & 0  & 8  & 6  &  0 & 4  &  7 & 3  &  7 &  7 &  6 &  8\\\\\n",
       "\tPESO.p &  0 & 1  & 7  & 0  &  0 & 8  & 0  & 2  &  6 & 1  &  4 & 3  &  7 &  1 &  3 &  5\\\\\n",
       "\tVEL.g &  9 & 0  & 0  & 1  &  8 & 0  & 9  & 0  &  0 & 3  &  3 & 3  &  3 &  6 &  5 &  4\\\\\n",
       "\tVEL.m &  2 & 4  & 2  & 0  &  6 & 2  & 0  & 8  &  0 & 2  &  5 & 1  &  6 &  2 &  3 &  5\\\\\n",
       "\tVEL.p &  4 & 1  & 5  & 4  &  0 & 6  & 0  & 0  & 10 & 1  &  5 & 4  &  5 &  5 &  5 &  5\\\\\n",
       "\tINT.g &  4 & 1  & 1  & 1  &  4 & 1  & 3  & 2  &  1 & 6  &  0 & 0  &  3 &  3 &  3 &  3\\\\\n",
       "\tINT.m &  6 & 4  & 3  & 2  &  7 & 4  & 3  & 5  &  5 & 0  & 13 & 0  &  9 &  4 &  5 &  8\\\\\n",
       "\tINT.p &  5 & 0  & 3  & 2  &  3 & 3  & 3  & 1  &  4 & 0  &  0 & 8  &  2 &  6 &  5 &  3\\\\\n",
       "\tAFC.m &  3 & 5  & 6  & 0  &  7 & 7  & 3  & 6  &  5 & 3  &  9 & 2  & 14 &  0 &  5 &  9\\\\\n",
       "\tAFC.p & 12 & 0  & 1  & 5  &  7 & 1  & 6  & 2  &  5 & 3  &  4 & 6  &  0 & 13 &  8 &  5\\\\\n",
       "\tAGR.m &  9 & 2  & 2  & 4  &  6 & 3  & 5  & 3  &  5 & 3  &  5 & 5  &  5 &  8 & 13 &  0\\\\\n",
       "\tAGR.p &  6 & 3  & 5  & 1  &  8 & 5  & 4  & 5  &  5 & 3  &  8 & 3  &  9 &  5 &  0 & 14\\\\\n",
       "\\end{tabular}\n"
      ],
      "text/markdown": [
       "\n",
       "| <!--/--> | TAM.g | TAM.m | TAM.p | PESO.g | PESO.m | PESO.p | VEL.g | VEL.m | VEL.p | INT.g | INT.m | INT.p | AFC.m | AFC.p | AGR.m | AGR.p |\n",
       "|---|---|---|---|---|---|---|---|---|---|---|---|---|---|---|---|---|\n",
       "| TAM.g | 15 | 0  | 0  | 5  | 10 | 0  | 9  | 2  |  4 | 4  |  6 | 5  |  3 | 12 |  9 |  6 |\n",
       "| TAM.m |  0 | 5  | 0  | 0  |  4 | 1  | 0  | 4  |  1 | 1  |  4 | 0  |  5 |  0 |  2 |  3 |\n",
       "| TAM.p |  0 | 0  | 7  | 0  |  0 | 7  | 0  | 2  |  5 | 1  |  3 | 3  |  6 |  1 |  2 |  5 |\n",
       "| PESO.g |  5 | 0  | 0  | 5  |  0 | 0  | 1  | 0  |  4 | 1  |  2 | 2  |  0 |  5 |  4 |  1 |\n",
       "| PESO.m | 10 | 4  | 0  | 0  | 14 | 0  | 8  | 6  |  0 | 4  |  7 | 3  |  7 |  7 |  6 |  8 |\n",
       "| PESO.p |  0 | 1  | 7  | 0  |  0 | 8  | 0  | 2  |  6 | 1  |  4 | 3  |  7 |  1 |  3 |  5 |\n",
       "| VEL.g |  9 | 0  | 0  | 1  |  8 | 0  | 9  | 0  |  0 | 3  |  3 | 3  |  3 |  6 |  5 |  4 |\n",
       "| VEL.m |  2 | 4  | 2  | 0  |  6 | 2  | 0  | 8  |  0 | 2  |  5 | 1  |  6 |  2 |  3 |  5 |\n",
       "| VEL.p |  4 | 1  | 5  | 4  |  0 | 6  | 0  | 0  | 10 | 1  |  5 | 4  |  5 |  5 |  5 |  5 |\n",
       "| INT.g |  4 | 1  | 1  | 1  |  4 | 1  | 3  | 2  |  1 | 6  |  0 | 0  |  3 |  3 |  3 |  3 |\n",
       "| INT.m |  6 | 4  | 3  | 2  |  7 | 4  | 3  | 5  |  5 | 0  | 13 | 0  |  9 |  4 |  5 |  8 |\n",
       "| INT.p |  5 | 0  | 3  | 2  |  3 | 3  | 3  | 1  |  4 | 0  |  0 | 8  |  2 |  6 |  5 |  3 |\n",
       "| AFC.m |  3 | 5  | 6  | 0  |  7 | 7  | 3  | 6  |  5 | 3  |  9 | 2  | 14 |  0 |  5 |  9 |\n",
       "| AFC.p | 12 | 0  | 1  | 5  |  7 | 1  | 6  | 2  |  5 | 3  |  4 | 6  |  0 | 13 |  8 |  5 |\n",
       "| AGR.m |  9 | 2  | 2  | 4  |  6 | 3  | 5  | 3  |  5 | 3  |  5 | 5  |  5 |  8 | 13 |  0 |\n",
       "| AGR.p |  6 | 3  | 5  | 1  |  8 | 5  | 4  | 5  |  5 | 3  |  8 | 3  |  9 |  5 |  0 | 14 |\n",
       "\n"
      ],
      "text/plain": [
       "       TAM.g TAM.m TAM.p PESO.g PESO.m PESO.p VEL.g VEL.m VEL.p INT.g INT.m\n",
       "TAM.g  15    0     0     5      10     0      9     2      4    4      6   \n",
       "TAM.m   0    5     0     0       4     1      0     4      1    1      4   \n",
       "TAM.p   0    0     7     0       0     7      0     2      5    1      3   \n",
       "PESO.g  5    0     0     5       0     0      1     0      4    1      2   \n",
       "PESO.m 10    4     0     0      14     0      8     6      0    4      7   \n",
       "PESO.p  0    1     7     0       0     8      0     2      6    1      4   \n",
       "VEL.g   9    0     0     1       8     0      9     0      0    3      3   \n",
       "VEL.m   2    4     2     0       6     2      0     8      0    2      5   \n",
       "VEL.p   4    1     5     4       0     6      0     0     10    1      5   \n",
       "INT.g   4    1     1     1       4     1      3     2      1    6      0   \n",
       "INT.m   6    4     3     2       7     4      3     5      5    0     13   \n",
       "INT.p   5    0     3     2       3     3      3     1      4    0      0   \n",
       "AFC.m   3    5     6     0       7     7      3     6      5    3      9   \n",
       "AFC.p  12    0     1     5       7     1      6     2      5    3      4   \n",
       "AGR.m   9    2     2     4       6     3      5     3      5    3      5   \n",
       "AGR.p   6    3     5     1       8     5      4     5      5    3      8   \n",
       "       INT.p AFC.m AFC.p AGR.m AGR.p\n",
       "TAM.g  5      3    12     9     6   \n",
       "TAM.m  0      5     0     2     3   \n",
       "TAM.p  3      6     1     2     5   \n",
       "PESO.g 2      0     5     4     1   \n",
       "PESO.m 3      7     7     6     8   \n",
       "PESO.p 3      7     1     3     5   \n",
       "VEL.g  3      3     6     5     4   \n",
       "VEL.m  1      6     2     3     5   \n",
       "VEL.p  4      5     5     5     5   \n",
       "INT.g  0      3     3     3     3   \n",
       "INT.m  0      9     4     5     8   \n",
       "INT.p  8      2     6     5     3   \n",
       "AFC.m  2     14     0     5     9   \n",
       "AFC.p  6      0    13     8     5   \n",
       "AGR.m  5      5     8    13     0   \n",
       "AGR.p  3      9     5     0    14   "
      ]
     },
     "metadata": {},
     "output_type": "display_data"
    }
   ],
   "source": [
    "p <- ncol(Z)\n",
    "\n",
    "B <- acm.burt(perros$tab,perros$tab); B"
   ]
  },
  {
   "cell_type": "markdown",
   "metadata": {
    "id": "7kaWqXxOMvBr"
   },
   "source": [
    "# Equivalencia\n",
    "\n",
    "La tabla B de Burt, obtenida de una tabla disyuntiva completa, es un conjunto particular de tablas de contingencia que son las caras del hipercubo de\n",
    "contingencia.\n",
    "\n",
    "El análisis de correspondencias aplicado a una tabla disyuntiva completa **Z** es equivalente al análisis de la tabla de Burt **B** y produce los mismos vectores propios.\n"
   ]
  },
  {
   "cell_type": "markdown",
   "metadata": {
    "id": "hPKAgoeFasC4"
   },
   "source": [
    "## Equivalencia en valores propios\n",
    "\n",
    "los valores propios asociados difieren, los obtenidos del análisis de *B*, notados $\\lambda_{B}$, son el cuadrado de los obtenidos en el análisis de $Z$:\n",
    "\n",
    "$$\\lambda_{B}=\\lambda^{2}$$\n",
    "\n",
    "Ver capítulo de ACM de Lebart"
   ]
  },
  {
   "cell_type": "code",
   "execution_count": 7,
   "metadata": {
    "colab": {
     "base_uri": "https://localhost:8080/",
     "height": 424
    },
    "id": "VnwGmxaxU5jR",
    "outputId": "9ffad4c6-b985-4cc4-a42e-6b5271284562"
   },
   "outputs": [
    {
     "name": "stdout",
     "output_type": "stream",
     "text": [
      "[1] \"Valores propios Burt vs Disyuntiva\"\n"
     ]
    },
    {
     "data": {
      "text/html": [
       "<table>\n",
       "<thead><tr><th scope=col>Vlps por Burt</th><th scope=col>Vlps por Disyuntiva</th></tr></thead>\n",
       "<tbody>\n",
       "\t<tr><td>0.2319444978</td><td>0.481606165 </td></tr>\n",
       "\t<tr><td>0.1480227806</td><td>0.384737288 </td></tr>\n",
       "\t<tr><td>0.0445016109</td><td>0.210954049 </td></tr>\n",
       "\t<tr><td>0.0248232709</td><td>0.157554025 </td></tr>\n",
       "\t<tr><td>0.0225398186</td><td>0.150132670 </td></tr>\n",
       "\t<tr><td>0.0152017330</td><td>0.123295308 </td></tr>\n",
       "\t<tr><td>0.0066361324</td><td>0.081462460 </td></tr>\n",
       "\t<tr><td>0.0020857267</td><td>0.045669757 </td></tr>\n",
       "\t<tr><td>0.0005542216</td><td>0.023541911 </td></tr>\n",
       "\t<tr><td>0.0000594909</td><td>0.007713034 </td></tr>\n",
       "</tbody>\n",
       "</table>\n"
      ],
      "text/latex": [
       "\\begin{tabular}{r|ll}\n",
       " Vlps por Burt & Vlps por Disyuntiva\\\\\n",
       "\\hline\n",
       "\t 0.2319444978 & 0.481606165 \\\\\n",
       "\t 0.1480227806 & 0.384737288 \\\\\n",
       "\t 0.0445016109 & 0.210954049 \\\\\n",
       "\t 0.0248232709 & 0.157554025 \\\\\n",
       "\t 0.0225398186 & 0.150132670 \\\\\n",
       "\t 0.0152017330 & 0.123295308 \\\\\n",
       "\t 0.0066361324 & 0.081462460 \\\\\n",
       "\t 0.0020857267 & 0.045669757 \\\\\n",
       "\t 0.0005542216 & 0.023541911 \\\\\n",
       "\t 0.0000594909 & 0.007713034 \\\\\n",
       "\\end{tabular}\n"
      ],
      "text/markdown": [
       "\n",
       "| Vlps por Burt | Vlps por Disyuntiva |\n",
       "|---|---|\n",
       "| 0.2319444978 | 0.481606165  |\n",
       "| 0.1480227806 | 0.384737288  |\n",
       "| 0.0445016109 | 0.210954049  |\n",
       "| 0.0248232709 | 0.157554025  |\n",
       "| 0.0225398186 | 0.150132670  |\n",
       "| 0.0152017330 | 0.123295308  |\n",
       "| 0.0066361324 | 0.081462460  |\n",
       "| 0.0020857267 | 0.045669757  |\n",
       "| 0.0005542216 | 0.023541911  |\n",
       "| 0.0000594909 | 0.007713034  |\n",
       "\n"
      ],
      "text/plain": [
       "   Vlps por Burt Vlps por Disyuntiva\n",
       "1  0.2319444978  0.481606165        \n",
       "2  0.1480227806  0.384737288        \n",
       "3  0.0445016109  0.210954049        \n",
       "4  0.0248232709  0.157554025        \n",
       "5  0.0225398186  0.150132670        \n",
       "6  0.0152017330  0.123295308        \n",
       "7  0.0066361324  0.081462460        \n",
       "8  0.0020857267  0.045669757        \n",
       "9  0.0005542216  0.023541911        \n",
       "10 0.0000594909  0.007713034        "
      ]
     },
     "metadata": {},
     "output_type": "display_data"
    }
   ],
   "source": [
    "acs.burt=dudi.coa(B,scannf=FALSE,nf=4)\n",
    "acs.disc=dudi.coa(Z,scannf=FALSE,nf=4)\n",
    "\n",
    "print(\"Valores propios Burt vs Disyuntiva\")\n",
    "\n",
    "vlps<-data.frame(acs.burt$eig, acs.disc$eig)\n",
    "names(vlps)<-c(\"Vlps por Burt\",\"Vlps por Disyuntiva\")\n",
    "vlps"
   ]
  },
  {
   "cell_type": "code",
   "execution_count": 8,
   "metadata": {
    "colab": {
     "base_uri": "https://localhost:8080/",
     "height": 407
    },
    "id": "sE0qv-qMKDEh",
    "outputId": "e67627a8-52af-4537-8faa-65e84b477536"
   },
   "outputs": [
    {
     "data": {
      "text/html": [
       "<table>\n",
       "<thead><tr><th scope=col>Vlps por Burt corregidos</th><th scope=col>Vlps por Disyuntiva</th></tr></thead>\n",
       "<tbody>\n",
       "\t<tr><td>0.481606165</td><td>0.481606165</td></tr>\n",
       "\t<tr><td>0.384737288</td><td>0.384737288</td></tr>\n",
       "\t<tr><td>0.210954049</td><td>0.210954049</td></tr>\n",
       "\t<tr><td>0.157554025</td><td>0.157554025</td></tr>\n",
       "\t<tr><td>0.150132670</td><td>0.150132670</td></tr>\n",
       "\t<tr><td>0.123295308</td><td>0.123295308</td></tr>\n",
       "\t<tr><td>0.081462460</td><td>0.081462460</td></tr>\n",
       "\t<tr><td>0.045669757</td><td>0.045669757</td></tr>\n",
       "\t<tr><td>0.023541911</td><td>0.023541911</td></tr>\n",
       "\t<tr><td>0.007713034</td><td>0.007713034</td></tr>\n",
       "</tbody>\n",
       "</table>\n"
      ],
      "text/latex": [
       "\\begin{tabular}{r|ll}\n",
       " Vlps por Burt corregidos & Vlps por Disyuntiva\\\\\n",
       "\\hline\n",
       "\t 0.481606165 & 0.481606165\\\\\n",
       "\t 0.384737288 & 0.384737288\\\\\n",
       "\t 0.210954049 & 0.210954049\\\\\n",
       "\t 0.157554025 & 0.157554025\\\\\n",
       "\t 0.150132670 & 0.150132670\\\\\n",
       "\t 0.123295308 & 0.123295308\\\\\n",
       "\t 0.081462460 & 0.081462460\\\\\n",
       "\t 0.045669757 & 0.045669757\\\\\n",
       "\t 0.023541911 & 0.023541911\\\\\n",
       "\t 0.007713034 & 0.007713034\\\\\n",
       "\\end{tabular}\n"
      ],
      "text/markdown": [
       "\n",
       "| Vlps por Burt corregidos | Vlps por Disyuntiva |\n",
       "|---|---|\n",
       "| 0.481606165 | 0.481606165 |\n",
       "| 0.384737288 | 0.384737288 |\n",
       "| 0.210954049 | 0.210954049 |\n",
       "| 0.157554025 | 0.157554025 |\n",
       "| 0.150132670 | 0.150132670 |\n",
       "| 0.123295308 | 0.123295308 |\n",
       "| 0.081462460 | 0.081462460 |\n",
       "| 0.045669757 | 0.045669757 |\n",
       "| 0.023541911 | 0.023541911 |\n",
       "| 0.007713034 | 0.007713034 |\n",
       "\n"
      ],
      "text/plain": [
       "   Vlps por Burt corregidos Vlps por Disyuntiva\n",
       "1  0.481606165              0.481606165        \n",
       "2  0.384737288              0.384737288        \n",
       "3  0.210954049              0.210954049        \n",
       "4  0.157554025              0.157554025        \n",
       "5  0.150132670              0.150132670        \n",
       "6  0.123295308              0.123295308        \n",
       "7  0.081462460              0.081462460        \n",
       "8  0.045669757              0.045669757        \n",
       "9  0.023541911              0.023541911        \n",
       "10 0.007713034              0.007713034        "
      ]
     },
     "metadata": {},
     "output_type": "display_data"
    }
   ],
   "source": [
    "vlps<-data.frame(sqrt(acs.burt$eig),acs.disc$eig)\n",
    "names(vlps)<-c(\"Vlps por Burt corregidos\",\"Vlps por Disyuntiva\")\n",
    "vlps"
   ]
  },
  {
   "cell_type": "markdown",
   "metadata": {
    "id": "UzKZPjK1M4oJ"
   },
   "source": [
    "## Equivalencia en coordenadas factoriales"
   ]
  },
  {
   "cell_type": "markdown",
   "metadata": {
    "id": "rBOE2eJ2ciTk"
   },
   "source": [
    "Los factores $\\varphi_{\\alpha}$ obtenidos en el análisis de **Z**, representan las coordenadas factoriales de las modalidades, que tienen norma $\\lambda$, mientras que el factor correspondiente al análisis de **B**, notado $\\varphi_{B\\alpha}$, tendrá por norma $\\lambda^{2}$. finalmente\n",
    "\n",
    "$$\\varphi_{B\\alpha}= \\varphi_{\\alpha}\\sqrt{\\lambda_{\\alpha}}$$\n",
    "\n",
    "De donde se obtiene la relación que liga a los dos sistemas de coordenadas factoriales:"
   ]
  },
  {
   "cell_type": "code",
   "execution_count": 9,
   "metadata": {
    "colab": {
     "base_uri": "https://localhost:8080/",
     "height": 593
    },
    "id": "BowKDvMhM8Hx",
    "outputId": "e467e147-d6d9-4646-d8a7-08a3e1d0a746"
   },
   "outputs": [
    {
     "data": {
      "text/html": [
       "<table>\n",
       "<thead><tr><th></th><th scope=col>Dim1 Burt</th><th scope=col>Dim2 Burt</th><th scope=col>Dim3 Burt</th><th scope=col>Dim4 Burt</th><th scope=col>Dim1 Disc</th><th scope=col>Dim2 Disc</th><th scope=col>Dim3 Disc</th><th scope=col>Dim4 Disc</th></tr></thead>\n",
       "<tbody>\n",
       "\t<tr><th scope=row>TAM.g</th><td> 0.5806347  </td><td> 0.01276424 </td><td> 0.02352403 </td><td>-0.067566253</td><td> 0.8366753  </td><td>-0.02057846 </td><td>-0.05121744 </td><td>-0.17022176 </td></tr>\n",
       "\t<tr><th scope=row>TAM.m</th><td>-0.5906368  </td><td> 0.76400119 </td><td>-0.46666988 </td><td> 0.135931458</td><td>-0.8510880  </td><td>-1.23171972 </td><td> 1.01605178 </td><td> 0.34245635 </td></tr>\n",
       "\t<tr><th scope=row>TAM.p</th><td>-0.8223338  </td><td>-0.57306708 </td><td> 0.28292699 </td><td> 0.047690929</td><td>-1.1849557  </td><td> 0.92389650 </td><td>-0.61599962 </td><td> 0.12014924 </td></tr>\n",
       "\t<tr><th scope=row>PESO.g</th><td> 0.7044813  </td><td>-0.60408323 </td><td>-0.56107512 </td><td> 0.026834480</td><td> 1.0151341  </td><td> 0.97390062 </td><td> 1.22159452 </td><td> 0.06760494 </td></tr>\n",
       "\t<tr><th scope=row>PESO.m</th><td> 0.2119447  </td><td> 0.50792564 </td><td> 0.10622265 </td><td>-0.046982292</td><td> 0.3054053  </td><td>-0.81887572 </td><td>-0.23127208 </td><td>-0.11836395 </td></tr>\n",
       "\t<tr><th scope=row>PESO.p</th><td>-0.8112040  </td><td>-0.51131784 </td><td> 0.16478231 </td><td> 0.065447461</td><td>-1.1689180  </td><td> 0.82434462 </td><td>-0.35877044 </td><td> 0.16488382 </td></tr>\n",
       "\t<tr><th scope=row>VEL.g</th><td> 0.6190981  </td><td> 0.23063725 </td><td> 0.35048407 </td><td>-0.095203140</td><td> 0.8920999  </td><td>-0.37183247 </td><td>-0.76308752 </td><td>-0.23984823 </td></tr>\n",
       "\t<tr><th scope=row>VEL.m</th><td>-0.4189456  </td><td> 0.55068584 </td><td>-0.16365338 </td><td> 0.146960987</td><td>-0.6036867  </td><td>-0.88781355 </td><td> 0.35631249 </td><td> 0.37024339 </td></tr>\n",
       "\t<tr><th scope=row>VEL.p</th><td>-0.2220319  </td><td>-0.64812219 </td><td>-0.18451296 </td><td>-0.031885963</td><td>-0.3199406  </td><td> 1.04490006 </td><td> 0.40172878 </td><td>-0.08033130 </td></tr>\n",
       "\t<tr><th scope=row>INT.g</th><td> 0.2325283  </td><td> 0.28500442 </td><td> 0.27554340 </td><td> 0.506185405</td><td> 0.3350656  </td><td>-0.45948302 </td><td>-0.59992378 </td><td> 1.27524863 </td></tr>\n",
       "\t<tr><th scope=row>INT.m</th><td>-0.2563852  </td><td> 0.17708959 </td><td>-0.22652661 </td><td>-0.239544455</td><td>-0.3694426  </td><td>-0.28550314 </td><td> 0.49320252 </td><td>-0.60349180 </td></tr>\n",
       "\t<tr><th scope=row>INT.p</th><td> 0.2422298  </td><td>-0.50152390 </td><td> 0.16144819 </td><td> 0.009620686</td><td> 0.3490450  </td><td> 0.80855486 </td><td>-0.35151126 </td><td> 0.02423769 </td></tr>\n",
       "\t<tr><th scope=row>AFC.m</th><td>-0.5381779  </td><td> 0.16557299 </td><td> 0.02792385 </td><td> 0.030649354</td><td>-0.7754964  </td><td>-0.26693613 </td><td>-0.06079688 </td><td> 0.07721587 </td></tr>\n",
       "\t<tr><th scope=row>AFC.p</th><td> 0.5795762  </td><td>-0.17830938 </td><td>-0.03007184 </td><td>-0.033006997</td><td> 0.8351500  </td><td> 0.28746968 </td><td> 0.06547357 </td><td>-0.08315555 </td></tr>\n",
       "\t<tr><th scope=row>AGR.m</th><td> 0.2994785  </td><td>-0.12975812 </td><td>-0.15319784 </td><td> 0.218770962</td><td> 0.4315386  </td><td> 0.20919553 </td><td> 0.33354829 </td><td> 0.55115649 </td></tr>\n",
       "\t<tr><th scope=row>AGR.p</th><td>-0.2780872  </td><td> 0.12048968 </td><td> 0.14225514 </td><td>-0.203144465</td><td>-0.4007145  </td><td>-0.19425299 </td><td>-0.30972341 </td><td>-0.51178817 </td></tr>\n",
       "</tbody>\n",
       "</table>\n"
      ],
      "text/latex": [
       "\\begin{tabular}{r|llllllll}\n",
       "  & Dim1 Burt & Dim2 Burt & Dim3 Burt & Dim4 Burt & Dim1 Disc & Dim2 Disc & Dim3 Disc & Dim4 Disc\\\\\n",
       "\\hline\n",
       "\tTAM.g &  0.5806347   &  0.01276424  &  0.02352403  & -0.067566253 &  0.8366753   & -0.02057846  & -0.05121744  & -0.17022176 \\\\\n",
       "\tTAM.m & -0.5906368   &  0.76400119  & -0.46666988  &  0.135931458 & -0.8510880   & -1.23171972  &  1.01605178  &  0.34245635 \\\\\n",
       "\tTAM.p & -0.8223338   & -0.57306708  &  0.28292699  &  0.047690929 & -1.1849557   &  0.92389650  & -0.61599962  &  0.12014924 \\\\\n",
       "\tPESO.g &  0.7044813   & -0.60408323  & -0.56107512  &  0.026834480 &  1.0151341   &  0.97390062  &  1.22159452  &  0.06760494 \\\\\n",
       "\tPESO.m &  0.2119447   &  0.50792564  &  0.10622265  & -0.046982292 &  0.3054053   & -0.81887572  & -0.23127208  & -0.11836395 \\\\\n",
       "\tPESO.p & -0.8112040   & -0.51131784  &  0.16478231  &  0.065447461 & -1.1689180   &  0.82434462  & -0.35877044  &  0.16488382 \\\\\n",
       "\tVEL.g &  0.6190981   &  0.23063725  &  0.35048407  & -0.095203140 &  0.8920999   & -0.37183247  & -0.76308752  & -0.23984823 \\\\\n",
       "\tVEL.m & -0.4189456   &  0.55068584  & -0.16365338  &  0.146960987 & -0.6036867   & -0.88781355  &  0.35631249  &  0.37024339 \\\\\n",
       "\tVEL.p & -0.2220319   & -0.64812219  & -0.18451296  & -0.031885963 & -0.3199406   &  1.04490006  &  0.40172878  & -0.08033130 \\\\\n",
       "\tINT.g &  0.2325283   &  0.28500442  &  0.27554340  &  0.506185405 &  0.3350656   & -0.45948302  & -0.59992378  &  1.27524863 \\\\\n",
       "\tINT.m & -0.2563852   &  0.17708959  & -0.22652661  & -0.239544455 & -0.3694426   & -0.28550314  &  0.49320252  & -0.60349180 \\\\\n",
       "\tINT.p &  0.2422298   & -0.50152390  &  0.16144819  &  0.009620686 &  0.3490450   &  0.80855486  & -0.35151126  &  0.02423769 \\\\\n",
       "\tAFC.m & -0.5381779   &  0.16557299  &  0.02792385  &  0.030649354 & -0.7754964   & -0.26693613  & -0.06079688  &  0.07721587 \\\\\n",
       "\tAFC.p &  0.5795762   & -0.17830938  & -0.03007184  & -0.033006997 &  0.8351500   &  0.28746968  &  0.06547357  & -0.08315555 \\\\\n",
       "\tAGR.m &  0.2994785   & -0.12975812  & -0.15319784  &  0.218770962 &  0.4315386   &  0.20919553  &  0.33354829  &  0.55115649 \\\\\n",
       "\tAGR.p & -0.2780872   &  0.12048968  &  0.14225514  & -0.203144465 & -0.4007145   & -0.19425299  & -0.30972341  & -0.51178817 \\\\\n",
       "\\end{tabular}\n"
      ],
      "text/markdown": [
       "\n",
       "| <!--/--> | Dim1 Burt | Dim2 Burt | Dim3 Burt | Dim4 Burt | Dim1 Disc | Dim2 Disc | Dim3 Disc | Dim4 Disc |\n",
       "|---|---|---|---|---|---|---|---|---|\n",
       "| TAM.g |  0.5806347   |  0.01276424  |  0.02352403  | -0.067566253 |  0.8366753   | -0.02057846  | -0.05121744  | -0.17022176  |\n",
       "| TAM.m | -0.5906368   |  0.76400119  | -0.46666988  |  0.135931458 | -0.8510880   | -1.23171972  |  1.01605178  |  0.34245635  |\n",
       "| TAM.p | -0.8223338   | -0.57306708  |  0.28292699  |  0.047690929 | -1.1849557   |  0.92389650  | -0.61599962  |  0.12014924  |\n",
       "| PESO.g |  0.7044813   | -0.60408323  | -0.56107512  |  0.026834480 |  1.0151341   |  0.97390062  |  1.22159452  |  0.06760494  |\n",
       "| PESO.m |  0.2119447   |  0.50792564  |  0.10622265  | -0.046982292 |  0.3054053   | -0.81887572  | -0.23127208  | -0.11836395  |\n",
       "| PESO.p | -0.8112040   | -0.51131784  |  0.16478231  |  0.065447461 | -1.1689180   |  0.82434462  | -0.35877044  |  0.16488382  |\n",
       "| VEL.g |  0.6190981   |  0.23063725  |  0.35048407  | -0.095203140 |  0.8920999   | -0.37183247  | -0.76308752  | -0.23984823  |\n",
       "| VEL.m | -0.4189456   |  0.55068584  | -0.16365338  |  0.146960987 | -0.6036867   | -0.88781355  |  0.35631249  |  0.37024339  |\n",
       "| VEL.p | -0.2220319   | -0.64812219  | -0.18451296  | -0.031885963 | -0.3199406   |  1.04490006  |  0.40172878  | -0.08033130  |\n",
       "| INT.g |  0.2325283   |  0.28500442  |  0.27554340  |  0.506185405 |  0.3350656   | -0.45948302  | -0.59992378  |  1.27524863  |\n",
       "| INT.m | -0.2563852   |  0.17708959  | -0.22652661  | -0.239544455 | -0.3694426   | -0.28550314  |  0.49320252  | -0.60349180  |\n",
       "| INT.p |  0.2422298   | -0.50152390  |  0.16144819  |  0.009620686 |  0.3490450   |  0.80855486  | -0.35151126  |  0.02423769  |\n",
       "| AFC.m | -0.5381779   |  0.16557299  |  0.02792385  |  0.030649354 | -0.7754964   | -0.26693613  | -0.06079688  |  0.07721587  |\n",
       "| AFC.p |  0.5795762   | -0.17830938  | -0.03007184  | -0.033006997 |  0.8351500   |  0.28746968  |  0.06547357  | -0.08315555  |\n",
       "| AGR.m |  0.2994785   | -0.12975812  | -0.15319784  |  0.218770962 |  0.4315386   |  0.20919553  |  0.33354829  |  0.55115649  |\n",
       "| AGR.p | -0.2780872   |  0.12048968  |  0.14225514  | -0.203144465 | -0.4007145   | -0.19425299  | -0.30972341  | -0.51178817  |\n",
       "\n"
      ],
      "text/plain": [
       "       Dim1 Burt  Dim2 Burt   Dim3 Burt   Dim4 Burt    Dim1 Disc  Dim2 Disc  \n",
       "TAM.g   0.5806347  0.01276424  0.02352403 -0.067566253  0.8366753 -0.02057846\n",
       "TAM.m  -0.5906368  0.76400119 -0.46666988  0.135931458 -0.8510880 -1.23171972\n",
       "TAM.p  -0.8223338 -0.57306708  0.28292699  0.047690929 -1.1849557  0.92389650\n",
       "PESO.g  0.7044813 -0.60408323 -0.56107512  0.026834480  1.0151341  0.97390062\n",
       "PESO.m  0.2119447  0.50792564  0.10622265 -0.046982292  0.3054053 -0.81887572\n",
       "PESO.p -0.8112040 -0.51131784  0.16478231  0.065447461 -1.1689180  0.82434462\n",
       "VEL.g   0.6190981  0.23063725  0.35048407 -0.095203140  0.8920999 -0.37183247\n",
       "VEL.m  -0.4189456  0.55068584 -0.16365338  0.146960987 -0.6036867 -0.88781355\n",
       "VEL.p  -0.2220319 -0.64812219 -0.18451296 -0.031885963 -0.3199406  1.04490006\n",
       "INT.g   0.2325283  0.28500442  0.27554340  0.506185405  0.3350656 -0.45948302\n",
       "INT.m  -0.2563852  0.17708959 -0.22652661 -0.239544455 -0.3694426 -0.28550314\n",
       "INT.p   0.2422298 -0.50152390  0.16144819  0.009620686  0.3490450  0.80855486\n",
       "AFC.m  -0.5381779  0.16557299  0.02792385  0.030649354 -0.7754964 -0.26693613\n",
       "AFC.p   0.5795762 -0.17830938 -0.03007184 -0.033006997  0.8351500  0.28746968\n",
       "AGR.m   0.2994785 -0.12975812 -0.15319784  0.218770962  0.4315386  0.20919553\n",
       "AGR.p  -0.2780872  0.12048968  0.14225514 -0.203144465 -0.4007145 -0.19425299\n",
       "       Dim3 Disc   Dim4 Disc  \n",
       "TAM.g  -0.05121744 -0.17022176\n",
       "TAM.m   1.01605178  0.34245635\n",
       "TAM.p  -0.61599962  0.12014924\n",
       "PESO.g  1.22159452  0.06760494\n",
       "PESO.m -0.23127208 -0.11836395\n",
       "PESO.p -0.35877044  0.16488382\n",
       "VEL.g  -0.76308752 -0.23984823\n",
       "VEL.m   0.35631249  0.37024339\n",
       "VEL.p   0.40172878 -0.08033130\n",
       "INT.g  -0.59992378  1.27524863\n",
       "INT.m   0.49320252 -0.60349180\n",
       "INT.p  -0.35151126  0.02423769\n",
       "AFC.m  -0.06079688  0.07721587\n",
       "AFC.p   0.06547357 -0.08315555\n",
       "AGR.m   0.33354829  0.55115649\n",
       "AGR.p  -0.30972341 -0.51178817"
      ]
     },
     "metadata": {},
     "output_type": "display_data"
    }
   ],
   "source": [
    "coords<-data.frame(acs.burt$co,acs.disc$co) # coordenadas factoriales\n",
    "names(coords)<-c(\"Dim1 Burt\",\"Dim2 Burt\",\"Dim3 Burt\",\"Dim4 Burt\",\"Dim1 Disc\",\"Dim2 Disc\",\"Dim3 Disc\",\"Dim4 Disc\")\n",
    "coords"
   ]
  },
  {
   "cell_type": "markdown",
   "metadata": {},
   "source": [
    "Claramente se observa que las coordenadas para las variables generadas por la tabla de Burt y por la tabla disjuntiva completa son diferentes, sin embargo debido a las equivalencias se puede pasar de un resultado a otro de la siguiente manera, para la primera componente $$\\varphi_{B,1}= \\varphi_{1}\\sqrt{\\lambda_{1}}$$"
   ]
  },
  {
   "cell_type": "code",
   "execution_count": 3,
   "metadata": {},
   "outputs": [
    {
     "name": "stdout",
     "output_type": "stream",
     "text": [
      "[1] \"Primera componente de Burt\"\n"
     ]
    },
    {
     "data": {
      "text/html": [
       "<ol class=list-inline>\n",
       "\t<li>0.580634707511809</li>\n",
       "\t<li>-0.59063681184502</li>\n",
       "\t<li>-0.82233379335029</li>\n",
       "\t<li>0.704481263948647</li>\n",
       "\t<li>0.211944680469064</li>\n",
       "\t<li>-0.811203980788767</li>\n",
       "\t<li>0.619098144716516</li>\n",
       "\t<li>-0.418945567891435</li>\n",
       "\t<li>-0.222031875931716</li>\n",
       "\t<li>0.232528305056904</li>\n",
       "\t<li>-0.256385219732531</li>\n",
       "\t<li>0.242229753272686</li>\n",
       "\t<li>-0.538177856057034</li>\n",
       "\t<li>0.579576152676806</li>\n",
       "\t<li>0.299478543116132</li>\n",
       "\t<li>-0.278087218607837</li>\n",
       "</ol>\n"
      ],
      "text/latex": [
       "\\begin{enumerate*}\n",
       "\\item 0.580634707511809\n",
       "\\item -0.59063681184502\n",
       "\\item -0.82233379335029\n",
       "\\item 0.704481263948647\n",
       "\\item 0.211944680469064\n",
       "\\item -0.811203980788767\n",
       "\\item 0.619098144716516\n",
       "\\item -0.418945567891435\n",
       "\\item -0.222031875931716\n",
       "\\item 0.232528305056904\n",
       "\\item -0.256385219732531\n",
       "\\item 0.242229753272686\n",
       "\\item -0.538177856057034\n",
       "\\item 0.579576152676806\n",
       "\\item 0.299478543116132\n",
       "\\item -0.278087218607837\n",
       "\\end{enumerate*}\n"
      ],
      "text/markdown": [
       "1. 0.580634707511809\n",
       "2. -0.59063681184502\n",
       "3. -0.82233379335029\n",
       "4. 0.704481263948647\n",
       "5. 0.211944680469064\n",
       "6. -0.811203980788767\n",
       "7. 0.619098144716516\n",
       "8. -0.418945567891435\n",
       "9. -0.222031875931716\n",
       "10. 0.232528305056904\n",
       "11. -0.256385219732531\n",
       "12. 0.242229753272686\n",
       "13. -0.538177856057034\n",
       "14. 0.579576152676806\n",
       "15. 0.299478543116132\n",
       "16. -0.278087218607837\n",
       "\n",
       "\n"
      ],
      "text/plain": [
       " [1]  0.5806347 -0.5906368 -0.8223338  0.7044813  0.2119447 -0.8112040\n",
       " [7]  0.6190981 -0.4189456 -0.2220319  0.2325283 -0.2563852  0.2422298\n",
       "[13] -0.5381779  0.5795762  0.2994785 -0.2780872"
      ]
     },
     "metadata": {},
     "output_type": "display_data"
    },
    {
     "name": "stdout",
     "output_type": "stream",
     "text": [
      "[1] \"Primera componente dejuntiva transformada a burt\"\n"
     ]
    },
    {
     "data": {
      "text/html": [
       "<ol class=list-inline>\n",
       "\t<li>0.580634707511809</li>\n",
       "\t<li>-0.590636811845018</li>\n",
       "\t<li>-0.822333793350289</li>\n",
       "\t<li>0.704481263948646</li>\n",
       "\t<li>0.211944680469065</li>\n",
       "\t<li>-0.811203980788766</li>\n",
       "\t<li>0.619098144716515</li>\n",
       "\t<li>-0.418945567891434</li>\n",
       "\t<li>-0.222031875931716</li>\n",
       "\t<li>0.232528305056904</li>\n",
       "\t<li>-0.256385219732531</li>\n",
       "\t<li>0.242229753272685</li>\n",
       "\t<li>-0.538177856057033</li>\n",
       "\t<li>0.579576152676805</li>\n",
       "\t<li>0.299478543116131</li>\n",
       "\t<li>-0.278087218607836</li>\n",
       "</ol>\n"
      ],
      "text/latex": [
       "\\begin{enumerate*}\n",
       "\\item 0.580634707511809\n",
       "\\item -0.590636811845018\n",
       "\\item -0.822333793350289\n",
       "\\item 0.704481263948646\n",
       "\\item 0.211944680469065\n",
       "\\item -0.811203980788766\n",
       "\\item 0.619098144716515\n",
       "\\item -0.418945567891434\n",
       "\\item -0.222031875931716\n",
       "\\item 0.232528305056904\n",
       "\\item -0.256385219732531\n",
       "\\item 0.242229753272685\n",
       "\\item -0.538177856057033\n",
       "\\item 0.579576152676805\n",
       "\\item 0.299478543116131\n",
       "\\item -0.278087218607836\n",
       "\\end{enumerate*}\n"
      ],
      "text/markdown": [
       "1. 0.580634707511809\n",
       "2. -0.590636811845018\n",
       "3. -0.822333793350289\n",
       "4. 0.704481263948646\n",
       "5. 0.211944680469065\n",
       "6. -0.811203980788766\n",
       "7. 0.619098144716515\n",
       "8. -0.418945567891434\n",
       "9. -0.222031875931716\n",
       "10. 0.232528305056904\n",
       "11. -0.256385219732531\n",
       "12. 0.242229753272685\n",
       "13. -0.538177856057033\n",
       "14. 0.579576152676805\n",
       "15. 0.299478543116131\n",
       "16. -0.278087218607836\n",
       "\n",
       "\n"
      ],
      "text/plain": [
       " [1]  0.5806347 -0.5906368 -0.8223338  0.7044813  0.2119447 -0.8112040\n",
       " [7]  0.6190981 -0.4189456 -0.2220319  0.2325283 -0.2563852  0.2422298\n",
       "[13] -0.5381779  0.5795762  0.2994785 -0.2780872"
      ]
     },
     "metadata": {},
     "output_type": "display_data"
    }
   ],
   "source": [
    "print(\"Primera componente de Burt\")\n",
    "acs.burt$co[,1]\n",
    "print(\"Primera componente dejuntiva transformada a burt\")\n",
    "acs.disc$co[,1]*sqrt(acs.disc$eig[1])"
   ]
  },
  {
   "cell_type": "markdown",
   "metadata": {},
   "source": [
    "De manera analoga se pueden obtener las coordenadas para los demas componentes"
   ]
  },
  {
   "cell_type": "markdown",
   "metadata": {},
   "source": [
    "## Equivalencia en vectores propios"
   ]
  },
  {
   "cell_type": "markdown",
   "metadata": {},
   "source": [
    "Tambien observamos que los vectores propios asociados a las columnas en ambas tablas son iguales"
   ]
  },
  {
   "cell_type": "code",
   "execution_count": 7,
   "metadata": {
    "colab": {
     "base_uri": "https://localhost:8080/",
     "height": 593
    },
    "id": "zWdSZ-kmhKmx",
    "outputId": "d219b13a-bc57-449d-e69d-5a815e049a1d"
   },
   "outputs": [
    {
     "data": {
      "text/html": [
       "<table>\n",
       "<thead><tr><th></th><th scope=col>Dim1 Burt</th><th scope=col>Dim2 Burt</th><th scope=col>Dim3 Burt</th><th scope=col>Dim4 Burt</th><th scope=col>Dim1 Disc</th><th scope=col>Dim2 Disc</th><th scope=col>Dim3 Disc</th><th scope=col>Dim4 Disc</th></tr></thead>\n",
       "<tbody>\n",
       "\t<tr><th scope=row>TAM.g</th><td> 1.2056214 </td><td> 0.03317651</td><td> 0.1115126 </td><td>-0.42884498</td><td> 1.2056214 </td><td>-0.03317651</td><td>-0.1115126 </td><td>-0.42884498</td></tr>\n",
       "\t<tr><th scope=row>TAM.m</th><td>-1.2263896 </td><td> 1.98577370</td><td>-2.2121874 </td><td> 0.86276093</td><td>-1.2263896 </td><td>-1.98577370</td><td> 2.2121874 </td><td> 0.86276093</td></tr>\n",
       "\t<tr><th scope=row>TAM.p</th><td>-1.7074819 </td><td>-1.48950231</td><td> 1.3411783 </td><td> 0.30269572</td><td>-1.7074819 </td><td> 1.48950231</td><td>-1.3411783 </td><td> 0.30269572</td></tr>\n",
       "\t<tr><th scope=row>PESO.g</th><td> 1.4627746 </td><td>-1.57011876</td><td>-2.6597030 </td><td> 0.17031923</td><td> 1.4627746 </td><td> 1.57011876</td><td> 2.6597030 </td><td> 0.17031923</td></tr>\n",
       "\t<tr><th scope=row>PESO.m</th><td> 0.4400788 </td><td> 1.32018822</td><td> 0.5035345 </td><td>-0.29819798</td><td> 0.4400788 </td><td>-1.32018822</td><td>-0.5035345 </td><td>-0.29819798</td></tr>\n",
       "\t<tr><th scope=row>PESO.p</th><td>-1.6843721 </td><td>-1.32900516</td><td> 0.7811289 </td><td> 0.41539695</td><td>-1.6843721 </td><td> 1.32900516</td><td>-0.7811289 </td><td> 0.41539695</td></tr>\n",
       "\t<tr><th scope=row>VEL.g</th><td> 1.2854863 </td><td> 0.59946685</td><td> 1.6614238 </td><td>-0.60425711</td><td> 1.2854863 </td><td>-0.59946685</td><td>-1.6614238 </td><td>-0.60425711</td></tr>\n",
       "\t<tr><th scope=row>VEL.m</th><td>-0.8698925 </td><td> 1.43132952</td><td>-0.7757774 </td><td> 0.93276568</td><td>-0.8698925 </td><td>-1.43132952</td><td> 0.7757774 </td><td> 0.93276568</td></tr>\n",
       "\t<tr><th scope=row>VEL.p</th><td>-0.4610237 </td><td>-1.68458378</td><td>-0.8746595 </td><td>-0.20238114</td><td>-0.4610237 </td><td> 1.68458378</td><td> 0.8746595 </td><td>-0.20238114</td></tr>\n",
       "\t<tr><th scope=row>INT.g</th><td> 0.4828184 </td><td> 0.74077672</td><td> 1.3061773 </td><td> 3.21277355</td><td> 0.4828184 </td><td>-0.74077672</td><td>-1.3061773 </td><td> 3.21277355</td></tr>\n",
       "\t<tr><th scope=row>INT.m</th><td>-0.5323545 </td><td> 0.46028704</td><td>-1.0738197 </td><td>-1.52039565</td><td>-0.5323545 </td><td>-0.46028704</td><td> 1.0738197 </td><td>-1.52039565</td></tr>\n",
       "\t<tr><th scope=row>INT.p</th><td> 0.5029623 </td><td>-1.30354897</td><td> 0.7653240 </td><td> 0.06106277</td><td> 0.5029623 </td><td> 1.30354897</td><td>-0.7653240 </td><td> 0.06106277</td></tr>\n",
       "\t<tr><th scope=row>AFC.m</th><td>-1.1174646 </td><td> 0.43035338</td><td> 0.1323693 </td><td> 0.19453234</td><td>-1.1174646 </td><td>-0.43035338</td><td>-0.1323693 </td><td> 0.19453234</td></tr>\n",
       "\t<tr><th scope=row>AFC.p</th><td> 1.2034235 </td><td>-0.46345748</td><td>-0.1425516 </td><td>-0.20949637</td><td> 1.2034235 </td><td> 0.46345748</td><td> 0.1425516 </td><td>-0.20949637</td></tr>\n",
       "\t<tr><th scope=row>AGR.m</th><td> 0.6218329 </td><td>-0.33726421</td><td>-0.7262143 </td><td> 1.38854569</td><td> 0.6218329 </td><td> 0.33726421</td><td> 0.7262143 </td><td> 1.38854569</td></tr>\n",
       "\t<tr><th scope=row>AGR.p</th><td>-0.5774162 </td><td> 0.31317391</td><td> 0.6743418 </td><td>-1.28936385</td><td>-0.5774162 </td><td>-0.31317391</td><td>-0.6743418 </td><td>-1.28936385</td></tr>\n",
       "</tbody>\n",
       "</table>\n"
      ],
      "text/latex": [
       "\\begin{tabular}{r|llllllll}\n",
       "  & Dim1 Burt & Dim2 Burt & Dim3 Burt & Dim4 Burt & Dim1 Disc & Dim2 Disc & Dim3 Disc & Dim4 Disc\\\\\n",
       "\\hline\n",
       "\tTAM.g &  1.2056214  &  0.03317651 &  0.1115126  & -0.42884498 &  1.2056214  & -0.03317651 & -0.1115126  & -0.42884498\\\\\n",
       "\tTAM.m & -1.2263896  &  1.98577370 & -2.2121874  &  0.86276093 & -1.2263896  & -1.98577370 &  2.2121874  &  0.86276093\\\\\n",
       "\tTAM.p & -1.7074819  & -1.48950231 &  1.3411783  &  0.30269572 & -1.7074819  &  1.48950231 & -1.3411783  &  0.30269572\\\\\n",
       "\tPESO.g &  1.4627746  & -1.57011876 & -2.6597030  &  0.17031923 &  1.4627746  &  1.57011876 &  2.6597030  &  0.17031923\\\\\n",
       "\tPESO.m &  0.4400788  &  1.32018822 &  0.5035345  & -0.29819798 &  0.4400788  & -1.32018822 & -0.5035345  & -0.29819798\\\\\n",
       "\tPESO.p & -1.6843721  & -1.32900516 &  0.7811289  &  0.41539695 & -1.6843721  &  1.32900516 & -0.7811289  &  0.41539695\\\\\n",
       "\tVEL.g &  1.2854863  &  0.59946685 &  1.6614238  & -0.60425711 &  1.2854863  & -0.59946685 & -1.6614238  & -0.60425711\\\\\n",
       "\tVEL.m & -0.8698925  &  1.43132952 & -0.7757774  &  0.93276568 & -0.8698925  & -1.43132952 &  0.7757774  &  0.93276568\\\\\n",
       "\tVEL.p & -0.4610237  & -1.68458378 & -0.8746595  & -0.20238114 & -0.4610237  &  1.68458378 &  0.8746595  & -0.20238114\\\\\n",
       "\tINT.g &  0.4828184  &  0.74077672 &  1.3061773  &  3.21277355 &  0.4828184  & -0.74077672 & -1.3061773  &  3.21277355\\\\\n",
       "\tINT.m & -0.5323545  &  0.46028704 & -1.0738197  & -1.52039565 & -0.5323545  & -0.46028704 &  1.0738197  & -1.52039565\\\\\n",
       "\tINT.p &  0.5029623  & -1.30354897 &  0.7653240  &  0.06106277 &  0.5029623  &  1.30354897 & -0.7653240  &  0.06106277\\\\\n",
       "\tAFC.m & -1.1174646  &  0.43035338 &  0.1323693  &  0.19453234 & -1.1174646  & -0.43035338 & -0.1323693  &  0.19453234\\\\\n",
       "\tAFC.p &  1.2034235  & -0.46345748 & -0.1425516  & -0.20949637 &  1.2034235  &  0.46345748 &  0.1425516  & -0.20949637\\\\\n",
       "\tAGR.m &  0.6218329  & -0.33726421 & -0.7262143  &  1.38854569 &  0.6218329  &  0.33726421 &  0.7262143  &  1.38854569\\\\\n",
       "\tAGR.p & -0.5774162  &  0.31317391 &  0.6743418  & -1.28936385 & -0.5774162  & -0.31317391 & -0.6743418  & -1.28936385\\\\\n",
       "\\end{tabular}\n"
      ],
      "text/markdown": [
       "\n",
       "| <!--/--> | Dim1 Burt | Dim2 Burt | Dim3 Burt | Dim4 Burt | Dim1 Disc | Dim2 Disc | Dim3 Disc | Dim4 Disc |\n",
       "|---|---|---|---|---|---|---|---|---|\n",
       "| TAM.g |  1.2056214  |  0.03317651 |  0.1115126  | -0.42884498 |  1.2056214  | -0.03317651 | -0.1115126  | -0.42884498 |\n",
       "| TAM.m | -1.2263896  |  1.98577370 | -2.2121874  |  0.86276093 | -1.2263896  | -1.98577370 |  2.2121874  |  0.86276093 |\n",
       "| TAM.p | -1.7074819  | -1.48950231 |  1.3411783  |  0.30269572 | -1.7074819  |  1.48950231 | -1.3411783  |  0.30269572 |\n",
       "| PESO.g |  1.4627746  | -1.57011876 | -2.6597030  |  0.17031923 |  1.4627746  |  1.57011876 |  2.6597030  |  0.17031923 |\n",
       "| PESO.m |  0.4400788  |  1.32018822 |  0.5035345  | -0.29819798 |  0.4400788  | -1.32018822 | -0.5035345  | -0.29819798 |\n",
       "| PESO.p | -1.6843721  | -1.32900516 |  0.7811289  |  0.41539695 | -1.6843721  |  1.32900516 | -0.7811289  |  0.41539695 |\n",
       "| VEL.g |  1.2854863  |  0.59946685 |  1.6614238  | -0.60425711 |  1.2854863  | -0.59946685 | -1.6614238  | -0.60425711 |\n",
       "| VEL.m | -0.8698925  |  1.43132952 | -0.7757774  |  0.93276568 | -0.8698925  | -1.43132952 |  0.7757774  |  0.93276568 |\n",
       "| VEL.p | -0.4610237  | -1.68458378 | -0.8746595  | -0.20238114 | -0.4610237  |  1.68458378 |  0.8746595  | -0.20238114 |\n",
       "| INT.g |  0.4828184  |  0.74077672 |  1.3061773  |  3.21277355 |  0.4828184  | -0.74077672 | -1.3061773  |  3.21277355 |\n",
       "| INT.m | -0.5323545  |  0.46028704 | -1.0738197  | -1.52039565 | -0.5323545  | -0.46028704 |  1.0738197  | -1.52039565 |\n",
       "| INT.p |  0.5029623  | -1.30354897 |  0.7653240  |  0.06106277 |  0.5029623  |  1.30354897 | -0.7653240  |  0.06106277 |\n",
       "| AFC.m | -1.1174646  |  0.43035338 |  0.1323693  |  0.19453234 | -1.1174646  | -0.43035338 | -0.1323693  |  0.19453234 |\n",
       "| AFC.p |  1.2034235  | -0.46345748 | -0.1425516  | -0.20949637 |  1.2034235  |  0.46345748 |  0.1425516  | -0.20949637 |\n",
       "| AGR.m |  0.6218329  | -0.33726421 | -0.7262143  |  1.38854569 |  0.6218329  |  0.33726421 |  0.7262143  |  1.38854569 |\n",
       "| AGR.p | -0.5774162  |  0.31317391 |  0.6743418  | -1.28936385 | -0.5774162  | -0.31317391 | -0.6743418  | -1.28936385 |\n",
       "\n"
      ],
      "text/plain": [
       "       Dim1 Burt  Dim2 Burt   Dim3 Burt  Dim4 Burt   Dim1 Disc  Dim2 Disc  \n",
       "TAM.g   1.2056214  0.03317651  0.1115126 -0.42884498  1.2056214 -0.03317651\n",
       "TAM.m  -1.2263896  1.98577370 -2.2121874  0.86276093 -1.2263896 -1.98577370\n",
       "TAM.p  -1.7074819 -1.48950231  1.3411783  0.30269572 -1.7074819  1.48950231\n",
       "PESO.g  1.4627746 -1.57011876 -2.6597030  0.17031923  1.4627746  1.57011876\n",
       "PESO.m  0.4400788  1.32018822  0.5035345 -0.29819798  0.4400788 -1.32018822\n",
       "PESO.p -1.6843721 -1.32900516  0.7811289  0.41539695 -1.6843721  1.32900516\n",
       "VEL.g   1.2854863  0.59946685  1.6614238 -0.60425711  1.2854863 -0.59946685\n",
       "VEL.m  -0.8698925  1.43132952 -0.7757774  0.93276568 -0.8698925 -1.43132952\n",
       "VEL.p  -0.4610237 -1.68458378 -0.8746595 -0.20238114 -0.4610237  1.68458378\n",
       "INT.g   0.4828184  0.74077672  1.3061773  3.21277355  0.4828184 -0.74077672\n",
       "INT.m  -0.5323545  0.46028704 -1.0738197 -1.52039565 -0.5323545 -0.46028704\n",
       "INT.p   0.5029623 -1.30354897  0.7653240  0.06106277  0.5029623  1.30354897\n",
       "AFC.m  -1.1174646  0.43035338  0.1323693  0.19453234 -1.1174646 -0.43035338\n",
       "AFC.p   1.2034235 -0.46345748 -0.1425516 -0.20949637  1.2034235  0.46345748\n",
       "AGR.m   0.6218329 -0.33726421 -0.7262143  1.38854569  0.6218329  0.33726421\n",
       "AGR.p  -0.5774162  0.31317391  0.6743418 -1.28936385 -0.5774162 -0.31317391\n",
       "       Dim3 Disc  Dim4 Disc  \n",
       "TAM.g  -0.1115126 -0.42884498\n",
       "TAM.m   2.2121874  0.86276093\n",
       "TAM.p  -1.3411783  0.30269572\n",
       "PESO.g  2.6597030  0.17031923\n",
       "PESO.m -0.5035345 -0.29819798\n",
       "PESO.p -0.7811289  0.41539695\n",
       "VEL.g  -1.6614238 -0.60425711\n",
       "VEL.m   0.7757774  0.93276568\n",
       "VEL.p   0.8746595 -0.20238114\n",
       "INT.g  -1.3061773  3.21277355\n",
       "INT.m   1.0738197 -1.52039565\n",
       "INT.p  -0.7653240  0.06106277\n",
       "AFC.m  -0.1323693  0.19453234\n",
       "AFC.p   0.1425516 -0.20949637\n",
       "AGR.m   0.7262143  1.38854569\n",
       "AGR.p  -0.6743418 -1.28936385"
      ]
     },
     "metadata": {},
     "output_type": "display_data"
    }
   ],
   "source": [
    "coords<-data.frame(acs.burt$c1,acs.disc$c1) # Coordenadas factoriales normadas\n",
    "names(coords)<-c(\"Dim1 Burt\",\"Dim2 Burt\",\"Dim3 Burt\",\"Dim4 Burt\",\"Dim1 Disc\",\"Dim2 Disc\",\"Dim3 Disc\",\"Dim4 Disc\")\n",
    "coords"
   ]
  },
  {
   "cell_type": "markdown",
   "metadata": {},
   "source": [
    "Note que en la tabla de burt no existen indivudios, por tanto no tiene sentido hablar de equivalencias entre coordenadas de individuos, unicamente remintimos el análisis a variables"
   ]
  },
  {
   "cell_type": "code",
   "execution_count": null,
   "metadata": {},
   "outputs": [],
   "source": []
  }
 ],
 "metadata": {
  "colab": {
   "collapsed_sections": [],
   "name": "Tarea2.ipynb",
   "provenance": [],
   "toc_visible": true
  },
  "kernelspec": {
   "display_name": "R",
   "language": "R",
   "name": "ir"
  },
  "language_info": {
   "codemirror_mode": "r",
   "file_extension": ".r",
   "mimetype": "text/x-r-source",
   "name": "R",
   "pygments_lexer": "r",
   "version": "3.6.1"
  }
 },
 "nbformat": 4,
 "nbformat_minor": 1
}
